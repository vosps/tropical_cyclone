{
 "cells": [
  {
   "cell_type": "markdown",
   "metadata": {},
   "source": [
    "### Figure 1: Predicted images"
   ]
  },
  {
   "cell_type": "code",
   "execution_count": 1,
   "metadata": {},
   "outputs": [],
   "source": [
    "import numpy as np\n",
    "import pandas as pd\n",
    "import seaborn as sns\n",
    "import matplotlib.pyplot as plt\n",
    "from matplotlib import colors\n",
    "import matplotlib\n",
    "import matplotlib.pyplot as plt\n",
    "from matplotlib.colors import LinearSegmentedColormap\n",
    "import metpy.plots.ctables\n",
    "from utils.data import load_tc_data\n",
    "from utils.plot import make_cmap\n",
    "\n",
    "# TODO: because i'm using imshow the lats need to be flipped - normally would be fine but because lats are flipped and imshow doesn't know this\n",
    "# the TCs are plotted spinning the wrong way\n",
    "\n",
    "sns.set_style(\"white\")\n",
    "sns.set_palette(sns.color_palette(\"Paired\"))\n",
    "sns.set_palette(sns.color_palette(\"Set2\"))"
   ]
  },
  {
   "cell_type": "code",
   "execution_count": 2,
   "metadata": {},
   "outputs": [],
   "source": [
    "# filters gen 256, filters disc 512, 1280000 samples, extra two residual blocks in disc might have generated rainbands and better structure.\n",
    "# undoing changes above and doing 640000 sambpled with 720 filters disc made power spectra much much better"
   ]
  },
  {
   "cell_type": "code",
   "execution_count": 3,
   "metadata": {},
   "outputs": [],
   "source": [
    "# define cmap\n",
    "precip_cmap,precip_norm = make_cmap()"
   ]
  },
  {
   "cell_type": "code",
   "execution_count": 4,
   "metadata": {},
   "outputs": [],
   "source": [
    "def regrid(array):\n",
    "        hr_array = np.zeros((100,100))\n",
    "        for i in range(10):\n",
    "                for j in range(10):\n",
    "                        i1 = i*10\n",
    "                        i2 = (i+1)*10\n",
    "                        j1 = j*10\n",
    "                        j2 = (j+1)*10\n",
    "                        hr_array[i1:i2,j1:j2] = array[i,j]\n",
    "        return hr_array"
   ]
  },
  {
   "cell_type": "code",
   "execution_count": 5,
   "metadata": {},
   "outputs": [],
   "source": [
    "def plot_predictions(pred_0,pred_1,pred_2,pred_3,real,storms,range_,plot='save'):\n",
    "\tif plot == 'save':\n",
    "\t\t\twidth_ratios = [0.2, 1,1,1,1,1,1,1,1,0.1]\n",
    "\t\t\tfig, axes = plt.subplots(n, m+2, figsize=(5*m+6, 5*n), sharey=True,gridspec_kw={'width_ratios': width_ratios})\n",
    "\telse:\n",
    "\t\t\tprint('show')\n",
    "\t\t\tfig, axes = plt.subplots(n, m+2, figsize=(2*m+2, 2*n), sharey=True)\n",
    "\n",
    "\tpal = sns.cubehelix_palette(10, rot=-.25, light=.7,as_cmap=True)\n",
    "\n",
    "\tfor i in range(m+1):\n",
    "\t\tfor j in range(n):\n",
    "\t\t\taxes[j,i].set(xticklabels=[])\n",
    "\t\t\taxes[j,i].set(yticklabels=[])\n",
    "\t\t\taxes[j,0].spines['bottom'].set_visible(False)\n",
    "\t\t\taxes[j,0].spines['top'].set_visible(False)\n",
    "\t\t\taxes[j,0].spines['left'].set_visible(False)\n",
    "\t\t\taxes[j,0].spines['right'].set_visible(False)\n",
    "\t\t\taxes[j,-1].spines['bottom'].set_visible(False)\n",
    "\t\t\taxes[j,-1].spines['top'].set_visible(False)\n",
    "\t\t\taxes[j,-1].spines['left'].set_visible(False)\n",
    "\t\t\taxes[j,-1].spines['right'].set_visible(False)\n",
    "\n",
    "\tfor i in range(m):\n",
    "\t\tj = 0\n",
    "\t\t\n",
    "\t\tstorm = storms[i]\n",
    "\t\t# storm_og = [6385,15028,11023,12976][i]\n",
    "\t\t# storm_og= [15436,13922,11023,11173][i]\n",
    "\t\tstorm_og = [13126,13530,13265,12965,2564,11976,15766,2384][i]\n",
    "\t\t# norm = colors.Normalize(*range_)\n",
    "\t\tnorm = precip_norm\n",
    "\t\t\n",
    "\t\taxes[j,i+1].imshow(pred_0[storm], interpolation='nearest', norm=norm,extent=None,cmap=precip_cmap)\n",
    "\t\taxes[j,i+1].invert_yaxis()\n",
    "\t\taxes[j+1,i+1].imshow(pred_1[storm], interpolation='nearest',norm=norm, extent=None,cmap=precip_cmap)\n",
    "\t\taxes[j+1,i+1].invert_yaxis()\n",
    "\t\taxes[j+2,i+1].imshow(pred_2[storm], interpolation='nearest',norm=norm, extent=None,cmap=precip_cmap)\n",
    "\t\taxes[j+2,i+1].invert_yaxis()\n",
    "\t\taxes[j+3,i+1].imshow(pred_3[storm_og], interpolation='nearest',norm=norm, extent=None,cmap=precip_cmap)\n",
    "\t\taxes[j+3,i+1].invert_yaxis()\n",
    "\t\tim = axes[j+4,i+1].imshow(real[storm], interpolation='nearest',norm=norm, extent=None,cmap=precip_cmap)\n",
    "\t\taxes[j+4,i+1].invert_yaxis()\n",
    "\n",
    "\n",
    "\t\t# axes[j,i+1].set(xticklabels=[])\n",
    "\t\t# axes[j,i+1].set(yticklabels=[])\n",
    "\t\t# axes[j+1,i+1].set(xticklabels=[])\n",
    "\t\t# axes[j+1,i+1].set(yticklabels=[])\n",
    "\t\t# axes[j+2,i+1].set(xticklabels=[])\n",
    "\t\t# axes[j+2,i+1].set(yticklabels=[])\n",
    "\t\t# axes[j+3,i+1].set(xticklabels=[])\n",
    "\t\t# axes[j+3,i+1].set(yticklabels=[])\n",
    "\t\t# axes[j+4,i+1].set(xticklabels=[])\n",
    "\t\t# axes[j+4,i+1].set(yticklabels=[])\n",
    "\t\t# axes[j,0].set(xticklabels=[])\n",
    "\t\t# axes[j,0].set(yticklabels=[])\n",
    "\t\t# axes[j+1,0].set(xticklabels=[])\n",
    "\t\t# axes[j+1,0].set(yticklabels=[])\n",
    "\t\t# axes[j+2,0].set(xticklabels=[])\n",
    "\t\t# axes[j+2,0].set(yticklabels=[])\n",
    "\t\t# axes[j+3,0].set(xticklabels=[])\n",
    "\t\t# axes[j+3,0].set(yticklabels=[])\n",
    "\t\t# axes[j+4,0].set(xticklabels=[])\n",
    "\t\t# axes[j+4,0].set(yticklabels=[])\n",
    "\t\t\n",
    "\n",
    "\n",
    "\t\taxes[j,0].set_ylabel('Scalar WGAN',rotation=0,horizontalalignment='right',fontsize=48,labelpad=4,fontweight='bold',color='#56a1d7')\n",
    "\t\taxes[j+1,0].set_ylabel('Modular WGAN',rotation=0,horizontalalignment='right',fontsize=48,labelpad=4,fontweight='bold',color='#56a1d7')\n",
    "\t\taxes[j+2,0].set_ylabel('Modular WGAN raw',rotation=0,horizontalalignment='right',fontsize=48,labelpad=4,fontweight='bold',color='#56a1d7')\n",
    "\t\taxes[j+3,0].set_ylabel('WGAN',rotation=0,horizontalalignment='right',fontsize=48,labelpad=4,fontweight='bold',color='#56a1d7')\n",
    "\t\taxes[j+4,0].set_ylabel('MSWEP',horizontalalignment='right',rotation=0,fontsize=48,labelpad=4,fontweight='bold',color='#56a1d7')\n",
    "\t\t\n",
    "\n",
    "\t\t# axes[4,j].set_xlabel('Maria (2017; NA)',fontsize=24,labelpad=5)\n",
    "\t\t# axes[4,j+1].set_xlabel('Haiyan (2013; WP)',fontsize=24,labelpad=5)\n",
    "\t\t# axes[4,j+2].set_xlabel('Barbara (1995; EP)',fontsize=24,labelpad=5)\n",
    "\t\t# axes[4,j+3].set_xlabel('Vayu (2019; NI)',fontsize=24,labelpad=5)\n",
    "\t\t# axes[4,j+4].set_xlabel('Ursula (1998; SP)',fontsize=24,labelpad=5)\n",
    "\t\t# axes[4,j+5].set_xlabel('Brendan (1985; WP)',fontsize=24,labelpad=5)\n",
    "\n",
    "\tfig.subplots_adjust(right=0.8)\n",
    "\t# cbar_ax = fig.add_axes([1, 0.15, 0.05, 0.7])\n",
    "\tcbar_ax = fig.add_axes([1, 0.031, 0.03, 0.936])\n",
    "\tlevels=[0, 1, 2, 3, 5, 7, 10, 15, 20, 25, 30, 40, 50, 70, 100, 150]\n",
    "\tcb = fig.colorbar(im, cax=cbar_ax,shrink=0.01,ticks=levels)\n",
    "\tcb.ax.tick_params(labelsize=36)\n",
    "\tcb.set_label('mm / 3hr', fontsize=48)\n",
    "\tfig.tight_layout()\n",
    "\n",
    "\tif plot == 'save':\n",
    "\t\t\tplt.savefig('figure_1_new_new_v36.png',bbox_inches='tight',dpi=600)\n",
    "\t\t\tplt.clf()\n",
    "\telse:\n",
    "\t\t\tplt.show()\n",
    "\t"
   ]
  },
  {
   "cell_type": "code",
   "execution_count": 6,
   "metadata": {},
   "outputs": [],
   "source": [
    "# load data\n",
    "real,inputs,pred,meta = load_tc_data(set='validation',results='ke_tracks')\n",
    "real_2,inputs_2,pred_2,meta_2,imput_og,pred_og,meta_og = load_tc_data(set='validation',results='kh_tracks')\n",
    "modular_pred_2 = np.load('/user/home/al18709/work/gan_predictions_20/modular_part2_lowres_predictions_pred-opt_modular_part2_raw.npy')\n",
    "pred_mraw = np.load('/user/home/al18709/work/gan_predictions_20/validation_pred-opt_modular_part2_raw.npy')\n",
    "meta_og = pd.read_csv('/user/work/al18709/tc_data_mswep_40/valid_meta.csv')\n",
    "meta_valid = pd.read_csv('/user/work/al18709/tc_data_flipped/valid_meta.csv')"
   ]
  },
  {
   "cell_type": "code",
   "execution_count": 7,
   "metadata": {},
   "outputs": [
    {
     "name": "stdout",
     "output_type": "stream",
     "text": [
      "1979002S04179\n",
      "[13530]\n"
     ]
    }
   ],
   "source": [
    "storms = [8453,9845,1375,3014,3487,3738]\n",
    "i = 3487\n",
    "storms = [9900,1075,3111,202]\n",
    "i = 202\n",
    "storms = [976,54,5076,3478,4004,4105,5002,6010]\n",
    "i = 55\n",
    "sid = meta.loc[i]['sid']\n",
    "print(sid)\n",
    "centre_lat = meta.loc[i]['centre_lat']\n",
    "centre_lon = meta.loc[i]['centre_lon']\n",
    "\n",
    "new_i = meta_og.where((meta_og['sid']==sid) & (meta_og['centre_lat']==centre_lat) & (meta_og['centre_lon']==centre_lon),False)\n",
    "new_i = meta_og.index[(meta_og['sid']==sid) & (meta_og['centre_lat']==centre_lat) & (meta_og['centre_lon']==centre_lon)].to_list()\n",
    "print(new_i) \n",
    "\n",
    "# [6385,15028,11023,12976]\n",
    "\n",
    "# print(meta.loc[i])\n",
    "# print(meta_og.loc[i])\n",
    "# print(meta_2.loc[i])\n",
    "# print(meta_og.loc[new_i])\n",
    "# # [_,6409,15174,11108,13078]\n",
    "\n",
    "# print(meta_og.shape)\n",
    "# print(meta.shape)\n",
    "# print(meta_2.shape)\n",
    "# print(pred_og.shape)\n",
    "\n",
    "# meta_test = pd.read_csv('/user/work/al18709/tc_data_mswep_40/valid_meta.csv')\n",
    "# print(meta_test.shape)\n",
    "# [15436,13922,2322,11173]\n",
    "# [13126,13530,13265,12965,2564,11976,15766,2384]"
   ]
  },
  {
   "cell_type": "code",
   "execution_count": 8,
   "metadata": {},
   "outputs": [
    {
     "name": "stderr",
     "output_type": "stream",
     "text": [
      "/tmp/ipykernel_91428/4055331942.py:90: UserWarning: This figure includes Axes that are not compatible with tight_layout, so results might be incorrect.\n",
      "  fig.tight_layout()\n"
     ]
    },
    {
     "data": {
      "text/plain": [
       "<Figure size 4600x2500 with 0 Axes>"
      ]
     },
     "metadata": {},
     "output_type": "display_data"
    }
   ],
   "source": [
    "\n",
    "plot = 'save'\n",
    "n = 5\n",
    "m = 4\n",
    "\n",
    "n = 5\n",
    "m = 8\n",
    "\n",
    "# make colours\n",
    "range_ = (0, 20)\n",
    "storms = [4077, 4078, 4079, 4080, 4081, 4082]\n",
    "\n",
    "# maria 8453 (8452 for unet) 8463\n",
    "# haiyan 9820, 9828,  9845, 9840 9815, 9816, 9822 9809\n",
    "# barb 1347 1375 1399\n",
    "# georges 4082\n",
    "\n",
    "storms = [8453,9845,1375,4128,5358,747]\n",
    "storms = [8453,9845,1375,3014,3487,3757] \n",
    "storms = [8453,9845,1375,3014,3487,3738]\n",
    "storms = [9845,1375,3014,3487]\n",
    "# storm_og = [6385,15028,11023,12976][i]\n",
    "# storms_extremes = [4082,5349,763]\n",
    "# storms = [8453,9845,1375,3014]\n",
    "storms = [9900,1075,3014,202]\n",
    "storms = [976,55,5076,3478,4004,4105,5002,6010]\n",
    "plot_predictions(pred[:,:,:,2],modular_pred_2[:,:,:,2],pred_mraw[:,:,:,0],pred_og[:,:,:,0],real,storms,range_)\n"
   ]
  },
  {
   "cell_type": "code",
   "execution_count": 9,
   "metadata": {},
   "outputs": [
    {
     "name": "stdout",
     "output_type": "stream",
     "text": [
      "(15930, 10, 10, 6)\n"
     ]
    }
   ],
   "source": [
    "print(inputs.shape)"
   ]
  },
  {
   "cell_type": "code",
   "execution_count": null,
   "metadata": {},
   "outputs": [],
   "source": []
  },
  {
   "cell_type": "code",
   "execution_count": null,
   "metadata": {},
   "outputs": [],
   "source": []
  },
  {
   "cell_type": "code",
   "execution_count": null,
   "metadata": {},
   "outputs": [],
   "source": []
  }
 ],
 "metadata": {
  "kernelspec": {
   "display_name": "Python 3.7.12",
   "language": "python",
   "name": "python3"
  },
  "language_info": {
   "codemirror_mode": {
    "name": "ipython",
    "version": 3
   },
   "file_extension": ".py",
   "mimetype": "text/x-python",
   "name": "python",
   "nbconvert_exporter": "python",
   "pygments_lexer": "ipython3",
   "version": "3.11.0"
  },
  "orig_nbformat": 4,
  "vscode": {
   "interpreter": {
    "hash": "8db171c8f47d96480481440150066e8900ebba8c84179e1231657aa1548891ff"
   }
  }
 },
 "nbformat": 4,
 "nbformat_minor": 2
}
