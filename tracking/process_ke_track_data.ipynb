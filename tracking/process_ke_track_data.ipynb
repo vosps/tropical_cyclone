{
 "cells": [
  {
   "cell_type": "code",
   "execution_count": 2,
   "metadata": {},
   "outputs": [],
   "source": [
    "import pandas as pd\n",
    "import seaborn as sns\n",
    "import matplotlib.pyplot as plt\n",
    "import cartopy.feature as cfeature\n",
    "import cartopy.crs as ccrs\n",
    "import numpy as np\n",
    "sns.set_style(\"white\")\n",
    "sns.set_palette(sns.color_palette(\"Set2\"))"
   ]
  },
  {
   "cell_type": "code",
   "execution_count": 3,
   "metadata": {},
   "outputs": [],
   "source": [
    "def make_dataset(nstorms,mslp,u850,v850,shear,lat,lon):\n",
    "\t\"\"\"\n",
    "\tThis function creates the training dataset or similar for TC variables\n",
    "\tVariables used are:\n",
    "\t\t\tmslp\n",
    "\t\t\tu850\n",
    "\t\t\tv850\n",
    "\t\t\tshear\n",
    "\t\t\tlat\n",
    "\t\t\tlon\n",
    "\t\"\"\"\n",
    "\t\n",
    "\tprocessed_variables = np.zeros((nstorms,6))\n",
    "\tprocessed_variables[:,0] = mslp # or p?\n",
    "\tprocessed_variables[:,1] = u850\n",
    "\tprocessed_variables[:,2] = v850\n",
    "\tprocessed_variables[:,3] = shear\n",
    "\tprocessed_variables[:,4] = lat\n",
    "\tprocessed_variables[:,5] = lon\n",
    "\n",
    "\treturn processed_variables"
   ]
  },
  {
   "cell_type": "code",
   "execution_count": 3,
   "metadata": {},
   "outputs": [
    {
     "name": "stdout",
     "output_type": "stream",
     "text": [
      "                            sid  year  month  day  hour     lat      lon  \\\n",
      "0            miroc6-hist-1-2015  2015      3   28    18  -6.895  353.392   \n",
      "1            miroc6-hist-1-2015  2015      3   28    20  -6.886  353.225   \n",
      "2            miroc6-hist-1-2015  2015      3   28    22  -6.878  353.069   \n",
      "3            miroc6-hist-1-2015  2015      3   29     0  -6.871  352.925   \n",
      "4            miroc6-hist-1-2015  2015      3   29     2  -6.866  352.794   \n",
      "...                         ...   ...    ...  ...   ...     ...      ...   \n",
      "2358907  miroc6-hist-17200-2100  2100      7   10     8  21.301  137.745   \n",
      "2358908  miroc6-hist-17200-2100  2100      7   10    10  21.242  137.636   \n",
      "2358909  miroc6-hist-17200-2100  2100      7   10    12  21.204  137.502   \n",
      "2358910  miroc6-hist-17200-2100  2100      7   10    14  21.185  137.340   \n",
      "2358911  miroc6-hist-17200-2100  2100      7   10    16  21.187  137.142   \n",
      "\n",
      "             v  shear     rh  u850  v850        p  \n",
      "0        10.35   5.95  55.65 -3.81  4.67  1008.22  \n",
      "1        10.41   5.87  55.54 -3.57  4.56  1008.21  \n",
      "2        11.06   5.78  55.42 -3.29  4.49  1007.97  \n",
      "3        12.06   5.71  55.68 -3.04  4.34  1007.59  \n",
      "4        13.28   5.59  55.54 -2.73  4.27  1007.11  \n",
      "...        ...    ...    ...   ...   ...      ...  \n",
      "2358907  14.23   4.81  66.58  0.63 -4.97  1005.75  \n",
      "2358908  14.10   4.66  66.37  0.03 -4.25  1005.82  \n",
      "2358909  13.97   4.61  66.18 -0.67 -3.53  1005.88  \n",
      "2358910  13.84   4.63  65.98 -1.49 -2.84  1005.94  \n",
      "2358911  13.71   4.73  65.77 -2.43 -2.17  1006.01  \n",
      "\n",
      "[2358912 rows x 13 columns]\n"
     ]
    }
   ],
   "source": [
    "# filepath = '/user/home/al18709/work/ibtracks/miroc6_hist_tracks.csv'\n",
    "filepath = '/user/home/al18709/work/ibtracks/miroc6_ssp585_tracks.csv'\n",
    "tracks = pd.read_csv(filepath)\n",
    "print(tracks)"
   ]
  },
  {
   "cell_type": "code",
   "execution_count": 4,
   "metadata": {},
   "outputs": [
    {
     "name": "stdout",
     "output_type": "stream",
     "text": [
      "(2358912, 13)\n"
     ]
    },
    {
     "name": "stderr",
     "output_type": "stream",
     "text": [
      "/user/work/al18709/.conda/envs/aquatic/lib/python3.7/site-packages/ipykernel_launcher.py:13: SettingWithCopyWarning: \n",
      "A value is trying to be set on a copy of a slice from a DataFrame\n",
      "\n",
      "See the caveats in the documentation: https://pandas.pydata.org/pandas-docs/stable/user_guide/indexing.html#returning-a-view-versus-a-copy\n",
      "  del sys.path[0]\n"
     ]
    }
   ],
   "source": [
    "# organise Kerry's tracks\n",
    "print(tracks.shape)\n",
    "p = tracks.p*100\n",
    "u850 = tracks.u850\n",
    "v850 = tracks.v850\n",
    "shear = tracks.shear\n",
    "lats = tracks.lat\n",
    "lons = tracks.lon\n",
    "\n",
    "# correct longitudes\n",
    "for i in range(len(lons)):\n",
    "\tif lons[i] > 180:\n",
    "\t\tlons[i] = lons[i]-360\n",
    "\n",
    "sids = tracks.sid\n",
    "sids_unique=sids.drop_duplicates\n",
    "tracks_grouped = tracks.groupby('sid')\n",
    "nstorms,_ = tracks.shape\n",
    "ke_data = make_dataset(nstorms,p,u850,v850,shear,lats,lons)\n",
    "# np.save('/user/work/al18709/tc_data_flipped/KE_tracks/ke_miroc6-hist.npy',ke_data)\n",
    "np.save('/user/work/al18709/tc_data_flipped/KE_tracks/ke_miroc6-ssp585.npy',ke_data)\n",
    "\n",
    "# print(tracks_grouped.get_group('miroc6-hist-19351-1979'))"
   ]
  },
  {
   "cell_type": "code",
   "execution_count": 25,
   "metadata": {},
   "outputs": [],
   "source": [
    "data = 'extreme_test'\n",
    "y = np.load(f'/user/work/al18709/tc_data_flipped/{data}_combined_y_all.npy')\n",
    "X = np.load(f'/user/work/al18709/tc_data_flipped/{data}_combined_X_all.npy')\n",
    "meta=pd.read_csv(f'/user/work/al18709/tc_data_flipped/{data}_meta_all.csv')"
   ]
  },
  {
   "cell_type": "code",
   "execution_count": 4,
   "metadata": {},
   "outputs": [
    {
     "name": "stdout",
     "output_type": "stream",
     "text": [
      "(18928, 100, 100)\n",
      "(6264, 100, 100)\n",
      "(6222, 100, 100)\n",
      "(5709, 100, 100)\n",
      "(6013, 100, 100)\n"
     ]
    }
   ],
   "source": [
    "datas = ['train','test','extreme_test','extreme_valid','valid']\n",
    "for data in datas:\n",
    "    globals()[f'{data}_y'] = np.load(f'/user/work/al18709/tc_data_flipped/{data}_combined_y_final.npy')\n",
    "    globals()[f'{data}_X'] = np.load(f'/user/work/al18709/tc_data_flipped/{data}_combined_X_final.npy')\n",
    "    globals()[f'{data}_t'] = np.load(f'/user/work/al18709/tc_data_flipped_t/{data}_y_.npy')\n",
    "    globals()[f'{data}_meta'] = pd.read_csv(f'/user/work/al18709/tc_data_flipped/{data}_meta_final.csv')\n",
    "    print(globals()[f'{data}_t'].shape)"
   ]
  },
  {
   "cell_type": "code",
   "execution_count": 6,
   "metadata": {},
   "outputs": [],
   "source": [
    "test = np.load('/user/home/al18709/work/tc_data_flipped_var/u-200_train_X.npy')\n",
    "# test = np.load('X_2004286N14263.npy')"
   ]
  },
  {
   "cell_type": "code",
   "execution_count": 7,
   "metadata": {},
   "outputs": [
    {
     "data": {
      "text/plain": [
       "array([[[ -7.46496964,  -6.61846542,  -4.26329041, ...,  -5.51000595,\n",
       "         -10.63268661, -10.63268661],\n",
       "        [-11.52527618,  -8.77717209,  -8.22415543, ...,  -6.79552841,\n",
       "          -8.82325745,  -8.13683701],\n",
       "        [-12.0055275 , -10.62541199,  -9.77163315, ...,  -3.93342209,\n",
       "          -5.56093979,  -5.32809067],\n",
       "        ...,\n",
       "        [ -6.86101532,  -8.54674911,  -4.1444397 , ...,  -2.33258438,\n",
       "          -4.57860947,  -4.66835022],\n",
       "        [ -3.94554901,  -5.67736435,  -5.23592377, ...,  -2.08760452,\n",
       "          -5.73072815,  -6.89254761],\n",
       "        [  0.11718559,  -2.6576004 ,  -7.22241592, ...,  -4.98609543,\n",
       "          -5.98540497,  -5.75983429]],\n",
       "\n",
       "       [[  3.32128716,   5.05795479,   3.68026352, ...,   4.23570633,\n",
       "           4.14596176,   3.36009598],\n",
       "        [  3.07146072,   0.3597374 ,  -2.26709366, ...,   0.56833076,\n",
       "          -2.45628357,  -6.52629471],\n",
       "        [ -8.21687698, -11.75085068, -11.05715179, ...,  -2.69641113,\n",
       "          -2.69155884,  -0.97914505],\n",
       "        ...,\n",
       "        [  3.21456528,   2.17159462,  -5.93204498, ...,  -2.4417305 ,\n",
       "          -4.90605164,  -2.45385742],\n",
       "        [  5.77105522,  -5.71132278,  -9.35686874, ...,  -3.77576447,\n",
       "          -3.91159058,  -0.64685059],\n",
       "        [  3.55171204,  -9.46844101,  -8.55887604, ...,  -5.12919998,\n",
       "          -2.24526596,  -3.319767  ]],\n",
       "\n",
       "       [[-13.77372742, -12.50033188,  -9.82741928, ...,  -4.80418015,\n",
       "          -4.40639496,  -6.18429947],\n",
       "        [ -9.68188858, -16.51455688, -18.32884216, ...,  -7.87488174,\n",
       "          -5.52698517,  -3.35614777],\n",
       "        [ -7.78756332, -10.91162109, -10.80490112, ...,  -3.33189392,\n",
       "          -3.57444382,  -1.64373779],\n",
       "        ...,\n",
       "        [ -1.6922493 ,  -5.44694138,  -7.82151794, ...,  -0.93548584,\n",
       "           0.91760445,   1.82717133],\n",
       "        [ -1.55884552,  -5.41783524,  -6.43412399, ...,   0.71871185,\n",
       "           3.20001221,   3.65115738],\n",
       "        [ -1.51276016,  -5.22621918,  -7.07931137, ...,  -4.92060471,\n",
       "          -3.41436005,  -1.75773621]],\n",
       "\n",
       "       ...,\n",
       "\n",
       "       [[-13.92490768, -14.68315125, -13.11826706, ...,  -4.7407074 ,\n",
       "          -3.77965164,  -4.2682457 ],\n",
       "        [-14.74998856, -13.6644783 , -11.40818405, ...,  -4.39730835,\n",
       "          -2.93152237,  -3.68054962],\n",
       "        [-13.54463196, -10.05072021,  -6.50149155, ...,  -3.59066772,\n",
       "          -2.55585861,  -4.23598099],\n",
       "        ...,\n",
       "        [-11.67783356, -14.40428543, -14.83756638, ...,  -1.47495651,\n",
       "           0.39414787,   2.35083199],\n",
       "        [ -1.25601196,  -2.94535065,  -7.90966034, ...,   1.64559555,\n",
       "           3.16669273,   3.75899887],\n",
       "        [ -2.376091  ,   0.64075089,  -1.44960785, ...,   9.64057541,\n",
       "          10.14069366,   6.84728813]],\n",
       "\n",
       "       [[-11.89447403, -13.47549438, -12.99842072, ...,  -4.42035675,\n",
       "          -4.67848206,  -3.93406677],\n",
       "        [-18.30843353, -16.57069397, -13.34181976, ...,  -4.80524063,\n",
       "          -1.6339798 ,  -1.84140396],\n",
       "        [-15.00811386, -13.55846024,  -9.34087372, ...,   3.36950684,\n",
       "          -0.17741585,  -4.27515793],\n",
       "        ...,\n",
       "        [-17.12151718, -16.76428986, -15.62577057, ...,  -3.95941544,\n",
       "          -2.039608  ,   4.1392746 ],\n",
       "        [ -9.46302414,  -9.48146057, -12.83939743, ...,   2.34391785,\n",
       "           2.42227745,   0.25817108],\n",
       "        [ -1.85523224,  -2.27929688,  -1.82527161, ...,   5.18099403,\n",
       "           5.65576172,   6.36560631]],\n",
       "\n",
       "       [[-11.19154358, -11.62482452,  -7.28278351, ...,  -2.78863144,\n",
       "          -5.29153061,  -4.19219208],\n",
       "        [-18.90304565, -15.14870071, -11.89908218, ...,  -5.42520142,\n",
       "          -6.12582779,  -1.82757568],\n",
       "        [-16.76428986,  -9.2302475 ,  -4.20602036, ...,   0.89196205,\n",
       "          -1.64319992,  -3.3325386 ],\n",
       "        ...,\n",
       "        [-17.98116684, -18.14019012, -18.50663757, ...,  -6.82875824,\n",
       "          -0.87573624,   4.21993828],\n",
       "        [-15.5543251 , -14.9251442 , -14.49186325, ...,  -1.15690994,\n",
       "           0.9311409 ,   4.31673431],\n",
       "        [ -8.4213028 ,  -9.80411911, -11.39435577, ...,   1.82536125,\n",
       "           4.63017273,   4.25220299]]])"
      ]
     },
     "execution_count": 7,
     "metadata": {},
     "output_type": "execute_result"
    }
   ],
   "source": [
    "test"
   ]
  },
  {
   "cell_type": "code",
   "execution_count": 5,
   "metadata": {},
   "outputs": [],
   "source": [
    "combined_arr_X = np.concatenate((train_X,test_X,extreme_test_X,extreme_valid_X,valid_X), axis=0)\n",
    "t = np.concatenate((train_t,test_t,extreme_test_t,extreme_valid_t,valid_t), axis=0)\n",
    "y = np.concatenate((train_y,test_y,extreme_test_y,extreme_valid_y,valid_y), axis=0)\n",
    "combined_df = pd.concat([train_meta,test_meta,extreme_test_meta,extreme_valid_meta,valid_meta], axis=0, ignore_index=True)"
   ]
  },
  {
   "cell_type": "code",
   "execution_count": 6,
   "metadata": {},
   "outputs": [],
   "source": [
    "combined_df.to_csv('/user/work/al18709/tc_data_flipped/KE_tracks/tcs_and_storms_meta2.csv')"
   ]
  },
  {
   "cell_type": "code",
   "execution_count": 8,
   "metadata": {},
   "outputs": [
    {
     "name": "stdout",
     "output_type": "stream",
     "text": [
      "(43136, 100, 100)\n",
      "(87818, 100, 100)\n",
      "(43136, 10, 10, 9)\n"
     ]
    }
   ],
   "source": [
    "print(t.shape)\n",
    "print(y.shape)\n",
    "print(combined_arr_X.shape)"
   ]
  },
  {
   "cell_type": "code",
   "execution_count": 9,
   "metadata": {},
   "outputs": [
    {
     "name": "stdout",
     "output_type": "stream",
     "text": [
      "0        1999343S09095\n",
      "49       1999357S08076\n",
      "108      2000006S15164\n",
      "128      2000024S12100\n",
      "159      2000025S15056\n",
      "             ...      \n",
      "42980    2011167N08129\n",
      "42993    2009299N12153\n",
      "43050    2011244N37296\n",
      "43062    2008246N12338\n",
      "43091    2006224N21141\n",
      "Name: sid, Length: 1254, dtype: object\n",
      "(43136, 100, 100)\n"
     ]
    }
   ],
   "source": [
    "print(combined_df.sid.drop_duplicates())\n",
    "print(t.shape)\n",
    "np.save(f'/user/work/al18709/tc_data_flipped/KE_tracks/tcs_and_storms_t.npy',t)"
   ]
  },
  {
   "cell_type": "code",
   "execution_count": 6,
   "metadata": {},
   "outputs": [
    {
     "ename": "NameError",
     "evalue": "name 'X' is not defined",
     "output_type": "error",
     "traceback": [
      "\u001b[0;31m---------------------------------------------------------------------------\u001b[0m",
      "\u001b[0;31mNameError\u001b[0m                                 Traceback (most recent call last)",
      "Cell \u001b[0;32mIn[6], line 2\u001b[0m\n\u001b[1;32m      1\u001b[0m \u001b[38;5;66;03m# print(meta)\u001b[39;00m\n\u001b[0;32m----> 2\u001b[0m \u001b[38;5;28mprint\u001b[39m(\u001b[43mX\u001b[49m\u001b[38;5;241m.\u001b[39mshape)\n\u001b[1;32m      3\u001b[0m \u001b[38;5;28mprint\u001b[39m(np\u001b[38;5;241m.\u001b[39mcount_nonzero(np\u001b[38;5;241m.\u001b[39misnan(X)))\n",
      "\u001b[0;31mNameError\u001b[0m: name 'X' is not defined"
     ]
    }
   ],
   "source": [
    "# print(meta)\n",
    "print(X.shape)\n",
    "print(np.count_nonzero(np.isnan(X)))"
   ]
  },
  {
   "cell_type": "code",
   "execution_count": 7,
   "metadata": {},
   "outputs": [],
   "source": [
    "# create training dataset\n",
    "variables = ['precip','mslp','q-925','u-200','u-850','v-200','v-850','t-600','rh-600']\n",
    "X = combined_arr_X\n",
    "meta = combined_df\n",
    "nstorms,_,_,_ = X.shape\n",
    "# precip = np.mean(X[:,:,:,0],axis=(1,2))\n",
    "# mslp = np.mean(X[:,:,:,1],axis=(1,2))\n",
    "# q925 = np.mean(X[:,:,:,2],axis=(1,2))\n",
    "# u200 = np.mean(X[:,:,:,3],axis=(1,2))\n",
    "# u850 = np.mean(X[:,:,:,4],axis=(1,2))\n",
    "# v200 = np.mean(X[:,:,:,5],axis=(1,2))\n",
    "# v850 = np.mean(X[:,:,:,6],axis=(1,2))\n",
    "# shear = np.sqrt(np.abs(np.square(u850-u200) - np.square(v850-v200)))\n",
    "# lat = meta.centre_lat\n",
    "# lon = meta.centre_lon\n",
    "# t600 = np.mean(X[:,:,:,7],axis=(1,2))\n",
    "# rh600 = np.mean(X[:,:,:,8],axis=(1,2))\n",
    "\n",
    "precip = np.mean(X[:,4:5,4:5,0],axis=(1,2))\n",
    "mslp = np.mean(X[:,4:5,4:5,1],axis=(1,2))\n",
    "q925 = np.mean(X[:,4:5,4:5,2],axis=(1,2))\n",
    "u200 = np.mean(X[:,4:5,4:5,3],axis=(1,2))\n",
    "u850 = np.mean(X[:,4:5,4:5,4],axis=(1,2))\n",
    "v200 = np.mean(X[:,4:5,4:5,5],axis=(1,2))\n",
    "v850 = np.mean(X[:,4:5,4:5,6],axis=(1,2))\n",
    "shear = np.sqrt(np.abs(np.square(u850-u200) - np.square(v850-v200)))\n",
    "lat = meta.centre_lat\n",
    "lon = meta.centre_lon\n",
    "t600 = np.mean(X[:,4:5,4:5,7],axis=(1,2))\n",
    "rh600 = np.mean(X[:,4:5,4:5,8],axis=(1,2))\n",
    "\n",
    "\n",
    "\n",
    "processed_variables = np.zeros((nstorms,8))\n",
    "processed_variables[:,0] = mslp # or p?\n",
    "# processed_variables[:,1] = q925 # or rh\n",
    "processed_variables[:,1] = u850\n",
    "processed_variables[:,2] = v850\n",
    "processed_variables[:,3] = shear\n",
    "processed_variables[:,4] = lat\n",
    "processed_variables[:,5] = lon\n",
    "# processed_variables[:,6] = t600\n",
    "# processed_variables[:,7] = rh600"
   ]
  },
  {
   "cell_type": "code",
   "execution_count": 8,
   "metadata": {},
   "outputs": [
    {
     "name": "stdout",
     "output_type": "stream",
     "text": [
      "0\n",
      "0\n",
      "0\n",
      "0\n",
      "0\n",
      "0\n",
      "0\n",
      "0\n"
     ]
    }
   ],
   "source": [
    "print(np.count_nonzero(np.isnan(processed_variables[:,0])))\n",
    "print(np.count_nonzero(np.isnan(processed_variables[:,1])))\n",
    "print(np.count_nonzero(np.isnan(processed_variables[:,2])))\n",
    "print(np.count_nonzero(np.isnan(processed_variables[:,3])))\n",
    "print(np.count_nonzero(np.isnan(processed_variables[:,4])))\n",
    "print(np.count_nonzero(np.isnan(processed_variables[:,5])))\n",
    "print(np.count_nonzero(np.isnan(processed_variables[:,6])))\n",
    "print(np.count_nonzero(np.isnan(processed_variables[:,7])))\n",
    "# print(processed_variables)"
   ]
  },
  {
   "cell_type": "code",
   "execution_count": 9,
   "metadata": {},
   "outputs": [
    {
     "name": "stdout",
     "output_type": "stream",
     "text": [
      "(43136, 6)\n"
     ]
    }
   ],
   "source": [
    "print(processed_variables[:,:6].shape)"
   ]
  },
  {
   "cell_type": "code",
   "execution_count": 10,
   "metadata": {},
   "outputs": [
    {
     "name": "stdout",
     "output_type": "stream",
     "text": [
      "(43136, 8)\n",
      "[275.15127563 279.06481934 274.59997559 ... 279.26361084 279.81970215\n",
      " 278.11700439]\n"
     ]
    }
   ],
   "source": [
    "# save training dataset\n",
    "np.save(f'/user/work/al18709/tc_data_flipped/KE_tracks/tcs_and_storms_X.npy',processed_variables[:,:6])\n",
    "np.save(f'/user/work/al18709/tc_data_flipped/KE_tracks/tcs_and_storms_y.npy',y)\n",
    "np.save(f'/user/work/al18709/tc_data_flipped/KE_tracks/tcs_and_storms_t.npy',t)\n",
    "meta.to_csv(f'/user/work/al18709/tc_data_flipped/KE_tracks/tcs_and_storms_meta.csv')\n",
    "\n",
    "print(processed_variables.shape)\n",
    "print(mslp)\n",
    "\n",
    "# for sid in sids_unique:\n",
    "# \tstorm = tracks_grouped.get_group(sid)\n",
    "# \tstorm_lats = storm.lat\n",
    "# \tstorm_lons = storm.lon\n",
    "# \tstorm_month = storm.month\n",
    "# \tstorm_year = storm.year\n",
    "# \tstorm_v = storm.v\n",
    "\n",
    "\t"
   ]
  },
  {
   "cell_type": "code",
   "execution_count": 11,
   "metadata": {},
   "outputs": [
    {
     "name": "stdout",
     "output_type": "stream",
     "text": [
      "(87818, 100, 100)\n"
     ]
    }
   ],
   "source": [
    "print(t.shape)"
   ]
  },
  {
   "cell_type": "code",
   "execution_count": 23,
   "metadata": {},
   "outputs": [
    {
     "name": "stdout",
     "output_type": "stream",
     "text": [
      "(43136, 6)\n"
     ]
    }
   ],
   "source": [
    "print(np.load('/user/work/al18709/tc_data_flipped/KE_tracks/tcs_and_storms_X.npy').shape)"
   ]
  },
  {
   "cell_type": "code",
   "execution_count": 3,
   "metadata": {},
   "outputs": [],
   "source": [
    "data = 'extreme_test'\n",
    "y = np.load(f'/user/work/al18709/tc_data_flipped/{data}_combined_y.npy')\n",
    "X = np.load(f'/user/work/al18709/tc_data_flipped/{data}_combined_X.npy')\n",
    "meta=pd.read_csv(f'/user/work/al18709/tc_data_flipped/{data}_meta.csv')\n",
    "\n",
    "# create training dataset\n",
    "variables = ['precip','mslp','q-925','u-200','u-850','v-200','v-850']\n",
    "nstorms,_,_,_ = X.shape\n",
    "precip = np.mean(X[:,:,:,0],axis=(1,2))\n",
    "mslp = np.mean(X[:,:,:,1],axis=(1,2))\n",
    "q925 = np.mean(X[:,:,:,2],axis=(1,2))\n",
    "u200 = np.mean(X[:,:,:,3],axis=(1,2))\n",
    "u850 = np.mean(X[:,:,:,4],axis=(1,2))\n",
    "v200 = np.mean(X[:,:,:,5],axis=(1,2))\n",
    "v850 = np.mean(X[:,:,:,6],axis=(1,2))\n",
    "shear = np.sqrt(np.abs(np.square(u850-u200) - np.square(v850-v200)))\n",
    "lat = meta.centre_lat\n",
    "lon = meta.centre_lon\n",
    "\n",
    "\n",
    "processed_variables = np.zeros((nstorms,6))\n",
    "processed_variables[:,0] = mslp # or p?\n",
    "processed_variables[:,1] = u850\n",
    "processed_variables[:,2] = v850\n",
    "processed_variables[:,3] = shear\n",
    "processed_variables[:,4] = lat\n",
    "processed_variables[:,5] = lon\n",
    "\n",
    "np.save(f'/user/work/al18709/tc_data_flipped/KE_tracks/{data}_X.npy',processed_variables)\n",
    "np.save(f'/user/work/al18709/tc_data_flipped/KE_tracks/{data}_y.npy',y)\n",
    "meta.to_csv(f'/user/work/al18709/tc_data_flipped/KE_tracks/{data}_meta.csv')"
   ]
  },
  {
   "cell_type": "code",
   "execution_count": 50,
   "metadata": {},
   "outputs": [],
   "source": [
    "indir_var = '/user/home/al18709/work/tc_data_flipped_var/'\n",
    "indir_mswep = '/user/home/al18709/work/tc_data_mswep_flipped/'\n",
    "# indir_topography = ''\n",
    "outdir = '/user/home/al18709/work/tc_data_flipped/'\n",
    "\n",
    "mswep_X = np.load(indir_mswep+'mswep_' + 'extreme_valid'+'_X.npy')"
   ]
  },
  {
   "cell_type": "code",
   "execution_count": 7,
   "metadata": {},
   "outputs": [
    {
     "name": "stdout",
     "output_type": "stream",
     "text": [
      "[[[ 0.375   0.75    0.75   ...  2.      1.6875  1.6875]\n",
      "  [ 0.375   0.75    0.75   ...  2.0625  1.6875  1.6875]\n",
      "  [ 0.375   0.75    0.75   ...  2.0625  1.6875  1.6875]\n",
      "  ...\n",
      "  [ 0.      0.      0.     ...  0.75    0.4375  0.4375]\n",
      "  [ 0.      0.      0.     ...  0.1875  0.1875  0.1875]\n",
      "  [ 0.      0.      0.     ...  0.1875  0.1875  0.1875]]\n",
      "\n",
      " [[ 3.125   3.125   3.5    ...  1.3125  1.3125  1.3125]\n",
      "  [ 2.8125  2.8125  3.1875 ...  1.4375  1.4375  1.4375]\n",
      "  [ 2.8125  2.8125  3.1875 ...  1.4375  1.4375  1.4375]\n",
      "  ...\n",
      "  [ 0.      0.      0.     ...  0.25    0.25    0.25  ]\n",
      "  [ 0.      0.      0.     ...  0.25    0.25    0.25  ]\n",
      "  [ 0.      0.      0.     ...  0.0625  0.0625  0.0625]]\n",
      "\n",
      " [[ 0.5625  0.25    0.25   ...  0.375   0.375   0.375 ]\n",
      "  [ 0.5625  0.25    0.25   ...  0.375   0.375   0.375 ]\n",
      "  [ 0.5625  0.25    0.25   ...  0.25    0.25    0.375 ]\n",
      "  ...\n",
      "  [ 0.      0.      0.     ...  0.3125  0.3125  0.625 ]\n",
      "  [ 0.      0.      0.     ...  0.3125  0.3125  0.625 ]\n",
      "  [ 0.      0.      0.     ...  0.3125  0.3125  0.625 ]]\n",
      "\n",
      " ...\n",
      "\n",
      " [[ 0.      0.      0.     ...  2.25    0.625   0.5625]\n",
      "  [ 0.      0.      0.     ...  1.375   0.875   0.75  ]\n",
      "  [ 0.125   0.0625  0.     ...  1.25    0.875   0.8125]\n",
      "  ...\n",
      "  [ 0.      0.      0.     ...  0.      0.0625  0.0625]\n",
      "  [ 0.      0.      0.     ...  0.      0.0625  0.0625]\n",
      "  [ 0.      0.      0.     ...  0.      0.125   0.0625]]\n",
      "\n",
      " [[ 0.      0.      0.     ...  8.4375  8.4375  8.0625]\n",
      "  [ 0.      0.      0.0625 ...  9.9375  9.4375  9.4375]\n",
      "  [ 0.      0.      0.     ...  7.6875  6.5     6.5625]\n",
      "  ...\n",
      "  [ 0.      0.      0.     ...  0.1875  0.125   0.0625]\n",
      "  [ 0.      0.      0.     ...  0.125   0.0625  0.0625]\n",
      "  [ 0.      0.      0.     ...  0.0625  0.125   0.0625]]\n",
      "\n",
      " [[ 0.      0.      0.     ... 24.75   23.8125 23.3125]\n",
      "  [ 0.      0.      0.     ... 21.75   21.625  20.625 ]\n",
      "  [ 0.      0.      0.     ... 18.     21.6875 10.0625]\n",
      "  ...\n",
      "  [ 0.      0.      0.     ...  0.      0.0625  0.125 ]\n",
      "  [ 0.      0.      0.     ...  0.      0.      0.    ]\n",
      "  [ 0.      0.      0.     ...  0.      0.      0.    ]]]\n"
     ]
    }
   ],
   "source": [
    "print(mswep_X)"
   ]
  },
  {
   "cell_type": "code",
   "execution_count": 17,
   "metadata": {},
   "outputs": [
    {
     "name": "stdout",
     "output_type": "stream",
     "text": [
      "[[[[ 0.375   0.      0.     ...  0.      0.      0.    ]\n",
      "   [ 0.75    0.      0.     ...  0.      0.      0.    ]\n",
      "   [ 0.75    0.      0.     ...  0.      0.      0.    ]\n",
      "   ...\n",
      "   [ 2.      0.      0.     ...  0.      0.      0.    ]\n",
      "   [ 1.6875  0.      0.     ...  0.      0.      0.    ]\n",
      "   [ 1.6875  0.      0.     ...  0.      0.      0.    ]]\n",
      "\n",
      "  [[ 0.375   0.      0.     ...  0.      0.      0.    ]\n",
      "   [ 0.75    0.      0.     ...  0.      0.      0.    ]\n",
      "   [ 0.75    0.      0.     ...  0.      0.      0.    ]\n",
      "   ...\n",
      "   [ 2.0625  0.      0.     ...  0.      0.      0.    ]\n",
      "   [ 1.6875  0.      0.     ...  0.      0.      0.    ]\n",
      "   [ 1.6875  0.      0.     ...  0.      0.      0.    ]]\n",
      "\n",
      "  [[ 0.375   0.      0.     ...  0.      0.      0.    ]\n",
      "   [ 0.75    0.      0.     ...  0.      0.      0.    ]\n",
      "   [ 0.75    0.      0.     ...  0.      0.      0.    ]\n",
      "   ...\n",
      "   [ 2.0625  0.      0.     ...  0.      0.      0.    ]\n",
      "   [ 1.6875  0.      0.     ...  0.      0.      0.    ]\n",
      "   [ 1.6875  0.      0.     ...  0.      0.      0.    ]]\n",
      "\n",
      "  ...\n",
      "\n",
      "  [[ 0.      0.      0.     ...  0.      0.      0.    ]\n",
      "   [ 0.      0.      0.     ...  0.      0.      0.    ]\n",
      "   [ 0.      0.      0.     ...  0.      0.      0.    ]\n",
      "   ...\n",
      "   [ 0.75    0.      0.     ...  0.      0.      0.    ]\n",
      "   [ 0.4375  0.      0.     ...  0.      0.      0.    ]\n",
      "   [ 0.4375  0.      0.     ...  0.      0.      0.    ]]\n",
      "\n",
      "  [[ 0.      0.      0.     ...  0.      0.      0.    ]\n",
      "   [ 0.      0.      0.     ...  0.      0.      0.    ]\n",
      "   [ 0.      0.      0.     ...  0.      0.      0.    ]\n",
      "   ...\n",
      "   [ 0.1875  0.      0.     ...  0.      0.      0.    ]\n",
      "   [ 0.1875  0.      0.     ...  0.      0.      0.    ]\n",
      "   [ 0.1875  0.      0.     ...  0.      0.      0.    ]]\n",
      "\n",
      "  [[ 0.      0.      0.     ...  0.      0.      0.    ]\n",
      "   [ 0.      0.      0.     ...  0.      0.      0.    ]\n",
      "   [ 0.      0.      0.     ...  0.      0.      0.    ]\n",
      "   ...\n",
      "   [ 0.1875  0.      0.     ...  0.      0.      0.    ]\n",
      "   [ 0.1875  0.      0.     ...  0.      0.      0.    ]\n",
      "   [ 0.1875  0.      0.     ...  0.      0.      0.    ]]]\n",
      "\n",
      "\n",
      " [[[ 3.125   0.      0.     ...  0.      0.      0.    ]\n",
      "   [ 3.125   0.      0.     ...  0.      0.      0.    ]\n",
      "   [ 3.5     0.      0.     ...  0.      0.      0.    ]\n",
      "   ...\n",
      "   [ 1.3125  0.      0.     ...  0.      0.      0.    ]\n",
      "   [ 1.3125  0.      0.     ...  0.      0.      0.    ]\n",
      "   [ 1.3125  0.      0.     ...  0.      0.      0.    ]]\n",
      "\n",
      "  [[ 2.8125  0.      0.     ...  0.      0.      0.    ]\n",
      "   [ 2.8125  0.      0.     ...  0.      0.      0.    ]\n",
      "   [ 3.1875  0.      0.     ...  0.      0.      0.    ]\n",
      "   ...\n",
      "   [ 1.4375  0.      0.     ...  0.      0.      0.    ]\n",
      "   [ 1.4375  0.      0.     ...  0.      0.      0.    ]\n",
      "   [ 1.4375  0.      0.     ...  0.      0.      0.    ]]\n",
      "\n",
      "  [[ 2.8125  0.      0.     ...  0.      0.      0.    ]\n",
      "   [ 2.8125  0.      0.     ...  0.      0.      0.    ]\n",
      "   [ 3.1875  0.      0.     ...  0.      0.      0.    ]\n",
      "   ...\n",
      "   [ 1.4375  0.      0.     ...  0.      0.      0.    ]\n",
      "   [ 1.4375  0.      0.     ...  0.      0.      0.    ]\n",
      "   [ 1.4375  0.      0.     ...  0.      0.      0.    ]]\n",
      "\n",
      "  ...\n",
      "\n",
      "  [[ 0.      0.      0.     ...  0.      0.      0.    ]\n",
      "   [ 0.      0.      0.     ...  0.      0.      0.    ]\n",
      "   [ 0.      0.      0.     ...  0.      0.      0.    ]\n",
      "   ...\n",
      "   [ 0.25    0.      0.     ...  0.      0.      0.    ]\n",
      "   [ 0.25    0.      0.     ...  0.      0.      0.    ]\n",
      "   [ 0.25    0.      0.     ...  0.      0.      0.    ]]\n",
      "\n",
      "  [[ 0.      0.      0.     ...  0.      0.      0.    ]\n",
      "   [ 0.      0.      0.     ...  0.      0.      0.    ]\n",
      "   [ 0.      0.      0.     ...  0.      0.      0.    ]\n",
      "   ...\n",
      "   [ 0.25    0.      0.     ...  0.      0.      0.    ]\n",
      "   [ 0.25    0.      0.     ...  0.      0.      0.    ]\n",
      "   [ 0.25    0.      0.     ...  0.      0.      0.    ]]\n",
      "\n",
      "  [[ 0.      0.      0.     ...  0.      0.      0.    ]\n",
      "   [ 0.      0.      0.     ...  0.      0.      0.    ]\n",
      "   [ 0.      0.      0.     ...  0.      0.      0.    ]\n",
      "   ...\n",
      "   [ 0.0625  0.      0.     ...  0.      0.      0.    ]\n",
      "   [ 0.0625  0.      0.     ...  0.      0.      0.    ]\n",
      "   [ 0.0625  0.      0.     ...  0.      0.      0.    ]]]\n",
      "\n",
      "\n",
      " [[[ 0.5625  0.      0.     ...  0.      0.      0.    ]\n",
      "   [ 0.25    0.      0.     ...  0.      0.      0.    ]\n",
      "   [ 0.25    0.      0.     ...  0.      0.      0.    ]\n",
      "   ...\n",
      "   [ 0.375   0.      0.     ...  0.      0.      0.    ]\n",
      "   [ 0.375   0.      0.     ...  0.      0.      0.    ]\n",
      "   [ 0.375   0.      0.     ...  0.      0.      0.    ]]\n",
      "\n",
      "  [[ 0.5625  0.      0.     ...  0.      0.      0.    ]\n",
      "   [ 0.25    0.      0.     ...  0.      0.      0.    ]\n",
      "   [ 0.25    0.      0.     ...  0.      0.      0.    ]\n",
      "   ...\n",
      "   [ 0.375   0.      0.     ...  0.      0.      0.    ]\n",
      "   [ 0.375   0.      0.     ...  0.      0.      0.    ]\n",
      "   [ 0.375   0.      0.     ...  0.      0.      0.    ]]\n",
      "\n",
      "  [[ 0.5625  0.      0.     ...  0.      0.      0.    ]\n",
      "   [ 0.25    0.      0.     ...  0.      0.      0.    ]\n",
      "   [ 0.25    0.      0.     ...  0.      0.      0.    ]\n",
      "   ...\n",
      "   [ 0.25    0.      0.     ...  0.      0.      0.    ]\n",
      "   [ 0.25    0.      0.     ...  0.      0.      0.    ]\n",
      "   [ 0.375   0.      0.     ...  0.      0.      0.    ]]\n",
      "\n",
      "  ...\n",
      "\n",
      "  [[ 0.      0.      0.     ...  0.      0.      0.    ]\n",
      "   [ 0.      0.      0.     ...  0.      0.      0.    ]\n",
      "   [ 0.      0.      0.     ...  0.      0.      0.    ]\n",
      "   ...\n",
      "   [ 0.3125  0.      0.     ...  0.      0.      0.    ]\n",
      "   [ 0.3125  0.      0.     ...  0.      0.      0.    ]\n",
      "   [ 0.625   0.      0.     ...  0.      0.      0.    ]]\n",
      "\n",
      "  [[ 0.      0.      0.     ...  0.      0.      0.    ]\n",
      "   [ 0.      0.      0.     ...  0.      0.      0.    ]\n",
      "   [ 0.      0.      0.     ...  0.      0.      0.    ]\n",
      "   ...\n",
      "   [ 0.3125  0.      0.     ...  0.      0.      0.    ]\n",
      "   [ 0.3125  0.      0.     ...  0.      0.      0.    ]\n",
      "   [ 0.625   0.      0.     ...  0.      0.      0.    ]]\n",
      "\n",
      "  [[ 0.      0.      0.     ...  0.      0.      0.    ]\n",
      "   [ 0.      0.      0.     ...  0.      0.      0.    ]\n",
      "   [ 0.      0.      0.     ...  0.      0.      0.    ]\n",
      "   ...\n",
      "   [ 0.3125  0.      0.     ...  0.      0.      0.    ]\n",
      "   [ 0.3125  0.      0.     ...  0.      0.      0.    ]\n",
      "   [ 0.625   0.      0.     ...  0.      0.      0.    ]]]\n",
      "\n",
      "\n",
      " ...\n",
      "\n",
      "\n",
      " [[[ 0.      0.      0.     ...  0.      0.      0.    ]\n",
      "   [ 0.      0.      0.     ...  0.      0.      0.    ]\n",
      "   [ 0.      0.      0.     ...  0.      0.      0.    ]\n",
      "   ...\n",
      "   [ 2.25    0.      0.     ...  0.      0.      0.    ]\n",
      "   [ 0.625   0.      0.     ...  0.      0.      0.    ]\n",
      "   [ 0.5625  0.      0.     ...  0.      0.      0.    ]]\n",
      "\n",
      "  [[ 0.      0.      0.     ...  0.      0.      0.    ]\n",
      "   [ 0.      0.      0.     ...  0.      0.      0.    ]\n",
      "   [ 0.      0.      0.     ...  0.      0.      0.    ]\n",
      "   ...\n",
      "   [ 1.375   0.      0.     ...  0.      0.      0.    ]\n",
      "   [ 0.875   0.      0.     ...  0.      0.      0.    ]\n",
      "   [ 0.75    0.      0.     ...  0.      0.      0.    ]]\n",
      "\n",
      "  [[ 0.125   0.      0.     ...  0.      0.      0.    ]\n",
      "   [ 0.0625  0.      0.     ...  0.      0.      0.    ]\n",
      "   [ 0.      0.      0.     ...  0.      0.      0.    ]\n",
      "   ...\n",
      "   [ 1.25    0.      0.     ...  0.      0.      0.    ]\n",
      "   [ 0.875   0.      0.     ...  0.      0.      0.    ]\n",
      "   [ 0.8125  0.      0.     ...  0.      0.      0.    ]]\n",
      "\n",
      "  ...\n",
      "\n",
      "  [[ 0.      0.      0.     ...  0.      0.      0.    ]\n",
      "   [ 0.      0.      0.     ...  0.      0.      0.    ]\n",
      "   [ 0.      0.      0.     ...  0.      0.      0.    ]\n",
      "   ...\n",
      "   [ 0.      0.      0.     ...  0.      0.      0.    ]\n",
      "   [ 0.0625  0.      0.     ...  0.      0.      0.    ]\n",
      "   [ 0.0625  0.      0.     ...  0.      0.      0.    ]]\n",
      "\n",
      "  [[ 0.      0.      0.     ...  0.      0.      0.    ]\n",
      "   [ 0.      0.      0.     ...  0.      0.      0.    ]\n",
      "   [ 0.      0.      0.     ...  0.      0.      0.    ]\n",
      "   ...\n",
      "   [ 0.      0.      0.     ...  0.      0.      0.    ]\n",
      "   [ 0.0625  0.      0.     ...  0.      0.      0.    ]\n",
      "   [ 0.0625  0.      0.     ...  0.      0.      0.    ]]\n",
      "\n",
      "  [[ 0.      0.      0.     ...  0.      0.      0.    ]\n",
      "   [ 0.      0.      0.     ...  0.      0.      0.    ]\n",
      "   [ 0.      0.      0.     ...  0.      0.      0.    ]\n",
      "   ...\n",
      "   [ 0.      0.      0.     ...  0.      0.      0.    ]\n",
      "   [ 0.125   0.      0.     ...  0.      0.      0.    ]\n",
      "   [ 0.0625  0.      0.     ...  0.      0.      0.    ]]]\n",
      "\n",
      "\n",
      " [[[ 0.      0.      0.     ...  0.      0.      0.    ]\n",
      "   [ 0.      0.      0.     ...  0.      0.      0.    ]\n",
      "   [ 0.      0.      0.     ...  0.      0.      0.    ]\n",
      "   ...\n",
      "   [ 8.4375  0.      0.     ...  0.      0.      0.    ]\n",
      "   [ 8.4375  0.      0.     ...  0.      0.      0.    ]\n",
      "   [ 8.0625  0.      0.     ...  0.      0.      0.    ]]\n",
      "\n",
      "  [[ 0.      0.      0.     ...  0.      0.      0.    ]\n",
      "   [ 0.      0.      0.     ...  0.      0.      0.    ]\n",
      "   [ 0.0625  0.      0.     ...  0.      0.      0.    ]\n",
      "   ...\n",
      "   [ 9.9375  0.      0.     ...  0.      0.      0.    ]\n",
      "   [ 9.4375  0.      0.     ...  0.      0.      0.    ]\n",
      "   [ 9.4375  0.      0.     ...  0.      0.      0.    ]]\n",
      "\n",
      "  [[ 0.      0.      0.     ...  0.      0.      0.    ]\n",
      "   [ 0.      0.      0.     ...  0.      0.      0.    ]\n",
      "   [ 0.      0.      0.     ...  0.      0.      0.    ]\n",
      "   ...\n",
      "   [ 7.6875  0.      0.     ...  0.      0.      0.    ]\n",
      "   [ 6.5     0.      0.     ...  0.      0.      0.    ]\n",
      "   [ 6.5625  0.      0.     ...  0.      0.      0.    ]]\n",
      "\n",
      "  ...\n",
      "\n",
      "  [[ 0.      0.      0.     ...  0.      0.      0.    ]\n",
      "   [ 0.      0.      0.     ...  0.      0.      0.    ]\n",
      "   [ 0.      0.      0.     ...  0.      0.      0.    ]\n",
      "   ...\n",
      "   [ 0.1875  0.      0.     ...  0.      0.      0.    ]\n",
      "   [ 0.125   0.      0.     ...  0.      0.      0.    ]\n",
      "   [ 0.0625  0.      0.     ...  0.      0.      0.    ]]\n",
      "\n",
      "  [[ 0.      0.      0.     ...  0.      0.      0.    ]\n",
      "   [ 0.      0.      0.     ...  0.      0.      0.    ]\n",
      "   [ 0.      0.      0.     ...  0.      0.      0.    ]\n",
      "   ...\n",
      "   [ 0.125   0.      0.     ...  0.      0.      0.    ]\n",
      "   [ 0.0625  0.      0.     ...  0.      0.      0.    ]\n",
      "   [ 0.0625  0.      0.     ...  0.      0.      0.    ]]\n",
      "\n",
      "  [[ 0.      0.      0.     ...  0.      0.      0.    ]\n",
      "   [ 0.      0.      0.     ...  0.      0.      0.    ]\n",
      "   [ 0.      0.      0.     ...  0.      0.      0.    ]\n",
      "   ...\n",
      "   [ 0.0625  0.      0.     ...  0.      0.      0.    ]\n",
      "   [ 0.125   0.      0.     ...  0.      0.      0.    ]\n",
      "   [ 0.0625  0.      0.     ...  0.      0.      0.    ]]]\n",
      "\n",
      "\n",
      " [[[ 0.      0.      0.     ...  0.      0.      0.    ]\n",
      "   [ 0.      0.      0.     ...  0.      0.      0.    ]\n",
      "   [ 0.      0.      0.     ...  0.      0.      0.    ]\n",
      "   ...\n",
      "   [24.75    0.      0.     ...  0.      0.      0.    ]\n",
      "   [23.8125  0.      0.     ...  0.      0.      0.    ]\n",
      "   [23.3125  0.      0.     ...  0.      0.      0.    ]]\n",
      "\n",
      "  [[ 0.      0.      0.     ...  0.      0.      0.    ]\n",
      "   [ 0.      0.      0.     ...  0.      0.      0.    ]\n",
      "   [ 0.      0.      0.     ...  0.      0.      0.    ]\n",
      "   ...\n",
      "   [21.75    0.      0.     ...  0.      0.      0.    ]\n",
      "   [21.625   0.      0.     ...  0.      0.      0.    ]\n",
      "   [20.625   0.      0.     ...  0.      0.      0.    ]]\n",
      "\n",
      "  [[ 0.      0.      0.     ...  0.      0.      0.    ]\n",
      "   [ 0.      0.      0.     ...  0.      0.      0.    ]\n",
      "   [ 0.      0.      0.     ...  0.      0.      0.    ]\n",
      "   ...\n",
      "   [18.      0.      0.     ...  0.      0.      0.    ]\n",
      "   [21.6875  0.      0.     ...  0.      0.      0.    ]\n",
      "   [10.0625  0.      0.     ...  0.      0.      0.    ]]\n",
      "\n",
      "  ...\n",
      "\n",
      "  [[ 0.      0.      0.     ...  0.      0.      0.    ]\n",
      "   [ 0.      0.      0.     ...  0.      0.      0.    ]\n",
      "   [ 0.      0.      0.     ...  0.      0.      0.    ]\n",
      "   ...\n",
      "   [ 0.      0.      0.     ...  0.      0.      0.    ]\n",
      "   [ 0.0625  0.      0.     ...  0.      0.      0.    ]\n",
      "   [ 0.125   0.      0.     ...  0.      0.      0.    ]]\n",
      "\n",
      "  [[ 0.      0.      0.     ...  0.      0.      0.    ]\n",
      "   [ 0.      0.      0.     ...  0.      0.      0.    ]\n",
      "   [ 0.      0.      0.     ...  0.      0.      0.    ]\n",
      "   ...\n",
      "   [ 0.      0.      0.     ...  0.      0.      0.    ]\n",
      "   [ 0.      0.      0.     ...  0.      0.      0.    ]\n",
      "   [ 0.      0.      0.     ...  0.      0.      0.    ]]\n",
      "\n",
      "  [[ 0.      0.      0.     ...  0.      0.      0.    ]\n",
      "   [ 0.      0.      0.     ...  0.      0.      0.    ]\n",
      "   [ 0.      0.      0.     ...  0.      0.      0.    ]\n",
      "   ...\n",
      "   [ 0.      0.      0.     ...  0.      0.      0.    ]\n",
      "   [ 0.      0.      0.     ...  0.      0.      0.    ]\n",
      "   [ 0.      0.      0.     ...  0.      0.      0.    ]]]]\n"
     ]
    }
   ],
   "source": [
    "print(X)\n",
    "# print(meta)"
   ]
  },
  {
   "cell_type": "code",
   "execution_count": 23,
   "metadata": {},
   "outputs": [],
   "source": [
    "\n",
    "# fig, ax = plt.subplots(subplot_kw={'projection': ccrs.PlateCarree()})\n",
    "# c = ax.contourf(lons,lats, transform=ccrs.PlateCarree())\n",
    "# ax.add_feature(cfeature.COASTLINE,linewidth=0.5)\n",
    "# ax.add_feature(cfeature.LAND, zorder=100,color='black',alpha=0.1)\n",
    "# import plotly.express as px\n",
    "\n",
    "# fig = px.density_contour(tracks, x=\"lon\", y=\"lat\")\n",
    "# fig.update_traces(contours_coloring=\"fill\", contours_showlabels = True)\n",
    "# fig.show()"
   ]
  },
  {
   "cell_type": "code",
   "execution_count": 4,
   "metadata": {},
   "outputs": [],
   "source": [
    "top = np.load('/user/home/al18709/work/tc_data_flipped/extreme_valid_y.npy')\n",
    "what = np.load('/user/home/al18709/work/tc_data_flipped/extreme_valid_X.npy')"
   ]
  },
  {
   "cell_type": "code",
   "execution_count": 7,
   "metadata": {},
   "outputs": [
    {
     "name": "stdout",
     "output_type": "stream",
     "text": [
      "(5425, 10, 10)\n"
     ]
    }
   ],
   "source": [
    "print(what.shape)"
   ]
  },
  {
   "cell_type": "code",
   "execution_count": 41,
   "metadata": {},
   "outputs": [],
   "source": [
    "a = np.load('/user/work/al18709/tc_data_flipped/KE_tracks/extreme_test_X.npy')\n",
    "b = np.load('/user/work/al18709/tc_data_flipped/KE_tracks/extreme_test_y.npy')"
   ]
  },
  {
   "cell_type": "code",
   "execution_count": 42,
   "metadata": {},
   "outputs": [
    {
     "name": "stdout",
     "output_type": "stream",
     "text": [
      "(5217, 6)\n",
      "(5217, 100, 100)\n"
     ]
    }
   ],
   "source": [
    "print(a.shape)\n",
    "print(b.shape)"
   ]
  },
  {
   "cell_type": "code",
   "execution_count": 39,
   "metadata": {},
   "outputs": [],
   "source": [
    "# top = np.load('/user/home/al18709/work/tc_data_flipped_t/valid_y.npy')\n",
    "# what = np.load('/user/home/al18709/work/tc_data_flipped_t/valid_X.npy')"
   ]
  },
  {
   "cell_type": "code",
   "execution_count": 44,
   "metadata": {},
   "outputs": [
    {
     "name": "stdout",
     "output_type": "stream",
     "text": [
      "(5217, 100, 100)\n",
      "(5217, 10, 10)\n"
     ]
    }
   ],
   "source": [
    "print(top.shape)\n",
    "print(what.shape)"
   ]
  },
  {
   "cell_type": "code",
   "execution_count": 37,
   "metadata": {},
   "outputs": [
    {
     "data": {
      "text/plain": [
       "<matplotlib.image.AxesImage at 0x7f98d98f9290>"
      ]
     },
     "execution_count": 37,
     "metadata": {},
     "output_type": "execute_result"
    },
    {
     "data": {
      "image/png": "[encoded data removed]",
      "text/plain": [
       "<Figure size 640x480 with 1 Axes>"
      ]
     },
     "metadata": {},
     "output_type": "display_data"
    }
   ],
   "source": [
    "plt.imshow(what[0,:,:])"
   ]
  },
  {
   "cell_type": "code",
   "execution_count": 7,
   "metadata": {},
   "outputs": [],
   "source": [
    "# accumulated cyclone energy"
   ]
  },
  {
   "cell_type": "code",
   "execution_count": null,
   "metadata": {},
   "outputs": [],
   "source": [
    "# Seasonal frequency by basin"
   ]
  }
 ],
 "metadata": {
  "kernelspec": {
   "display_name": "aquatic",
   "language": "python",
   "name": "python3"
  },
  "language_info": {
   "codemirror_mode": {
    "name": "ipython",
    "version": 3
   },
   "file_extension": ".py",
   "mimetype": "text/x-python",
   "name": "python",
   "nbconvert_exporter": "python",
   "pygments_lexer": "ipython3",
   "version": "3.11.0"
  },
  "orig_nbformat": 4,
  "vscode": {
   "interpreter": {
    "hash": "8db171c8f47d96480481440150066e8900ebba8c84179e1231657aa1548891ff"
   }
  }
 },
 "nbformat": 4,
 "nbformat_minor": 2
}
