{
 "cells": [
  {
   "cell_type": "code",
   "execution_count": null,
   "metadata": {},
   "outputs": [],
   "source": [
    "\"\"\"\n",
    "This will create a global grid of the approximate size of each grid square.\n",
    "\"\"\"\n",
    "import numpy as np\n",
    "import xarray as xr\n",
    "import matplotlib.pyplot as plt\n",
    "import math\n",
    "import rasterio as rs"
   ]
  },
  {
   "cell_type": "code",
   "execution_count": null,
   "metadata": {},
   "outputs": [],
   "source": [
    "def create_xarray(lats,lons,data):\n",
    "\n",
    "\tds = xr.Dataset(\n",
    "\t\t\tdata_vars=dict(\n",
    "\t\t\t\t\tpopulation=([\"lat\", \"lon\"], data)),  \n",
    "\t\t\tcoords=dict(\n",
    "\t\t\t\t\tlon=(\"lon\", lons),\n",
    "\t\t\t\t\tlat=(\"lat\", lats),\n",
    "\t\t\t))\n",
    "\tds.lat.attrs['units'] = \"degrees_north\"\n",
    "\tds.lon.attrs['units'] = \"degrees_east\"\n",
    "\tds.population.assign_attrs(units=\"count\")\n",
    "\treturn ds"
   ]
  },
  {
   "cell_type": "code",
   "execution_count": null,
   "metadata": {},
   "outputs": [],
   "source": [
    "tif1 = '/user/home/al18709/work/population/ppp_2020_1km_Aggregated.tif'\n",
    "tif2 = '/user/home/al18709/work/population/SSP2_2085.tif'\n",
    "\n",
    "dataset1 = rs.open(tif1)\n",
    "pop1 = dataset1.read(1)\n",
    "\n",
    "dataset2 = rs.open(tif2)\n",
    "pop2 = dataset2.read(1)"
   ]
  },
  {
   "cell_type": "code",
   "execution_count": null,
   "metadata": {},
   "outputs": [],
   "source": [
    "print(pop1.shape)"
   ]
  },
  {
   "cell_type": "code",
   "execution_count": null,
   "metadata": {},
   "outputs": [],
   "source": [
    "plt.imshow(pop1)"
   ]
  },
  {
   "cell_type": "code",
   "execution_count": null,
   "metadata": {},
   "outputs": [],
   "source": [
    "print(pop1)"
   ]
  },
  {
   "cell_type": "code",
   "execution_count": null,
   "metadata": {},
   "outputs": [],
   "source": []
  },
  {
   "cell_type": "code",
   "execution_count": null,
   "metadata": {},
   "outputs": [],
   "source": [
    "msk = dataset2.read_masks(1)\n",
    "print(dataset2.nodata)\n",
    "msk1 = dataset1.read_masks(1)\n",
    "# print(dataset2.read())\n",
    "print(np.sum(msk == 1))\n",
    "print(np.sum(msk1 == 1))"
   ]
  },
  {
   "cell_type": "code",
   "execution_count": null,
   "metadata": {},
   "outputs": [],
   "source": [
    "print(pop1.shape)\n",
    "print(pop2.shape)"
   ]
  },
  {
   "cell_type": "code",
   "execution_count": null,
   "metadata": {},
   "outputs": [],
   "source": [
    "population_1km_file = '/user/home/al18709/work/population/SSP2_2085.nc'\n",
    "population_10km_file = '/user/home/al18709/work/population/SSP2_2085_10km.nc'\n",
    "\n",
    "population_1km = xr.open_dataset(population_1km_file)\n",
    "population_10km = xr.open_dataset(population_10km_file)"
   ]
  },
  {
   "cell_type": "code",
   "execution_count": null,
   "metadata": {},
   "outputs": [],
   "source": [
    "lats = population_1km.Band1.lat.values\n",
    "lons = population_1km.Band1.lon.values"
   ]
  },
  {
   "cell_type": "code",
   "execution_count": null,
   "metadata": {},
   "outputs": [],
   "source": [
    "pop_2020 = create_xarray(lats,lons,pop1)\n",
    "pop_2085 = create_xarray(lats,lons,pop2)"
   ]
  },
  {
   "cell_type": "code",
   "execution_count": null,
   "metadata": {},
   "outputs": [],
   "source": [
    "pop_2020.to_netcdf('/user/home/al18709/work/population/ppp_2020_1km_Aggregated_final.nc',format='netCDF4')\n",
    "\n",
    "pop_2085.to_netcdf('/user/home/al18709/work/population/SSP2_2085_final.nc',format='netCDF4')"
   ]
  },
  {
   "cell_type": "code",
   "execution_count": null,
   "metadata": {},
   "outputs": [],
   "source": [
    "population_1km_file = '/user/home/al18709/work/population/ppp_2020_1km_Aggregated_final.nc'\n",
    "population_10km_file = '/user/home/al18709/work/population/ppp_2020_10km_Aggregated_final.nc'\n",
    "\n",
    "population_1km = xr.open_dataset(population_1km_file)\n",
    "population_10km = xr.open_dataset(population_10km_file)"
   ]
  },
  {
   "cell_type": "code",
   "execution_count": null,
   "metadata": {},
   "outputs": [],
   "source": [
    "population_1km.population.values[population_1km.population.values <= -3.4028235e+37] = 0\n",
    "population_10km.population.values[population_10km.population.values <= -3.4028235e+37] = 0"
   ]
  },
  {
   "cell_type": "code",
   "execution_count": null,
   "metadata": {},
   "outputs": [],
   "source": [
    "lats_1km = population_1km.lat\n",
    "lons_1km = population_1km.lon\n",
    "\n",
    "lats_10km = population_10km.lat\n",
    "lons_10km = population_10km.lon"
   ]
  },
  {
   "cell_type": "code",
   "execution_count": null,
   "metadata": {},
   "outputs": [],
   "source": [
    "area_1km = np.abs(lats_1km[0] - lats_1km[1]) * np.abs(lons_1km[0] - lons_1km[1])\n",
    "\n",
    "area_10km = np.abs(lats_10km[0] - lats_10km[1]) * np.abs(lons_10km[0] - lons_10km[1])"
   ]
  },
  {
   "cell_type": "code",
   "execution_count": null,
   "metadata": {},
   "outputs": [],
   "source": [
    "print(area_1km)\n",
    "print(area_10km)\n",
    "print(area_10km / area_1km)"
   ]
  },
  {
   "cell_type": "code",
   "execution_count": null,
   "metadata": {},
   "outputs": [],
   "source": [
    "print(np.sum(population_1km.population.values !=0))\n",
    "print(np.sum(population_10km.population.values !=0))"
   ]
  },
  {
   "cell_type": "code",
   "execution_count": null,
   "metadata": {},
   "outputs": [],
   "source": [
    "pop_total_1km = np.sum(population_1km.population.values)\n",
    "pop_total_10km = np.sum(population_10km.population.values)\n",
    "pop_total_10km_corrected = pop_total_10km * 144\n",
    "\n",
    "print(pop_total_1km / pop_total_10km)\n",
    "print(pop_total_10km * 144)\n",
    "print(pop_total_1km)\n",
    "\n",
    "print(pop_total_10km * 144 / pop_total_1km * 100 - 100)"
   ]
  },
  {
   "cell_type": "code",
   "execution_count": null,
   "metadata": {},
   "outputs": [],
   "source": []
  }
 ],
 "metadata": {
  "kernelspec": {
   "display_name": "jungle",
   "language": "python",
   "name": "python3"
  },
  "language_info": {
   "codemirror_mode": {
    "name": "ipython",
    "version": 3
   },
   "file_extension": ".py",
   "mimetype": "text/x-python",
   "name": "python",
   "nbconvert_exporter": "python",
   "pygments_lexer": "ipython3",
   "version": "3.11.0"
  },
  "orig_nbformat": 4
 },
 "nbformat": 4,
 "nbformat_minor": 2
}
