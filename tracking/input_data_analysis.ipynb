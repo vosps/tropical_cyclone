{
 "cells": [
  {
   "cell_type": "code",
   "execution_count": 2,
   "metadata": {},
   "outputs": [],
   "source": [
    "import xarray as xr\n",
    "import glob\n",
    "import numpy as np\n",
    "import pandas as pd\n",
    "import matplotlib.pyplot as plt\n",
    "from utils.data import load_tc_data\n",
    "from utils.plot import make_cmap"
   ]
  },
  {
   "cell_type": "code",
   "execution_count": null,
   "metadata": {},
   "outputs": [],
   "source": [
    "# Load data\n",
    "\n",
    "# load data\n",
    "real,inputs,pred,meta = load_tc_data(set='validation',results='ke_tracks')\n",
    "real_2,inputs_2,pred_2,meta_2,inputs_og,pred_og,meta_og = load_tc_data(set='validation',results='kh_tracks')\n",
    "meta_og = pd.read_csv('/user/work/al18709/tc_data_mswep_40/valid_meta.csv')\n",
    "meta_valid = pd.read_csv('/user/work/al18709/tc_data_flipped/valid_meta.csv')"
   ]
  },
  {
   "cell_type": "code",
   "execution_count": null,
   "metadata": {},
   "outputs": [],
   "source": [
    "i = 100 # good pattern on ERA5 data but no elevation\n",
    "i = 25547\n",
    "print(meta['centre_lat'][i])\n",
    "print(meta['centre_lon'][i])\n",
    "print(meta_t['centre_lat'][i])\n",
    "print(meta_t['centre_lon'][i])\n",
    "print(meta_u200['centre_lat'][i])\n",
    "print(meta_u200['centre_lon'][i])\n",
    "print(meta['sid'][i])\n",
    "\n",
    "# print(meta)\n",
    "# print(meta_t)\n",
    "\n",
    "fig, axes = plt.subplots(2, 4, figsize=(14, 7), sharey=False)\n",
    "\n",
    "axes[0,0].imshow(y_mswep[i,:,:],origin='lower')\n",
    "axes[0,0].set_title('total rainfall')\n",
    "axes[0,0].set(xticklabels=[],yticklabels=[])\n",
    "\n",
    "axes[1,0].imshow(X_q[i,:,:],origin='lower')\n",
    "axes[1,0].set_title('specific humidity 925')\n",
    "axes[1,0].set(xticklabels=[],yticklabels=[])\n",
    "\n",
    "im = axes[0,1].imshow(X_u200[i,:,:],origin='lower')\n",
    "axes[0,1].set_title('U component of wind 200 hPa')\n",
    "axes[0,1].set(xticklabels=[],yticklabels=[])\n",
    "# cb = fig.colorbar(im)\n",
    "\n",
    "axes[0,2].imshow(X_v200[i,:,:],origin='lower')\n",
    "axes[0,2].set_title('V component of wind 200 hPa')\n",
    "axes[0,2].set(xticklabels=[],yticklabels=[])\n",
    "\n",
    "axes[1,1].imshow(X_u850[i,:,:],origin='lower')\n",
    "axes[1,1].set_title('U component of wind 850 hPa')\n",
    "axes[1,1].set(xticklabels=[],yticklabels=[])\n",
    "\n",
    "axes[1,2].imshow(X_v850[i,:,:],origin='lower')\n",
    "axes[1,2].set_title('V component of wind 850 hPa')\n",
    "axes[1,2].set(xticklabels=[],yticklabels=[])\n",
    "\n",
    "axes[0,3].imshow(X_mslp[i,:,:],origin='lower')\n",
    "axes[0,3].set_title('min sea level pressure')\n",
    "axes[0,3].set(xticklabels=[],yticklabels=[])\n",
    "\n",
    "axes[1,3].imshow(X_t[i,:,:],origin='lower',cmap = 'RdYlBu')\n",
    "axes[1,3].set_title('elevation')\n",
    "axes[1,3].set(xticklabels=[],yticklabels=[])"
   ]
  }
 ],
 "metadata": {
  "kernelspec": {
   "display_name": "Aquatic (work)",
   "language": "python",
   "name": "aquatic"
  },
  "language_info": {
   "codemirror_mode": {
    "name": "ipython",
    "version": 3
   },
   "file_extension": ".py",
   "mimetype": "text/x-python",
   "name": "python",
   "nbconvert_exporter": "python",
   "pygments_lexer": "ipython3",
   "version": "3.7.12"
  },
  "orig_nbformat": 4
 },
 "nbformat": 4,
 "nbformat_minor": 2
}
