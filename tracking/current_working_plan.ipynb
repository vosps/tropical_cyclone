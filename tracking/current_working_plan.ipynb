{
 "cells": [
  {
   "cell_type": "code",
   "execution_count": 1,
   "metadata": {},
   "outputs": [],
   "source": [
    "from IPython.display import Image\n"
   ]
  },
  {
   "attachments": {},
   "cell_type": "markdown",
   "metadata": {},
   "source": [
    "# Chapter 2 working figures"
   ]
  },
  {
   "attachments": {},
   "cell_type": "markdown",
   "metadata": {},
   "source": [
    "The general storyline for this chapter should go as follows: \n",
    "\n",
    "Adding more variables works well - look at accumulated rainfall over land\n",
    "\n",
    "Applying this to future risk requires this model to work with GCM data - talk about tracking algorithms and rainfall\n",
    "\n",
    "Using tracking algorithms means we can't rely on rainfall so we have to train without - show results with and without\n",
    "\n",
    "Bias correction step\n",
    "\n",
    "results on historical run"
   ]
  },
  {
   "attachments": {},
   "cell_type": "markdown",
   "metadata": {},
   "source": [
    "<center>\n",
    "<img src=\"figures/track_density/miroc_track_density.png\" width=\"600px\">\n",
    "\n",
    "**Figure 1:** KE track data. Need to expand on this initial figure to show KH tracks also\n",
    "\n",
    "</center>\n"
   ]
  },
  {
   "attachments": {},
   "cell_type": "markdown",
   "metadata": {},
   "source": [
    "<center>\n",
    "<img src=\"2d_input_variables5.png\" width=\"800px\">\n",
    "\n",
    "**Figure 2:** 2D data variable inputs from ERA5\n",
    "\n",
    "</center>\n"
   ]
  },
  {
   "attachments": {},
   "cell_type": "markdown",
   "metadata": {},
   "source": [
    "\n",
    "<center>\n",
    "<img src=\"miroc_vs_era5_2.png\" width=\"600px\">\n",
    "<img src=\"miroc_vs_era5_2_corrected_subsample.png\" width=\"600px\">\n",
    "<img src=\"miroc_vs_era5_2_corrected_qm.png\" width=\"600px\">\n",
    "\n",
    "\n",
    "**Figure 3:** 1D input variables and biases. This could be combined with a bias correction figure. \n",
    "I subsampled using the propensity score matching method. This works by first training a logistic regression model on input from the target distribution - i.e. ERA% - (labelled with 1s) and the initial distribution - i.e. miroc 6 - labelled with 0s. The logistic regression model then returns a set of probabilities for the liklihood that values in the initial distribution belong to the target distribution. These act as the propensity scores. I then used a nearest neighbour model to select the indices in the initial distribution to sample to obtain a distribution matching the target. I did this using the latitude and longitude variables.\n",
    "These results show that the biases in the models are not due to tracking biases and therefore we can bias correct these fields using quantile mapping.\n",
    "\n",
    "</center>\n"
   ]
  },
  {
   "attachments": {},
   "cell_type": "markdown",
   "metadata": {},
   "source": [
    "<center>\n",
    "<img src=\"figure_1_new_new.png\" width=\"400px\">\n",
    "\n",
    "**Figure 4:** Model predictions\n",
    "\n",
    "</center>\n",
    "\n"
   ]
  },
  {
   "attachments": {},
   "cell_type": "markdown",
   "metadata": {},
   "source": [
    "<center>\n",
    "<img src=\"figure5-power_spectra-ke_tracks_2.png\" width=\"400px\">\n",
    "\n",
    "**Figure 5:** Power Spectra\n",
    "\n",
    "</center>\n"
   ]
  },
  {
   "attachments": {},
   "cell_type": "markdown",
   "metadata": {},
   "source": [
    "<center>\n",
    "<img src=\"qq_plot_Total_test_new_3.png\" width=\"400px\">\n",
    "\n",
    "**Figure 5:** QQ plot\n",
    "\n",
    "</center>\n"
   ]
  },
  {
   "attachments": {},
   "cell_type": "markdown",
   "metadata": {},
   "source": [
    "<center>\n",
    "<img src=\"figure\" width=\"400px\">\n",
    "\n",
    "**Figure 6:** Probably needs to be the bias correction results\n",
    "\n",
    "</center>\n"
   ]
  },
  {
   "attachments": {},
   "cell_type": "markdown",
   "metadata": {},
   "source": [
    "<center>\n",
    "<img src=\"figure\" width=\"400px\">\n",
    "\n",
    "**Figure 7:** Probably needs to be historical run results\n",
    "\n",
    "</center>"
   ]
  },
  {
   "attachments": {},
   "cell_type": "markdown",
   "metadata": {},
   "source": [
    "<center>\n",
    "<img src=\"figure\" width=\"400px\">\n",
    "\n",
    "**Figure 8:** Probably needs to be false alarm rate/accumulated rainfall/fun result\n",
    "\n",
    "</center>"
   ]
  },
  {
   "cell_type": "markdown",
   "metadata": {},
   "source": []
  }
 ],
 "metadata": {
  "kernelspec": {
   "display_name": "Aquatic (work)",
   "language": "python",
   "name": "aquatic"
  },
  "language_info": {
   "codemirror_mode": {
    "name": "ipython",
    "version": 3
   },
   "file_extension": ".py",
   "mimetype": "text/x-python",
   "name": "python",
   "nbconvert_exporter": "python",
   "pygments_lexer": "ipython3",
   "version": "3.7.12 | packaged by conda-forge | (default, Oct 26 2021, 06:08:21) \n[GCC 9.4.0]"
  },
  "orig_nbformat": 4
 },
 "nbformat": 4,
 "nbformat_minor": 2
}
