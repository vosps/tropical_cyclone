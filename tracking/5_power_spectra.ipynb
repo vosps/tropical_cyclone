{
 "cells": [
  {
   "cell_type": "markdown",
   "metadata": {},
   "source": [
    "### Figure 5: Power Spectra at each wave number"
   ]
  },
  {
   "cell_type": "code",
   "execution_count": null,
   "metadata": {},
   "outputs": [],
   "source": [
    "import numpy as np\n",
    "# from esda.moran import Moran,Moran_Local\n",
    "# from libpysal.weights import lat2W\n",
    "import seaborn as sns\n",
    "import pandas as pd\n",
    "import matplotlib.pyplot as plt\n",
    "# import properscoring as ps\n",
    "import warnings\n",
    "from scipy import stats\n",
    "import scipy.stats as stats\n",
    "from scipy import interpolate\n",
    "# from utils.evaluation import plot_histogram,calc_peak,calc_mean\n",
    "# https://bertvandenbroucke.netlify.app/2019/05/24/computing-a-power-spectrum-in-python/\n",
    "from sklearn.metrics import mean_squared_error\n",
    "from math import sqrt\n",
    "from utils.data import load_tc_data\n",
    "# import xesmf as xe\n",
    "warnings.filterwarnings(\"ignore\")\n",
    "# sns.set_style(\"white\")\n",
    "sns.set_palette(sns.color_palette(\"Paired\"))\n",
    "\n",
    "# TODO: plot all ensemble members individually"
   ]
  },
  {
   "cell_type": "code",
   "execution_count": null,
   "metadata": {},
   "outputs": [],
   "source": [
    "def power_spectrum_dB(img):\n",
    "\tfx = np.fft.fft2(img)\n",
    "\tfx = fx[:img.shape[0]//2, :img.shape[1]//2] # disgard half of it because you can derive one half from the other?\n",
    "\tpx = abs(fx)**2 # get the size of the amplitudes\n",
    "\treturn 10 * np.log10(px) # is this the rainfall normalisation step?\n",
    "\n",
    "def power_spectrum_dB_2(img):\n",
    "\tfx = np.fft.fft2(img)\n",
    "\t# fx = fx[:img.shape[0]//2, :img.shape[1]//2] # disgard half of it because you can derive one half from the other?\n",
    "\tpx = abs(fx)**2 # get the size of the amplitudes\n",
    "\treturn px\n",
    "\n",
    "def log_spectral_batch(batch1):\n",
    "\tlsd_batch = []\n",
    "\tfor i in range(batch1.shape[0]):\n",
    "\t\tlsd = power_spectrum_dB_2(\n",
    "\t\t\t\tbatch1[i, :, :])\n",
    "\t\tlsd_batch.append(lsd)\n",
    "\treturn np.array(lsd_batch)"
   ]
  },
  {
   "cell_type": "code",
   "execution_count": null,
   "metadata": {},
   "outputs": [],
   "source": [
    "model = ''\n",
    "# set mode\n",
    "mode = 'validation'\n",
    "\n",
    "# load datasets\n",
    "real,inputs,pred,meta = load_tc_data(set='validation',results='ke_tracks')\n",
    "real_2,inputs_2,pred_2,meta_2,inputs_og,pred_og,meta_og = load_tc_data(set='validation',results='kh_tracks')\n",
    "modular_pred_2 = np.load('/user/home/al18709/work/gan_predictions_20/modular_part2_pred-opt_modular_test.npy')\n",
    "meta_og = pd.read_csv('/user/work/al18709/tc_data_mswep_40/valid_meta.csv')\n",
    "meta_valid = pd.read_csv('/user/work/al18709/tc_data_flipped/valid_meta.csv')\n",
    "print(pred.shape)\n",
    "print(inputs.shape)\n",
    "print(real.shape)\n"
   ]
  },
  {
   "cell_type": "code",
   "execution_count": null,
   "metadata": {},
   "outputs": [],
   "source": [
    "lsb_real = log_spectral_batch(real[:,:,:,0])\n",
    "lsb_gan = log_spectral_batch(pred[:,:,:,0])\n",
    "lsb_modular = log_spectral_batch(modular_pred_2[:,:,:,0])\n",
    "# lsb_gan2 = log_spectral_batch(pred_2[:,:,:,0])\n",
    "lsb_ganog = log_spectral_batch(pred_og[:,:,:,0])\n",
    "print(lsb_real[0])\n"
   ]
  },
  {
   "cell_type": "code",
   "execution_count": null,
   "metadata": {},
   "outputs": [],
   "source": [
    "def plot_power_spectrum(spectral_density,plot=True):\n",
    "    \"\"\"\n",
    "    spectral density should probably be a 100x100 image\n",
    "    \"\"\"\n",
    "\t# https://bertvandenbroucke.netlify.app/2019/05/24/computing-a-power-spectrum-in-python/\n",
    "    npix=100\n",
    "\n",
    "    # return a one dimensional array containing the wave vectors for the numpy.fft.fftn call, in the correct order.\n",
    "    kfreq = np.fft.fftfreq(npix) * npix\n",
    "    \n",
    "    # convert this to a two dimensional array matching the layout of the two dimensional Fourier image, we can use numpy.meshgrid\n",
    "    kfreq2D = np.meshgrid(kfreq, kfreq)\n",
    "    \n",
    "    # Finally, we are not really interested in the actual wave vectors, but rather in their norm\n",
    "    knrm = np.sqrt(kfreq2D[0]**2 + kfreq2D[1]**2)\n",
    "\n",
    "    # we no longer need the wave vector norms or Fourier image to be laid out as a two dimensional array, so we will flatten them\n",
    "    knrm = knrm.flatten()\n",
    "    fourier_amplitudes = spectral_density\n",
    "    fourier_amplitudes = fourier_amplitudes.flatten()\n",
    "\n",
    "    # bin the amplitudes in k space, we need to set up wave number bins\n",
    "    # Note that the maximum wave number will equal half the pixel size of the image. \n",
    "    # This is because half of the Fourier frequencies can be mapped back to negative wave\n",
    "    #  numbers that have the same norm as their positive counterpart.\n",
    "    kbins = np.arange(0.5, npix//2+1, 1.)\n",
    "\n",
    "    # The kbin array will contain the start and end points of all bins; the corresponding k values are the midpoints of these bins\n",
    "    kvals = 0.5 * (kbins[1:] + kbins[:-1])\n",
    "\n",
    "    # To compute the average Fourier amplitude (squared) in each bin, we can use scipy.stats\n",
    "    Abins, _, _ = stats.binned_statistic(knrm, fourier_amplitudes,\n",
    "                                        statistic = \"mean\",\n",
    "                                        bins = kbins)\n",
    "\n",
    "    # Remember that we want the total variance within each bin. Right now, we only have the average power. To get the total power, we need to multiply with the volume in each bin (in 2D, this volume is actually a surface area)\n",
    "    Abins *= np.pi * (kbins[1:]**2 - kbins[:-1]**2)\n",
    "\n",
    "    if plot == True:\n",
    "        plt.loglog(kvals, Abins)\n",
    "        plt.show\n",
    "    else:\n",
    "        return kvals,Abins\n",
    "    "
   ]
  },
  {
   "cell_type": "code",
   "execution_count": null,
   "metadata": {},
   "outputs": [],
   "source": [
    "\n",
    "def calc_power(lsb_pred):\n",
    "\tkvals_list = []\n",
    "\tAbins_list = []\n",
    "\n",
    "\tfor lsb in lsb_pred:\n",
    "\t\tkvals,Abins = plot_power_spectrum(lsb,plot=False)\n",
    "\t\tkvals_list.append(kvals)\n",
    "\t\tAbins_list.append(Abins)\n",
    "\n",
    "\tkvals = np.array(kvals_list)\n",
    "\tAbins = np.array(Abins_list)\n",
    "\treturn kvals,Abins\n"
   ]
  },
  {
   "cell_type": "code",
   "execution_count": null,
   "metadata": {},
   "outputs": [],
   "source": [
    "kvals_real,Abins_real = calc_power(lsb_real)\n",
    "kvals_gan,Abins_gan = calc_power(lsb_gan)\n",
    "kvals_modular,Abins_modular = calc_power(lsb_modular)\n",
    "# kvals_gan2,Abins_gan2 = calc_power(lsb_gan2)\n",
    "kvals_ganog,Abins_ganog = calc_power(lsb_ganog)"
   ]
  },
  {
   "cell_type": "code",
   "execution_count": null,
   "metadata": {},
   "outputs": [],
   "source": [
    "\n",
    "def mean_power(kvals,Abins):\n",
    "\n",
    "\txnew = np.sort(kvals.flatten())\n",
    "\tY = np.zeros((Abins.shape[0],len(xnew)))\n",
    "\tfor i,y in enumerate(Abins):\n",
    "\t\tx = kvals[i]\t\n",
    "\t\tf = interpolate.interp1d(x, y,bounds_error=False)\n",
    "\t\tynew = f(xnew)\n",
    "\t\tprint(ynew.shape)\n",
    "\t\tprint('xnew shape',xnew.shape)\n",
    "\t\tY[i] = ynew\n",
    "\tprint(xnew.shape)\n",
    "\tprint(Y.shape)\n",
    "\t# split up to process the mean\n",
    "\tY_mean_1 = np.nanmean(Y[0:5000],axis=0)\n",
    "\tY_mean_2 = np.nanmean(Y[5000:10000],axis=0)\n",
    "\tY_mean_3 = np.nanmean(Y[10000:],axis=0)\n",
    "\tY_mean = np.nanmean([Y_mean_1,Y_mean_2,Y_mean_3],axis=0)\n",
    "\tprint(Y_mean.shape)\n",
    "\t# kvals = x, Abins = Y_mean\n",
    "\treturn(xnew,Y_mean)\n"
   ]
  },
  {
   "cell_type": "code",
   "execution_count": null,
   "metadata": {},
   "outputs": [],
   "source": [
    "# plt.plot(xnew,Y_mean)\n",
    "# k,p_k = mean_power(kvals,Abins)\n",
    "# TODO: this takes way too long\n",
    "print(kvals_real[0])\n",
    "print(kvals_real[1])\n",
    "k_real,p_k_real = kvals_real[0],np.mean(Abins_real,axis=0)\n",
    "k_gan,p_k_gan = kvals_gan[0],np.mean(Abins_gan,axis=0)\n",
    "k_modular,p_k_modular = kvals_modular[0],np.mean(Abins_modular,axis=0)\n",
    "K_gan2,p_k_gan2 = kvals_gan2[0],np.mean(Abins_gan2,axis=0)\n",
    "K_ganog,p_k_ganog = kvals_ganog[0],np.mean(Abins_ganog,axis=0)\n"
   ]
  },
  {
   "cell_type": "code",
   "execution_count": null,
   "metadata": {},
   "outputs": [],
   "source": [
    "k_gan_ensemble = np.zeros((20,50))\n",
    "p_k_gan_ensemble = np.zeros((20,50))\n",
    "for i in range(1):\n",
    "\tlsb_gan_i = log_spectral_batch(pred[:,:,:,i])\n",
    "\tkvals_gan_i,Abins_gan_i = calc_power(lsb_gan_i)\n",
    "\tk_gan,p_k_gan = kvals_gan[0],np.mean(Abins_gan,axis=0)\n",
    "\tk_gan_i,p_k_gan_i = kvals_gan[0],np.mean(Abins_gan_i,axis=0)\n",
    "\tk_gan_ensemble[i,:] = k_gan_i\n",
    "\tp_k_gan_ensemble[i,:] = p_k_gan_i\n"
   ]
  },
  {
   "cell_type": "code",
   "execution_count": null,
   "metadata": {},
   "outputs": [],
   "source": [
    "k_gan_min,p_k_gan_min = k_gan_ensemble[0],np.min(p_k_gan_ensemble,axis=0)\n",
    "k_gan_max,p_k_gan_max = k_gan_ensemble[0],np.max(p_k_gan_ensemble,axis=0)\n",
    "\n",
    "k_gan_ensemble,p_k_gan_ensemble = k_gan_ensemble[0],np.mean(p_k_gan_ensemble,axis=0)\n"
   ]
  },
  {
   "cell_type": "code",
   "execution_count": null,
   "metadata": {},
   "outputs": [],
   "source": [
    "# Most power is located at large scales - small wave numbers. Does this make sense? This would mean most of the \n",
    "# image is dominated by large structures i.e. the core?\n",
    "# Towards smaller scales (larger wave numbers) the power drops off suddenly and in a linear (but it is a log scale? I guess it is a \n",
    "# double log) fashion. This is an expression of the fractal nature of the TC: at lower resolutions the same types of patterns return, \n",
    "# but at increasingly lower signal. There is a huge spike in the power spectrum at a wave number of ~300, or a size scale of about 3 \n",
    "# pixels. This is the scale at which the smallest rainfall features at the edges of the large features manifest.\n",
    "fig, axes = plt.subplots(1, 1, figsize=(10, 10), sharey=False)\n",
    "plt.style.use('seaborn-ticks')\n",
    "plt.rcParams[\"figure.figsize\"] = (10,10)\n",
    "sns.set_context(\"notebook\")\n",
    "# print(k)\n",
    "# print(p_k)\n",
    "def change_units(x):\n",
    "\t# npix * 1/k gives the units of pixels on the x axis\n",
    "\t# then we multiply by 10 because each pixel is 10km, the whole image is 1000km across\n",
    "\t# return 1000/x\n",
    "\treturn x/1000\n",
    "\n",
    "plt.loglog(change_units(k_gan_ensemble),p_k_gan_ensemble,color='#219ebc')\n",
    "# plt.loglog(change_units(K_gan2),p_k_gan2,color='Green')\n",
    "plt.loglog(change_units(K_ganog),p_k_ganog,color='Pink')\n",
    "\n",
    "# plt.loglog(k_gan_ensemble[0],p_k_gan_ensemble[0],color='#219ebc')\n",
    "# plt.loglog(k_gan_ensemble[1],p_k_gan_ensemble[1],color='#219ebc')\n",
    "# plt.loglog(k_gan_ensemble[2],p_k_gan_ensemble[2],color='#219ebc')\n",
    "# plt.loglog(k_gan_ensemble[3],p_k_gan_ensemble[3],color='#219ebc')\n",
    "# plt.loglog(k_gan_ensemble[4],p_k_gan_ensemble[4],color='#219ebc')\n",
    "axes.text(-0.1, 1.05, 'a.', transform=axes.transAxes, size=28, weight='bold')\n",
    "plt.loglog(change_units(k_real),p_k_real,color='black')\n",
    "plt.xlabel(\"$k$ ($km^{-1}$)\",fontsize=30)\n",
    "plt.xlim([0,0.1])\n",
    "plt.xticks(fontsize=24)\n",
    "plt.yticks(fontsize=24)\n",
    "plt.ylabel(\"$P(k)$\",fontsize=30)\n",
    "plt.legend(['WGAN_1D','WGAN_OG','HR obs'],frameon=True,fontsize=18)\n",
    "# plt.fill_between(k_vaegan_ensemble, p_k_vaegan_min,p_k_vaegan_max,color='#57cc99',alpha=0.2)\n",
    "# plt.fill_between(k_gan_ensemble, p_k_gan_min,p_k_gan_max,color='#219ebc',alpha=0.2)\n",
    "plt.savefig('figure5-power_spectra-ke_tracks_24.png',bbox_inches='tight',dpi=600)\n",
    "# plt.show"
   ]
  },
  {
   "cell_type": "code",
   "execution_count": null,
   "metadata": {},
   "outputs": [],
   "source": [
    "# The unet and the hr_input images are blurrier than their real contourparts. We can see this in the power spectra graph as \n",
    "# the power spectra drops off when the wave numnber is around 2. The images lose details as we sample smaller pixel areas."
   ]
  },
  {
   "cell_type": "code",
   "execution_count": null,
   "metadata": {},
   "outputs": [],
   "source": [
    "print(p_k_gan_max)\n",
    "# print(p_k_gan_min)\n",
    "print(p_k_gan_ensemble)\n",
    "# print(p_k_gan_std)"
   ]
  },
  {
   "cell_type": "code",
   "execution_count": null,
   "metadata": {},
   "outputs": [],
   "source": [
    "# p_k_vaegan_std"
   ]
  },
  {
   "cell_type": "code",
   "execution_count": null,
   "metadata": {},
   "outputs": [],
   "source": []
  },
  {
   "cell_type": "code",
   "execution_count": null,
   "metadata": {},
   "outputs": [],
   "source": [
    "inputs_x_max = np.max(inputs_x,axis=(1,2))\n",
    "max_idx = list(np.argpartition(inputs_x_max, -100)[-100:])\n",
    "pred_vaegan_x = pred_vaegan_x[max_idx]\n",
    "pred_gan_x = pred_gan_x[max_idx]\n",
    "real_x = real_x[max_idx]\n",
    "pred_vaegan_ensemble_x = pred_vaegan_ensemble_x[max_idx]\n",
    "pred_gan_ensemble_x = pred_gan_ensemble_x[max_idx]\n",
    "inputs_hr_x = inputs_x_hr[max_idx]\n",
    "pred_cnn_x = pred_cnn_x[max_idx]"
   ]
  },
  {
   "cell_type": "code",
   "execution_count": null,
   "metadata": {},
   "outputs": [],
   "source": [
    "lsb_real = log_spectral_batch(real_x)\n",
    "lsb_gan = log_spectral_batch(pred_gan_x)\n",
    "lsb_vaegan = log_spectral_batch(pred_vaegan_x)\n",
    "lsb_unet = log_spectral_batch(pred_cnn_x)\n",
    "lsb_inputs = log_spectral_batch(inputs_x_hr)\n",
    "\n",
    "kvals_real,Abins_real = calc_power(lsb_real)\n",
    "kvals_gan,Abins_gan = calc_power(lsb_gan)\n",
    "kvals_vaegan,Abins_vaegan = calc_power(lsb_vaegan)\n",
    "kvals_unet,Abins_unet = calc_power(lsb_unet)\n",
    "kvals_inputs,Abins_inputs = calc_power(lsb_inputs)\n",
    "\n",
    "k_real,p_k_real = kvals_real[0],np.mean(Abins_real,axis=0)\n",
    "k_gan,p_k_gan = kvals_gan[0],np.mean(Abins_gan,axis=0)\n",
    "k_vaegan,p_k_vaegan = kvals_vaegan[0],np.mean(Abins_vaegan,axis=0)\n",
    "k_unet,p_k_unet = kvals_unet[0],np.mean(Abins_unet,axis=0)\n",
    "k_inputs,p_k_inputs = kvals_inputs[0],np.mean(Abins_inputs,axis=0)"
   ]
  },
  {
   "cell_type": "code",
   "execution_count": null,
   "metadata": {},
   "outputs": [],
   "source": [
    "k_gan_ensemble = np.zeros((20,50))\n",
    "k_vaegan_ensemble = np.zeros((20,50))\n",
    "p_k_gan_ensemble = np.zeros((20,50))\n",
    "p_k_vaegan_ensemble = np.zeros((20,50))\n",
    "for i in range(20):\n",
    "\tlsb_vaegan_i = log_spectral_batch(pred_vaegan_ensemble_x[:,:,:,i])\n",
    "\tlsb_gan_i = log_spectral_batch(pred_gan_ensemble_x[:,:,:,i])\n",
    "\tkvals_vaegan_i,Abins_vaegan_i = calc_power(lsb_vaegan_i)\n",
    "\tkvals_gan_i,Abins_gan_i = calc_power(lsb_gan_i)\n",
    "\tk_gan,p_k_gan = kvals_gan[0],np.mean(Abins_gan,axis=0)\n",
    "\tk_vaegan_i,p_k_vaegan_i = kvals_vaegan[0],np.mean(Abins_vaegan_i,axis=0)\n",
    "\tk_gan_i,p_k_gan_i = kvals_gan[0],np.mean(Abins_gan_i,axis=0)\n",
    "\tk_gan_ensemble[i,:] = k_gan_i\n",
    "\tp_k_gan_ensemble[i,:] = p_k_gan_i\n",
    "\tk_vaegan_ensemble[i,:] = k_vaegan_i\n",
    "\tp_k_vaegan_ensemble[i,:] = p_k_vaegan_i"
   ]
  },
  {
   "cell_type": "code",
   "execution_count": null,
   "metadata": {},
   "outputs": [],
   "source": [
    "k_vaegan_min,p_k_vaegan_min = k_vaegan_ensemble[0],np.min(p_k_vaegan_ensemble,axis=0)\n",
    "k_vaegan_max,p_k_vaegan_max = k_vaegan_ensemble[0],np.max(p_k_vaegan_ensemble,axis=0)\n",
    "k_gan_min,p_k_gan_min = k_gan_ensemble[0],np.min(p_k_gan_ensemble,axis=0)\n",
    "k_gan_max,p_k_gan_max = k_gan_ensemble[0],np.max(p_k_gan_ensemble,axis=0)\n",
    "\n",
    "k_vaegan_ensemble,p_k_vaegan_ensemble = k_vaegan_ensemble[0],np.mean(p_k_vaegan_ensemble,axis=0)\n",
    "k_gan_ensemble,p_k_gan_ensemble = k_gan_ensemble[0],np.mean(p_k_gan_ensemble,axis=0)"
   ]
  },
  {
   "cell_type": "code",
   "execution_count": null,
   "metadata": {},
   "outputs": [],
   "source": [
    "fig, axes = plt.subplots(1, 1, figsize=(10, 10), sharey=False)\n",
    "plt.style.use('seaborn-ticks')\n",
    "plt.rcParams[\"figure.figsize\"] = (10,10)\n",
    "sns.set_context(\"notebook\")\n",
    "# print(k)\n",
    "# print(p_k)\n",
    "plt.loglog(change_units(k_inputs),p_k_inputs,color='#e76f51')\n",
    "plt.loglog(change_units(k_unet),p_k_unet,color='#e9c46a')\n",
    "plt.loglog(change_units(k_vaegan_ensemble),p_k_vaegan_ensemble,color='#57cc99')\n",
    "plt.loglog(change_units(k_gan_ensemble),p_k_gan_ensemble,color='#219ebc')\n",
    "# plt.loglog(k_gan_ensemble[0],p_k_gan_ensemble[0],color='#219ebc')\n",
    "plt.loglog(change_units(k_real),p_k_real,color='black')\n",
    "axes.text(-0.1, 1.05, 'b.', transform=axes.transAxes, size=28, weight='bold')\n",
    "\n",
    "# plt.xlim([10,2000])\n",
    "# plt.xlabel(\"km ($1 / k$)\",fontsize=30)\n",
    "plt.xlabel(\"$k$ ($km^{-1}$)\",fontsize=30)\n",
    "plt.xlim([0,0.1])\n",
    "plt.xticks(fontsize=24)\n",
    "plt.yticks(fontsize=24)\n",
    "plt.ylabel(\"$P(k)$\",fontsize=30)\n",
    "plt.legend(['Bilinear','U-Net','VAEGAN','WGAN','HR obs'],frameon=True,fontsize=18)\n",
    "# plt.fill_between(k_vaegan_ensemble, p_k_vaegan_min,p_k_vaegan_max,color='#57cc99',alpha=0.2)\n",
    "# plt.fill_between(k_gan_ensemble, p_k_gan_min,p_k_gan_max,color='#219ebc',alpha=0.2)\n",
    "plt.savefig('figure5-power_spectra-test-extreme_new_5.png',bbox_inches='tight',dpi=600)"
   ]
  },
  {
   "cell_type": "code",
   "execution_count": null,
   "metadata": {},
   "outputs": [],
   "source": [
    "# print(change_units(k_inputs),p_k_inputs)\n",
    "# print(change_units(k_unet),p_k_unet)\n",
    "# print(change_units(k_vaegan_ensemble),p_k_vaegan_ensemble)\n",
    "# print(change_units(k_gan_ensemble),p_k_gan_ensemble)\n",
    "print(change_units(k_real),p_k_real)"
   ]
  },
  {
   "cell_type": "code",
   "execution_count": null,
   "metadata": {},
   "outputs": [],
   "source": []
  }
 ],
 "metadata": {
  "interpreter": {
   "hash": "8db171c8f47d96480481440150066e8900ebba8c84179e1231657aa1548891ff"
  },
  "kernelspec": {
   "display_name": "Python 3.7.12",
   "language": "python",
   "name": "python3"
  },
  "language_info": {
   "codemirror_mode": {
    "name": "ipython",
    "version": 3
   },
   "file_extension": ".py",
   "mimetype": "text/x-python",
   "name": "python",
   "nbconvert_exporter": "python",
   "pygments_lexer": "ipython3",
   "version": "3.7.12"
  },
  "orig_nbformat": 4
 },
 "nbformat": 4,
 "nbformat_minor": 2
}
