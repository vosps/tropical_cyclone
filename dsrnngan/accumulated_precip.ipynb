{
 "cells": [
  {
   "cell_type": "code",
   "execution_count": 1,
   "metadata": {},
   "outputs": [],
   "source": [
    "import numpy as np\n",
    "import seaborn as sns\n",
    "import matplotlib.pyplot as plt\n",
    "from matplotlib import colors\n",
    "from netCDF4 import Dataset\n",
    "import pandas as pd\n",
    "import properscoring as ps\n",
    "import cartopy.feature as cfeature\n",
    "import cartopy.crs as ccrs\n",
    "import warnings\n",
    "import xarray as xr\n",
    "from matplotlib import cm\n",
    "from utils.evaluation import plot_accumulated,find_landfalling_tcs,tc_region,create_xarray,get_storm_coords\n",
    "from utils.metrics import calculate_crps\n",
    "from global_land_mask import globe\n",
    "from scipy.interpolate import griddata\n",
    "# from utils.metrics import calculate_fid\n",
    "import xesmf as xe\n",
    "warnings.filterwarnings(\"ignore\")\n",
    "\n",
    "sns.set_style(\"white\")\n",
    "sns.set_palette(sns.color_palette(\"Paired\"))"
   ]
  },
  {
   "cell_type": "markdown",
   "metadata": {},
   "source": []
  },
  {
   "cell_type": "code",
   "execution_count": 8,
   "metadata": {},
   "outputs": [],
   "source": [
    "mode = 'validation'\n",
    "mode = 'extreme_valid'\n",
    "real = np.load('/user/home/al18709/work/dsrnngan_predictions/%s_real-opt.npy' % mode)[0][:,:,:,0]\n",
    "pred = np.load('/user/home/al18709/work/dsrnngan_predictions/%s_pred-opt.npy' % mode)[0][:,:,:,0]\n",
    "inputs = np.load('/user/home/al18709/work/dsrnngan_predictions/%s_input-opt.npy' % mode)[0][:,:,:,0]\n",
    "meta = pd.read_csv('/user/work/al18709/tc_data_mswep/extreme_valid_meta.csv')\n",
    "tcs = pd.read_csv('/user/work/al18709/ibtracks/tc_files.csv')"
   ]
  },
  {
   "cell_type": "code",
   "execution_count": 9,
   "metadata": {},
   "outputs": [
    {
     "name": "stdout",
     "output_type": "stream",
     "text": [
      "(2000, 100, 100)\n",
      "(5425, 5)\n"
     ]
    }
   ],
   "source": [
    "print(real.shape)\n",
    "print(meta.shape)"
   ]
  },
  {
   "cell_type": "code",
   "execution_count": 10,
   "metadata": {},
   "outputs": [
    {
     "name": "stdout",
     "output_type": "stream",
     "text": [
      "['1999151N09132', '2008252N16128', '2004061S12072', '1988308N09140', '2012296N06135', '1998232N15312', '1999260N20130', '2011192N18158', '2004239N11171', '1991338S08181', '1993253N06150', '2015211N13162', '2014068S16169', '2005192N22155', '2010070S15168', '2007274N18131', '2005268N19146', '1995348S15135', '1993224N07153', '1993258N11279', '2019243N06136', '2001309N10130', '1999318N17278', '1988253N12306', '1988307N09131', '1991226N18159', '1982202N11165', '1996079S12170', '1993252N11265', '2007297N18300', '1988055S10180', '1979275N06159', '1993240N17142', '1992289N08135', '2004219N15137', '1993360S04171', '2003061S21148', '1981158N17119', '2009164N10131', '1988295N10138', '1997062S16158', '1998259N10335', '1988006S05182', '2003359S15177', '2016256N12146', '2003011S09182', '2014275N06166', '1996260N19107', '2000230N08139', '1996289N13280', '1995271N19273', '1999253N17124', '2009268N14128']\n",
      "100\n"
     ]
    }
   ],
   "source": [
    "# get list of landfalling tcs\n",
    "landfall_sids = find_landfalling_tcs(meta)\n",
    "print(landfall_sids)\n",
    "# assign sid variable to list of sid indices correspoinnding to storm timesteps\n",
    "for sid in landfall_sids:\n",
    "\tindices = meta.sid[meta.sid == sid].index.tolist()\n",
    "\texec('sid_%s = indices' % sid)\n",
    "\n",
    "all_sids = list(dict.fromkeys(meta['sid']))\n",
    "print(len(all_sids)) # not sure all sids are being found in the metadata?"
   ]
  },
  {
   "cell_type": "code",
   "execution_count": 5,
   "metadata": {},
   "outputs": [],
   "source": [
    "# grab mswep coordinate variables\n",
    "fp = '/bp1store/geog-tropical/data/Obs/MSWEP/3hourly_invertlat/2000342.00.nc'\n",
    "d = Dataset(fp, 'r')\n",
    "lat = d.variables['lat'][:] #lat\n",
    "lon = d.variables['lon'][:] #lon"
   ]
  },
  {
   "cell_type": "code",
   "execution_count": 15,
   "metadata": {},
   "outputs": [],
   "source": [
    "# clip to entire TC region\n",
    "# lats,lons = tc_region(meta,sid_2008169N08135,lat,lon)\n",
    "lats,lons = tc_region(meta,sid_1999151N09132,lat,lon)"
   ]
  },
  {
   "cell_type": "code",
   "execution_count": 16,
   "metadata": {},
   "outputs": [],
   "source": [
    "\n",
    "# initialise accumulated xarray\n",
    "grid_x, grid_y = np.meshgrid(lats, lons)\n",
    "a = np.zeros((grid_x.shape))\n",
    "accumulated_ds = create_xarray(lats,lons,a)\n",
    "accumulated_ds_pred = create_xarray(lats,lons,a)\n",
    "accumulated_ds_input = create_xarray(lats,lons,a)\n",
    "\n",
    "\n",
    "# accumulated = np.zeros(grid_x.shape)\n",
    "for i in sid_1999151N09132:\n",
    "\tstorm_lats,storm_lons = get_storm_coords(lat,lon,meta,i)\n",
    "\tds = create_xarray(storm_lats,storm_lons,real[i])\n",
    "\tds_pred = create_xarray(storm_lats,storm_lons,pred[i])\n",
    "\tinput_lats,input_lons = get_storm_coords(np.arange(-89.5,90,1),np.arange(-179.5,180),meta,i)\n",
    "\tds_input = create_xarray(input_lats,input_lons,inputs[i])\n",
    "\n",
    "\t# regrid so grids match\n",
    "\tregridder = xe.Regridder(ds, accumulated_ds, \"nearest_s2d\")\n",
    "\tds_out = regridder(ds)\n",
    "\tds_pred_out = regridder(ds_pred)\n",
    "\n",
    "\t# regird the inputs\n",
    "\t# regridder = xe.Regridder(ds_input, accumulated_ds, \"bilinear\")\n",
    "\tregridder = xe.Regridder(ds_input, accumulated_ds, \"nearest_s2d\")\n",
    "\tds_input_out = regridder(ds_input)\n",
    "\n",
    "\t# add up rainfall\n",
    "\taccumulated_ds = accumulated_ds + ds_out\n",
    "\taccumulated_ds_pred = accumulated_ds_pred + ds_pred_out\n",
    "\taccumulated_ds_input = accumulated_ds_input + ds_input_out\n",
    "\n",
    "# hr_ds = create_xarray(storm_lats,storm_lons,real[i])\n",
    "\n",
    "# plot accumulated rainfall\n",
    "# https://earthobservatory.nasa.gov/images/8868/rainfall-from-typhoon-fengshen\n",
    "plot_accumulated(accumulated_ds['precipitation'],accumulated_ds['lat'].values,accumulated_ds['lon'].values,vmin=0,vmax=600,levels = [0,50,100,150,200,250,300,350,400,450,500,550,600,650,700],plot='show')\n",
    "plot_accumulated(accumulated_ds_pred['precipitation'],accumulated_ds_pred['lat'].values,accumulated_ds_pred['lon'].values,vmin=0,vmax=600,levels = [0,50,100,150,200,250,300,350,400,450,500,550,600,650,700],plot='show')\n",
    "plot_accumulated(accumulated_ds_input['precipitation'],accumulated_ds_input['lat'].values,accumulated_ds_input['lon'].values,vmin=0,vmax=600,levels = [0,50,100,150,200,250,300,350,400,450,500,550,600,650,700],plot='show')\n",
    "\n",
    "# real_accumulated = accumulated_ds\n",
    "\n",
    "anomaly = accumulated_ds_pred - accumulated_ds\n",
    "rmse_hr = np.sqrt(((accumulated_ds_pred - accumulated_ds) ** 2).mean()).values()\n",
    "print(anomaly.max())\n",
    "plot_accumulated(anomaly['precipitation'],anomaly['lat'].values,anomaly['lon'].values,plot='show',vmin=-40,vmax=40,levels = [0,10,20,30,40],cmap='coolwarm')\n",
    "\n",
    "anomaly_lr = accumulated_ds_input - accumulated_ds\n",
    "plot_accumulated(anomaly_lr['precipitation'],anomaly_lr['lat'].values,anomaly_lr['lon'].values,plot='show',vmin=-40,vmax=40,levels=[0,10,20,30,40],cmap='coolwarm')\n",
    "rmse_lr = np.sqrt(((accumulated_ds_input - accumulated_ds) ** 2).mean()).values()\n",
    "print(rmse_hr)\n",
    "print(rmse_lr)\n",
    "print(anomaly_lr.max())\n"
   ]
  },
  {
   "cell_type": "code",
   "execution_count": null,
   "metadata": {},
   "outputs": [],
   "source": [
    "train_X = np.load('/user/work/al18709/tc_data_mswep_cat1plus/train_X.npy')\n",
    "print(train_X.shape)\n",
    "test_X = np.load('/user/work/al18709/tc_data_mswep_cat1plus/test_X.npy')\n",
    "print(test_X.shape)\n",
    "valid_X = np.load('/user/work/al18709/tc_data_mswep_cat1plus/valid_X.npy')\n",
    "print(valid_X.shape)\n",
    "extreme_valid = np.load('/user/work/al18709/tc_data_mswep_cat1plus/extreme_valid_X.npy')\n",
    "print(extreme_valid.shape)\n",
    "extreme_test = np.load('/user/work/al18709/tc_data_mswep_cat1plus/extreme_test_X.npy')\n",
    "print(extreme_test.shape)"
   ]
  },
  {
   "cell_type": "code",
   "execution_count": null,
   "metadata": {},
   "outputs": [],
   "source": []
  }
 ],
 "metadata": {
  "interpreter": {
   "hash": "43a3789a3b5dd03cc707ddda060cc4de0877d661f9f1863eb4d531c55aa927cb"
  },
  "kernelspec": {
   "display_name": "Python 3.7.12 64-bit ('aquatic': conda)",
   "language": "python",
   "name": "python3"
  },
  "language_info": {
   "codemirror_mode": {
    "name": "ipython",
    "version": 3
   },
   "file_extension": ".py",
   "mimetype": "text/x-python",
   "name": "python",
   "nbconvert_exporter": "python",
   "pygments_lexer": "ipython3",
   "version": "3.7.12"
  },
  "orig_nbformat": 4
 },
 "nbformat": 4,
 "nbformat_minor": 2
}
