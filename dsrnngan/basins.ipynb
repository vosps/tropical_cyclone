{
 "cells": [
  {
   "cell_type": "code",
   "execution_count": 1,
   "metadata": {},
   "outputs": [],
   "source": [
    "import numpy as np\n",
    "import seaborn as sns\n",
    "import matplotlib.pyplot as plt\n",
    "from matplotlib import colors\n",
    "from netCDF4 import Dataset\n",
    "import pandas as pd\n",
    "import properscoring as ps\n",
    "import cartopy.feature as cfeature\n",
    "import cartopy.crs as ccrs\n",
    "import warnings\n",
    "import xarray as xr\n",
    "from matplotlib import cm\n",
    "from utils.evaluation import find_landfalling_tcs,tc_region,create_xarray,get_storm_coords\n",
    "from utils.metrics import calculate_crps\n",
    "from global_land_mask import globe\n",
    "from scipy.interpolate import griddata\n",
    "# from utils.metrics import calculate_fid\n",
    "import xesmf as xe\n",
    "warnings.filterwarnings(\"ignore\")\n",
    "\n",
    "sns.set_style(\"white\")\n",
    "sns.set_palette(sns.color_palette(\"Paired\"))\n",
    "sns.set_palette(sns.color_palette(\"Set2\"))"
   ]
  },
  {
   "cell_type": "code",
   "execution_count": 2,
   "metadata": {},
   "outputs": [],
   "source": [
    "def plot_accumulated(data,lats,lons,vmin=0,vmax=200,plot='show',cmap='Blues',title='Accumulated Rainfall',levels=[0,50,100,150,200,250,300],centre_lats=None,centre_lons=None,intensity=None):\n",
    "        \"\"\"\n",
    "        Plots the accumulated rainfall of a tropical cyclone while it's at tropical cyclone strength\n",
    "        \"\"\"\n",
    "        data = np.where(data<10,np.nan,data)\n",
    "        lat2d,lon2d = np.meshgrid(lats,lons)\n",
    "        fig, ax = plt.subplots(subplot_kw={'projection': ccrs.PlateCarree()})\n",
    "        c = ax.contourf(lon2d,lat2d,data,vmin=vmin,vmax=vmax,levels=levels,cmap = cmap, transform=ccrs.PlateCarree())\n",
    "        ax.add_feature(cfeature.COASTLINE,linewidth=0.5)\n",
    "        if centre_lats is not None:\n",
    "                for i in range(len(centre_lats)):\n",
    "                        if intensity[i] == 0.0:\n",
    "                                colour = '#ffb600'\n",
    "                        elif intensity[i] == 1.0:\n",
    "                                colour =  '#ff9e00'\n",
    "                        elif intensity[i] == 2.0:\n",
    "                                colour = '#ff7900'\n",
    "                        elif intensity[i] == 3.0:       \n",
    "                                colour = '#ff6000'\n",
    "                        elif intensity[i] == 4.0:\n",
    "                                colour = '#ff4000' \n",
    "                        elif intensity[i]==5.0:\n",
    "                                colour = '#ff2000' \n",
    "                        ax.plot(centre_lons[i:i+2],centre_lats[i:i+2],color=colour)\n",
    "\n",
    "        ax.outline_patch.set_linewidth(0.5)\n",
    "        cbar = plt.colorbar(c, shrink=0.68)\n",
    "        cbar.ax.tick_params(labelsize=6,width=0.5)\n",
    "\n",
    "        if plot=='show':\n",
    "                plt.show()\n",
    "        else:\n",
    "                plt.savefig('figs/basin_rainfall.png',bbox_inches='tight',dpi=300)"
   ]
  },
  {
   "cell_type": "code",
   "execution_count": 21,
   "metadata": {},
   "outputs": [],
   "source": [
    "def find_basin_coords(basin):\n",
    "\t# grab mswep coordinate variables\n",
    "\tfp = '/bp1store/geog-tropical/data/Obs/MSWEP/3hourly_invertlat/2000342.00.nc'\n",
    "\tds = xr.open_dataset(fp)\n",
    "\tif basin == 'NA':\n",
    "\t\tmin_lon = -100\n",
    "\t\tmin_lat = 5\n",
    "\t\tmax_lon = -30\n",
    "\t\tmax_lat = 30\n",
    "\n",
    "\tmask_lon = (ds.lon >= min_lon) & (ds.lon <= max_lon)\n",
    "\tmask_lat = (ds.lat >= min_lat) & (ds.lat <= max_lat)\n",
    "\tcropped_ds = ds.where(mask_lon & mask_lat, drop=True)\n",
    "\n",
    "\tlats = cropped_ds.lat.values\n",
    "\tlons = cropped_ds.lon.values\n",
    "\treturn lats,lons\n"
   ]
  },
  {
   "cell_type": "code",
   "execution_count": 18,
   "metadata": {},
   "outputs": [],
   "source": [
    "def find_basin_tcs(meta,basin):\n",
    "\t\t\"\"\"\n",
    "\t\tGrabs all tcs that ever make landfall at tc strength\n",
    "\n",
    "\t\t\t\tinputs : meta csv\n",
    "\t\t\"\"\"\n",
    "\t\tnstorms,_ = meta.shape\n",
    "\t\tbasin_sids = []\n",
    "\t\tif basin == 'NA':\n",
    "\t\t\tmin_lon = -100\n",
    "\t\t\tmin_lat = 5\n",
    "\t\t\tmax_lon = -30\n",
    "\t\t\tmax_lat = 30\n",
    "\t\tfor i in range(nstorms):\n",
    "\t\t\t\tcentre_lat = meta['centre_lat'][i]\n",
    "\t\t\t\tcentre_lon = meta['centre_lon'][i]\n",
    "\t\t\t\tif centre_lon > 180:\n",
    "\t\t\t\t\t\tcentre_lon = centre_lon - 180\n",
    "\t\t\t\tin_basin = (centre_lat >= min_lat) & (centre_lat <= max_lat) & (centre_lon >= min_lon) & (centre_lon <= max_lon)\n",
    "\t\t\t\tif in_basin:\n",
    "\t\t\t\t\t\tsid = meta['sid'][i]\n",
    "\t\t\t\t\t\tbasin_sids.append(sid)\n",
    "\n",
    "\t\t# find indices of all basining snapshots\n",
    "\t\tbasin_sids = list(dict.fromkeys(basin_sids))\n",
    "\t\treturn basin_sids"
   ]
  },
  {
   "cell_type": "code",
   "execution_count": 19,
   "metadata": {},
   "outputs": [],
   "source": [
    "mode = 'validation'\n",
    "real = np.load('/user/home/al18709/work/dsrnngan_predictions/%s_real-opt.npy' % mode)[0][:,:,:,0]\n",
    "pred = np.load('/user/home/al18709/work/dsrnngan_predictions/%s_pred-opt.npy' % mode)[0][:,:,:,0]\n",
    "inputs = np.load('/user/home/al18709/work/dsrnngan_predictions/%s_input-opt.npy' % mode)[0][:,:,:,0]\n",
    "meta = pd.read_csv('/user/work/al18709/tc_data_mswep/valid_meta.csv')\n",
    "tcs = pd.read_csv('/user/work/al18709/ibtracks/tc_files.csv')"
   ]
  },
  {
   "cell_type": "code",
   "execution_count": 23,
   "metadata": {},
   "outputs": [
    {
     "name": "stdout",
     "output_type": "stream",
     "text": [
      "['1986254N22309', '1996319N11283', '1981307N17279', '2010169N13266', '1989230N14338', '2018300N25315', '2001245N13326', '2006237N13298', '2000273N16277', '2005186N12299', '1999236N22292', '1989286N19268', '2005245N19315', '1989254N13340', '1988242N13262', '2018280N18273', '2015270N27291', '2014259N11262', '2003269N12322', '2012246N29323', '2010279N22293', '1985240N20286', '1984189N11265', '2001255N26276', '1983141N07269', '2006254N20306', '2017260N12310', '2011199N10271', '2017280N32321', '1992230N11325', '1992185N13265', '1982257N20291', '1993241N14264', '1998264N10343', '2010263N15328', '1988285N09318', '2011233N15301', '2007225N12331', '2005249N26281', '1992297N26299', '1989212N23270', '2005232N13263', '2004264N13328', '1996233N12340', '1991268N12264', '2005275N19274', '2005192N11318', '2020205N26272', '2005138N10265', '1994306N23313', '1995212N22287', '2008241N19303', '2016242N24279', '1995281N14278', '1995235N13311', '1995241N11333', '1984267N31302', '2020291N32305', '2011250N12324']\n",
      "59\n",
      "334\n"
     ]
    }
   ],
   "source": [
    "# define basin\n",
    "basin = 'NA'\n",
    "lats,lons = find_basin_coords(basin)\n",
    "\n",
    "basin_sids = find_basin_tcs(meta,basin)\n",
    "# assign sid variable to list of sid indices correspoinnding to storm timesteps\n",
    "for sid in basin_sids:\n",
    "\tindices = meta.sid[meta.sid == sid].index.tolist()\n",
    "\texec('sid_%s = indices' % sid)\n",
    "\n",
    "all_sids = list(dict.fromkeys(meta['sid']))\n",
    "print(basin_sids)\n",
    "print(len(basin_sids))\n",
    "print(len(all_sids))"
   ]
  },
  {
   "cell_type": "code",
   "execution_count": 6,
   "metadata": {},
   "outputs": [],
   "source": []
  },
  {
   "cell_type": "code",
   "execution_count": null,
   "metadata": {},
   "outputs": [],
   "source": []
  }
 ],
 "metadata": {
  "interpreter": {
   "hash": "43a3789a3b5dd03cc707ddda060cc4de0877d661f9f1863eb4d531c55aa927cb"
  },
  "kernelspec": {
   "display_name": "Python 3.7.12 ('aquatic')",
   "language": "python",
   "name": "python3"
  },
  "language_info": {
   "codemirror_mode": {
    "name": "ipython",
    "version": 3
   },
   "file_extension": ".py",
   "mimetype": "text/x-python",
   "name": "python",
   "nbconvert_exporter": "python",
   "pygments_lexer": "ipython3",
   "version": "3.7.12"
  },
  "orig_nbformat": 4
 },
 "nbformat": 4,
 "nbformat_minor": 2
}
