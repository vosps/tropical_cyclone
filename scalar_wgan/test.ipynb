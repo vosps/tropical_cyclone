{
 "cells": [
  {
   "cell_type": "code",
   "execution_count": 2,
   "metadata": {},
   "outputs": [],
   "source": [
    "import h5py"
   ]
  },
  {
   "cell_type": "code",
   "execution_count": 3,
   "metadata": {},
   "outputs": [
    {
     "name": "stdout",
     "output_type": "stream",
     "text": [
      "/conv2d/conv2d/bias:0 ['dataset']\n",
      "/conv2d/conv2d/kernel:0 ['dataset']\n",
      "/conv2d_1/conv2d_1/bias:0 ['dataset']\n",
      "/conv2d_1/conv2d_1/kernel:0 ['dataset']\n",
      "/conv2d_2/conv2d_2/bias:0 ['dataset']\n",
      "/conv2d_2/conv2d_2/kernel:0 ['dataset']\n",
      "/conv2d_3/conv2d_3/bias:0 ['dataset']\n",
      "/conv2d_3/conv2d_3/kernel:0 ['dataset']\n",
      "/conv2d_4/conv2d_4/bias:0 ['dataset']\n",
      "/conv2d_4/conv2d_4/kernel:0 ['dataset']\n",
      "/conv2d_5/conv2d_5/bias:0 ['dataset']\n",
      "/conv2d_5/conv2d_5/kernel:0 ['dataset']\n",
      "/conv2d_6/conv2d_6/bias:0 ['dataset']\n",
      "/conv2d_6/conv2d_6/kernel:0 ['dataset']\n",
      "/conv2d_7/conv2d_7/bias:0 ['dataset']\n",
      "/conv2d_7/conv2d_7/kernel:0 ['dataset']\n",
      "/conv2d_padding/conv2d_padding/conv2d/bias:0 ['dataset']\n",
      "/conv2d_padding/conv2d_padding/conv2d/kernel:0 ['dataset']\n",
      "/conv2d_padding_1/conv2d_padding_1/conv2d/bias:0 ['dataset']\n",
      "/conv2d_padding_1/conv2d_padding_1/conv2d/kernel:0 ['dataset']\n",
      "/conv2d_padding_10/conv2d_padding_10/conv2d/bias:0 ['dataset']\n",
      "/conv2d_padding_10/conv2d_padding_10/conv2d/kernel:0 ['dataset']\n",
      "/conv2d_padding_11/conv2d_padding_11/conv2d/bias:0 ['dataset']\n",
      "/conv2d_padding_11/conv2d_padding_11/conv2d/kernel:0 ['dataset']\n",
      "/conv2d_padding_12/conv2d_padding_12/conv2d/bias:0 ['dataset']\n",
      "/conv2d_padding_12/conv2d_padding_12/conv2d/kernel:0 ['dataset']\n",
      "/conv2d_padding_13/conv2d_padding_13/conv2d/bias:0 ['dataset']\n",
      "/conv2d_padding_13/conv2d_padding_13/conv2d/kernel:0 ['dataset']\n",
      "/conv2d_padding_14/conv2d_padding_14/conv2d/bias:0 ['dataset']\n",
      "/conv2d_padding_14/conv2d_padding_14/conv2d/kernel:0 ['dataset']\n",
      "/conv2d_padding_15/conv2d_padding_15/conv2d/bias:0 ['dataset']\n",
      "/conv2d_padding_15/conv2d_padding_15/conv2d/kernel:0 ['dataset']\n",
      "/conv2d_padding_16/conv2d_padding_16/conv2d/bias:0 ['dataset']\n",
      "/conv2d_padding_16/conv2d_padding_16/conv2d/kernel:0 ['dataset']\n",
      "/conv2d_padding_17/conv2d_padding_17/conv2d/bias:0 ['dataset']\n",
      "/conv2d_padding_17/conv2d_padding_17/conv2d/kernel:0 ['dataset']\n",
      "/conv2d_padding_18/conv2d_padding_18/conv2d/bias:0 ['dataset']\n",
      "/conv2d_padding_18/conv2d_padding_18/conv2d/kernel:0 ['dataset']\n",
      "/conv2d_padding_19/conv2d_padding_19/conv2d/bias:0 ['dataset']\n",
      "/conv2d_padding_19/conv2d_padding_19/conv2d/kernel:0 ['dataset']\n",
      "/conv2d_padding_2/conv2d_padding_2/conv2d/bias:0 ['dataset']\n",
      "/conv2d_padding_2/conv2d_padding_2/conv2d/kernel:0 ['dataset']\n",
      "/conv2d_padding_20/conv2d_padding_20/conv2d/bias:0 ['dataset']\n",
      "/conv2d_padding_20/conv2d_padding_20/conv2d/kernel:0 ['dataset']\n",
      "/conv2d_padding_21/conv2d_padding_21/conv2d/bias:0 ['dataset']\n",
      "/conv2d_padding_21/conv2d_padding_21/conv2d/kernel:0 ['dataset']\n",
      "/conv2d_padding_22/conv2d_padding_22/conv2d/bias:0 ['dataset']\n",
      "/conv2d_padding_22/conv2d_padding_22/conv2d/kernel:0 ['dataset']\n",
      "/conv2d_padding_23/conv2d_padding_23/conv2d/bias:0 ['dataset']\n",
      "/conv2d_padding_23/conv2d_padding_23/conv2d/kernel:0 ['dataset']\n",
      "/conv2d_padding_24/conv2d_padding_24/conv2d/bias:0 ['dataset']\n",
      "/conv2d_padding_24/conv2d_padding_24/conv2d/kernel:0 ['dataset']\n",
      "/conv2d_padding_25/conv2d_padding_25/conv2d/bias:0 ['dataset']\n",
      "/conv2d_padding_25/conv2d_padding_25/conv2d/kernel:0 ['dataset']\n",
      "/conv2d_padding_3/conv2d_padding_3/conv2d/bias:0 ['dataset']\n",
      "/conv2d_padding_3/conv2d_padding_3/conv2d/kernel:0 ['dataset']\n",
      "/conv2d_padding_4/conv2d_padding_4/conv2d/bias:0 ['dataset']\n",
      "/conv2d_padding_4/conv2d_padding_4/conv2d/kernel:0 ['dataset']\n",
      "/conv2d_padding_5/conv2d_padding_5/conv2d/bias:0 ['dataset']\n",
      "/conv2d_padding_5/conv2d_padding_5/conv2d/kernel:0 ['dataset']\n",
      "/conv2d_padding_6/conv2d_padding_6/conv2d/bias:0 ['dataset']\n",
      "/conv2d_padding_6/conv2d_padding_6/conv2d/kernel:0 ['dataset']\n",
      "/conv2d_padding_7/conv2d_padding_7/conv2d/kernel:0 ['dataset']\n"
     ]
    }
   ],
   "source": [
    "h5 = h5py.File('/user/home/al18709/work/gan/logs_wgan_no_rain_v11/models-gen_weights.h5', 'r')\n",
    "def hierarchy(d):\n",
    "    for item in d:\n",
    "        if ' 0 member' in str(d[item]):\n",
    "            print(d[item].name, ['empty group'])\n",
    "        if isinstance(d[item], h5py.Group):\n",
    "            hierarchy(d[item])\n",
    "        else: #Dataset\n",
    "            print(d[item].name, ['dataset'])\n",
    "hierarchy(h5)"
   ]
  },
  {
   "cell_type": "code",
   "execution_count": null,
   "metadata": {},
   "outputs": [],
   "source": [
    "h5 = h5py.File('/user/home/al18709/work/gan/logs_wgan_no_rain_v11/models/gen_weights-0947200.h5', 'r')"
   ]
  }
 ],
 "metadata": {
  "kernelspec": {
   "display_name": "Aquatic (work)",
   "language": "python",
   "name": "aquatic"
  },
  "language_info": {
   "codemirror_mode": {
    "name": "ipython",
    "version": 3
   },
   "file_extension": ".py",
   "mimetype": "text/x-python",
   "name": "python",
   "nbconvert_exporter": "python",
   "pygments_lexer": "ipython3",
   "version": "3.7.12"
  },
  "orig_nbformat": 4
 },
 "nbformat": 4,
 "nbformat_minor": 2
}
