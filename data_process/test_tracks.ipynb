{
 "cells": [
  {
   "cell_type": "code",
   "execution_count": 2,
   "metadata": {},
   "outputs": [],
   "source": [
    "import xarray as xr\n",
    "import numpy as np\n",
    "import pandas as pd\n",
    "from datetime import datetime, timedelta\n",
    "from cftime import DatetimeNoLeap\n",
    "import cftime as cf\n",
    "import matplotlib.pyplot as plt\n",
    "\n",
    "# TODO: try converting rain to cf time instea do fhte other way around\n",
    "\n",
    "# MPI-ESM1-2-LR -7.5hrs, need pr in gregorian, don't think I need to change tracks?\n",
    "# MPI-ESM1-2-HR -6hrs4mins, need pr in gregorian not proleptic greg\n",
    "# TaiESM1 might be +15hr ahead or +27hrs with lat_1, or +33hrs with lat_2\n",
    "# IPSL in gregorian\n"
   ]
  },
  {
   "cell_type": "code",
   "execution_count": 40,
   "metadata": {},
   "outputs": [],
   "source": [
    "# pr_path = '/user/home/al18709/work/CMIP6/MPI-ESM1-2-LR/pr/historical/pr_3hr_MPI-ESM1-2-LR_historical_r1i1p1f1_gn_197901010300-197912312100.nc'\n",
    "# tr_path = '/user/home/al18709/work/CMIP6/MPI-ESM1-2-LR/tracks/historical/SH/MPI-ESM1-2-LR_tracks_r1i1p1f1_19791980_newtime2.nc'\n",
    "pr_path = '/bp1/geog-tropical/data/CMIP6/HighResMIP-rain/CMCC/CMCC-CM2-VHR4/hist-1950/r1i1p1f1/Prim6hr/pr/gn/latest/pr_Prim6hr_CMCC-CM2-VHR4_hist-1950_r1i1p1f1_gn_199402-199402.nc'\n",
    "tr_path = '/user/home/al18709/work/CMIP6/HighResMIP/CMCC-CM2-VHR4/historical/tracks/TC-NH_TRACK_CMCC-CM2-VHR4_hist-1950_r1i1p1f1_gn_19500101-20141231.nc'\n",
    "pr_path = '/bp1/geog-tropical/data/CMIP6/HighResMIP-rain/MPI/MPI-ESM1-2-HR/hist-1950/r1i1p1f1/Prim6hr/pr/gn/latest/pr_Prim6hr_MPI-ESM1-2-HR_hist-1950_r1i1p1f1_gn_201401010556-201412312356.nc'\n",
    "tr_path = '/user/home/al18709/work/CMIP6/HighResMIP/MPI-ESM1-2-HR/historical/tracks/TC-NH_TRACK_MPI-ESM1-2-HR_hist-1950_r1i1p1f1_gn_19500101-20141231.nc'\n",
    "pr_path = '/bp1/geog-tropical/data/CMIP6/CMIP6-rain/TaiESM1/pr/ssp585/pr_6hrPlev_TaiESM1_ssp585_r1i1p1f1_gn_201501010000-202412312100.nc'\n",
    "tr_path = '/user/home/al18709/work/CMIP6/TaiESM1/tracks/ssp585/NH/TaiESM1_tracks_r1i1p1f1_2058_newtime2.nc'\n",
    "# pr_path = '/user/home/al18709/work/CMIP6/MIROC6/pr/historical/pr_6hrPlev_MIROC6_historical_r1i1p1f1_gn_197901010300-197912312100.nc'\n",
    "# tr_path = '/user/home/al18709/work/CMIP6/MIROC6/tracks/historical/SH/MIROC6_tracks_r1i1p1f1_19791980_newtime2.nc'\n",
    "# pr_path = '/bp1/geog-tropical/data/CMIP6/CMIP6-rain/NorESM2-LM/pr/ssp585/pr_6hrPlev_NorESM2-LM_ssp585_r1i1p1f1_gn_206001010300-206012312100.nc'\n",
    "# # pr_path = '/bp1/geog-tropical/data/CMIP6/CMIP6-rain/NorESM2-LM/pr/ssp585/pr_6hrPlev_NorESM2-LM_ssp585_r1i1p1f1_gn_206001010300-206012312100_regrid.nc'\n",
    "# tr_path = '/user/home/al18709/work/CMIP6/NorESM2-LM/tracks/ssp585/SH/NorESM2-LM_tracks_r1i1p1f1_20502051_newtime2.nc'\n",
    "# pr_path = '/bp1/geog-tropical/data/CMIP6/CMIP6-rain/IPSL-CM6A-LR/pr/ssp585/pr_3hr_IPSL-CM6A-LR_ssp585_r1i1p1f1_gr_205001010300-205012312100.nc'\n",
    "# tr_path = '/user/home/al18709/work/CMIP6/IPSL-CM6A-LR/tracks/ssp585/SH/IPSL-CM6A-LR_tracks_r1i1p1f1_20502051_newtime2.nc'\n",
    "# pr_path = '/bp1/geog-tropical/data/CMIP6/CMIP6-rain/BCC-CSM2-MR/pr/historical/pr_3hr_BCC-CSM2-MR_historical_r1i1p1f1_gn_201401010300-201412312100.nc'\n",
    "# tr_path = '/user/home/al18709/work/CMIP6/BCC-CSM2-MR/tracks/historical/NH/BCC-CSM2-MR_tracks_r1i1p1f1_2014_newtime2.nc'\n",
    "# tr_path = '/user/home/al18709/work/CMIP6/HighResMIP/EC-Earth3P-HR/tracks/historical/SH/TC-SH_TRACK_EC-Earth3P-HR_hist-1950_r1i1p2f1_gr_19500101-20141231.nc'\n",
    "# pr_path = '/bp1/geog-tropical/data/CMIP6/HighResMIP-rain/EC-Earth3P-HR/pr/historical/pr_3hr_EC-Earth3P-HR_hist-1950_r1i1p2f1_gr_198201010000-198212312100.nc'\n",
    "\n",
    "# pr_path = '/bp1/geog-tropical/data/CMIP6/CMIP6-rain/BCC-CSM2-MR/pr/historical/pr_3hr_BCC-CSM2-MR_historical_r1i1p1f1_gn_201401010300-201412312100.nc'\n",
    "# tr_path = '/user/home/al18709/work/CMIP6/BCC-CSM2-MR/tracks/historical/NH/BCC-CSM2-MR_tracks_r1i1p1f1_2014_newtime2.nc'\n",
    "\n",
    "# pr_path = '/bp1/geog-tropical/data/CMIP6/HighResMIP-rain/CMCC/CMCC-CM2-VHR4/hist-1950/r1i1p1f1/Prim6hr/pr/gn/latest/pr_Prim6hr_CMCC-CM2-VHR4_hist-1950_r1i1p1f1_gn_199402-199402.nc'\n",
    "# tr_path = '/user/home/al18709/work/CMIP6/HighResMIP/CMCC-CM2-VHR4/historical/tracks/TC-NH_TRACK_CMCC-CM2-VHR4_hist-1950_r1i1p1f1_gn_19500101-20141231.nc'\n",
    "pr = xr.open_dataset(pr_path,use_cftime=True)\n",
    "# pr = pr.convert_calendar('proleptic_gregorian', dim='time', align_on=None, missing=None, use_cftime=None)\n",
    "# pr = pr.convert_calendar('gregorian', dim='time', align_on=None, missing=None, use_cftime=None)\n",
    "# pr = pr.convert_calendar(\"noleap\")\n",
    "tr = xr.open_dataset(tr_path,use_cftime=True)\n",
    "# tr = tr.convert_calendar(\"noleap\",dim='time')\n",
    "# tr = tr.convert_calendar('proleptic_gregorian', dim='time', align_on=None, missing=None, use_cftime=True)\n",
    "# tr.time.attrs['calendar'] = 'noleap'\n",
    "# # .convert_calendar(\"noleap\",dim='time')\n",
    "# tr = xr.decode_cf(tr,decode_times=True)\n",
    "\n",
    "# tr = tr.convert_calendar('proleptic_gregorian', dim='time', align_on=None, missing=None, use_cftime=True)\n",
    "# days since 1948-12-01 00:00:00\n",
    "# 365_day but thinks its proleptic greg. so Feb 29th doesn't exist.\n",
    "# so doy = doy until 28th feb, the doy in 365 is = doy-1 in the p_g cal\n"
   ]
  },
  {
   "cell_type": "code",
   "execution_count": 41,
   "metadata": {},
   "outputs": [
    {
     "name": "stdout",
     "output_type": "stream",
     "text": [
      "Frozen({'tracks': 77, 'record': 3846})\n"
     ]
    }
   ],
   "source": [
    "print(tr.dims)"
   ]
  },
  {
   "cell_type": "code",
   "execution_count": 42,
   "metadata": {},
   "outputs": [
    {
     "name": "stdout",
     "output_type": "stream",
     "text": [
      "<xarray.DataArray 'time' (record: 3846)>\n",
      "[3846 values with dtype=object]\n",
      "Coordinates:\n",
      "    time         (record) object ...\n",
      "    longitude    (record) float32 ...\n",
      "    latitude     (record) float32 ...\n",
      "    longitude_1  (record) float32 ...\n",
      "    latitude_1   (record) float32 ...\n",
      "    longitude_2  (record) float32 ...\n",
      "    latitude_2   (record) float32 ...\n",
      "    longitude_3  (record) float32 ...\n",
      "    latitude_3   (record) float32 ...\n",
      "    longitude_4  (record) float32 ...\n",
      "    latitude_4   (record) float32 ...\n",
      "Dimensions without coordinates: record\n",
      "Attributes:\n",
      "    standard_name:  time\n",
      "    long_name:      Time\n",
      "    time_calendar:  365_day\n",
      "    start:          2058010100\n",
      "    step:           6\n"
     ]
    }
   ],
   "source": [
    "# print(pr.time)\n",
    "# print(pr.time)\n",
    "print(tr.time)\n",
    "# print(pr.time.dt.calendar)\n",
    "# print(tr.tim.attrs)\n",
    "# tr = tr.expand_dims(time2=tr.time)\n",
    "# pr = pr.convert_calendar('365_day', dim='time', align_on=None, missing=None, use_cftime=None)\n",
    "# tr = tr.convert_calendar('proleptic_gregorian', dim='time', align_on=None, missing=None, use_cftime=True)"
   ]
  },
  {
   "cell_type": "code",
   "execution_count": 43,
   "metadata": {},
   "outputs": [
    {
     "name": "stdout",
     "output_type": "stream",
     "text": [
      "Frozen({'TRACK_ID': <xarray.Variable (tracks: 77)>\n",
      "[77 values with dtype=int32]\n",
      "Attributes:\n",
      "    add_fld_num:      4\n",
      "    tot_add_fld_num:  12\n",
      "    loc_flags:        [1 1 1 1]\n",
      "    cf_role:          trajectory_id, 'FIRST_PT': <xarray.Variable (tracks: 77)>\n",
      "[77 values with dtype=int32], 'NUM_PTS': <xarray.Variable (tracks: 77)>\n",
      "[77 values with dtype=int32]\n",
      "Attributes:\n",
      "    long_name:         number of obs for this trajectory\n",
      "    sample_dimension:  record, 'index': <xarray.Variable (record: 3846)>\n",
      "[3846 values with dtype=int32], 'time': <xarray.Variable (record: 3846)>\n",
      "[3846 values with dtype=object]\n",
      "Attributes:\n",
      "    standard_name:  time\n",
      "    long_name:      Time\n",
      "    time_calendar:  365_day\n",
      "    start:          2058010100\n",
      "    step:           6, 'longitude': <xarray.Variable (record: 3846)>\n",
      "[3846 values with dtype=float32]\n",
      "Attributes:\n",
      "    standard_name:  longitude\n",
      "    long_name:      Longitude\n",
      "    units:          degrees_east, 'latitude': <xarray.Variable (record: 3846)>\n",
      "[3846 values with dtype=float32]\n",
      "Attributes:\n",
      "    standard_name:  latitude\n",
      "    long_name:      Latitude\n",
      "    units:          degrees_north, 'relative_vorticity': <xarray.Variable (record: 3846)>\n",
      "[3846 values with dtype=float32]\n",
      "Attributes:\n",
      "    standard_name:  relative_vorticity\n",
      "    long_name:      Relative Vorticity\n",
      "    units:          s**-1, 'longitude_1': <xarray.Variable (record: 3846)>\n",
      "[3846 values with dtype=float32]\n",
      "Attributes:\n",
      "    standard_name:  longitude\n",
      "    long_name:      Longitude\n",
      "    units:          degrees_east, 'latitude_1': <xarray.Variable (record: 3846)>\n",
      "[3846 values with dtype=float32]\n",
      "Attributes:\n",
      "    standard_name:  latitude\n",
      "    long_name:      Latitude\n",
      "    units:          degrees_north, 'relative_vorticity_850': <xarray.Variable (record: 3846)>\n",
      "[3846 values with dtype=float32]\n",
      "Attributes:\n",
      "    standard_name:  relative_vorticity_850\n",
      "    long_name:      Relative Vorticity at 850hPa\n",
      "    units:          s**-1, 'longitude_2': <xarray.Variable (record: 3846)>\n",
      "[3846 values with dtype=float32]\n",
      "Attributes:\n",
      "    standard_name:  longitude\n",
      "    long_name:      Longitude\n",
      "    units:          degrees_east, 'latitude_2': <xarray.Variable (record: 3846)>\n",
      "[3846 values with dtype=float32]\n",
      "Attributes:\n",
      "    standard_name:  latitude\n",
      "    long_name:      Latitude\n",
      "    units:          degrees_north, 'relative_vorticity_500': <xarray.Variable (record: 3846)>\n",
      "[3846 values with dtype=float32]\n",
      "Attributes:\n",
      "    standard_name:  relative_vorticity_500\n",
      "    long_name:      Relative Vorticity at 500hPa\n",
      "    units:          s**-1, 'longitude_3': <xarray.Variable (record: 3846)>\n",
      "[3846 values with dtype=float32]\n",
      "Attributes:\n",
      "    standard_name:  longitude\n",
      "    long_name:      Longitude\n",
      "    units:          degrees_east, 'latitude_3': <xarray.Variable (record: 3846)>\n",
      "[3846 values with dtype=float32]\n",
      "Attributes:\n",
      "    standard_name:  latitude\n",
      "    long_name:      Latitude\n",
      "    units:          degrees_north, 'relative_vorticity_250': <xarray.Variable (record: 3846)>\n",
      "[3846 values with dtype=float32]\n",
      "Attributes:\n",
      "    standard_name:  relative_vorticity_250\n",
      "    long_name:      Relative Vorticity at 250hPa\n",
      "    units:          s**-1, 'longitude_4': <xarray.Variable (record: 3846)>\n",
      "[3846 values with dtype=float32]\n",
      "Attributes:\n",
      "    standard_name:  longitude\n",
      "    long_name:      Longitude\n",
      "    units:          degrees_east, 'latitude_4': <xarray.Variable (record: 3846)>\n",
      "[3846 values with dtype=float32]\n",
      "Attributes:\n",
      "    standard_name:  latitude\n",
      "    long_name:      Latitude\n",
      "    units:          degrees_north, 'wind_speed_850': <xarray.Variable (record: 3846)>\n",
      "[3846 values with dtype=float32]\n",
      "Attributes:\n",
      "    standard_name:  wind_speed_850\n",
      "    long_name:      Wind Speed at 850hPa\n",
      "    units:          m s**-1})\n"
     ]
    }
   ],
   "source": [
    "print(tr.variables)"
   ]
  },
  {
   "cell_type": "code",
   "execution_count": 44,
   "metadata": {},
   "outputs": [
    {
     "name": "stdout",
     "output_type": "stream",
     "text": [
      "[cftime.DatetimeNoLeap(2058, 1, 1, 0, 0, 0, 0, has_year_zero=True)\n",
      " cftime.DatetimeNoLeap(2058, 1, 1, 6, 0, 0, 0, has_year_zero=True)\n",
      " cftime.DatetimeNoLeap(2058, 1, 1, 12, 0, 0, 0, has_year_zero=True) ...\n",
      " cftime.DatetimeNoLeap(2058, 12, 31, 6, 0, 0, 0, has_year_zero=True)\n",
      " cftime.DatetimeNoLeap(2058, 12, 31, 12, 0, 0, 0, has_year_zero=True)\n",
      " cftime.DatetimeNoLeap(2058, 12, 31, 18, 0, 0, 0, has_year_zero=True)]\n",
      "[cftime.DatetimeNoLeap(2015, 1, 1, 0, 0, 0, 0, has_year_zero=True)\n",
      " cftime.DatetimeNoLeap(2015, 1, 1, 3, 0, 0, 0, has_year_zero=True)\n",
      " cftime.DatetimeNoLeap(2015, 1, 1, 9, 0, 0, 0, has_year_zero=True) ...\n",
      " cftime.DatetimeNoLeap(2024, 12, 31, 9, 0, 0, 0, has_year_zero=True)\n",
      " cftime.DatetimeNoLeap(2024, 12, 31, 15, 0, 0, 0, has_year_zero=True)\n",
      " cftime.DatetimeNoLeap(2024, 12, 31, 21, 0, 0, 0, has_year_zero=True)]\n"
     ]
    }
   ],
   "source": [
    "print(tr.time.values)\n",
    "print(pr.time.values)"
   ]
  },
  {
   "cell_type": "code",
   "execution_count": 45,
   "metadata": {},
   "outputs": [],
   "source": [
    "# print(tr.longitude.values)\n",
    "# print(tr.longitude_1.values)\n",
    "# print(tr.longitude_2.values)\n",
    "# print(pr.lon.values)\n",
    "\n",
    "# print(tr.latitude.values)\n",
    "# print(tr.latitude_1.values)\n",
    "# print(tr.latitude_2.values)\n",
    "# print(pr.lat.values)"
   ]
  },
  {
   "cell_type": "code",
   "execution_count": 46,
   "metadata": {},
   "outputs": [
    {
     "name": "stdout",
     "output_type": "stream",
     "text": [
      "2058-06-23 12:00:00\n",
      "36.827972\n",
      "198.55939\n"
     ]
    }
   ],
   "source": [
    "i = 0\n",
    "i = 1000\n",
    "# i = 300\n",
    "# i = 20\n",
    "# i = 91840\n",
    "# i = 95998\n",
    "# i = 210750\n",
    "# i = 1000\n",
    "# print(tr.latitude.values[i])\n",
    "# print(tr.longitude.values[i])\n",
    "# print(tr.latitude_1.values[i])\n",
    "# print(tr.longitude_1.values[i])\n",
    "# print(tr.time)\n",
    "# track_time: cf.DatetimeNoLeap = tr.time.values[i]\n",
    "track_time = tr.time.values[i]\n",
    "track_lat = tr.latitude.values[i]\n",
    "track_lon = tr.longitude.values[i]\n",
    "print(track_time)\n",
    "# track_lat = tr.lat_sfcWind.values[i]\n",
    "# track_lon = tr.lon_sfcWind.values[i]\n",
    "# track_lat = tr.latitude_2.values[i]\n",
    "# track_lon = tr.longitude_2.values[i]\n",
    "\n",
    "print(track_lat)\n",
    "print(track_lon)\n",
    "\n",
    "# track_lat = tr.latitude_1.values[i]\n",
    "# track_lon = tr.longitude_1.values[i]\n",
    "\n",
    "\n",
    "# track_lat = tr.latitude_2.values[i]\n",
    "# track_lon = tr.longitude_2.values[i]\n",
    "\n",
    "# track_lat = tr.latitude_3.values[i]\n",
    "# track_lon = tr.longitude_3.values[i]\n",
    "\n",
    "# track_lat = tr.latitude_4.values[i]\n",
    "# track_lon = tr.longitude_4.values[i]\n"
   ]
  },
  {
   "cell_type": "code",
   "execution_count": 47,
   "metadata": {},
   "outputs": [
    {
     "name": "stdout",
     "output_type": "stream",
     "text": [
      "[[[nan nan nan ... nan nan nan]\n",
      "  [nan nan nan ... nan nan nan]\n",
      "  [nan nan nan ... nan nan nan]\n",
      "  ...\n",
      "  [nan nan nan ... nan nan nan]\n",
      "  [nan nan nan ... nan nan nan]\n",
      "  [nan nan nan ... nan nan nan]]\n",
      "\n",
      " [[nan nan nan ... nan nan nan]\n",
      "  [nan nan nan ... nan nan nan]\n",
      "  [nan nan nan ... nan nan nan]\n",
      "  ...\n",
      "  [nan nan nan ... nan nan nan]\n",
      "  [nan nan nan ... nan nan nan]\n",
      "  [nan nan nan ... nan nan nan]]\n",
      "\n",
      " [[nan nan nan ... nan nan nan]\n",
      "  [nan nan nan ... nan nan nan]\n",
      "  [nan nan nan ... nan nan nan]\n",
      "  ...\n",
      "  [nan nan nan ... nan nan nan]\n",
      "  [nan nan nan ... nan nan nan]\n",
      "  [nan nan nan ... nan nan nan]]\n",
      "\n",
      " ...\n",
      "\n",
      " [[nan nan nan ... nan nan nan]\n",
      "  [nan nan nan ... nan nan nan]\n",
      "  [nan nan nan ... nan nan nan]\n",
      "  ...\n",
      "  [nan nan nan ... nan nan nan]\n",
      "  [nan nan nan ... nan nan nan]\n",
      "  [nan nan nan ... nan nan nan]]\n",
      "\n",
      " [[nan nan nan ... nan nan nan]\n",
      "  [nan nan nan ... nan nan nan]\n",
      "  [nan nan nan ... nan nan nan]\n",
      "  ...\n",
      "  [nan nan nan ... nan nan nan]\n",
      "  [nan nan nan ... nan nan nan]\n",
      "  [nan nan nan ... nan nan nan]]\n",
      "\n",
      " [[nan nan nan ... nan nan nan]\n",
      "  [nan nan nan ... nan nan nan]\n",
      "  [nan nan nan ... nan nan nan]\n",
      "  ...\n",
      "  [nan nan nan ... nan nan nan]\n",
      "  [nan nan nan ... nan nan nan]\n",
      "  [nan nan nan ... nan nan nan]]]\n"
     ]
    }
   ],
   "source": [
    "# print(pr.time)\n",
    "print(pr.pr.values)"
   ]
  },
  {
   "cell_type": "code",
   "execution_count": 15,
   "metadata": {},
   "outputs": [
    {
     "name": "stdout",
     "output_type": "stream",
     "text": [
      "2058-06-23 12:00:00\n",
      "2058-06-23 09:00:00\n"
     ]
    }
   ],
   "source": [
    "# rainfall_slice = pr.sel(time=track_time - np.timedelta64(7,'h') - np.timedelta64(30,'m')).pr\n",
    "# rainfall_slice = pr.sel(time=track_time - np.timedelta64(1,'h') - np.timedelta64(30,'m')).pr\n",
    "# rainfall_slice = pr.sel(time=track_time + np.timedelta64(23,'h') + np.timedelta64(56,'m')).pr\n",
    "# rainfall_slice = pr.sel(time=track_time - np.timedelta64(6,'h') - np.timedelta64(4,'m')).pr\n",
    "# rainfall_slice = pr.sel(time=track_time,method='nearest').pr\n",
    "# rainfall_slice = pr.sel(time=track_time + np.timedelta64(15,'h')).pr\n",
    "# print(track_time)\n",
    "\n",
    "# time_1: DatetimeNoLeap = cf.datetime(\n",
    "#     calendar=\"noleap\",\n",
    "#     year=track_time.year,\n",
    "#     month=track_time.month,\n",
    "#     day=track_time.day,\n",
    "#     hour=track_time.hour\n",
    "# )\n",
    "\n",
    "# year = track_time.year\n",
    "# month=track_time.month,\n",
    "# day=track_time.day,\n",
    "# hour=track_time.hour\n",
    "# (m,) = month\n",
    "# print(m)\n",
    "# if m in [3,4,5,6,7,8,9,10,11,12]:\n",
    "#     print(day)\n",
    "#     (d,) = day\n",
    "#     day = d - 1\n",
    "\n",
    "# time_1= cf.datetime(\n",
    "#     calendar=\"proleptic_gregorian\",\n",
    "#     year=year,\n",
    "#     month=month,\n",
    "#     day=day,\n",
    "#     hour=hour)\n",
    "\n",
    "\n",
    "time_1= cf.datetime(\n",
    "    calendar=\"noleap\",\n",
    "    year=track_time.year,\n",
    "    month=track_time.month,\n",
    "    day=track_time.day,\n",
    "    hour=track_time.hour\n",
    ")\n",
    "\n",
    "# time_1= cf.datetime(\n",
    "#     calendar=\"proleptic_gregorian\",\n",
    "#     doy = track_time.doy\n",
    "# )\n",
    "\n",
    "time_2 = time_1 - timedelta(hours=3)\n",
    "# time_2 = time_1 + timedelta(days = 36,hours=13,minutes=30)\n",
    "# time_2 = time_1\n",
    "\n",
    "\n",
    "print(time_1)\n",
    "print(time_2)\n",
    "# # print(time_3)\n",
    "# # print(pr.sel(time=time_1).time)\n",
    "# # print(pr.sel(time=time_2).time.values)\n",
    "# print(pr.sel(time=cf.DatetimeNoLeap(1994, 2, 28, 18, 0, 0, 0, has_year_zero=True)))\n",
    "rainfall_slice = pr.sel(time=time_2,method='nearest').pr\n",
    "# # rainfall_slice = pr.sel(time=time_3).pr\n",
    "# # rainfall_slice = pr.sel(time=time_1,method='nearest').pr\n",
    "lat2d,lon2d = np.meshgrid(pr.lon,pr.lat)\n",
    "# print(rainfall_slice.shape)\n",
    "# print(lat2d.shape)\n",
    "# print(lon2d.shape)"
   ]
  },
  {
   "cell_type": "code",
   "execution_count": 16,
   "metadata": {},
   "outputs": [
    {
     "data": {
      "text/plain": [
       "(188.55938720703125,\n",
       " 208.55938720703125,\n",
       " 26.827972412109375,\n",
       " 46.827972412109375)"
      ]
     },
     "execution_count": 16,
     "metadata": {},
     "output_type": "execute_result"
    },
    {
     "data": {
      "image/png": "[encoded data removed]",
      "text/plain": [
       "<Figure size 640x480 with 1 Axes>"
      ]
     },
     "metadata": {},
     "output_type": "display_data"
    }
   ],
   "source": [
    "plt.contourf(lat2d,lon2d,rainfall_slice)\n",
    "plt.scatter(track_lon,track_lat,edgecolor='white',facecolor=None)\n",
    "# plt.scatter(track_lon1,track_lat1,edgecolor='Blue')\n",
    "# plt.scatter(track_lon2,track_lat2,edgecolor='red') #best\n",
    "# plt.scatter(track_lon3,track_lat3,edgecolor='green')\n",
    "# plt.scatter(track_lon4,track_lat4,edgecolor='black')\n",
    "plt.axis([track_lon-10,track_lon+10,track_lat-10,track_lat+10])\n",
    "# plt.axis([150,170, 44, 54])"
   ]
  },
  {
   "cell_type": "code",
   "execution_count": 17,
   "metadata": {},
   "outputs": [
    {
     "name": "stdout",
     "output_type": "stream",
     "text": [
      "<xarray.DataArray 'pr' (lat: 1800, lon: 3600)>\n",
      "array([[0., 0., 0., ..., 0., 0., 0.],\n",
      "       [0., 0., 0., ..., 0., 0., 0.],\n",
      "       [0., 0., 0., ..., 0., 0., 0.],\n",
      "       ...,\n",
      "       [0., 0., 0., ..., 0., 0., 0.],\n",
      "       [0., 0., 0., ..., 0., 0., 0.],\n",
      "       [0., 0., 0., ..., 0., 0., 0.]], dtype=float32)\n",
      "Coordinates:\n",
      "    time     object 2058-03-28 15:00:00\n",
      "  * lon      (lon) float64 -179.9 -179.8 -179.8 -179.6 ... 179.8 179.9 180.0\n",
      "  * lat      (lat) float64 -89.95 -89.85 -89.75 -89.65 ... 89.75 89.85 89.95\n",
      "Attributes:\n",
      "    standard_name:  precipitation_flux\n",
      "    long_name:      Precipitation\n",
      "    units:          kg m-2 s-1\n",
      "    comment:        includes both liquid and solid phases\n",
      "    original_name:  PRECT\n",
      "    cell_methods:   area: time: mean\n",
      "    cell_measures:  area: areacella\n",
      "    history:        2020-08-27T22:45:12Z altered by CMOR: Converted type from...\n",
      "<xarray.DataArray 'pr' (lat: 1800, lon: 3600)>\n",
      "array([[0., 0., 0., ..., 0., 0., 0.],\n",
      "       [0., 0., 0., ..., 0., 0., 0.],\n",
      "       [0., 0., 0., ..., 0., 0., 0.],\n",
      "       ...,\n",
      "       [0., 0., 0., ..., 0., 0., 0.],\n",
      "       [0., 0., 0., ..., 0., 0., 0.],\n",
      "       [0., 0., 0., ..., 0., 0., 0.]], dtype=float32)\n",
      "Coordinates:\n",
      "    time     object 2058-03-28 15:00:00\n",
      "  * lon      (lon) float64 -179.9 -179.8 -179.8 -179.6 ... 179.8 179.9 180.0\n",
      "  * lat      (lat) float64 -89.95 -89.85 -89.75 -89.65 ... 89.75 89.85 89.95\n",
      "Attributes:\n",
      "    standard_name:  precipitation_flux\n",
      "    long_name:      Precipitation\n",
      "    units:          kg m-2 s-1\n",
      "    comment:        includes both liquid and solid phases\n",
      "    original_name:  PRECT\n",
      "    cell_methods:   area: time: mean\n",
      "    cell_measures:  area: areacella\n",
      "    history:        2020-08-27T22:45:12Z altered by CMOR: Converted type from...\n"
     ]
    },
    {
     "data": {
      "text/plain": [
       "(188.55938720703125,\n",
       " 208.55938720703125,\n",
       " 26.827972412109375,\n",
       " 46.827972412109375)"
      ]
     },
     "execution_count": 17,
     "metadata": {},
     "output_type": "execute_result"
    },
    {
     "data": {
      "image/png": "[encoded data removed]",
      "text/plain": [
       "<Figure size 640x480 with 1 Axes>"
      ]
     },
     "metadata": {},
     "output_type": "display_data"
    }
   ],
   "source": [
    "print(rainfall_slice)\n",
    "print(rainfall_slice.where((rainfall_slice < 0), 0))\n",
    "# 2014-06-24 13:30:00\n",
    "# 2014-05-19 00:00:00\n",
    "\"\"\"recreate by running with track year 2013 and rain year 2014, then timedelta is -365 days, then run again but with 2014 2014 which\n",
    "throws an error cos the year is still 365 days behind, but the plot looks CORRECT!?\"\"\"\n",
    "\n",
    "# 2014-01-12 19:30:00\n",
    "# 2014-01-06 00:00:00\n",
    "\n",
    "plt.contourf(lat2d,lon2d,rainfall_slice.where(~(rainfall_slice < 0), 0))\n",
    "plt.scatter(track_lon,track_lat,edgecolor='white',facecolor=None)\n",
    "# plt.scatter(track_lon1,track_lat1,edgecolor='Blue')\n",
    "# plt.scatter(track_lon2,track_lat2,edgecolor='red') #best\n",
    "# plt.scatter(track_lon3,track_lat3,edgecolor='green')\n",
    "# plt.scatter(track_lon4,track_lat4,edgecolor='black')\n",
    "plt.axis([track_lon-10,track_lon+10,track_lat-10,track_lat+10])"
   ]
  },
  {
   "cell_type": "code",
   "execution_count": null,
   "metadata": {},
   "outputs": [],
   "source": []
  },
  {
   "cell_type": "code",
   "execution_count": null,
   "metadata": {},
   "outputs": [],
   "source": []
  },
  {
   "cell_type": "code",
   "execution_count": null,
   "metadata": {},
   "outputs": [],
   "source": []
  },
  {
   "cell_type": "code",
   "execution_count": null,
   "metadata": {},
   "outputs": [],
   "source": []
  }
 ],
 "metadata": {
  "kernelspec": {
   "display_name": "jungle",
   "language": "python",
   "name": "python3"
  },
  "language_info": {
   "codemirror_mode": {
    "name": "ipython",
    "version": 3
   },
   "file_extension": ".py",
   "mimetype": "text/x-python",
   "name": "python",
   "nbconvert_exporter": "python",
   "pygments_lexer": "ipython3",
   "version": "3.11.0"
  },
  "orig_nbformat": 4,
  "vscode": {
   "interpreter": {
    "hash": "06f65649d336afd0ebba03c3039e75b8a241c14dec991b05bfac521d51737e5b"
   }
  }
 },
 "nbformat": 4,
 "nbformat_minor": 2
}
