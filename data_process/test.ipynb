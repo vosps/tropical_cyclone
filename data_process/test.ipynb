{
 "cells": [
  {
   "cell_type": "code",
   "execution_count": 1,
   "metadata": {},
   "outputs": [],
   "source": [
    "# import modules\n",
    "import glob\n",
    "import pandas as pd\n",
    "from netCDF4 import Dataset\n",
    "import numpy as np"
   ]
  },
  {
   "cell_type": "code",
   "execution_count": 2,
   "metadata": {},
   "outputs": [
    {
     "name": "stderr",
     "output_type": "stream",
     "text": [
      "/user/home/al18709/.conda/envs/aquatic/lib/python3.7/site-packages/IPython/core/interactiveshell.py:3457: DtypeWarning: Columns (1,8,9,25) have mixed types.Specify dtype option on import or set low_memory=False.\n",
      "  exec(code_obj, self.user_global_ns, self.user_ns)\n"
     ]
    }
   ],
   "source": [
    "# open csv file\n",
    "ibtracks = pd.read_csv('/user/work/al18709/ibtracks/ibtracs.ALL.list.v04r00.csv',\n",
    "\t\t\t\t\t\tusecols=['SID','LAT','LON','BASIN','NAME','SEASON', 'NATURE','ISO_TIME','USA_SSHS'],\n",
    "\t\t\t\t\t\tparse_dates = ['ISO_TIME'],keep_default_na=False)"
   ]
  },
  {
   "cell_type": "code",
   "execution_count": 6,
   "metadata": {},
   "outputs": [],
   "source": [
    "# tidy up columns with multiple dtypes\n",
    "ibtracks = ibtracks.iloc[1: , :]\n",
    "ibtracks = ibtracks.replace(' ', np.nan)\n",
    "ibtracks['USA_SSHS'] = pd.to_numeric(ibtracks['USA_SSHS'])\n",
    "ibtracks['SEASON'] = pd.to_numeric(ibtracks['SEASON'])"
   ]
  },
  {
   "cell_type": "code",
   "execution_count": 21,
   "metadata": {},
   "outputs": [],
   "source": [
    "# subset storms since 2000\n",
    "ibtracks = ibtracks[ibtracks['SEASON'] >= 1979] #TODO: change so doesn't include 1999\n",
    "# select tropical storms that reach TS strength\n",
    "ibtracks = ibtracks[ibtracks['NATURE'] == 'TS']\n",
    "# select only storms that strengthen to TC strength at any point\n",
    "TCs = ibtracks[ibtracks['USA_SSHS'] >= 1]['SID']\n",
    "TCs = TCs.drop_duplicates()\n",
    "# reference ibtracks with TCs\n",
    "inner_join = pd.merge(ibtracks, \n",
    "                      TCs, \n",
    "                      on ='SID', \n",
    "                      how ='inner')\n"
   ]
  },
  {
   "cell_type": "code",
   "execution_count": 25,
   "metadata": {},
   "outputs": [
    {
     "name": "stdout",
     "output_type": "stream",
     "text": [
      "                  SID  SEASON BASIN   NAME             ISO_TIME NATURE  \\\n",
      "0       1978361N02180    1979    WP  ALICE  1978-12-31 06:00:00     TS   \n",
      "1       1978361N02180    1979    WP  ALICE  1978-12-31 09:00:00     TS   \n",
      "2       1978361N02180    1979    WP  ALICE  1978-12-31 12:00:00     TS   \n",
      "3       1978361N02180    1979    WP  ALICE  1978-12-31 15:00:00     TS   \n",
      "4       1978361N02180    1979    WP  ALICE  1978-12-31 18:00:00     TS   \n",
      "...               ...     ...   ...    ...                  ...    ...   \n",
      "134395  2021236N12296    2021    NA    IDA  2021-08-28 12:00:00     TS   \n",
      "134396  2021236N12296    2021    NA    IDA  2021-08-28 15:00:00     TS   \n",
      "134397  2021236N12296    2021    NA    IDA  2021-08-28 18:00:00     TS   \n",
      "134398  2021236N12296    2021    NA    IDA  2021-08-28 21:00:00     TS   \n",
      "134399  2021236N12296    2021    NA    IDA  2021-08-29 00:00:00     TS   \n",
      "\n",
      "            LAT      LON  USA_SSHS  \n",
      "0       1.95404  172.542      -1.0  \n",
      "1       2.02942  172.303      -1.0  \n",
      "2        2.0875  171.975      -1.0  \n",
      "3       2.16935  171.695      -1.0  \n",
      "4       2.29725  171.437      -1.0  \n",
      "...         ...      ...       ...  \n",
      "134395     24.4    -85.7       1.0  \n",
      "134396  24.9848 -86.1577       1.0  \n",
      "134397     25.6    -86.6       2.0  \n",
      "134398  26.1678 -87.0468       2.0  \n",
      "134399     26.7    -87.5       2.0  \n",
      "\n",
      "[134400 rows x 9 columns]\n"
     ]
    }
   ],
   "source": [
    "# print(TCs)\n",
    "print(inner_join)\n"
   ]
  },
  {
   "cell_type": "code",
   "execution_count": 26,
   "metadata": {},
   "outputs": [
    {
     "name": "stdout",
     "output_type": "stream",
     "text": [
      "                  SID  SEASON BASIN       NAME             ISO_TIME NATURE  \\\n",
      "415770  1978324S10097    1979    SI  NOT_NAMED  1978-11-19 12:00:00     TS   \n",
      "415771  1978324S10097    1979    SI  NOT_NAMED  1978-11-19 15:00:00     TS   \n",
      "415772  1978324S10097    1979    SI  NOT_NAMED  1978-11-19 18:00:00     TS   \n",
      "415773  1978324S10097    1979    SI  NOT_NAMED  1978-11-19 21:00:00     TS   \n",
      "415774  1978324S10097    1979    SI  NOT_NAMED  1978-11-20 00:00:00     TS   \n",
      "...               ...     ...   ...        ...                  ...    ...   \n",
      "699909  2021236N12296    2021    NA        IDA  2021-08-28 12:00:00     TS   \n",
      "699910  2021236N12296    2021    NA        IDA  2021-08-28 15:00:00     TS   \n",
      "699911  2021236N12296    2021    NA        IDA  2021-08-28 18:00:00     TS   \n",
      "699912  2021236N12296    2021    NA        IDA  2021-08-28 21:00:00     TS   \n",
      "699913  2021236N12296    2021    NA        IDA  2021-08-29 00:00:00     TS   \n",
      "\n",
      "            LAT      LON  USA_SSHS  \n",
      "415770    -10.2     97.0      -1.0  \n",
      "415771 -10.3518  96.9062      -1.0  \n",
      "415772 -10.5129  96.7707       0.0  \n",
      "415773  -10.705  96.5511       0.0  \n",
      "415774    -11.0     96.2       0.0  \n",
      "...         ...      ...       ...  \n",
      "699909     24.4    -85.7       1.0  \n",
      "699910  24.9848 -86.1577       1.0  \n",
      "699911     25.6    -86.6       2.0  \n",
      "699912  26.1678 -87.0468       2.0  \n",
      "699913     26.7    -87.5       2.0  \n",
      "\n",
      "[215797 rows x 9 columns]\n"
     ]
    }
   ],
   "source": [
    "print(ibtracks)"
   ]
  },
  {
   "cell_type": "code",
   "execution_count": 34,
   "metadata": {},
   "outputs": [
    {
     "name": "stdout",
     "output_type": "stream",
     "text": [
      "42        1978361N02180\n",
      "154       1979002S04179\n",
      "233       1979042S05170\n",
      "573       1979043S11161\n",
      "692       1979066S15124\n",
      "              ...      \n",
      "134161    2021221N11266\n",
      "134264    2021222N12339\n",
      "134336    2021226N38295\n",
      "134372    2021235N12269\n",
      "134389    2021236N12296\n",
      "Name: SID, Length: 1894, dtype: object\n",
      "416293    1978361N02180\n",
      "416490    1979002S04179\n",
      "417149    1979042S05170\n",
      "417490    1979043S11161\n",
      "417724    1979066S15124\n",
      "              ...      \n",
      "699299    2021221N11266\n",
      "699465    2021222N12339\n",
      "699662    2021226N38295\n",
      "699843    2021235N12269\n",
      "699903    2021236N12296\n",
      "Name: SID, Length: 1894, dtype: object\n"
     ]
    }
   ],
   "source": [
    "sids = inner_join['SID']\n",
    "sids = inner_join[inner_join['USA_SSHS'] >= 1]['SID']\n",
    "sids = sids.drop_duplicates()\n",
    "print(sids)\n",
    "print(TCs)\n"
   ]
  },
  {
   "cell_type": "code",
   "execution_count": null,
   "metadata": {},
   "outputs": [],
   "source": []
  }
 ],
 "metadata": {
  "interpreter": {
   "hash": "43a3789a3b5dd03cc707ddda060cc4de0877d661f9f1863eb4d531c55aa927cb"
  },
  "kernelspec": {
   "display_name": "Python 3.7.12 64-bit ('aquatic': conda)",
   "language": "python",
   "name": "python3"
  },
  "language_info": {
   "codemirror_mode": {
    "name": "ipython",
    "version": 3
   },
   "file_extension": ".py",
   "mimetype": "text/x-python",
   "name": "python",
   "nbconvert_exporter": "python",
   "pygments_lexer": "ipython3",
   "version": "3.7.12"
  },
  "orig_nbformat": 4
 },
 "nbformat": 4,
 "nbformat_minor": 2
}
