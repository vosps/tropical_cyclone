{
 "cells": [
  {
   "cell_type": "code",
   "execution_count": 125,
   "metadata": {},
   "outputs": [],
   "source": [
    "import xarray as xr\n",
    "import glob\n",
    "import numpy as np\n",
    "import pandas as pd"
   ]
  },
  {
   "cell_type": "code",
   "execution_count": 126,
   "metadata": {},
   "outputs": [],
   "source": [
    "var_path = '/user/work/al18709/tc_data_var'\n",
    "mswep_path = '/user/work/al18709/tc_data_mswep'\n",
    "mswep_2_path = '/user/work/al18709/tc_data_mswep_TS'"
   ]
  },
  {
   "cell_type": "code",
   "execution_count": 127,
   "metadata": {},
   "outputs": [],
   "source": [
    "X_var = np.load(var_path + '/train_X.npy')\n",
    "X_mswep = np.load(mswep_path + '/train_X.npy')\n",
    "X_mswep_2 = np.load(mswep_2_path + '/train_X.npy')"
   ]
  },
  {
   "cell_type": "code",
   "execution_count": 135,
   "metadata": {},
   "outputs": [
    {
     "name": "stdout",
     "output_type": "stream",
     "text": [
      "(49073, 10, 10)\n",
      "(46694, 10, 10)\n"
     ]
    }
   ],
   "source": [
    "print(X_var.shape)\n",
    "print(X_mswep.shape)"
   ]
  },
  {
   "cell_type": "code",
   "execution_count": 129,
   "metadata": {},
   "outputs": [
    {
     "name": "stdout",
     "output_type": "stream",
     "text": [
      "49073\n",
      "46694\n",
      "       Unnamed: 0  Unnamed: 0.1            sid  centre_lat  centre_lon\n",
      "0               0             0  1978361N02180     8.50000    168.2670\n",
      "1               1             1  1978361N02180     9.46667    166.7330\n",
      "2               2             2  1978361N02180    10.03330    163.5500\n",
      "3               3             3  1978361N02180    12.01670    159.5330\n",
      "4               4             4  1978361N02180    12.40000    155.3500\n",
      "...           ...           ...            ...         ...         ...\n",
      "46689         220           220          NAMED     3.09247     64.6350\n",
      "46690         221           221          NAMED     5.95748     61.1425\n",
      "46691         222           222          NAMED     7.59374     58.5363\n",
      "46692         223           223          NAMED     8.15737     55.3473\n",
      "46693         224           224          NAMED     8.27243     53.1725\n",
      "\n",
      "[46694 rows x 5 columns]\n",
      "       Unnamed: 0            sid  centre_lat  centre_lon\n",
      "0               0  1978361N02180     7.21667    168.0170\n",
      "1               1  1978361N02180     9.18333    167.9670\n",
      "2               2  1978361N02180     9.56667    165.1000\n",
      "3               3  1978361N02180     5.20000    168.7000\n",
      "4               4  1978361N02180    11.13330    161.6670\n",
      "...           ...            ...         ...         ...\n",
      "49068       50564          NAMED     3.09247     64.6350\n",
      "49069       50565          NAMED     5.95748     61.1425\n",
      "49070       50566          NAMED     7.59374     58.5363\n",
      "49071       50567          NAMED     8.15737     55.3473\n",
      "49072       50568          NAMED     8.27243     53.1725\n",
      "\n",
      "[49073 rows x 4 columns]\n"
     ]
    }
   ],
   "source": [
    "meta_var = pd.read_csv(var_path + '/train_meta.csv')\n",
    "meta_mswep = pd.read_csv(mswep_path + '/train_meta.csv')\n",
    "meta_mswep_2 = pd.read_csv(mswep_2_path + '/train_meta.csv')\n",
    "\n",
    "print(len(meta_var))\n",
    "print(len(meta_mswep))\n",
    "\n",
    "print(meta_mswep)\n",
    "print(meta_var)"
   ]
  },
  {
   "cell_type": "code",
   "execution_count": 136,
   "metadata": {},
   "outputs": [
    {
     "name": "stdout",
     "output_type": "stream",
     "text": [
      "sid           1565\n",
      "centre_lat      85\n",
      "centre_lon      59\n",
      "dtype: int64\n",
      "1565\n",
      "RangeIndex(start=0, stop=46694, step=1)\n"
     ]
    }
   ],
   "source": [
    "meta_mswep = meta_mswep[['sid','centre_lat','centre_lon']]\n",
    "meta_var = meta_var[['sid','centre_lat','centre_lon']]\n",
    "\n",
    "overlap = meta_mswep.isin(meta_var)\n",
    "\n",
    "print(np.sum(overlap))"
   ]
  },
  {
   "cell_type": "code",
   "execution_count": 131,
   "metadata": {},
   "outputs": [],
   "source": [
    "var_sids = meta_var.sid.drop_duplicates()\n",
    "mswep_sids = meta_mswep.sid.drop_duplicates()"
   ]
  },
  {
   "cell_type": "code",
   "execution_count": 132,
   "metadata": {},
   "outputs": [
    {
     "name": "stdout",
     "output_type": "stream",
     "text": [
      "0        1978361N02180\n",
      "98       1979042S05170\n",
      "262      1979066S15124\n",
      "310      1979077N07150\n",
      "340      1979152N11265\n",
      "             ...      \n",
      "46352    2020276N17277\n",
      "46372    2020279N16284\n",
      "46406    2020299N18277\n",
      "46437    2020318N16289\n",
      "46469            NAMED\n",
      "Name: sid, Length: 1002, dtype: object\n",
      "0        1978361N02180\n",
      "97       1979042S05170\n",
      "259      1979066S15124\n",
      "310      1979077N07150\n",
      "340      1979152N11265\n",
      "             ...      \n",
      "48716    2020276N17277\n",
      "48737    2020279N16284\n",
      "48772    2020299N18277\n",
      "48804    2020318N16289\n",
      "48837            NAMED\n",
      "Name: sid, Length: 1002, dtype: object\n"
     ]
    }
   ],
   "source": [
    "\n",
    "print(mswep_sids)\n",
    "print(var_sids)\n",
    "# print(sum(var_sids == mswep_sids))\n",
    "# print(len(var_sids))\n",
    "# print(len(mswep_sids))"
   ]
  },
  {
   "cell_type": "code",
   "execution_count": 140,
   "metadata": {},
   "outputs": [],
   "source": [
    "lats = []\n",
    "lons = []\n",
    "for SID in mswep_sids:\n",
    "\n",
    "\tvar_lats = meta_var[meta_var.sid == SID].centre_lat\n",
    "\tmswep_lats = meta_mswep[meta_mswep.sid == SID].centre_lat\n",
    "\tvar_lons = meta_var[meta_var.sid == SID].centre_lon\n",
    "\tmswep_lons = meta_mswep[meta_mswep.sid == SID].centre_lon\n",
    "\t\n",
    "\t# if len(var_lats.isin(mswep_lats)) == len(mswep_lats):\n",
    "\t# \tlats.append(True)\n",
    "\t# else:\n",
    "\t# \tlats.append(False)\n",
    "\t\n",
    "\t# if len(var_lons.isin(mswep_lons)) == len(mswep_lons):\n",
    "\t# \tlons.append(True)\n",
    "\t# else:\n",
    "\t# \tlons.append(False)\n",
    "\n",
    "\tif len(mswep_lats.isin(var_lats)) == len(var_lats):\n",
    "\t\tlats.append(True)\n",
    "\telse:\n",
    "\t\tlats.append(False)\n",
    "\t\n",
    "\tif len(mswep_lons.isin(var_lons)) == len(var_lons):\n",
    "\t\tlons.append(True)\n",
    "\telse:\n",
    "\t\tlons.append(False)\n",
    "\t# all mswep values are in the var dataset\n",
    "\t# but not all of the var values are in the mswep dataset\n",
    "\t# so we should take only the var values in the mswep dataset and drop the others for now\n",
    "\t# break\n"
   ]
  },
  {
   "cell_type": "code",
   "execution_count": 141,
   "metadata": {},
   "outputs": [
    {
     "name": "stdout",
     "output_type": "stream",
     "text": [
      "[False, False, False, True, True, True, False, True, False, False, False, False, False, True, False, True, False, False, False, False, True, True, True, False, True, False, False, False, False, False, True, False, False, False, True, False, True, False, False, True, False, True, False, False, False, False, True, True, True, True, True, True, False, False, False, False, False, True, False, False, False, False, True, True, False, False, True, False, True, False, True, True, True, True, False, False, False, False, True, True, True, False, False, True, True, False, False, False, True, False, True, True, False, False, False, True, True, False, True, False, False, False, False, False, True, False, True, True, False, True, True, True, False, False, False, True, False, False, True, False, False, False, False, False, True, True, True, True, False, False, False, False, True, False, False, True, False, True, True, False, False, False, True, False, True, True, False, False, False, False, False, False, False, True, True, True, False, False, False, False, True, True, True, True, True, True, True, True, True, False, False, False, True, True, False, True, True, True, False, True, False, False, False, False, True, True, False, False, False, True, False, True, True, True, True, False, True, False, True, False, True, True, False, False, True, False, True, True, False, False, False, True, True, False, False, True, False, False, False, True, False, False, True, True, True, True, False, True, False, True, True, True, False, True, False, False, True, False, True, False, True, True, False, False, True, False, False, False, False, False, False, False, False, False, True, False, False, False, False, False, False, False, True, False, False, False, False, False, False, False, False, False, True, False, False, False, True, False, False, False, False, False, False, False, False, False, False, False, False, True, False, False, True, False, False, True, False, True, False, False, False, False, False, True, False, False, False, False, False, False, False, False, False, False, False, False, False, False, True, False, False, False, False, False, False, False, False, False, False, False, False, False, False, False, True, True, False, False, False, False, False, False, False, False, True, False, False, False, False, True, False, False, True, False, False, False, False, True, True, False, False, False, False, False, False, False, False, False, True, False, True, False, False, True, False, False, False, False, True, True, True, False, False, True, False, False, False, False, True, True, True, False, True, False, False, True, True, False, True, False, True, False, False, False, False, False, False, False, False, False, False, False, False, False, False, True, False, True, True, False, True, True, False, False, False, False, False, False, False, False, True, True, False, True, True, False, True, False, False, False, True, True, True, False, True, False, False, False, False, False, False, False, False, True, True, False, False, False, False, True, False, True, False, False, True, True, True, False, False, False, False, False, False, False, True, False, False, True, True, True, True, False, False, False, False, False, True, True, False, True, False, False, False, False, False, False, False, True, False, True, True, True, False, False, False, False, False, False, False, False, True, False, False, False, False, False, False, False, False, False, False, False, False, False, True, False, False, True, False, False, True, False, False, True, False, False, False, False, False, True, False, False, False, False, False, False, True, False, True, False, False, False, True, False, False, True, False, False, True, False, False, True, False, False, False, False, True, False, True, True, False, False, False, True, False, False, False, True, False, True, False, False, False, True, False, False, True, True, False, False, False, False, True, False, False, False, False, False, True, False, True, False, False, True, False, False, False, False, False, False, False, False, False, False, False, False, True, False, False, False, False, False, False, False, False, False, True, False, False, False, False, False, False, False, True, False, False, False, False, False, False, False, True, False, False, True, False, False, False, False, False, True, False, False, False, False, False, False, False, False, False, True, False, True, False, False, False, False, True, False, False, True, False, False, False, False, False, True, False, False, False, False, False, False, False, False, False, True, False, False, True, False, True, False, False, False, True, False, False, False, False, False, False, False, False, False, True, True, False, False, False, False, False, False, False, False, False, False, True, True, False, False, True, False, False, False, False, False, False, False, True, False, False, False, False, False, False, False, False, False, False, False, True, False, True, False, False, False, False, False, False, False, True, False, False, False, False, False, False, True, True, False, False, True, False, False, False, False, False, True, False, False, False, False, False, False, False, False, False, False, False, False, False, False, True, True, True, False, False, False, False, True, False, False, False, False, False, False, True, False, False, False, False, False, False, False, True, False, False, False, False, False, True, False, False, False, False, False, False, False, False, False, False, False, False, False, False, True, False, False, False, False, False, True, False, False, False, False, False, False, False, False, False, False, False, True, True, False, False, False, False, False, False, True, False, False, True, False, False, False, False, True, False, False, False, False, True, True, False, False, True, False, False, False, False, False, False, False, False, True, False, True, False, False, False, False, False, False, False, False, False, True, True, False, True, True, False, False, False, False, False, False, False, False, False, False, False, False, True, False, False, True, False, False, False, False, False, False, False, False, False, False, True, False, False, False, False, False, False, True, False, True, False, False, False, False, True, True, False, False, False, False, False, False, False, False, False, False, False, False, False, False, False, True, False, False, False, True, False, False, False, False, False, False, True, False, False, False, False, False, False, False, False, False, False, False, True, False, False, False, False, True, True, True, False, False, False, False, False, True, False, False, False, True, True, False, False, False, False, False, False, False]\n",
      "268\n"
     ]
    }
   ],
   "source": [
    "\n",
    "print(lats)\n",
    "print(np.sum(lats))"
   ]
  },
  {
   "cell_type": "code",
   "execution_count": null,
   "metadata": {},
   "outputs": [],
   "source": []
  },
  {
   "cell_type": "code",
   "execution_count": null,
   "metadata": {},
   "outputs": [],
   "source": []
  }
 ],
 "metadata": {
  "kernelspec": {
   "display_name": "Aquatic (work)",
   "language": "python",
   "name": "aquatic"
  },
  "language_info": {
   "codemirror_mode": {
    "name": "ipython",
    "version": 3
   },
   "file_extension": ".py",
   "mimetype": "text/x-python",
   "name": "python",
   "nbconvert_exporter": "python",
   "pygments_lexer": "ipython3",
   "version": "3.7.12"
  },
  "orig_nbformat": 4
 },
 "nbformat": 4,
 "nbformat_minor": 2
}
