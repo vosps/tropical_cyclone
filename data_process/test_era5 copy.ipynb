{
 "cells": [
  {
   "cell_type": "code",
   "execution_count": 1,
   "metadata": {},
   "outputs": [],
   "source": [
    "import xarray as xr\n",
    "import glob\n",
    "import numpy as np\n",
    "import pandas as pd"
   ]
  },
  {
   "cell_type": "code",
   "execution_count": 2,
   "metadata": {},
   "outputs": [],
   "source": [
    "var_path = '/user/work/al18709/tc_data_var'\n",
    "mswep_path = '/user/work/al18709/tc_data_mswep'\n",
    "mswep_2_path = '/user/work/al18709/tc_data_mswep_TS'"
   ]
  },
  {
   "cell_type": "code",
   "execution_count": 3,
   "metadata": {},
   "outputs": [],
   "source": [
    "X_var = np.load(var_path + '/train_X.npy')\n",
    "X_mswep = np.load(mswep_path + '/train_X.npy')\n",
    "X_mswep_2 = np.load(mswep_2_path + '/train_X.npy')"
   ]
  },
  {
   "cell_type": "code",
   "execution_count": 4,
   "metadata": {},
   "outputs": [
    {
     "name": "stdout",
     "output_type": "stream",
     "text": [
      "(38364, 10, 10)\n",
      "(48750, 10, 10)\n"
     ]
    }
   ],
   "source": [
    "print(X_var.shape)\n",
    "print(X_mswep.shape)"
   ]
  },
  {
   "cell_type": "code",
   "execution_count": 5,
   "metadata": {},
   "outputs": [],
   "source": [
    "meta_var = pd.read_csv(var_path + '/train_meta.csv')\n",
    "meta_mswep = pd.read_csv(mswep_path + '/train_meta.csv')\n",
    "meta_mswep_2 = pd.read_csv(mswep_2_path + '/train_meta.csv')"
   ]
  },
  {
   "cell_type": "code",
   "execution_count": 6,
   "metadata": {},
   "outputs": [
    {
     "name": "stdout",
     "output_type": "stream",
     "text": [
      "                 sid  centre_lat  centre_lon\n",
      "0      1978361N02180     4.66607    169.2190\n",
      "1      1978361N02180     4.94467    168.9660\n",
      "2      1978361N02180     5.20000    168.7000\n",
      "3      1978361N02180     5.43944    168.4060\n",
      "4      1978361N02180     5.67043    168.1280\n",
      "...              ...         ...         ...\n",
      "38359          NAMED    36.20000    -68.5000\n",
      "38360          NAMED    37.00000    -67.0000\n",
      "38361          NAMED    37.56150    -66.6954\n",
      "38362          NAMED    38.20000    -66.5000\n",
      "38363          NAMED    40.46750    -65.2217\n",
      "\n",
      "[38364 rows x 3 columns]\n",
      "                 sid  centre_lat  centre_lon\n",
      "0      1978361N02180     4.66607    169.2190\n",
      "1      1978361N02180     4.66607    169.2190\n",
      "2      1978361N02180     4.94467    168.9660\n",
      "3      1978361N02180     4.94467    168.9660\n",
      "4      1978361N02180     5.20000    168.7000\n",
      "...              ...         ...         ...\n",
      "48745          NAMED    40.46750    -65.2217\n",
      "48746          NAMED    41.60000    -64.7000\n",
      "48747          NAMED    42.85090    -64.0665\n",
      "48748          NAMED    44.00000    -63.6000\n",
      "48749          NAMED    44.96400    -63.3638\n",
      "\n",
      "[48750 rows x 3 columns]\n"
     ]
    }
   ],
   "source": [
    "meta_mswep = meta_mswep[['sid','centre_lat','centre_lon']].drop_duplicates()\n",
    "meta_var = meta_var[['sid','centre_lat','centre_lon']].drop_duplicates()\n",
    "idx_drop_duplicates = meta_var.index\n",
    "\n",
    "# print(idx)\n",
    "# cut down X so it alligns with meta\n",
    "# X = X[idx_drop_duplicates,:,:]\n",
    "\n",
    "print(meta_var)\n",
    "print(meta_mswep)"
   ]
  },
  {
   "cell_type": "code",
   "execution_count": 10,
   "metadata": {},
   "outputs": [
    {
     "name": "stdout",
     "output_type": "stream",
     "text": [
      "                 sid  centre_lat  centre_lon      Exist\n",
      "0      1978361N02180     4.66607    169.2190  left_only\n",
      "1      1978361N02180     4.66607    169.2190       both\n",
      "2      1978361N02180     4.94467    168.9660  left_only\n",
      "3      1978361N02180     4.94467    168.9660       both\n",
      "4      1978361N02180     5.20000    168.7000       both\n",
      "...              ...         ...         ...        ...\n",
      "48745          NAMED    40.46750    -65.2217       both\n",
      "48746          NAMED    41.60000    -64.7000  left_only\n",
      "48747          NAMED    42.85090    -64.0665  left_only\n",
      "48748          NAMED    44.00000    -63.6000  left_only\n",
      "48749          NAMED    44.96400    -63.3638  left_only\n",
      "\n",
      "[48750 rows x 4 columns]\n",
      "38364\n"
     ]
    }
   ],
   "source": [
    "\n",
    "def compare(df1,df2,col='Exist'):\n",
    "\t\"\"\" add column to df1 and if row exists in df2 then put true\"\"\"\n",
    "\tdf = pd.merge(df1, df2, on=['sid','centre_lat','centre_lon'], how='left', indicator=col)\n",
    "\treturn df\n",
    "\t# df['Exist'] = np.where(df.Exist == 'both', True, False)\n",
    "# df = compare(meta_var,meta_mswep)\n",
    "df = compare(meta_mswep,meta_var)\n",
    "print(df)\n",
    "print(np.sum(df['Exist']=='both'))\n",
    "\n",
    "# meta_var and X need to match up exactly with meta_mswep\n",
    "idx_intersection = df['Exist']=='both'\n",
    "intersection = df[idx_intersection]\n",
    "df2 = intersection.sort_values(by=['sid','centre_lat'], ascending = [True, True])\n",
    "\n",
    "idx_sort = df2.index.to_list()\n",
    "\n",
    "# X = X[idx_sort,:,:]"
   ]
  },
  {
   "cell_type": "code",
   "execution_count": 49,
   "metadata": {},
   "outputs": [
    {
     "name": "stdout",
     "output_type": "stream",
     "text": [
      "                 sid  centre_lat  centre_lon\n",
      "0      1978361N02180      4.6661    169.2190\n",
      "2      1978361N02180      4.9447    168.9660\n",
      "4      1978361N02180      5.2000    168.7000\n",
      "5      1978361N02180      5.4394    168.4060\n",
      "7      1978361N02180      5.6704    168.1280\n",
      "...              ...         ...         ...\n",
      "48514  2020318N16289     13.7499    -86.1924\n",
      "48515  2020318N16289     13.7925    -74.2925\n",
      "48516  2020318N16289     13.8000    -86.7000\n",
      "48517  2020318N16289     13.8000    -87.8000\n",
      "48518  2020318N16289     13.8149    -87.2350\n",
      "\n",
      "[46315 rows x 3 columns]\n",
      "                 sid  centre_lat  centre_lon\n",
      "0      1978361N02180      4.6661    169.2190\n",
      "1      1978361N02180      4.9447    168.9660\n",
      "2      1978361N02180      5.2000    168.7000\n",
      "3      1978361N02180      5.4394    168.4060\n",
      "4      1978361N02180      5.6704    168.1280\n",
      "...              ...         ...         ...\n",
      "38158  2020318N16289     13.3000    -75.0000\n",
      "38159  2020318N16289     13.6000    -74.5000\n",
      "38160  2020318N16289     13.6000    -83.0000\n",
      "38161  2020318N16289     13.6000    -83.5000\n",
      "38162  2020318N16289     13.6924    -85.1925\n",
      "\n",
      "[38163 rows x 3 columns]\n"
     ]
    }
   ],
   "source": [
    "meta_mswep = meta_mswep.round(4).drop_duplicates()\n",
    "meta_var = meta_var.round(4).drop_duplicates()\n",
    "# print(meta_mswep)\n",
    "# print(meta_var)\n",
    "print(meta_mswep[(meta_mswep['sid'] != \"NAMED\")])\n",
    "print(meta_var[(meta_var['sid'] != \"NAMED\")])\n",
    "# print(meta_mswep.values[0])\n",
    "# print(meta_mswep.values[1])\n",
    "\n",
    "# print(meta_mswep.round(4))\n"
   ]
  },
  {
   "cell_type": "code",
   "execution_count": 131,
   "metadata": {},
   "outputs": [],
   "source": [
    "var_sids = meta_var.sid.drop_duplicates()\n",
    "mswep_sids = meta_mswep.sid.drop_duplicates()"
   ]
  },
  {
   "cell_type": "code",
   "execution_count": 132,
   "metadata": {},
   "outputs": [
    {
     "name": "stdout",
     "output_type": "stream",
     "text": [
      "0        1978361N02180\n",
      "98       1979042S05170\n",
      "262      1979066S15124\n",
      "310      1979077N07150\n",
      "340      1979152N11265\n",
      "             ...      \n",
      "46352    2020276N17277\n",
      "46372    2020279N16284\n",
      "46406    2020299N18277\n",
      "46437    2020318N16289\n",
      "46469            NAMED\n",
      "Name: sid, Length: 1002, dtype: object\n",
      "0        1978361N02180\n",
      "97       1979042S05170\n",
      "259      1979066S15124\n",
      "310      1979077N07150\n",
      "340      1979152N11265\n",
      "             ...      \n",
      "48716    2020276N17277\n",
      "48737    2020279N16284\n",
      "48772    2020299N18277\n",
      "48804    2020318N16289\n",
      "48837            NAMED\n",
      "Name: sid, Length: 1002, dtype: object\n"
     ]
    }
   ],
   "source": [
    "\n",
    "print(mswep_sids)\n",
    "print(var_sids)\n",
    "# print(sum(var_sids == mswep_sids))\n",
    "# print(len(var_sids))\n",
    "# print(len(mswep_sids))"
   ]
  },
  {
   "cell_type": "code",
   "execution_count": 140,
   "metadata": {},
   "outputs": [],
   "source": [
    "lats = []\n",
    "lons = []\n",
    "for SID in mswep_sids:\n",
    "\n",
    "\tvar_lats = meta_var[meta_var.sid == SID].centre_lat\n",
    "\tmswep_lats = meta_mswep[meta_mswep.sid == SID].centre_lat\n",
    "\tvar_lons = meta_var[meta_var.sid == SID].centre_lon\n",
    "\tmswep_lons = meta_mswep[meta_mswep.sid == SID].centre_lon\n",
    "\t\n",
    "\t# if len(var_lats.isin(mswep_lats)) == len(mswep_lats):\n",
    "\t# \tlats.append(True)\n",
    "\t# else:\n",
    "\t# \tlats.append(False)\n",
    "\t\n",
    "\t# if len(var_lons.isin(mswep_lons)) == len(mswep_lons):\n",
    "\t# \tlons.append(True)\n",
    "\t# else:\n",
    "\t# \tlons.append(False)\n",
    "\n",
    "\tif len(mswep_lats.isin(var_lats)) == len(var_lats):\n",
    "\t\tlats.append(True)\n",
    "\telse:\n",
    "\t\tlats.append(False)\n",
    "\t\n",
    "\tif len(mswep_lons.isin(var_lons)) == len(var_lons):\n",
    "\t\tlons.append(True)\n",
    "\telse:\n",
    "\t\tlons.append(False)\n",
    "\t# all mswep values are in the var dataset\n",
    "\t# but not all of the var values are in the mswep dataset\n",
    "\t# so we should take only the var values in the mswep dataset and drop the others for now\n",
    "\t# break\n"
   ]
  },
  {
   "cell_type": "code",
   "execution_count": 141,
   "metadata": {},
   "outputs": [
    {
     "name": "stdout",
     "output_type": "stream",
     "text": [
      "[False, False, False, True, True, True, False, True, False, False, False, False, False, True, False, True, False, False, False, False, True, True, True, False, True, False, False, False, False, False, True, False, False, False, True, False, True, False, False, True, False, True, False, False, False, False, True, True, True, True, True, True, False, False, False, False, False, True, False, False, False, False, True, True, False, False, True, False, True, False, True, True, True, True, False, False, False, False, True, True, True, False, False, True, True, False, False, False, True, False, True, True, False, False, False, True, True, False, True, False, False, False, False, False, True, False, True, True, False, True, True, True, False, False, False, True, False, False, True, False, False, False, False, False, True, True, True, True, False, False, False, False, True, False, False, True, False, True, True, False, False, False, True, False, True, True, False, False, False, False, False, False, False, True, True, True, False, False, False, False, True, True, True, True, True, True, True, True, True, False, False, False, True, True, False, True, True, True, False, True, False, False, False, False, True, True, False, False, False, True, False, True, True, True, True, False, True, False, True, False, True, True, False, False, True, False, True, True, False, False, False, True, True, False, False, True, False, False, False, True, False, False, True, True, True, True, False, True, False, True, True, True, False, True, False, False, True, False, True, False, True, True, False, False, True, False, False, False, False, False, False, False, False, False, True, False, False, False, False, False, False, False, True, False, False, False, False, False, False, False, False, False, True, False, False, False, True, False, False, False, False, False, False, False, False, False, False, False, False, True, False, False, True, False, False, True, False, True, False, False, False, False, False, True, False, False, False, False, False, False, False, False, False, False, False, False, False, False, True, False, False, False, False, False, False, False, False, False, False, False, False, False, False, False, True, True, False, False, False, False, False, False, False, False, True, False, False, False, False, True, False, False, True, False, False, False, False, True, True, False, False, False, False, False, False, False, False, False, True, False, True, False, False, True, False, False, False, False, True, True, True, False, False, True, False, False, False, False, True, True, True, False, True, False, False, True, True, False, True, False, True, False, False, False, False, False, False, False, False, False, False, False, False, False, False, True, False, True, True, False, True, True, False, False, False, False, False, False, False, False, True, True, False, True, True, False, True, False, False, False, True, True, True, False, True, False, False, False, False, False, False, False, False, True, True, False, False, False, False, True, False, True, False, False, True, True, True, False, False, False, False, False, False, False, True, False, False, True, True, True, True, False, False, False, False, False, True, True, False, True, False, False, False, False, False, False, False, True, False, True, True, True, False, False, False, False, False, False, False, False, True, False, False, False, False, False, False, False, False, False, False, False, False, False, True, False, False, True, False, False, True, False, False, True, False, False, False, False, False, True, False, False, False, False, False, False, True, False, True, False, False, False, True, False, False, True, False, False, True, False, False, True, False, False, False, False, True, False, True, True, False, False, False, True, False, False, False, True, False, True, False, False, False, True, False, False, True, True, False, False, False, False, True, False, False, False, False, False, True, False, True, False, False, True, False, False, False, False, False, False, False, False, False, False, False, False, True, False, False, False, False, False, False, False, False, False, True, False, False, False, False, False, False, False, True, False, False, False, False, False, False, False, True, False, False, True, False, False, False, False, False, True, False, False, False, False, False, False, False, False, False, True, False, True, False, False, False, False, True, False, False, True, False, False, False, False, False, True, False, False, False, False, False, False, False, False, False, True, False, False, True, False, True, False, False, False, True, False, False, False, False, False, False, False, False, False, True, True, False, False, False, False, False, False, False, False, False, False, True, True, False, False, True, False, False, False, False, False, False, False, True, False, False, False, False, False, False, False, False, False, False, False, True, False, True, False, False, False, False, False, False, False, True, False, False, False, False, False, False, True, True, False, False, True, False, False, False, False, False, True, False, False, False, False, False, False, False, False, False, False, False, False, False, False, True, True, True, False, False, False, False, True, False, False, False, False, False, False, True, False, False, False, False, False, False, False, True, False, False, False, False, False, True, False, False, False, False, False, False, False, False, False, False, False, False, False, False, True, False, False, False, False, False, True, False, False, False, False, False, False, False, False, False, False, False, True, True, False, False, False, False, False, False, True, False, False, True, False, False, False, False, True, False, False, False, False, True, True, False, False, True, False, False, False, False, False, False, False, False, True, False, True, False, False, False, False, False, False, False, False, False, True, True, False, True, True, False, False, False, False, False, False, False, False, False, False, False, False, True, False, False, True, False, False, False, False, False, False, False, False, False, False, True, False, False, False, False, False, False, True, False, True, False, False, False, False, True, True, False, False, False, False, False, False, False, False, False, False, False, False, False, False, False, True, False, False, False, True, False, False, False, False, False, False, True, False, False, False, False, False, False, False, False, False, False, False, True, False, False, False, False, True, True, True, False, False, False, False, False, True, False, False, False, True, True, False, False, False, False, False, False, False]\n",
      "268\n"
     ]
    }
   ],
   "source": [
    "\n",
    "print(lats)\n",
    "print(np.sum(lats))"
   ]
  },
  {
   "cell_type": "code",
   "execution_count": null,
   "metadata": {},
   "outputs": [],
   "source": []
  },
  {
   "cell_type": "code",
   "execution_count": null,
   "metadata": {},
   "outputs": [],
   "source": [
    "# var has 97813 in /user/work/al18709/tropical_cyclones/var\n",
    "# mswep has 179712 in /user/work/al18709/tropical_cyclones/mswep\n",
    "\n",
    "# var has 3774 storms in /user/work/al18709/tc_Xy_var\n",
    "# mswep has 5610 storms in /user/work/al18709/tc_Xy\n",
    "\n",
    "\n",
    "\n",
    "# also changed from 0 to 00 so run var again from scratch\n"
   ]
  }
 ],
 "metadata": {
  "kernelspec": {
   "display_name": "Aquatic (work)",
   "language": "python",
   "name": "aquatic"
  },
  "language_info": {
   "codemirror_mode": {
    "name": "ipython",
    "version": 3
   },
   "file_extension": ".py",
   "mimetype": "text/x-python",
   "name": "python",
   "nbconvert_exporter": "python",
   "pygments_lexer": "ipython3",
   "version": "3.7.12"
  },
  "orig_nbformat": 4
 },
 "nbformat": 4,
 "nbformat_minor": 2
}
