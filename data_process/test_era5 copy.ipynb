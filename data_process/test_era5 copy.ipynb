{
 "cells": [
  {
   "cell_type": "code",
   "execution_count": 1,
   "metadata": {},
   "outputs": [],
   "source": [
    "import xarray as xr\n",
    "import glob\n",
    "import numpy as np\n",
    "import pandas as pd"
   ]
  },
  {
   "cell_type": "code",
   "execution_count": 2,
   "metadata": {},
   "outputs": [],
   "source": [
    "def compare(df1,df2,col='Exist'):\n",
    "\t\"\"\" add column to df1 and if row exists in df2 then put true\"\"\"\n",
    "\tdf = pd.merge(df1, df2, on=['sid','centre_lat','centre_lon'], how='left', indicator=col)\n",
    "\treturn df\n",
    "\n",
    "def intersection(meta_mswep,meta_var,X,y):\n",
    "\t\"\"\" return intersection of storms in both datasets\"\"\"\n",
    "\tdf = compare(meta_mswep,meta_var)\n",
    "\t# print(df)\n",
    "\tprint(np.sum(df['Exist']=='both'))\n",
    "\tprint(np.sum(df['Exist']=='left_only'))\n",
    "\tprint(print(np.sum(df['Exist']=='right_only')))\n",
    "\n",
    "\t# meta_var and X need to match up exactly with meta_mswep\n",
    "\tidx_intersection = df['Exist']=='both'\n",
    "\tmeta = df[idx_intersection][['sid','centre_lat','centre_lon']].reset_index(drop=True)\n",
    "\tX = X[idx_intersection,:,:]\n",
    "\ty = y[idx_intersection,:,:]\n",
    "\tprint('None means match: ',pd.util.testing.assert_frame_equal(meta.reset_index(drop=True),meta_var.reset_index(drop=True)))\n",
    "\n",
    "\treturn meta,X,y\n"
   ]
  },
  {
   "cell_type": "code",
   "execution_count": 3,
   "metadata": {},
   "outputs": [],
   "source": [
    "var_path = '/user/work/al18709/tc_data_var'\n",
    "mswep_path = '/user/work/al18709/tc_data_mswep'\n",
    "mswep_2_path = '/user/work/al18709/tc_data_mswep_TS'\n",
    "t_path = '/user/work/al18709/tc_data_t'"
   ]
  },
  {
   "cell_type": "code",
   "execution_count": 12,
   "metadata": {},
   "outputs": [
    {
     "name": "stdout",
     "output_type": "stream",
     "text": [
      "meta_var shape:  (45623, 3)\n",
      "meta_mswep shape:  (46685, 3)\n",
      "45623\n",
      "1062\n",
      "0\n",
      "None\n",
      "None means match:  None\n",
      "meta shape:  (45623, 3)\n",
      "meta_var shape:  (15705, 3)\n",
      "meta_mswep shape:  (16005, 3)\n",
      "15705\n",
      "300\n",
      "0\n",
      "None\n",
      "None means match:  None\n",
      "meta shape:  (15705, 3)\n",
      "meta_var shape:  (15930, 3)\n",
      "meta_mswep shape:  (16355, 3)\n",
      "15930\n",
      "425\n",
      "0\n",
      "None\n",
      "None means match:  None\n",
      "meta shape:  (15930, 3)\n",
      "meta_var shape:  (5217, 3)\n",
      "meta_mswep shape:  (5333, 3)\n",
      "5217\n",
      "116\n",
      "0\n",
      "None\n",
      "None means match:  None\n",
      "meta shape:  (5217, 3)\n",
      "meta_var shape:  (5343, 3)\n",
      "meta_mswep shape:  (5459, 3)\n",
      "5343\n",
      "116\n",
      "0\n",
      "None\n",
      "None means match:  None\n",
      "meta shape:  (5343, 3)\n"
     ]
    }
   ],
   "source": [
    "datasets = ['train','test','valid','extreme_test','extreme_valid']\n",
    "\n",
    "for dataset in datasets:\n",
    "\tX = np.load(f'{mswep_path}/{dataset}_X.npy')\n",
    "\ty = np.load(f'{mswep_path}/{dataset}_y.npy')\n",
    "\tmeta_mswep = pd.read_csv(f'{mswep_path}/{dataset}_meta.csv')\n",
    "\tmeta_var = pd.read_csv(f'{var_path}/{dataset}_meta.csv')\n",
    "\n",
    "\tprint('meta_var shape: ',meta_var.values.shape)\n",
    "\tprint('meta_mswep shape: ',meta_mswep.values.shape)\n",
    "\tmeta,X,y = intersection(meta_mswep,meta_var,X,y)\n",
    "\tnp.save(f'{mswep_path}/{dataset}_X.npy',X)\n",
    "\tnp.save(f'{mswep_path}/{dataset}_y.npy',y)\n",
    "\tmeta.to_csv(f'{mswep_path}/{dataset}_meta.csv',index=False)\n",
    "\tprint('meta shape: ',meta.values.shape)\n",
    "\n",
    "# for dataset in datasets:\n",
    "# \tmeta_mswep = pd.read_csv(f'{mswep_path}/{dataset}_meta.csv')\n",
    "# \tmeta_var = pd.read_csv(f'{var_path}/{dataset}_meta.csv')\n",
    "# \tmeta_var = meta_var.loc[:, ~meta_var.columns.str.contains('^Unnamed')]\n",
    "# \tmeta_mswep = meta_mswep.loc[:, ~meta_mswep.columns.str.contains('^Unnamed')]\n",
    "# \tmeta_var.to_csv(f'{var_path}/{dataset}_meta.csv',index=False)\n",
    "# \tmeta_mswep.to_csv(f'{mswep_path}/{dataset}_meta.csv',index=False)"
   ]
  },
  {
   "cell_type": "code",
   "execution_count": 15,
   "metadata": {},
   "outputs": [],
   "source": [
    "X_var = np.load(var_path + '/train_X.npy')\n",
    "X_mswep = np.load(mswep_path + '/train_X.npy')"
   ]
  },
  {
   "cell_type": "code",
   "execution_count": 16,
   "metadata": {},
   "outputs": [
    {
     "name": "stdout",
     "output_type": "stream",
     "text": [
      "(45623, 10, 10)\n",
      "(45623, 10, 10)\n"
     ]
    }
   ],
   "source": [
    "print(X_var.shape)\n",
    "print(X_mswep.shape)"
   ]
  },
  {
   "cell_type": "code",
   "execution_count": 14,
   "metadata": {},
   "outputs": [
    {
     "name": "stdout",
     "output_type": "stream",
     "text": [
      "                 sid  centre_lat  centre_lon\n",
      "0      1978361N02180      4.6661    169.2190\n",
      "1      1978361N02180      4.9447    168.9660\n",
      "2      1978361N02180      5.2000    168.7000\n",
      "3      1978361N02180      5.4394    168.4060\n",
      "4      1978361N02180      5.6704    168.1280\n",
      "...              ...         ...         ...\n",
      "45618          NAMED     40.4675    -65.2217\n",
      "45619          NAMED     41.6000    -64.7000\n",
      "45620          NAMED     42.8509    -64.0665\n",
      "45621          NAMED     44.0000    -63.6000\n",
      "45622          NAMED     44.9640    -63.3638\n",
      "\n",
      "[45623 rows x 3 columns]\n",
      "                 sid  centre_lat  centre_lon\n",
      "0      1978361N02180      4.6661    169.2190\n",
      "1      1978361N02180      4.9447    168.9660\n",
      "2      1978361N02180      5.2000    168.7000\n",
      "3      1978361N02180      5.4394    168.4060\n",
      "4      1978361N02180      5.6704    168.1280\n",
      "...              ...         ...         ...\n",
      "45618          NAMED     40.4675    -65.2217\n",
      "45619          NAMED     41.6000    -64.7000\n",
      "45620          NAMED     42.8509    -64.0665\n",
      "45621          NAMED     44.0000    -63.6000\n",
      "45622          NAMED     44.9640    -63.3638\n",
      "\n",
      "[45623 rows x 3 columns]\n"
     ]
    }
   ],
   "source": [
    "meta_var = pd.read_csv(var_path + '/train_meta.csv')\n",
    "meta_mswep = pd.read_csv(mswep_path + '/train_meta.csv')\n",
    "\n",
    "print(meta_var)\n",
    "print(meta_mswep)"
   ]
  },
  {
   "cell_type": "code",
   "execution_count": null,
   "metadata": {},
   "outputs": [],
   "source": [
    "meta_mswep = meta_mswep[['sid','centre_lat','centre_lon']].drop_duplicates()\n",
    "meta_var = meta_var[['sid','centre_lat','centre_lon']].drop_duplicates()\n",
    "meta_var = meta_var.loc[:, ~meta_var.columns.str.contains('^Unnamed')]\n",
    "# idx_drop_duplicates = meta_var.index\n",
    "\n",
    "# print(idx)\n",
    "# cut down X so it alligns with meta\n",
    "# X = X[idx_drop_duplicates,:,:]\n",
    "\n",
    "print(meta_var)\n",
    "print(meta_mswep)\n",
    "\n",
    "# print(pd.util.testing.assert_frame_equal(meta_mswep2,meta_mswep))"
   ]
  },
  {
   "cell_type": "code",
   "execution_count": null,
   "metadata": {},
   "outputs": [],
   "source": [
    "\n",
    "\n",
    "# X = X[idx_sort,:,:]"
   ]
  },
  {
   "cell_type": "code",
   "execution_count": null,
   "metadata": {},
   "outputs": [],
   "source": [
    "# var has 97813 in /user/work/al18709/tropical_cyclones/var\n",
    "# mswep has 179712 in /user/work/al18709/tropical_cyclones/mswep\n",
    "\n",
    "# var has 3774 storms in /user/work/al18709/tc_Xy_var\n",
    "# mswep has 5610 storms in /user/work/al18709/tc_Xy\n",
    "\n",
    "\n",
    "\n",
    "# also changed from 0 to 00 so run var again from scratch\n"
   ]
  }
 ],
 "metadata": {
  "kernelspec": {
   "display_name": "Aquatic (work)",
   "language": "python",
   "name": "aquatic"
  },
  "language_info": {
   "codemirror_mode": {
    "name": "ipython",
    "version": 3
   },
   "file_extension": ".py",
   "mimetype": "text/x-python",
   "name": "python",
   "nbconvert_exporter": "python",
   "pygments_lexer": "ipython3",
   "version": "3.7.12"
  },
  "orig_nbformat": 4
 },
 "nbformat": 4,
 "nbformat_minor": 2
}
