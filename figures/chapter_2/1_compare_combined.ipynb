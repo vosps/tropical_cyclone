{
 "cells": [
  {
   "cell_type": "markdown",
   "metadata": {},
   "source": [
    "### Figure 1: Predicted images"
   ]
  },
  {
   "cell_type": "code",
   "execution_count": 1,
   "metadata": {},
   "outputs": [],
   "source": [
    "import numpy as np\n",
    "import pandas as pd\n",
    "import seaborn as sns\n",
    "import matplotlib.pyplot as plt\n",
    "from matplotlib import colors\n",
    "import matplotlib\n",
    "import matplotlib.pyplot as plt\n",
    "from matplotlib.colors import LinearSegmentedColormap\n",
    "import metpy.plots.ctables\n",
    "from utils.data import load_tc_data\n",
    "from utils.plot import make_cmap\n",
    "\n",
    "# TODO: because i'm using imshow the lats need to be flipped - normally would be fine but because lats are flipped and imshow doesn't know this\n",
    "# the TCs are plotted spinning the wrong way\n",
    "\n",
    "sns.set_style(\"white\")\n",
    "sns.set_palette(sns.color_palette(\"Paired\"))\n",
    "sns.set_palette(sns.color_palette(\"Set2\"))"
   ]
  },
  {
   "cell_type": "code",
   "execution_count": 2,
   "metadata": {},
   "outputs": [],
   "source": [
    "# define cmap\n",
    "precip_cmap,precip_norm = make_cmap()"
   ]
  },
  {
   "cell_type": "code",
   "execution_count": 3,
   "metadata": {},
   "outputs": [],
   "source": [
    "def regrid(array):\n",
    "        hr_array = np.zeros((100,100))\n",
    "        for i in range(10):\n",
    "                for j in range(10):\n",
    "                        i1 = i*10\n",
    "                        i2 = (i+1)*10\n",
    "                        j1 = j*10\n",
    "                        j2 = (j+1)*10\n",
    "                        hr_array[i1:i2,j1:j2] = array[i,j]\n",
    "        return hr_array"
   ]
  },
  {
   "cell_type": "code",
   "execution_count": 4,
   "metadata": {},
   "outputs": [],
   "source": [
    "def plot_predictions(inputs,inputs_x,pred_gan,pred_gan_x,pred_gan_combined,pred_gan_x_combined,real,real_x,storms,range_,plot='save'):\n",
    "\tif plot == 'save':\n",
    "\t\t\tfig, axes = plt.subplots(n, m, figsize=(4*m, 4*n), sharey=True)\n",
    "\telse:\n",
    "\t\t\tprint('show')\n",
    "\t\t\tfig, axes = plt.subplots(n, m, figsize=(2*m, 2*n), sharey=True)\n",
    "\n",
    "\tpal = sns.cubehelix_palette(10, rot=-.25, light=.7,as_cmap=True)\n",
    "\n",
    "\tfor i in range(m):\n",
    "\t\tj = 0\n",
    "\t\t\n",
    "\t\tstorm = storms[i]\n",
    "\t\tif storm in [3014,3487,3757,2651,3487,680,1438,3738]:\n",
    "\t\t\tprint('THE STORM IS:',storm)\n",
    "\t\t\tprint('storm max: ',real_x[storm].max())\n",
    "\t\t\tprint('gan max: ',pred_gan_x[storm].max())\n",
    "\t\t\tprint('gan combined max: ',pred_gan_x_combined[storm].max())\n",
    "\t\t\tprint('inputs max: ', np.nanmax(inputs_x[storm]))\n",
    "\t\t\tprint('\\n')\n",
    "\t\t# norm = colors.Normalize(*range_)\n",
    "\t\tnorm = precip_norm\n",
    "\t\tif i in [0,1,2]:\n",
    "\t\t\taxes[j,i].imshow(regrid(inputs[storm]), interpolation='nearest', norm=norm,extent=None,cmap=precip_cmap)\n",
    "\t\t\taxes[j,i].invert_yaxis()\n",
    "\t\t\taxes[j+1,i].imshow(pred_gan[storm], interpolation='nearest',norm=norm, extent=None,cmap=precip_cmap)\n",
    "\t\t\taxes[j+1,i].invert_yaxis()\n",
    "\t\t\taxes[j+2,i].imshow(pred_gan_combined[storm], interpolation='nearest',norm=norm, extent=None,cmap=precip_cmap)\n",
    "\t\t\taxes[j+2,i].invert_yaxis()\n",
    "\t\t\tim = axes[j+3,i].imshow(real[storm], interpolation='nearest',norm=norm, extent=None,cmap=precip_cmap)\n",
    "\t\t\taxes[j+3,i].invert_yaxis()\n",
    "\t\telse:\n",
    "\t\t\taxes[j,i].imshow(regrid(inputs_x[storm]), interpolation='nearest', norm=norm,extent=None,cmap=precip_cmap)\n",
    "\t\t\taxes[j,i].invert_yaxis()\n",
    "\t\t\taxes[j+1,i].imshow(pred_gan_x[storm], interpolation='nearest',norm=norm, extent=None,cmap=precip_cmap)\n",
    "\t\t\taxes[j+1,i].invert_yaxis()\n",
    "\t\t\taxes[j+2,i].imshow(pred_gan_x_combined[storm], interpolation='nearest',norm=norm, extent=None,cmap=precip_cmap)\n",
    "\t\t\taxes[j+2,i].invert_yaxis()\n",
    "\t\t\tim = axes[j+3,i].imshow(real_x[storm], interpolation='nearest',norm=norm, extent=None,cmap=precip_cmap)\n",
    "\t\t\taxes[j+3,i].invert_yaxis()\n",
    "\n",
    "\t\taxes[j,i].set(xticklabels=[])\n",
    "\t\taxes[j,i].set(yticklabels=[])\n",
    "\t\taxes[j+1,i].set(xticklabels=[])\n",
    "\t\taxes[j+1,i].set(yticklabels=[])\n",
    "\t\taxes[j+2,i].set(xticklabels=[])\n",
    "\t\taxes[j+2,i].set(yticklabels=[])\n",
    "\t\taxes[j+3,i].set(xticklabels=[])\n",
    "\t\taxes[j+3,i].set(yticklabels=[])\n",
    "\n",
    "\n",
    "\t\taxes[j,0].set_ylabel('LR input',rotation=0,horizontalalignment='left',fontsize=48,labelpad=240,fontweight='bold',color='#56a1d7')\n",
    "\t\taxes[j+1,0].set_ylabel('WGAN',rotation=0,horizontalalignment='left',fontsize=48,labelpad=240,fontweight='bold',color='#56a1d7')\n",
    "\t\taxes[j+2,0].set_ylabel('WGAN multi',rotation=0,horizontalalignment='left',fontsize=48,labelpad=240,fontweight='bold',color='#56a1d7')\n",
    "\t\taxes[j+3,0].set_ylabel('HR obs',horizontalalignment='left',rotation=0,fontsize=48,labelpad=240,fontweight='bold',color='#56a1d7')\n",
    "\n",
    "\t\taxes[3,j].set_xlabel('-',fontsize=24,labelpad=5)\n",
    "\t\taxes[3,j+1].set_xlabel('-',fontsize=24,labelpad=5)\n",
    "\t\taxes[3,j+2].set_xlabel('-',fontsize=24,labelpad=5)\n",
    "\t\taxes[3,j+3].set_xlabel('Vayu (2019; NI)',fontsize=24,labelpad=5)\n",
    "\n",
    "\n",
    "\tfig.subplots_adjust(right=0.8)\n",
    "\t# cbar_ax = fig.add_axes([1, 0.15, 0.05, 0.7])\n",
    "\tcbar_ax = fig.add_axes([1, 0.031, 0.03, 0.936])\n",
    "\tlevels=[0, 1, 2, 3, 5, 7, 10, 15, 20, 25, 30, 40, 50, 70, 100, 150]\n",
    "\tcb = fig.colorbar(im, cax=cbar_ax,shrink=0.01,ticks=levels)\n",
    "\tcb.ax.tick_params(labelsize=36)\n",
    "\tfig.tight_layout()\n",
    "\n",
    "\tif plot == 'save':\n",
    "\t\t\tplt.savefig('figure_1.png',bbox_inches='tight',dpi=600)\n",
    "\t\t\tplt.clf()\n",
    "\telse:\n",
    "\t\t\tplt.show()\n",
    "\t"
   ]
  },
  {
   "cell_type": "code",
   "execution_count": 8,
   "metadata": {},
   "outputs": [],
   "source": [
    "# load data\n",
    "real,inputs,pred_gan,pred_gan_combined,pred_gan_ensemble,pred_gan_ensemble_combined,meta,meta_combined = load_tc_data(set='validation',results='combined')\n",
    "# real_x,inputs_x,pred_cnn_x,pred_vaegan_x,pred_gan_x,pred_vaegan_ensemble_x,pred_gan_ensemble_x,meta_extreme_valid = load_tc_data(set='extreme_valid',results='combined')\n",
    "# real_x,inputs_x,pred_cnn_x,pred_vaegan_x,pred_gan_x,pred_vaegan_ensemble_x,pred_gan_ensemble_x,meta_extreme_valid = load_tc_data(set='extreme_test',results='combined')\n",
    "\n",
    "\n",
    "# meta = pd.read_csv('/user/work/al18709/tc_data_mswep/valid_meta.csv')\n",
    "# meta_extreme = pd.read_csv('/user/work/al18709/tc_data_mswep/extreme_valid_meta.csv')\n",
    "# meta_extreme_test = pd.read_csv('/user/work/al18709/tc_data_mswep/extreme_test_meta.csv')\n",
    "# meta_test = pd.read_csv('/user/work/al18709/tc_data_mswep/test_meta.csv')\n",
    "# meta_train = pd.read_csv('/user/work/al18709/tc_data_mswep/train_meta.csv')\n",
    "# meta_valid = pd.read_csv('/user/work/al18709/tc_data_mswep/valid_meta.csv')"
   ]
  },
  {
   "cell_type": "code",
   "execution_count": 9,
   "metadata": {},
   "outputs": [],
   "source": [
    "# take only top 100 extremes\n",
    "# inputs_x_max = np.max(inputs_x,axis=(1,2))\n",
    "# max_idx = list(np.argpartition(inputs_x_max, -100)[-100:])\n",
    "\n",
    "# redefine extremes by only the most extreme samples\n",
    "# inputs_hr_x = inputs_hr_x[max_idx]\n",
    "# print(np.mean(np.abs(np.max(pred_cnn_x[max_idx],axis=(1,2))-np.max(real_x[max_idx],axis=(1,2)))))\n",
    "# print(np.mean(np.abs(np.max(pred_vaegan_x[max_idx],axis=(1,2))-np.max(real_x[max_idx],axis=(1,2)))))\n",
    "# print(np.mean(np.abs(np.max(pred_gan_x[max_idx],axis=(1,2))-np.max(real_x[max_idx],axis=(1,2)))))\n",
    "\n",
    "# print(np.max(np.abs(np.max(pred_cnn_x[max_idx],axis=(1,2))-np.max(real_x[max_idx],axis=(1,2)))))\n",
    "# print(np.max(np.abs(np.max(pred_vaegan_x[max_idx],axis=(1,2))-np.max(real_x[max_idx],axis=(1,2)))))\n",
    "# print(np.max(np.abs(np.max(pred_gan_x[max_idx],axis=(1,2))-np.max(real_x[max_idx],axis=(1,2)))))\n",
    "\n",
    "# print(list(np.max(real_x[max_idx],axis=(1,2))))\n",
    "# print(list(np.max(pred_cnn_x[max_idx],axis=(1,2))))\n",
    "\n",
    "# idx = list(np.argpartition(np.max(real_x[max_idx],axis=(1,2)), -10)[-10:])\n",
    "# print(np.max(real_x[max_idx][idx],axis=(1,2)))\n",
    "# print(np.max(pred_cnn_x[max_idx][idx],axis=(1,2)))\n",
    "# print(np.max(pred_vaegan_x[max_idx][idx],axis=(1,2)))\n",
    "# print(np.max(pred_gan_x[max_idx][idx],axis=(1,2)))\n",
    "# print('input max',np.max(inputs_x[max_idx][idx],axis=(1,2)))\n",
    "# print('real max',np.max(real_x[max_idx][idx],axis=(1,2)))\n",
    "# print(idx)\n",
    "\n",
    "# print(np.mean(np.abs(np.max(pred_cnn_x[max_idx][idx],axis=(1,2))-np.max(real_x[max_idx][idx],axis=(1,2)))))\n",
    "# print(np.mean(np.abs(np.max(pred_vaegan_x[max_idx][idx],axis=(1,2))-np.max(real_x[max_idx][idx],axis=(1,2)))))\n",
    "# print(np.mean(np.abs(np.max(pred_gan_x[max_idx][idx],axis=(1,2))-np.max(real_x[max_idx][idx],axis=(1,2)))))\n",
    "\n",
    "# idx = list(np.argpartition(np.max(real_x[max_idx],axis=(1,2)), -10)[:90])\n",
    "# print(idx)\n",
    "# print(np.mean(np.abs(np.max(pred_cnn_x[max_idx][idx],axis=(1,2))-np.max(real_x[max_idx][idx],axis=(1,2)))))\n",
    "# print(np.mean(np.abs(np.max(pred_vaegan_x[max_idx][idx],axis=(1,2))-np.max(real_x[max_idx][idx],axis=(1,2)))))\n",
    "# print(np.mean(np.abs(np.max(pred_gan_x[max_idx][idx],axis=(1,2))-np.max(real_x[max_idx][idx],axis=(1,2)))))\n",
    "# print(np.max(np.abs(np.max(pred_vaegan_x[max_idx],axis=(1,2))-np.max(real_x[max_idx],axis=(1,2)))))\n",
    "# print(np.max(np.abs(np.max(pred_gan_x[max_idx],axis=(1,2))-np.max(real_x[max_idx],axis=(1,2)))))\n",
    "\n",
    "# print(np.max(inputs_x[max_idx],axis=(1,2)))\n",
    "# print(np.max(pred_cnn_x[max_idx],axis=(1,2)))\n",
    "# print(np.max(pred_vaegan_x[max_idx],axis=(1,2)))\n",
    "# print(np.max(pred_gan_x[max_idx],axis=(1,2)))\n",
    "# pred_vaegan_x = pred_vaegan_x[max_idx]\n",
    "# pred_gan_x = pred_gan_x[max_idx]\n",
    "# real_x = real_x[max_idx]\n",
    "# pred_vaegan_ensemble_x = pred_vaegan_ensemble_x[max_idx]\n",
    "# pred_gan_ensemble_x = pred_gan_ensemble_x[max_idx]\n",
    "\n",
    "# print(np.sort(max_idx))"
   ]
  },
  {
   "cell_type": "code",
   "execution_count": 10,
   "metadata": {},
   "outputs": [
    {
     "name": "stdout",
     "output_type": "stream",
     "text": [
      "(15930, 10, 10)\n",
      "(16253, 100, 100)\n",
      "(15930, 100, 100)\n",
      "[[[1.16530577e-01 6.01814058e-02 3.67548675e-02 ... 8.99645551e-02\n",
      "   9.47260960e-02 1.36521340e-01]\n",
      "  [2.85654852e-02 1.98855078e-02 1.97608795e-02 ... 7.57967112e-02\n",
      "   4.55020517e-02 9.88415222e-02]\n",
      "  [2.64627954e-02 2.58267584e-02 1.33670136e-02 ... 6.66579864e-02\n",
      "   4.34237842e-02 6.58531595e-02]\n",
      "  ...\n",
      "  [2.59091362e-01 2.29207249e-01 2.40587840e-01 ... 5.75910514e-02\n",
      "   7.78432775e-02 1.44106854e-01]\n",
      "  [3.37522311e-01 2.47357987e-01 2.30429894e-01 ... 4.42500562e-02\n",
      "   8.69474771e-02 1.88678087e-01]\n",
      "  [5.47521822e-01 5.27005243e-01 3.43180935e-01 ... 6.66744009e-02\n",
      "   1.39880856e-01 2.76637348e-01]]\n",
      "\n",
      " [[3.32872674e-01 1.28213719e-01 8.67506640e-02 ... 3.69436653e-01\n",
      "   4.70155241e-01 5.70198942e-01]\n",
      "  [1.03668151e-01 5.52467827e-02 4.89470911e-02 ... 2.88242964e-01\n",
      "   2.84753333e-01 4.43522161e-01]\n",
      "  [9.13775245e-02 6.90467295e-02 4.28791095e-02 ... 3.87974792e-01\n",
      "   3.72943971e-01 4.54113867e-01]\n",
      "  ...\n",
      "  [9.52911997e-01 1.02539764e+00 1.32526100e+00 ... 1.15654735e-01\n",
      "   1.01843525e-01 1.53480791e-01]\n",
      "  [1.69246830e+00 3.44260037e+00 5.59785481e+00 ... 9.51269209e-02\n",
      "   1.20438216e-01 1.76727457e-01]\n",
      "  [2.32687096e+00 4.22171965e+00 2.71165160e+00 ... 9.37193233e-02\n",
      "   1.52473019e-01 2.54041822e-01]]\n",
      "\n",
      " [[1.62452402e-01 9.08925321e-02 7.41351345e-02 ... 3.25978244e-01\n",
      "   3.63133192e-01 4.76709158e-01]\n",
      "  [6.48158523e-02 3.95825656e-02 4.23813427e-02 ... 1.92399758e-01\n",
      "   1.29276034e-01 3.38621325e-01]\n",
      "  [7.42095747e-02 6.24297416e-02 3.48474836e-02 ... 1.44679806e-01\n",
      "   1.29962235e-01 1.58778140e-01]\n",
      "  ...\n",
      "  [1.14852751e+01 1.41288319e+01 9.55512760e+00 ... 1.85020523e-01\n",
      "   2.06743612e-01 2.95284708e-01]\n",
      "  [8.75652150e+00 9.62324985e+00 9.27472034e+00 ... 4.00136309e-01\n",
      "   5.30560440e-01 5.17466194e-01]\n",
      "  [7.52032969e+00 1.33261849e+01 9.86612056e+00 ... 2.40627959e-01\n",
      "   4.24003714e-01 4.73890171e-01]]\n",
      "\n",
      " ...\n",
      "\n",
      " [[1.53383678e-02 4.95766286e-03 3.94529209e-03 ... 9.99349123e-02\n",
      "   1.45036334e-01 2.94286620e-01]\n",
      "  [4.89230839e-03 1.10956905e-03 1.07054200e-03 ... 7.18138877e-02\n",
      "   8.70193552e-02 1.92680657e-01]\n",
      "  [7.09752761e-03 1.78723459e-03 1.15296277e-03 ... 6.98025734e-02\n",
      "   6.65519161e-02 1.25620362e-01]\n",
      "  ...\n",
      "  [1.45273197e-02 1.56422494e-02 7.25599937e-03 ... 8.74184605e+00\n",
      "   1.04046024e+01 1.15312550e+01]\n",
      "  [1.73313785e-02 1.24842099e-02 9.08060087e-03 ... 1.18375070e+01\n",
      "   1.18333742e+01 1.20704724e+01]\n",
      "  [1.06881095e-01 5.23621968e-02 3.55835249e-02 ... 5.80558429e+00\n",
      "   6.97188385e+00 4.04499815e+00]]\n",
      "\n",
      " [[2.50175104e-02 8.71744321e-03 6.52748327e-03 ... 1.53779866e-01\n",
      "   1.98382914e-01 3.29120655e-01]\n",
      "  [1.01399562e-02 2.61701770e-03 3.92924873e-03 ... 1.17439236e-01\n",
      "   1.47224038e-01 1.94660687e-01]\n",
      "  [1.46954761e-02 3.84435610e-03 5.29662858e-03 ... 1.04473550e-01\n",
      "   1.14759307e-01 1.34748619e-01]\n",
      "  ...\n",
      "  [3.41915085e-01 2.65878852e-01 2.41416835e-01 ... 1.34889717e+00\n",
      "   1.29530425e+00 1.40027024e+00]\n",
      "  [3.39337147e-01 2.30655736e-01 2.39616033e-01 ... 1.81774353e+00\n",
      "   1.14062752e+00 1.59149252e+00]\n",
      "  [5.29095911e-01 3.00629771e-01 2.75371567e-01 ... 1.77685161e+00\n",
      "   1.66854504e+00 1.70583093e+00]]\n",
      "\n",
      " [[2.35502560e-01 3.00875461e-01 2.59098058e-01 ... 3.40798441e-02\n",
      "   5.63072731e-02 1.19874669e-01]\n",
      "  [1.27824205e-01 1.26539027e-01 3.16088425e-01 ... 1.11319479e-02\n",
      "   1.83513629e-02 4.18469532e-02]\n",
      "  [1.01862211e-01 6.45787340e-02 1.41450958e-01 ... 6.27171656e-03\n",
      "   9.13939419e-03 2.00160528e-02]\n",
      "  ...\n",
      "  [8.00611169e-01 1.73909528e+00 1.52711788e+00 ... 2.94183964e+00\n",
      "   4.01964753e+00 3.03399561e+00]\n",
      "  [5.66863938e-01 1.06270486e+00 1.69609672e+00 ... 3.53734643e+00\n",
      "   3.39175242e+00 4.11531003e+00]\n",
      "  [1.03661529e+00 1.38645848e+00 1.73702921e+00 ... 2.95032402e+00\n",
      "   3.53226906e+00 2.23041331e+00]]]\n",
      "THE STORM IS: 3014\n",
      "storm max:  39.37499487049871\n",
      "gan max:  20.89735984802246\n",
      "gan combined max:  25.45472387960261\n",
      "inputs max:  16.7532532912452\n",
      "\n",
      "\n",
      "THE STORM IS: 3487\n",
      "storm max:  24.624999695558568\n",
      "gan max:  22.965953826904297\n",
      "gan combined max:  16.393489704913435\n",
      "inputs max:  10.863602974531402\n",
      "\n",
      "\n",
      "THE STORM IS: 3738\n",
      "storm max:  81.93751167776476\n",
      "gan max:  33.947208404541016\n",
      "gan combined max:  65.25790247252307\n",
      "inputs max:  35.020721713735234\n",
      "\n",
      "\n"
     ]
    },
    {
     "name": "stderr",
     "output_type": "stream",
     "text": [
      "/user/work/al18709/.conda/envs/aquatic/lib/python3.7/site-packages/ipykernel_launcher.py:69: UserWarning: This figure includes Axes that are not compatible with tight_layout, so results might be incorrect.\n"
     ]
    },
    {
     "data": {
      "text/plain": [
       "<Figure size 1728x1152 with 0 Axes>"
      ]
     },
     "metadata": {},
     "output_type": "display_data"
    }
   ],
   "source": [
    "\n",
    "plot = 'save'\n",
    "n = 4\n",
    "m = 6\n",
    "\n",
    "# make colours\n",
    "range_ = (0, 20)\n",
    "storms = [4077, 4078, 4079, 4080, 4081, 4082]\n",
    "\n",
    "# maria 8453 (8452 for unet) 8463\n",
    "# haiyan 9820, 9828,  9845, 9840 9815, 9816, 9822 9809\n",
    "# barb 1347 1375 1399\n",
    "# georges 4082\n",
    "print(inputs.shape)\n",
    "print(pred_gan.shape)\n",
    "print(pred_gan_combined.shape)\n",
    "print(pred_gan_combined)\n",
    "storms = [8453,9845,1375,4128,5358,747]\n",
    "storms = [8453,9845,1375,3014,3487,3757] \n",
    "storms = [8453,9845,1375,3014,3487,3738]\n",
    "# storms_extremes = [4082,5349,763]\n",
    "# pred_gan_combined = 10**pred_gan_combined - 1\n",
    "# inputs = 10**inputs -1\n",
    "# real = 10**real -1\n",
    "plot_predictions(inputs,inputs,pred_gan,pred_gan,pred_gan_combined,pred_gan_combined,real,real,storms,range_)\n"
   ]
  },
  {
   "cell_type": "code",
   "execution_count": 27,
   "metadata": {},
   "outputs": [
    {
     "name": "stdout",
     "output_type": "stream",
     "text": [
      "(array([], dtype=int64),)\n",
      "(array([], dtype=int64),)\n",
      "(array([], dtype=int64),)\n",
      "(array([], dtype=int64),)\n",
      "(array([], dtype=int64),)\n",
      "(array([], dtype=int64),)\n"
     ]
    }
   ],
   "source": [
    "# print(meta.shape)\n",
    "# print(real.shape) \n",
    "\n",
    "# print(np.sum(meta['sid'] == '1992044S09181'))\n",
    "# print(np.sum(meta_extreme['sid'] == '1992044S09181'))\n",
    "# print(np.sum(meta_test['sid'] == '1992044S09181'))\n",
    "# print(np.sum(meta_extreme_test['sid'] == '1992044S09181'))\n",
    "# print(np.sum(meta_train['sid'] == '1992044S09181'))\n",
    "\n",
    "\n",
    "# print(meta_extreme['sid'].values)\n",
    "# for i,storm in enumerate(meta_extreme['sid'].values):\n",
    "# \tpre_storm = meta_extreme['sid'].values[i-1]\n",
    "# \tif storm != pre_storm:\n",
    "# \t\tprint(storm)\n",
    "\n",
    "# Dorian in the test set\n",
    "# Isaac (2012) '2012234N16315' training set NA\n",
    "# Amphan 2020136N10088 ****** lost NI\n",
    "# Harvey 2017228N14314 train NA\n",
    "# Irma 2017242N16333 train NA\n",
    "# Idai 2019063S18038 train SIO \n",
    "# Winston 2016041S14170 test SP\n",
    "# Matthew 2016273N13300 extreme_test NA\n",
    "# Jalawat 2012263N15141 extreme_test WP\n",
    "# irene 2011233N15301 valid\n",
    "# isaac 2012234N16315 train\n",
    "\n",
    "\n",
    "# EP NA WP\n",
    "# NIO SIO SP\n",
    "\n",
    "# Maria 2017260N12310 validation NA\n",
    "# Haiyan 2013306N07162 validation WP\n",
    "# Barbara 1995189N11257 validation EP\n",
    "print(np.where(meta_extreme['sid'] == '2020138N10086'))\n",
    "print(np.where(meta_valid['sid'] == '2020138N10086'))\n",
    "print(np.where(meta_train['sid'] == '2020138N10086'))\n",
    "print(np.where(meta_test['sid'] == '2020138N10086'))\n",
    "print(np.where(meta_extreme_test['sid'] == '2020138N10086'))\n",
    "print(np.where(meta_extreme_valid['sid'] == '2020138N10086'))\n",
    "\n",
    "\n",
    "\n",
    "# Georges 1998259N10335 extreme valid NA\n",
    "# Daman 1992044S09181 extreme valid SP\n",
    "# Haleh 2019060S10078 extreme valid SIO\n",
    "\n",
    "\n",
    "# accumulated:\n",
    "# Irene 2011233N15301 validation NA\n",
    "# Haiyan 2013306N07162 validation WP\n",
    "# Pauline 1997279N12263 extreme test EP\n",
    "# Yasa 2020348S14173 SP (fiji)\n",
    "# Idai 2019063S18038 train SI or Haleh 2019060S10078 extreme valid SI\n",
    "# Amphan 2020136N10088 NI 2020138N10086\n",
    "\n",
    "# check\n",
    "# Harvey 2017228N14314 train NA\n",
    "# Isaac 2012234N16315 train NA\n",
    "# Maria 2017260N12310 validation NA\n",
    "# Irma 2017242N16333 train NA\n",
    "# Dorian 2019236N10314 test NA"
   ]
  },
  {
   "cell_type": "code",
   "execution_count": 28,
   "metadata": {},
   "outputs": [
    {
     "name": "stdout",
     "output_type": "stream",
     "text": [
      "1993271N14134\n",
      "1988150N19119\n",
      "2005042S12190\n",
      "2019160N11073\n",
      "1998030S14208\n",
      "1985268N03161\n",
      "1990028S10183\n"
     ]
    }
   ],
   "source": [
    "tc_list = [680,1438,2651,3014,3487,3738,3757]\n",
    "\n",
    "for i in tc_list:\n",
    "\tprint(meta_extreme_test['sid'][i])"
   ]
  },
  {
   "cell_type": "code",
   "execution_count": 29,
   "metadata": {},
   "outputs": [],
   "source": [
    "# 2019160N11073 - VAYU 2019 NI 3014\n",
    "# 2012346S14180 - Evan 2013 SP 2857\n",
    "# 2005042S12190 - Nancy 2005 SP 2651\n",
    "\n",
    "# 3014 VAYU 3014\n",
    "# 3487 Ursula 1998 SP\n",
    "# 3738 Typhoon Brenden 1985 WP\n",
    "\n",
    "# 3757 Cyclone Ofa 1990 SP\n",
    "\n",
    "# 680\n"
   ]
  },
  {
   "cell_type": "code",
   "execution_count": 30,
   "metadata": {},
   "outputs": [
    {
     "name": "stdout",
     "output_type": "stream",
     "text": [
      "65.83993530273438\n",
      "286.1875\n"
     ]
    }
   ],
   "source": [
    "print(np.max(inputs))\n",
    "print(np.max(real))"
   ]
  },
  {
   "cell_type": "code",
   "execution_count": 31,
   "metadata": {},
   "outputs": [
    {
     "name": "stdout",
     "output_type": "stream",
     "text": [
      "190.38748168945312\n",
      "698.125\n"
     ]
    }
   ],
   "source": [
    "print(np.max(inputs_x))\n",
    "print(np.max(real_x))"
   ]
  },
  {
   "cell_type": "code",
   "execution_count": 39,
   "metadata": {},
   "outputs": [],
   "source": [
    "def plot_haleh(inputs,inputs_x,pred_cnn,pred_cnn_x,pred_vaegan,pred_vaegan_x,pred_gan,pred_gan_x,real,real_x,storms,range_,plot='save'):\n",
    "\n",
    "\tfig, axes = plt.subplots(1, 3, figsize=(30, 10), sharey=True)\n",
    "\tpal = sns.cubehelix_palette(10, rot=-.25, light=.7,as_cmap=True)\n",
    "\n",
    "\tstorm=storms\n",
    "\tnorm = precip_norm\n",
    "\taxes[0].imshow(regrid(inputs_x[storm]), interpolation='nearest', norm=norm,extent=None,cmap=precip_cmap)\n",
    "\taxes[0].invert_yaxis()\n",
    "\taxes[1].imshow(pred_vaegan_x[storm], interpolation='nearest',norm=norm, extent=None,cmap=precip_cmap)\n",
    "\taxes[1].invert_yaxis()\n",
    "\tim = axes[2].imshow(real_x[storm], interpolation='nearest',norm=norm, extent=None,cmap=precip_cmap)\n",
    "\taxes[2].invert_yaxis()\n",
    "\n",
    "\taxes[0].set(xticklabels=[])\n",
    "\taxes[0].set(yticklabels=[])\n",
    "\taxes[1].set(xticklabels=[])\n",
    "\taxes[1].set(yticklabels=[])\n",
    "\taxes[2].set(xticklabels=[])\n",
    "\taxes[2].set(yticklabels=[])\n",
    "\n",
    "\n",
    "\t# axes[2].set_xlabel('Haleh (2019)',fontsize=24,labelpad=5)\n",
    "\n",
    "\tfig.subplots_adjust(right=0.8)\n",
    "\tcbar_ax = fig.add_axes([1, 0.031, 0.03, 0.936])\n",
    "\tlevels=[0, 1, 2, 3, 5, 7, 10, 15, 20, 25, 30, 40, 50, 70, 100, 150]\n",
    "\tcb = fig.colorbar(im, cax=cbar_ax,shrink=0.005,ticks=levels)\n",
    "\tcb.ax.tick_params(labelsize=36)\n",
    "\tfig.tight_layout()\n",
    "\n",
    "\tif plot == 'save':\n",
    "\t\t\tplt.savefig('tropical_cyclone_haleh.png',bbox_inches='tight',dpi=600)\n",
    "\t\t\tplt.clf()\n",
    "\telse:\n",
    "\t\t\tplt.show()\n",
    "\t"
   ]
  },
  {
   "cell_type": "code",
   "execution_count": 40,
   "metadata": {},
   "outputs": [],
   "source": [
    "# real_x,inputs_x,pred_cnn_x,pred_vaegan_x,pred_gan_x,pred_vaegan_ensemble_x,pred_gan_ensemble_x,meta_extreme_valid = load_tc_data(set='extreme_valid',results='test')\n",
    "real_x,inputs_x,pred_cnn_x,pred_vaegan_x,pred_gan_x,pred_vaegan_ensemble_x,pred_gan_ensemble_x,meta_extreme_valid = load_tc_data(set='extreme_test',results='test')\n"
   ]
  },
  {
   "cell_type": "code",
   "execution_count": 44,
   "metadata": {},
   "outputs": [
    {
     "name": "stdout",
     "output_type": "stream",
     "text": [
      "[4812, 3913, 4434, 4650, 1628, 5063, 4866, 4805, 4798, 1624]\n"
     ]
    },
    {
     "name": "stderr",
     "output_type": "stream",
     "text": [
      "/user/work/al18709/.conda/envs/aquatic/lib/python3.7/site-packages/ipykernel_launcher.py:30: UserWarning: This figure includes Axes that are not compatible with tight_layout, so results might be incorrect.\n"
     ]
    },
    {
     "data": {
      "text/plain": [
       "<Figure size 2160x720 with 0 Axes>"
      ]
     },
     "metadata": {},
     "output_type": "display_data"
    }
   ],
   "source": [
    "storms = [8453,9845,1375,3014,3487,3757]\n",
    "storms = [8453,9845,1375,4128,5358,747]\n",
    "# print(max_idx)\n",
    "storms = 1624\n",
    "pred_vaegan_x_max = np.max(pred_vaegan_x,axis=(1,2))\n",
    "max_idx = list(np.argpartition(pred_vaegan_x_max, -10)[-10:])\n",
    "print(max_idx)\n",
    "range_ = (0, 20)\n",
    "plot_haleh(inputs,inputs_x,pred_cnn,pred_cnn_x,pred_vaegan,pred_vaegan_x,pred_gan,pred_gan_x,real,real_x,storms,range_)\n"
   ]
  },
  {
   "cell_type": "code",
   "execution_count": null,
   "metadata": {},
   "outputs": [],
   "source": []
  }
 ],
 "metadata": {
  "kernelspec": {
   "display_name": "Python 3.7.12",
   "language": "python",
   "name": "python3"
  },
  "language_info": {
   "codemirror_mode": {
    "name": "ipython",
    "version": 3
   },
   "file_extension": ".py",
   "mimetype": "text/x-python",
   "name": "python",
   "nbconvert_exporter": "python",
   "pygments_lexer": "ipython3",
   "version": "3.7.12"
  },
  "orig_nbformat": 4,
  "vscode": {
   "interpreter": {
    "hash": "8db171c8f47d96480481440150066e8900ebba8c84179e1231657aa1548891ff"
   }
  }
 },
 "nbformat": 4,
 "nbformat_minor": 2
}
