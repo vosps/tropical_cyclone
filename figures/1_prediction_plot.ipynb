{
 "cells": [
  {
   "cell_type": "markdown",
   "metadata": {},
   "source": [
    "### Figure 1: Predicted images"
   ]
  },
  {
   "cell_type": "code",
   "execution_count": 1,
   "metadata": {},
   "outputs": [],
   "source": [
    "import numpy as np\n",
    "import pandas as pd\n",
    "import seaborn as sns\n",
    "import matplotlib.pyplot as plt\n",
    "from matplotlib import colors\n",
    "import matplotlib\n",
    "import matplotlib.pyplot as plt\n",
    "from matplotlib.colors import LinearSegmentedColormap\n",
    "import metpy.plots.ctables\n",
    "from utils.data import load_tc_data\n",
    "from utils.plot import make_cmap\n",
    "\n",
    "# TODO: because i'm using imshow the lats need to be flipped - normally would be fine but because lats are flipped and imshow doesn't know this\n",
    "# the TCs are plotted spinning the wrong way\n",
    "\n",
    "sns.set_style(\"white\")\n",
    "sns.set_palette(sns.color_palette(\"Paired\"))\n",
    "sns.set_palette(sns.color_palette(\"Set2\"))"
   ]
  },
  {
   "cell_type": "code",
   "execution_count": 2,
   "metadata": {},
   "outputs": [],
   "source": [
    "# define cmap\n",
    "precip_cmap,precip_norm = make_cmap()"
   ]
  },
  {
   "cell_type": "code",
   "execution_count": 3,
   "metadata": {},
   "outputs": [],
   "source": [
    "def regrid(array):\n",
    "        hr_array = np.zeros((100,100))\n",
    "        for i in range(10):\n",
    "                for j in range(10):\n",
    "                        i1 = i*10\n",
    "                        i2 = (i+1)*10\n",
    "                        j1 = j*10\n",
    "                        j2 = (j+1)*10\n",
    "                        hr_array[i1:i2,j1:j2] = array[i,j]\n",
    "        return hr_array"
   ]
  },
  {
   "cell_type": "code",
   "execution_count": 4,
   "metadata": {},
   "outputs": [],
   "source": [
    "def plot_predictions(inputs,inputs_x,pred_cnn,pred_cnn_x,pred_vaegan,pred_vaegan_x,pred_gan,pred_gan_x,real,real_x,storms,range_,plot='save'):\n",
    "\tif plot == 'save':\n",
    "\t\t\tfig, axes = plt.subplots(n, m, figsize=(5*m, 5*n), sharey=True)\n",
    "\telse:\n",
    "\t\t\tprint('show')\n",
    "\t\t\tfig, axes = plt.subplots(n, m, figsize=(2*m, 2*n), sharey=True)\n",
    "\n",
    "\tpal = sns.cubehelix_palette(10, rot=-.25, light=.7,as_cmap=True)\n",
    "\n",
    "\tfor i in range(m):\n",
    "\t\tj = 0\n",
    "\t\t\n",
    "\t\tstorm = storms[i]\n",
    "\t\t\n",
    "\t\tprint('storm max: ',real[storm].max())\n",
    "\t\tprint('cnn max: ',pred_cnn[storm].max())\n",
    "\t\tprint('vaegan max: ',pred_vaegan[storm].max())\n",
    "\t\tprint('gan max: ',pred_gan[storm].max())\n",
    "\t\tprint('inputs max: ', np.nanmax(inputs[storm]))\n",
    "\t\t# norm = colors.Normalize(*range_)\n",
    "\t\tnorm = precip_norm\n",
    "\t\tif i in [0,1,2]:\n",
    "\t\t\taxes[j,i].imshow(regrid(inputs[storm]), interpolation='nearest', norm=norm,extent=None,cmap=precip_cmap)\n",
    "\t\t\taxes[j+1,i].imshow(pred_cnn[storm], interpolation='nearest',norm=norm, extent=None,cmap=precip_cmap)\n",
    "\t\t\taxes[j+2,i].imshow(pred_vaegan[storm], interpolation='nearest',norm=norm, extent=None,cmap=precip_cmap)\n",
    "\t\t\taxes[j+3,i].imshow(pred_gan[storm], interpolation='nearest',norm=norm, extent=None,cmap=precip_cmap)\n",
    "\t\t\tim = axes[j+4,i].imshow(real[storm], interpolation='nearest',norm=norm, extent=None,cmap=precip_cmap)\n",
    "\t\telse:\n",
    "\t\t\taxes[j,i].imshow(regrid(inputs_x[storm]), interpolation='nearest', norm=norm,extent=None,cmap=precip_cmap)\n",
    "\t\t\taxes[j+1,i].imshow(pred_cnn_x[storm], interpolation='nearest',norm=norm, extent=None,cmap=precip_cmap)\n",
    "\t\t\taxes[j+2,i].imshow(pred_vaegan_x[storm], interpolation='nearest',norm=norm, extent=None,cmap=precip_cmap)\n",
    "\t\t\taxes[j+3,i].imshow(pred_gan_x[storm], interpolation='nearest',norm=norm, extent=None,cmap=precip_cmap)\n",
    "\t\t\tim = axes[j+4,i].imshow(real_x[storm], interpolation='nearest',norm=norm, extent=None,cmap=precip_cmap)\n",
    "\n",
    "\t\taxes[j,i].set(xticklabels=[])\n",
    "\t\taxes[j,i].set(yticklabels=[])\n",
    "\t\taxes[j+1,i].set(xticklabels=[])\n",
    "\t\taxes[j+1,i].set(yticklabels=[])\n",
    "\t\taxes[j+2,i].set(xticklabels=[])\n",
    "\t\taxes[j+2,i].set(yticklabels=[])\n",
    "\t\taxes[j+3,i].set(xticklabels=[])\n",
    "\t\taxes[j+3,i].set(yticklabels=[])\n",
    "\t\taxes[j+4,i].set(xticklabels=[])\n",
    "\t\taxes[j+4,i].set(yticklabels=[])\n",
    "\n",
    "\n",
    "\t\taxes[j,0].set_ylabel('LR input',rotation=0,horizontalalignment='left',fontsize=48,labelpad=240,fontweight='bold',color='#56a1d7')\n",
    "\t\taxes[j+1,0].set_ylabel('U-NET',rotation=0,horizontalalignment='left',fontsize=48,labelpad=240,fontweight='bold',color='#56a1d7')\n",
    "\t\taxes[j+2,0].set_ylabel('VAEGAN',rotation=0,horizontalalignment='left',fontsize=48,labelpad=240,fontweight='bold',color='#56a1d7')\n",
    "\t\taxes[j+3,0].set_ylabel('GAN',rotation=0,horizontalalignment='left',fontsize=48,labelpad=240,fontweight='bold',color='#56a1d7')\n",
    "\t\taxes[j+4,0].set_ylabel('HR obs',horizontalalignment='left',rotation=0,fontsize=48,labelpad=240,fontweight='bold',color='#56a1d7')\n",
    "\n",
    "\t\taxes[4,j].set_xlabel('Maria (2017; NA)',fontsize=24,labelpad=5)\n",
    "\t\taxes[4,j+1].set_xlabel('Haiyan (2013; WP)',fontsize=24,labelpad=5)\n",
    "\t\taxes[4,j+2].set_xlabel('Barbara (1995; EP)',fontsize=24,labelpad=5)\n",
    "\t\taxes[4,j+3].set_xlabel('Georges (1998; NA)',fontsize=24,labelpad=5)\n",
    "\t\taxes[4,j+4].set_xlabel('Daman (1992; SP)',fontsize=24,labelpad=5)\n",
    "\t\taxes[4,j+5].set_xlabel('Haleh (2019; SI)',fontsize=24,labelpad=5)\n",
    "\n",
    "\tfig.subplots_adjust(right=0.8)\n",
    "\t# cbar_ax = fig.add_axes([1, 0.15, 0.05, 0.7])\n",
    "\tcbar_ax = fig.add_axes([1, 0.031, 0.03, 0.936])\n",
    "\tcb = fig.colorbar(im, cax=cbar_ax,shrink=0.01)\n",
    "\tcb.ax.tick_params(labelsize=36)\n",
    "\tfig.tight_layout()\n",
    "\n",
    "\tif plot == 'save':\n",
    "\t\t\tplt.savefig('figure_1.png',bbox_inches='tight')\n",
    "\t\t\tplt.clf()\n",
    "\telse:\n",
    "\t\t\tplt.show()\n",
    "\t"
   ]
  },
  {
   "cell_type": "code",
   "execution_count": 10,
   "metadata": {},
   "outputs": [],
   "source": [
    "# load data\n",
    "real,inputs,pred_cnn,pred_vaegan,pred_gan,pred_vaegan_ensemble,pred_gan_ensemble,meta = load_tc_data(set='validation',results='test')\n",
    "real_x,inputs_x,pred_cnn_x,pred_vaegan_x,pred_gan_x,pred_vaegan_ensemble_x,pred_gan_ensemble_x,meta_extreme_valid = load_tc_data(set='extreme_valid',results='test')\n",
    "\n",
    "meta = pd.read_csv('/user/work/al18709/tc_data_mswep/valid_meta.csv')\n",
    "meta_extreme = pd.read_csv('/user/work/al18709/tc_data_mswep/extreme_valid_meta.csv')\n",
    "meta_extreme_test = pd.read_csv('/user/work/al18709/tc_data_mswep/extreme_test_meta.csv')\n",
    "meta_test = pd.read_csv('/user/work/al18709/tc_data_mswep/test_meta.csv')\n",
    "meta_train = pd.read_csv('/user/work/al18709/tc_data_mswep/train_meta.csv')\n",
    "meta_valid = pd.read_csv('/user/work/al18709/tc_data_mswep/valid_meta.csv')"
   ]
  },
  {
   "cell_type": "code",
   "execution_count": 6,
   "metadata": {},
   "outputs": [
    {
     "name": "stdout",
     "output_type": "stream",
     "text": [
      "storm max:  45.25\n",
      "cnn max:  29.72098\n",
      "vaegan max:  43.44794464111328\n",
      "gan max:  51.5527229309082\n",
      "inputs max:  20.504125595092773\n",
      "storm max:  58.875\n",
      "cnn max:  15.141447\n",
      "vaegan max:  65.58946228027344\n",
      "gan max:  61.957401275634766\n",
      "inputs max:  31.177553176879883\n",
      "storm max:  48.3125\n",
      "cnn max:  37.28275\n",
      "vaegan max:  51.87416458129883\n",
      "gan max:  60.7703971862793\n",
      "inputs max:  29.4201602935791\n",
      "storm max:  44.375\n",
      "cnn max:  31.241987\n",
      "vaegan max:  39.170387268066406\n",
      "gan max:  42.21123123168945\n",
      "inputs max:  25.278505325317383\n",
      "storm max:  59.9375\n",
      "cnn max:  41.355465\n",
      "vaegan max:  59.43865966796875\n",
      "gan max:  55.63440704345703\n",
      "inputs max:  31.395225524902344\n",
      "storm max:  44.8125\n",
      "cnn max:  38.602913\n",
      "vaegan max:  51.64292907714844\n",
      "gan max:  47.49197769165039\n",
      "inputs max:  20.156835556030273\n"
     ]
    },
    {
     "name": "stderr",
     "output_type": "stream",
     "text": [
      "/user/work/al18709/.conda/envs/aquatic/lib/python3.7/site-packages/ipykernel_launcher.py:65: UserWarning: This figure includes Axes that are not compatible with tight_layout, so results might be incorrect.\n"
     ]
    },
    {
     "data": {
      "text/plain": [
       "<Figure size 2160x1800 with 0 Axes>"
      ]
     },
     "metadata": {},
     "output_type": "display_data"
    }
   ],
   "source": [
    "\n",
    "plot = 'save'\n",
    "n = 5\n",
    "m = 6\n",
    "\n",
    "# make colours\n",
    "range_ = (0, 20)\n",
    "storms = [4077, 4078, 4079, 4080, 4081, 4082]\n",
    "\n",
    "# maria 8453 (8452 for unet) 8463\n",
    "# haiyan 9820, 9828,  9845, 9840 9815, 9816, 9822 9809\n",
    "# barb 1347 1375 1399\n",
    "# georges 4082\n",
    "\n",
    "storms = [8453,9845,1375,4128,5358,747]\n",
    "# storms_extremes = [4082,5349,763]\n",
    "plot_predictions(inputs,inputs_x,pred_cnn,pred_cnn_x,pred_vaegan,pred_vaegan_x,pred_gan,pred_gan_x,real,real_x,storms,range_)\n"
   ]
  },
  {
   "cell_type": "code",
   "execution_count": 14,
   "metadata": {},
   "outputs": [
    {
     "name": "stdout",
     "output_type": "stream",
     "text": [
      "(array([], dtype=int64),)\n",
      "(array([], dtype=int64),)\n",
      "(array([36367, 36368, 36369, 36370, 36371, 36372, 36373, 36374, 36375,\n",
      "       36376, 36377, 36378, 36379, 36380, 36381, 36382, 36383, 36384,\n",
      "       36385, 36386, 36387, 36388, 36389, 36390, 36391, 36392, 36393,\n",
      "       36394, 36395, 36396, 36397, 36398, 36399, 36400, 36401, 36402,\n",
      "       36403, 36404, 36405, 36406, 36407, 36408, 36409, 36410, 36411,\n",
      "       36412, 36413, 36414, 36415, 36416, 36417, 36418, 36419, 36420,\n",
      "       36421, 36422, 36423, 36424, 36425, 36426]),)\n",
      "(array([], dtype=int64),)\n",
      "(array([], dtype=int64),)\n",
      "(array([], dtype=int64),)\n"
     ]
    }
   ],
   "source": [
    "# print(meta.shape)\n",
    "# print(real.shape) \n",
    "\n",
    "# print(np.sum(meta['sid'] == '1992044S09181'))\n",
    "# print(np.sum(meta_extreme['sid'] == '1992044S09181'))\n",
    "# print(np.sum(meta_test['sid'] == '1992044S09181'))\n",
    "# print(np.sum(meta_extreme_test['sid'] == '1992044S09181'))\n",
    "# print(np.sum(meta_train['sid'] == '1992044S09181'))\n",
    "\n",
    "\n",
    "# print(meta_extreme['sid'].values)\n",
    "# for i,storm in enumerate(meta_extreme['sid'].values):\n",
    "# \tpre_storm = meta_extreme['sid'].values[i-1]\n",
    "# \tif storm != pre_storm:\n",
    "# \t\tprint(storm)\n",
    "\n",
    "# Dorian in the test set\n",
    "# Isaac (2012) '2012234N16315' training set NA\n",
    "# Amphan 2020136N10088 ****** lost NI\n",
    "# Harvey 2017228N14314 train NA\n",
    "# Irma 2017242N16333 train NA\n",
    "# Idai 2019063S18038 train SIO \n",
    "# Winston 2016041S14170 test SP\n",
    "# Matthew 2016273N13300 extreme_test NA\n",
    "# Jalawat 2012263N15141 extreme_test WP\n",
    "# irene 2011233N15301 valid\n",
    "# isaac 2012234N16315 train\n",
    "\n",
    "\n",
    "# EP NA WP\n",
    "# NIO SIO SP\n",
    "\n",
    "# Maria 2017260N12310 validation NA\n",
    "# Haiyan 2013306N07162 validation WP\n",
    "# Barbara 1995189N11257 validation EP\n",
    "print(np.where(meta_extreme['sid'] == '2012234N16315'))\n",
    "print(np.where(meta_valid['sid'] == '2012234N16315'))\n",
    "print(np.where(meta_train['sid'] == '2012234N16315'))\n",
    "print(np.where(meta_test['sid'] == '2012234N16315'))\n",
    "print(np.where(meta_extreme_test['sid'] == '2012234N16315'))\n",
    "print(np.where(meta_extreme_valid['sid'] == '2012234N16315'))\n",
    "\n",
    "# Georges 1998259N10335 extreme valid NA\n",
    "# Daman 1992044S09181 extreme valid SP\n",
    "# Haleh 2019060S10078 extreme valid SIO"
   ]
  },
  {
   "cell_type": "code",
   "execution_count": 8,
   "metadata": {},
   "outputs": [
    {
     "name": "stdout",
     "output_type": "stream",
     "text": [
      "[[[ 0.5377605   0.42959526  0.32142994 ...  0.39529592  0.4091882\n",
      "    0.42308044]\n",
      "  [ 0.5454536   0.5268012   0.5081488  ...  0.30019972  0.3330531\n",
      "    0.3659064 ]\n",
      "  [ 0.5531465   0.6240071   0.6948676  ...  0.20510352  0.25691792\n",
      "    0.30873233]\n",
      "  ...\n",
      "  [ 0.42230648  0.3376853   0.2530641  ...  0.08054145  0.22475798\n",
      "    0.36897457]\n",
      "  [ 0.34279606  0.3038701   0.2649442  ...  0.18767123  0.31103966\n",
      "    0.43440807]\n",
      "  [ 0.26328564  0.270055    0.27682427 ...  0.2948011   0.39732137\n",
      "    0.49984166]]\n",
      "\n",
      " [[ 0.1530547   0.10673091  0.06040713 ...  0.2915675   0.29270607\n",
      "    0.29384452]\n",
      "  [ 0.19114704  0.19671716  0.2022873  ...  0.2493409   0.27411994\n",
      "    0.29889894]\n",
      "  [ 0.22923937  0.28670344  0.34416747 ...  0.20711435  0.25553384\n",
      "    0.3039533 ]\n",
      "  ...\n",
      "  [ 0.15043722  0.15032277  0.15020831 ...  0.14383714  0.20800506\n",
      "    0.27217302]\n",
      "  [ 0.15043722  0.14471464  0.13899207 ...  0.18423365  0.25864002\n",
      "    0.33304644]\n",
      "  [ 0.15043722  0.13910653  0.12777583 ...  0.2246301   0.30927503\n",
      "    0.39391986]]\n",
      "\n",
      " [[ 0.4379292   0.36081934  0.2837094  ...  2.0125966   1.971953\n",
      "    1.9313095 ]\n",
      "  [ 0.37925926  0.35678995  0.33432063 ...  2.095815    2.0589366\n",
      "    2.022058  ]\n",
      "  [ 0.32058918  0.35276055  0.3849319  ...  2.1790335   2.14592\n",
      "    2.112807  ]\n",
      "  ...\n",
      "  [ 0.15028718  0.15011774  0.14994828 ...  1.1985387   0.9988413\n",
      "    0.7991438 ]\n",
      "  [ 0.14293551  0.1344633   0.12599109 ...  1.2631296   1.0749283\n",
      "    0.88672704]\n",
      "  [ 0.13558383  0.11880886  0.10203389 ...  1.3277208   1.1510155\n",
      "    0.97431034]]\n",
      "\n",
      " ...\n",
      "\n",
      " [[ 0.6470966   0.45876664  0.2704366  ...  0.54298884  0.5428696\n",
      "    0.5427505 ]\n",
      "  [ 0.562296    0.45465788  0.34701973 ...  0.46556163  0.43595245\n",
      "    0.40634328]\n",
      "  [ 0.47749537  0.4505491   0.42360285 ...  0.38813433  0.32903525\n",
      "    0.26993608]\n",
      "  ...\n",
      "  [ 0.15043722  0.15043722  0.15043722 ...  1.5129192   1.5501645\n",
      "    1.5874097 ]\n",
      "  [ 0.15043722  0.15043722  0.15043722 ...  1.4430158   1.4416472\n",
      "    1.4402784 ]\n",
      "  [ 0.15043722  0.15043722  0.15043722 ...  1.3731124   1.3331302\n",
      "    1.2931478 ]]\n",
      "\n",
      " [[ 0.23964696  0.28433383  0.32902068 ...  1.0503368   1.0577177\n",
      "    1.0650986 ]\n",
      "  [ 0.20568609  0.17627662  0.14686716 ...  1.1834117   1.2409298\n",
      "    1.2984483 ]\n",
      "  [ 0.17172518  0.06821939 -0.03528639 ...  1.3164865   1.4241422\n",
      "    1.5317976 ]\n",
      "  ...\n",
      "  [ 0.15043722  0.15043722  0.15043722 ...  0.3510102   0.32476205\n",
      "    0.298514  ]\n",
      "  [ 0.15043722  0.15043722  0.15043722 ...  0.33601514  0.32205722\n",
      "    0.30809936]\n",
      "  [ 0.15043722  0.15043722  0.15043722 ...  0.3210201   0.31935242\n",
      "    0.3176848 ]]\n",
      "\n",
      " [[ 0.11926834  0.05735976 -0.00454882 ... -0.01818812  0.16699252\n",
      "    0.35217318]\n",
      "  [ 0.15505716  0.06143677 -0.03218362 ...  0.02798069  0.18647583\n",
      "    0.34497088]\n",
      "  [ 0.19084601  0.0655138  -0.0598184  ...  0.07414962  0.20595913\n",
      "    0.33776858]\n",
      "  ...\n",
      "  [-0.17322844 -0.08843611 -0.00364371 ...  1.5607176   1.557753\n",
      "    1.5547886 ]\n",
      "  [-0.24466428 -0.15419711 -0.0637299  ...  1.5272157   1.4827629\n",
      "    1.4383106 ]\n",
      "  [-0.3161001  -0.21995811 -0.12381607 ...  1.4937136   1.407773\n",
      "    1.3218325 ]]]\n"
     ]
    }
   ],
   "source": [
    "print(pred_cnn)"
   ]
  },
  {
   "cell_type": "code",
   "execution_count": 11,
   "metadata": {},
   "outputs": [
    {
     "name": "stdout",
     "output_type": "stream",
     "text": [
      "(5425, 100, 100)\n",
      "(5425, 100, 100)\n"
     ]
    }
   ],
   "source": [
    "print(pred_cnn_x.shape)\n",
    "print(pred_vaegan_x.shape)\n"
   ]
  },
  {
   "cell_type": "code",
   "execution_count": 18,
   "metadata": {},
   "outputs": [
    {
     "name": "stdout",
     "output_type": "stream",
     "text": [
      "(16253, 100, 100)\n",
      "(5425, 100, 100)\n"
     ]
    }
   ],
   "source": [
    "print(real.shape)\n",
    "print(real_x.shape)"
   ]
  },
  {
   "cell_type": "code",
   "execution_count": null,
   "metadata": {},
   "outputs": [],
   "source": []
  }
 ],
 "metadata": {
  "kernelspec": {
   "display_name": "Python 3.7.12",
   "language": "python",
   "name": "python3"
  },
  "language_info": {
   "codemirror_mode": {
    "name": "ipython",
    "version": 3
   },
   "file_extension": ".py",
   "mimetype": "text/x-python",
   "name": "python",
   "nbconvert_exporter": "python",
   "pygments_lexer": "ipython3",
   "version": "3.7.12"
  },
  "orig_nbformat": 4,
  "vscode": {
   "interpreter": {
    "hash": "8db171c8f47d96480481440150066e8900ebba8c84179e1231657aa1548891ff"
   }
  }
 },
 "nbformat": 4,
 "nbformat_minor": 2
}
