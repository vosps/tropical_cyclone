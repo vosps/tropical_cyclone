{
 "cells": [
  {
   "cell_type": "markdown",
   "metadata": {},
   "source": [
    "### Figure 1: Predicted images"
   ]
  },
  {
   "cell_type": "code",
   "execution_count": 1,
   "metadata": {},
   "outputs": [],
   "source": [
    "import numpy as np\n",
    "import pandas as pd\n",
    "import seaborn as sns\n",
    "import matplotlib.pyplot as plt\n",
    "from matplotlib import colors\n",
    "import matplotlib\n",
    "import matplotlib.pyplot as plt\n",
    "from matplotlib.colors import LinearSegmentedColormap\n",
    "import metpy.plots.ctables\n",
    "from utils.data import load_tc_data\n",
    "from utils.plot import make_cmap\n",
    "\n",
    "# TODO: because i'm using imshow the lats need to be flipped - normally would be fine but because lats are flipped and imshow doesn't know this\n",
    "# the TCs are plotted spinning the wrong way\n",
    "\n",
    "sns.set_style(\"white\")\n",
    "sns.set_palette(sns.color_palette(\"Paired\"))\n",
    "sns.set_palette(sns.color_palette(\"Set2\"))"
   ]
  },
  {
   "cell_type": "code",
   "execution_count": 2,
   "metadata": {},
   "outputs": [],
   "source": [
    "# define cmap\n",
    "precip_cmap,precip_norm = make_cmap()"
   ]
  },
  {
   "cell_type": "code",
   "execution_count": 3,
   "metadata": {},
   "outputs": [],
   "source": [
    "def regrid(array):\n",
    "        hr_array = np.zeros((100,100))\n",
    "        for i in range(10):\n",
    "                for j in range(10):\n",
    "                        i1 = i*10\n",
    "                        i2 = (i+1)*10\n",
    "                        j1 = j*10\n",
    "                        j2 = (j+1)*10\n",
    "                        hr_array[i1:i2,j1:j2] = array[i,j]\n",
    "        return hr_array"
   ]
  },
  {
   "cell_type": "code",
   "execution_count": 4,
   "metadata": {},
   "outputs": [],
   "source": [
    "def plot_predictions(inputs,inputs_x,pred_cnn,pred_cnn_x,pred_vaegan,pred_vaegan_x,pred_gan,pred_gan_x,real,real_x,storms,range_,plot='save'):\n",
    "\tif plot == 'save':\n",
    "\t\t\tfig, axes = plt.subplots(n, m, figsize=(5*m, 5*n), sharey=True)\n",
    "\telse:\n",
    "\t\t\tprint('show')\n",
    "\t\t\tfig, axes = plt.subplots(n, m, figsize=(2*m, 2*n), sharey=True)\n",
    "\n",
    "\tpal = sns.cubehelix_palette(10, rot=-.25, light=.7,as_cmap=True)\n",
    "\n",
    "\tfor i in range(m):\n",
    "\t\tj = 0\n",
    "\t\t\n",
    "\t\tstorm = storms[i]\n",
    "\t\tif storm in [3014,3487,3757,2651,3487,680,1438,3738]:\n",
    "\t\t\tprint('THE STORM IS:',storm)\n",
    "\t\t\tprint('storm max: ',real_x[storm].max())\n",
    "\t\t\tprint('cnn max: ',pred_cnn_x[storm].max())\n",
    "\t\t\tprint('vaegan max: ',pred_vaegan_x[storm].max())\n",
    "\t\t\tprint('gan max: ',pred_gan_x[storm].max())\n",
    "\t\t\tprint('inputs max: ', np.nanmax(inputs_x[storm]))\n",
    "\t\t\tprint('\\n')\n",
    "\t\t# norm = colors.Normalize(*range_)\n",
    "\t\tnorm = precip_norm\n",
    "\t\tif i in [0,1,2]:\n",
    "\t\t\taxes[j,i].imshow(regrid(inputs[storm]), interpolation='nearest', norm=norm,extent=None,cmap=precip_cmap)\n",
    "\t\t\taxes[j,i].invert_yaxis()\n",
    "\t\t\tif i == 1 or i ==0:\n",
    "\t\t\t\t# axes[j+1,i].imshow(np.flip(pred_cnn[storm],axis=0), interpolation='nearest',norm=norm, extent=None,cmap=precip_cmap)\n",
    "\t\t\t\taxes[j+1,i].imshow(pred_cnn[storm-1], interpolation='nearest',norm=norm, extent=None,cmap=precip_cmap)\n",
    "\t\t\telse:\n",
    "\t\t\t\taxes[j+1,i].imshow(pred_cnn[storm], interpolation='nearest',norm=norm, extent=None,cmap=precip_cmap)\n",
    "\t\t\taxes[j+1,i].invert_yaxis()\n",
    "\t\t\taxes[j+2,i].imshow(pred_vaegan[storm], interpolation='nearest',norm=norm, extent=None,cmap=precip_cmap)\n",
    "\t\t\taxes[j+2,i].invert_yaxis()\n",
    "\t\t\taxes[j+3,i].imshow(pred_gan[storm], interpolation='nearest',norm=norm, extent=None,cmap=precip_cmap)\n",
    "\t\t\taxes[j+3,i].invert_yaxis()\n",
    "\t\t\tim = axes[j+4,i].imshow(real[storm], interpolation='nearest',norm=norm, extent=None,cmap=precip_cmap)\n",
    "\t\t\taxes[j+4,i].invert_yaxis()\n",
    "\t\telse:\n",
    "\t\t\taxes[j,i].imshow(regrid(inputs_x[storm]), interpolation='nearest', norm=norm,extent=None,cmap=precip_cmap)\n",
    "\t\t\taxes[j,i].invert_yaxis()\n",
    "\t\t\taxes[j+1,i].imshow(pred_cnn_x[storm], interpolation='nearest',norm=norm, extent=None,cmap=precip_cmap)\n",
    "\t\t\taxes[j+1,i].invert_yaxis()\n",
    "\t\t\taxes[j+2,i].imshow(pred_vaegan_x[storm], interpolation='nearest',norm=norm, extent=None,cmap=precip_cmap)\n",
    "\t\t\taxes[j+2,i].invert_yaxis()\n",
    "\t\t\taxes[j+3,i].imshow(pred_gan_x[storm], interpolation='nearest',norm=norm, extent=None,cmap=precip_cmap)\n",
    "\t\t\taxes[j+3,i].invert_yaxis()\n",
    "\t\t\tim = axes[j+4,i].imshow(real_x[storm], interpolation='nearest',norm=norm, extent=None,cmap=precip_cmap)\n",
    "\t\t\taxes[j+4,i].invert_yaxis()\n",
    "\n",
    "\t\taxes[j,i].set(xticklabels=[])\n",
    "\t\taxes[j,i].set(yticklabels=[])\n",
    "\t\taxes[j+1,i].set(xticklabels=[])\n",
    "\t\taxes[j+1,i].set(yticklabels=[])\n",
    "\t\taxes[j+2,i].set(xticklabels=[])\n",
    "\t\taxes[j+2,i].set(yticklabels=[])\n",
    "\t\taxes[j+3,i].set(xticklabels=[])\n",
    "\t\taxes[j+3,i].set(yticklabels=[])\n",
    "\t\taxes[j+4,i].set(xticklabels=[])\n",
    "\t\taxes[j+4,i].set(yticklabels=[])\n",
    "\n",
    "\n",
    "\t\taxes[j,0].set_ylabel('LR input',rotation=0,horizontalalignment='left',fontsize=48,labelpad=240,fontweight='bold',color='#56a1d7')\n",
    "\t\taxes[j+1,0].set_ylabel('U-NET',rotation=0,horizontalalignment='left',fontsize=48,labelpad=240,fontweight='bold',color='#56a1d7')\n",
    "\t\taxes[j+2,0].set_ylabel('VAEGAN',rotation=0,horizontalalignment='left',fontsize=48,labelpad=240,fontweight='bold',color='#56a1d7')\n",
    "\t\taxes[j+3,0].set_ylabel('WGAN',rotation=0,horizontalalignment='left',fontsize=48,labelpad=240,fontweight='bold',color='#56a1d7')\n",
    "\t\taxes[j+4,0].set_ylabel('HR obs',horizontalalignment='left',rotation=0,fontsize=48,labelpad=240,fontweight='bold',color='#56a1d7')\n",
    "\n",
    "\t\taxes[4,j].set_xlabel('Maria (2017; NA)',fontsize=24,labelpad=5)\n",
    "\t\taxes[4,j+1].set_xlabel('Haiyan (2013; WP)',fontsize=24,labelpad=5)\n",
    "\t\taxes[4,j+2].set_xlabel('Barbara (1995; EP)',fontsize=24,labelpad=5)\n",
    "\t\taxes[4,j+3].set_xlabel('Vayu (2019; NI)',fontsize=24,labelpad=5)\n",
    "\t\taxes[4,j+4].set_xlabel('Ursula (1998; SP)',fontsize=24,labelpad=5)\n",
    "\t\taxes[4,j+5].set_xlabel('Brendan (1985; WP)',fontsize=24,labelpad=5)\n",
    "\n",
    "\tfig.subplots_adjust(right=0.8)\n",
    "\t# cbar_ax = fig.add_axes([1, 0.15, 0.05, 0.7])\n",
    "\tcbar_ax = fig.add_axes([1, 0.031, 0.03, 0.936])\n",
    "\tlevels=[0, 1, 2, 3, 5, 7, 10, 15, 20, 25, 30, 40, 50, 70, 100, 150]\n",
    "\tcb = fig.colorbar(im, cax=cbar_ax,shrink=0.01,ticks=levels)\n",
    "\tcb.ax.tick_params(labelsize=36)\n",
    "\tfig.tight_layout()\n",
    "\n",
    "\tif plot == 'save':\n",
    "\t\t\tplt.savefig('figure_1_new.png',bbox_inches='tight',dpi=600)\n",
    "\t\t\tplt.clf()\n",
    "\telse:\n",
    "\t\t\tplt.show()\n",
    "\t"
   ]
  },
  {
   "cell_type": "code",
   "execution_count": 5,
   "metadata": {},
   "outputs": [],
   "source": [
    "# load data\n",
    "real,inputs,pred_cnn,pred_vaegan,pred_gan,pred_vaegan_ensemble,pred_gan_ensemble,meta = load_tc_data(set='validation',results='test')\n",
    "real_x,inputs_x,pred_cnn_x,pred_vaegan_x,pred_gan_x,pred_vaegan_ensemble_x,pred_gan_ensemble_x,meta_extreme_valid = load_tc_data(set='extreme_valid',results='test')\n",
    "real_x,inputs_x,pred_cnn_x,pred_vaegan_x,pred_gan_x,pred_vaegan_ensemble_x,pred_gan_ensemble_x,meta_extreme_valid = load_tc_data(set='extreme_test',results='test')\n",
    "\n",
    "\n",
    "meta = pd.read_csv('/user/work/al18709/tc_data_mswep/valid_meta.csv')\n",
    "meta_extreme = pd.read_csv('/user/work/al18709/tc_data_mswep/extreme_valid_meta.csv')\n",
    "meta_extreme_test = pd.read_csv('/user/work/al18709/tc_data_mswep/extreme_test_meta.csv')\n",
    "meta_test = pd.read_csv('/user/work/al18709/tc_data_mswep/test_meta.csv')\n",
    "meta_train = pd.read_csv('/user/work/al18709/tc_data_mswep/train_meta.csv')\n",
    "meta_valid = pd.read_csv('/user/work/al18709/tc_data_mswep/valid_meta.csv')"
   ]
  },
  {
   "cell_type": "code",
   "execution_count": 6,
   "metadata": {},
   "outputs": [
    {
     "name": "stdout",
     "output_type": "stream",
     "text": [
      "69.56123733520508\n",
      "991.6434465026855\n",
      "51.98715637207031\n",
      "[380.5625 389.5    465.4375 519.1875 415.875  698.125  551.125  420.75\n",
      " 599.0625 432.9375]\n",
      "[212.63585 306.15155 122.6275  180.29596 268.4094  119.70642 160.23305\n",
      " 144.94547 160.14088 226.53166]\n",
      "[ 5052.73583984 82030.03125      148.0091095    450.50650024\n",
      "  1756.95178223   147.12545776   408.32556152   352.35513306\n",
      "   215.21656799  1244.85864258]\n",
      "[310.87039185 515.62774658 189.84194946 297.20397949 399.30270386\n",
      " 258.60092163 199.1386261  194.1378479  187.06108093 330.83059692]\n",
      "input max [141.71022034 190.38748169  73.1897049  109.17042542 169.81555176\n",
      "  71.50953674  96.30603027  93.66628265  75.9552002  119.88677979]\n",
      "real max [380.5625 389.5    465.4375 519.1875 415.875  698.125  551.125  420.75\n",
      " 599.0625 432.9375]\n",
      "[70, 89, 42, 81, 79, 5, 96, 97, 4, 78]\n",
      "297.0884765625\n",
      "8999.78516845703\n",
      "224.22021484375\n",
      "[73, 49, 2, 3, 98, 95, 6, 7, 8, 9, 10, 11, 12, 13, 14, 15, 16, 17, 18, 19, 20, 21, 92, 23, 24, 25, 91, 27, 28, 29, 30, 31, 32, 33, 34, 35, 36, 37, 38, 39, 40, 41, 90, 43, 44, 88, 46, 47, 48, 1, 50, 85, 52, 53, 54, 55, 56, 57, 58, 59, 84, 61, 62, 63, 82, 65, 80, 67, 68, 69, 77, 71, 74, 0, 64, 99, 26, 72, 45, 86, 83, 51, 22, 87, 76, 66, 94, 75, 93, 60]\n",
      "44.28043297661675\n",
      "101.84992184109159\n",
      "32.850149875217014\n"
     ]
    }
   ],
   "source": [
    "# take only top 100 extremes\n",
    "inputs_x_max = np.max(inputs_x,axis=(1,2))\n",
    "max_idx = list(np.argpartition(inputs_x_max, -100)[-100:])\n",
    "\n",
    "# redefine extremes by only the most extreme samples\n",
    "# inputs_hr_x = inputs_hr_x[max_idx]\n",
    "print(np.mean(np.abs(np.max(pred_cnn_x[max_idx],axis=(1,2))-np.max(real_x[max_idx],axis=(1,2)))))\n",
    "print(np.mean(np.abs(np.max(pred_vaegan_x[max_idx],axis=(1,2))-np.max(real_x[max_idx],axis=(1,2)))))\n",
    "print(np.mean(np.abs(np.max(pred_gan_x[max_idx],axis=(1,2))-np.max(real_x[max_idx],axis=(1,2)))))\n",
    "\n",
    "# print(np.max(np.abs(np.max(pred_cnn_x[max_idx],axis=(1,2))-np.max(real_x[max_idx],axis=(1,2)))))\n",
    "# print(np.max(np.abs(np.max(pred_vaegan_x[max_idx],axis=(1,2))-np.max(real_x[max_idx],axis=(1,2)))))\n",
    "# print(np.max(np.abs(np.max(pred_gan_x[max_idx],axis=(1,2))-np.max(real_x[max_idx],axis=(1,2)))))\n",
    "\n",
    "# print(list(np.max(real_x[max_idx],axis=(1,2))))\n",
    "# print(list(np.max(pred_cnn_x[max_idx],axis=(1,2))))\n",
    "\n",
    "idx = list(np.argpartition(np.max(real_x[max_idx],axis=(1,2)), -10)[-10:])\n",
    "print(np.max(real_x[max_idx][idx],axis=(1,2)))\n",
    "print(np.max(pred_cnn_x[max_idx][idx],axis=(1,2)))\n",
    "print(np.max(pred_vaegan_x[max_idx][idx],axis=(1,2)))\n",
    "print(np.max(pred_gan_x[max_idx][idx],axis=(1,2)))\n",
    "print('input max',np.max(inputs_x[max_idx][idx],axis=(1,2)))\n",
    "print('real max',np.max(real_x[max_idx][idx],axis=(1,2)))\n",
    "print(idx)\n",
    "\n",
    "print(np.mean(np.abs(np.max(pred_cnn_x[max_idx][idx],axis=(1,2))-np.max(real_x[max_idx][idx],axis=(1,2)))))\n",
    "print(np.mean(np.abs(np.max(pred_vaegan_x[max_idx][idx],axis=(1,2))-np.max(real_x[max_idx][idx],axis=(1,2)))))\n",
    "print(np.mean(np.abs(np.max(pred_gan_x[max_idx][idx],axis=(1,2))-np.max(real_x[max_idx][idx],axis=(1,2)))))\n",
    "\n",
    "idx = list(np.argpartition(np.max(real_x[max_idx],axis=(1,2)), -10)[:90])\n",
    "print(idx)\n",
    "print(np.mean(np.abs(np.max(pred_cnn_x[max_idx][idx],axis=(1,2))-np.max(real_x[max_idx][idx],axis=(1,2)))))\n",
    "print(np.mean(np.abs(np.max(pred_vaegan_x[max_idx][idx],axis=(1,2))-np.max(real_x[max_idx][idx],axis=(1,2)))))\n",
    "print(np.mean(np.abs(np.max(pred_gan_x[max_idx][idx],axis=(1,2))-np.max(real_x[max_idx][idx],axis=(1,2)))))\n",
    "# print(np.max(np.abs(np.max(pred_vaegan_x[max_idx],axis=(1,2))-np.max(real_x[max_idx],axis=(1,2)))))\n",
    "# print(np.max(np.abs(np.max(pred_gan_x[max_idx],axis=(1,2))-np.max(real_x[max_idx],axis=(1,2)))))\n",
    "\n",
    "# print(np.max(inputs_x[max_idx],axis=(1,2)))\n",
    "# print(np.max(pred_cnn_x[max_idx],axis=(1,2)))\n",
    "# print(np.max(pred_vaegan_x[max_idx],axis=(1,2)))\n",
    "# print(np.max(pred_gan_x[max_idx],axis=(1,2)))\n",
    "# pred_vaegan_x = pred_vaegan_x[max_idx]\n",
    "# pred_gan_x = pred_gan_x[max_idx]\n",
    "# real_x = real_x[max_idx]\n",
    "# pred_vaegan_ensemble_x = pred_vaegan_ensemble_x[max_idx]\n",
    "# pred_gan_ensemble_x = pred_gan_ensemble_x[max_idx]\n",
    "\n",
    "# print(np.sort(max_idx))"
   ]
  },
  {
   "cell_type": "code",
   "execution_count": 7,
   "metadata": {},
   "outputs": [
    {
     "name": "stdout",
     "output_type": "stream",
     "text": [
      "THE STORM IS: 3014\n",
      "storm max:  116.75\n",
      "cnn max:  87.8419\n",
      "vaegan max:  170.15652465820312\n",
      "gan max:  127.39314270019531\n",
      "inputs max:  76.67473602294922\n",
      "\n",
      "\n",
      "THE STORM IS: 3487\n",
      "storm max:  96.0625\n",
      "cnn max:  86.41392\n",
      "vaegan max:  161.053466796875\n",
      "gan max:  110.26844787597656\n",
      "inputs max:  68.79072570800781\n",
      "\n",
      "\n",
      "THE STORM IS: 3738\n",
      "storm max:  148.9375\n",
      "cnn max:  108.175224\n",
      "vaegan max:  181.9921417236328\n",
      "gan max:  146.2998809814453\n",
      "inputs max:  79.16040802001953\n",
      "\n",
      "\n"
     ]
    },
    {
     "name": "stderr",
     "output_type": "stream",
     "text": [
      "/tmp/ipykernel_42993/1396133910.py:82: UserWarning: This figure includes Axes that are not compatible with tight_layout, so results might be incorrect.\n",
      "  fig.tight_layout()\n"
     ]
    },
    {
     "data": {
      "text/plain": [
       "<Figure size 3000x2500 with 0 Axes>"
      ]
     },
     "metadata": {},
     "output_type": "display_data"
    }
   ],
   "source": [
    "\n",
    "plot = 'save'\n",
    "n = 5\n",
    "m = 6\n",
    "\n",
    "# make colours\n",
    "range_ = (0, 20)\n",
    "storms = [4077, 4078, 4079, 4080, 4081, 4082]\n",
    "\n",
    "# maria 8453 (8452 for unet) 8463\n",
    "# haiyan 9820, 9828,  9845, 9840 9815, 9816, 9822 9809\n",
    "# barb 1347 1375 1399\n",
    "# georges 4082\n",
    "\n",
    "storms = [8453,9845,1375,4128,5358,747]\n",
    "storms = [8453,9845,1375,3014,3487,3757] \n",
    "storms = [8453,9845,1375,3014,3487,3738]\n",
    "# storms_extremes = [4082,5349,763]\n",
    "plot_predictions(inputs,inputs_x,pred_cnn,pred_cnn_x,pred_vaegan,pred_vaegan_x,pred_gan,pred_gan_x,real,real_x,storms,range_)\n"
   ]
  },
  {
   "cell_type": "code",
   "execution_count": 8,
   "metadata": {},
   "outputs": [
    {
     "name": "stdout",
     "output_type": "stream",
     "text": [
      "(array([], dtype=int64),)\n",
      "(array([], dtype=int64),)\n",
      "(array([], dtype=int64),)\n",
      "(array([], dtype=int64),)\n",
      "(array([], dtype=int64),)\n",
      "(array([], dtype=int64),)\n"
     ]
    }
   ],
   "source": [
    "# print(meta.shape)\n",
    "# print(real.shape) \n",
    "\n",
    "# print(np.sum(meta['sid'] == '1992044S09181'))\n",
    "# print(np.sum(meta_extreme['sid'] == '1992044S09181'))\n",
    "# print(np.sum(meta_test['sid'] == '1992044S09181'))\n",
    "# print(np.sum(meta_extreme_test['sid'] == '1992044S09181'))\n",
    "# print(np.sum(meta_train['sid'] == '1992044S09181'))\n",
    "\n",
    "\n",
    "# print(meta_extreme['sid'].values)\n",
    "# for i,storm in enumerate(meta_extreme['sid'].values):\n",
    "# \tpre_storm = meta_extreme['sid'].values[i-1]\n",
    "# \tif storm != pre_storm:\n",
    "# \t\tprint(storm)\n",
    "\n",
    "# Dorian in the test set\n",
    "# Isaac (2012) '2012234N16315' training set NA\n",
    "# Amphan 2020136N10088 ****** lost NI\n",
    "# Harvey 2017228N14314 train NA\n",
    "# Irma 2017242N16333 train NA\n",
    "# Idai 2019063S18038 train SIO \n",
    "# Winston 2016041S14170 test SP\n",
    "# Matthew 2016273N13300 extreme_test NA\n",
    "# Jalawat 2012263N15141 extreme_test WP\n",
    "# irene 2011233N15301 valid\n",
    "# isaac 2012234N16315 train\n",
    "\n",
    "\n",
    "# EP NA WP\n",
    "# NIO SIO SP\n",
    "\n",
    "# Maria 2017260N12310 validation NA\n",
    "# Haiyan 2013306N07162 validation WP\n",
    "# Barbara 1995189N11257 validation EP\n",
    "print(np.where(meta_extreme['sid'] == '2020138N10086'))\n",
    "print(np.where(meta_valid['sid'] == '2020138N10086'))\n",
    "print(np.where(meta_train['sid'] == '2020138N10086'))\n",
    "print(np.where(meta_test['sid'] == '2020138N10086'))\n",
    "print(np.where(meta_extreme_test['sid'] == '2020138N10086'))\n",
    "print(np.where(meta_extreme_valid['sid'] == '2020138N10086'))\n",
    "\n",
    "\n",
    "\n",
    "# Georges 1998259N10335 extreme valid NA\n",
    "# Daman 1992044S09181 extreme valid SP\n",
    "# Haleh 2019060S10078 extreme valid SIO\n",
    "\n",
    "\n",
    "# accumulated:\n",
    "# Irene 2011233N15301 validation NA\n",
    "# Haiyan 2013306N07162 validation WP\n",
    "# Pauline 1997279N12263 extreme test EP\n",
    "# Yasa 2020348S14173 SP (fiji)\n",
    "# Idai 2019063S18038 train SI or Haleh 2019060S10078 extreme valid SI\n",
    "# Amphan 2020136N10088 NI 2020138N10086\n",
    "\n",
    "# check\n",
    "# Harvey 2017228N14314 train NA\n",
    "# Isaac 2012234N16315 train NA\n",
    "# Maria 2017260N12310 validation NA\n",
    "# Irma 2017242N16333 train NA\n",
    "# Dorian 2019236N10314 test NA"
   ]
  },
  {
   "cell_type": "code",
   "execution_count": 9,
   "metadata": {},
   "outputs": [
    {
     "name": "stdout",
     "output_type": "stream",
     "text": [
      "1985298N12249\n",
      "1990171N11148\n",
      "1997013S08101\n",
      "1998259N17118\n",
      "2003240N20139\n",
      "2004156N16117\n",
      "2004164N06139\n"
     ]
    }
   ],
   "source": [
    "tc_list = [680,1438,2651,3014,3487,3738,3757]\n",
    "\n",
    "for i in tc_list:\n",
    "\tprint(meta_extreme_test['sid'][i])"
   ]
  },
  {
   "cell_type": "code",
   "execution_count": 10,
   "metadata": {},
   "outputs": [],
   "source": [
    "# 2019160N11073 - VAYU 2019 NI 3014\n",
    "# 2012346S14180 - Evan 2013 SP 2857\n",
    "# 2005042S12190 - Nancy 2005 SP 2651\n",
    "\n",
    "# 3014 VAYU 3014\n",
    "# 3487 Ursula 1998 SP\n",
    "# 3738 Typhoon Brenden 1985 WP\n",
    "\n",
    "# 3757 Cyclone Ofa 1990 SP\n",
    "\n",
    "# 680\n"
   ]
  },
  {
   "cell_type": "code",
   "execution_count": 11,
   "metadata": {},
   "outputs": [
    {
     "name": "stdout",
     "output_type": "stream",
     "text": [
      "65.83993530273438\n",
      "286.1875\n"
     ]
    }
   ],
   "source": [
    "print(np.max(inputs))\n",
    "print(np.max(real))"
   ]
  },
  {
   "cell_type": "code",
   "execution_count": 12,
   "metadata": {},
   "outputs": [
    {
     "name": "stdout",
     "output_type": "stream",
     "text": [
      "190.38748168945312\n",
      "698.125\n"
     ]
    }
   ],
   "source": [
    "print(np.max(inputs_x))\n",
    "print(np.max(real_x))"
   ]
  },
  {
   "cell_type": "code",
   "execution_count": 13,
   "metadata": {},
   "outputs": [],
   "source": [
    "def plot_haleh(inputs,inputs_x,pred_cnn,pred_cnn_x,pred_vaegan,pred_vaegan_x,pred_gan,pred_gan_x,real,real_x,storms,range_,plot='save'):\n",
    "\n",
    "\tfig, axes = plt.subplots(1, 3, figsize=(30, 10), sharey=True)\n",
    "\tpal = sns.cubehelix_palette(10, rot=-.25, light=.7,as_cmap=True)\n",
    "\n",
    "\tstorm=storms\n",
    "\tnorm = precip_norm\n",
    "\taxes[0].imshow(regrid(inputs_x[storm]), interpolation='nearest', norm=norm,extent=None,cmap=precip_cmap)\n",
    "\taxes[0].invert_yaxis()\n",
    "\taxes[1].imshow(pred_vaegan_x[storm], interpolation='nearest',norm=norm, extent=None,cmap=precip_cmap)\n",
    "\taxes[1].invert_yaxis()\n",
    "\tim = axes[2].imshow(real_x[storm], interpolation='nearest',norm=norm, extent=None,cmap=precip_cmap)\n",
    "\taxes[2].invert_yaxis()\n",
    "\n",
    "\taxes[0].set(xticklabels=[])\n",
    "\taxes[0].set(yticklabels=[])\n",
    "\taxes[1].set(xticklabels=[])\n",
    "\taxes[1].set(yticklabels=[])\n",
    "\taxes[2].set(xticklabels=[])\n",
    "\taxes[2].set(yticklabels=[])\n",
    "\n",
    "\n",
    "\t# axes[2].set_xlabel('Haleh (2019)',fontsize=24,labelpad=5)\n",
    "\n",
    "\tfig.subplots_adjust(right=0.8)\n",
    "\tcbar_ax = fig.add_axes([1, 0.031, 0.03, 0.936])\n",
    "\tlevels=[0, 1, 2, 3, 5, 7, 10, 15, 20, 25, 30, 40, 50, 70, 100, 150]\n",
    "\tcb = fig.colorbar(im, cax=cbar_ax,shrink=0.005,ticks=levels)\n",
    "\tcb.ax.tick_params(labelsize=36)\n",
    "\tfig.tight_layout()\n",
    "\n",
    "\tif plot == 'save':\n",
    "\t\t\tplt.savefig('tropical_cyclone_haleh.png',bbox_inches='tight',dpi=600)\n",
    "\t\t\tplt.clf()\n",
    "\telse:\n",
    "\t\t\tplt.show()\n",
    "\t"
   ]
  },
  {
   "cell_type": "code",
   "execution_count": 14,
   "metadata": {},
   "outputs": [],
   "source": [
    "# real_x,inputs_x,pred_cnn_x,pred_vaegan_x,pred_gan_x,pred_vaegan_ensemble_x,pred_gan_ensemble_x,meta_extreme_valid = load_tc_data(set='extreme_valid',results='test')\n",
    "real_x,inputs_x,pred_cnn_x,pred_vaegan_x,pred_gan_x,pred_vaegan_ensemble_x,pred_gan_ensemble_x,meta_extreme_valid = load_tc_data(set='extreme_test',results='test')\n"
   ]
  },
  {
   "cell_type": "code",
   "execution_count": 15,
   "metadata": {},
   "outputs": [
    {
     "name": "stdout",
     "output_type": "stream",
     "text": [
      "[4812, 3913, 4434, 4650, 1628, 5063, 4866, 4805, 4798, 1624]\n"
     ]
    },
    {
     "name": "stderr",
     "output_type": "stream",
     "text": [
      "/tmp/ipykernel_42993/2158126563.py:30: UserWarning: This figure includes Axes that are not compatible with tight_layout, so results might be incorrect.\n",
      "  fig.tight_layout()\n"
     ]
    },
    {
     "data": {
      "text/plain": [
       "<Figure size 3000x1000 with 0 Axes>"
      ]
     },
     "metadata": {},
     "output_type": "display_data"
    }
   ],
   "source": [
    "storms = [8453,9845,1375,3014,3487,3757]\n",
    "storms = [8453,9845,1375,4128,5358,747]\n",
    "# print(max_idx)\n",
    "storms = 1624\n",
    "pred_vaegan_x_max = np.max(pred_vaegan_x,axis=(1,2))\n",
    "max_idx = list(np.argpartition(pred_vaegan_x_max, -10)[-10:])\n",
    "print(max_idx)\n",
    "range_ = (0, 20)\n",
    "plot_haleh(inputs,inputs_x,pred_cnn,pred_cnn_x,pred_vaegan,pred_vaegan_x,pred_gan,pred_gan_x,real,real_x,storms,range_)\n"
   ]
  },
  {
   "cell_type": "code",
   "execution_count": null,
   "metadata": {},
   "outputs": [],
   "source": []
  }
 ],
 "metadata": {
  "kernelspec": {
   "display_name": "Python 3.7.12",
   "language": "python",
   "name": "python3"
  },
  "language_info": {
   "codemirror_mode": {
    "name": "ipython",
    "version": 3
   },
   "file_extension": ".py",
   "mimetype": "text/x-python",
   "name": "python",
   "nbconvert_exporter": "python",
   "pygments_lexer": "ipython3",
   "version": "3.11.0"
  },
  "orig_nbformat": 4,
  "vscode": {
   "interpreter": {
    "hash": "8db171c8f47d96480481440150066e8900ebba8c84179e1231657aa1548891ff"
   }
  }
 },
 "nbformat": 4,
 "nbformat_minor": 2
}
