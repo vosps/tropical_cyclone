{
 "cells": [
  {
   "cell_type": "markdown",
   "metadata": {},
   "source": [
    "### Figure 2: Distribution Plot"
   ]
  },
  {
   "cell_type": "code",
   "execution_count": 1,
   "metadata": {},
   "outputs": [],
   "source": [
    "import numpy as np\n",
    "import seaborn as sns\n",
    "import pandas as pd\n",
    "import matplotlib.pyplot as plt\n",
    "import warnings\n",
    "import xesmf as xe\n",
    "from utils.data import load_tc_data\n",
    "warnings.filterwarnings(\"ignore\")\n",
    "sns.set_style(\"white\")\n",
    "sns.set_palette(sns.color_palette(\"Paired\"))\n",
    "sns.set_theme(style=\"white\", rc={\"axes.facecolor\": (0, 0, 0, 0)})\n",
    "\n",
    "# TODO: think about how to combine extreme set\n",
    "# TODO: NH / SH separation"
   ]
  },
  {
   "cell_type": "code",
   "execution_count": 8,
   "metadata": {},
   "outputs": [],
   "source": [
    "def plot_histogram(real,inputs, pred_cnn,pred_vaegan, pred_dsrnngan, binwidth,alpha,type='Mean'):\n",
    "        \"\"\"\n",
    "        This function plots a histogram of the set in question\n",
    "        \"\"\"\n",
    "        # ax = sns.histplot(data=penguins, x=\"flipper_length_mm\", hue=\"species\", element=\"step\")\n",
    "        fig, ax = plt.subplots(figsize=(10, 5))\n",
    "      #   fig, ax = plt.subplots(figsize=(5, 5))\n",
    "        sns.histplot(ax=ax,data=real, stat=\"density\", fill=True,color='#cdeac0',element='step',alpha=alpha)\n",
    "        sns.histplot(ax=ax,data=inputs, stat=\"density\", fill=True,color='#efe9ae',element='step',alpha=alpha)\n",
    "        sns.histplot(ax=ax,data=pred_cnn, stat=\"density\", fill=True,color='#fec3a6',element='step',alpha=alpha)\n",
    "        sns.histplot(ax=ax,data=pred_vaegan, stat=\"density\", fill=True,color='#ff928b',element='step',alpha=alpha)\n",
    "        sns.histplot(ax=ax,data=pred_dsrnngan, stat=\"density\", fill=True,color='#ffac81',element='step',alpha=alpha)\n",
    "        ax.set_xlabel('Mean or Peak rainfall (mm/h)',size=18)\n",
    "        ax.set_xlabel('%s Rainfall (mm/h)' % type,size=18)\n",
    "        ax.set_ylabel('Density',size=18)\n",
    "        plt.legend(labels=['real','input','cnn','vaegan','dsrnngan'],fontsize=24)\n",
    "        plt.show()\n",
    "        # plt.savefig('figs/histogram_accumulated_%s.png' % mode)\n",
    "\n",
    "def calc_peak(array):\n",
    "        nstorms,_,_ = array.shape\n",
    "        peaks = np.zeros((nstorms))\n",
    "        for i in range(nstorms):\n",
    "                peaks[i] = np.nanmax(array[i])\n",
    "        return peaks\n",
    "\n",
    "def calc_mean(array):\n",
    "        nstorms,_,_ = array.shape\n",
    "        means = np.zeros((nstorms))\n",
    "        for i in range(nstorms):\n",
    "                means[i] = np.nanmean(array[i])\n",
    "        return means\n",
    "\n",
    "def ridgeline_plot(reals,inputs,unet,vaegan,wgan,n,peak=True):\n",
    "      print('peak is ',peak)\n",
    "      sns.set_theme(style=\"white\", rc={\"axes.facecolor\": (0, 0, 0, 0)})\n",
    "      x = []\n",
    "      print(n)\n",
    "      # for i in range(len(reals)):\n",
    "      for i in range(n):\n",
    "            x.append(inputs[i])\n",
    "            x.append(unet[i])\n",
    "            x.append(vaegan[i])\n",
    "            x.append(wgan[i])\n",
    "            x.append(reals[i])\n",
    "\n",
    "      g = np.tile(['A','B','C','D','E'], n)\n",
    "      df = pd.DataFrame(dict(x=x, g=g))\n",
    "      m = df.g.map(ord)\n",
    "\n",
    "      # Initialize the FacetGrid object\n",
    "      pal = sns.cubehelix_palette(10, rot=-.25, light=.7)\n",
    "      # g = sns.FacetGrid(df, row=\"g\", hue=\"g\", aspect=15, height=1, palette=pal)\n",
    "      g = sns.FacetGrid(df, row=\"g\", hue=\"g\", aspect=10, height=1, palette=pal)\n",
    "\n",
    "      # Draw the densities in a few steps\n",
    "      if peak == True:\n",
    "            clip = (-1, 60)\n",
    "      else:\n",
    "            clip = (-1, 35)\n",
    "      g.map(sns.kdeplot, \"x\",\n",
    "            bw_adjust=.5, clip_on=False,\n",
    "            fill=True, alpha=1, linewidth=1.5,clip=clip)\n",
    "      g.map(sns.kdeplot, \"x\", clip_on=False, color=\"w\", lw=2, bw_adjust=.5,clip=clip)\n",
    "\n",
    "\n",
    "      # passing color=None to refline() uses the hue mapping\n",
    "      g.refline(y=0, linewidth=2, linestyle=\"-\", color=None, clip_on=False)\n",
    "\n",
    "\n",
    "      # Define and use a simple function to label the plot in axes coordinates\n",
    "      def label(x, color, label):\n",
    "            ax = plt.gca()\n",
    "            if label == 'A':\n",
    "                  label = 'INPUTS'\n",
    "            elif label == 'B':\n",
    "                  label = 'UNET'\n",
    "            elif label == 'C':\n",
    "                  label = 'VAEGAN'\n",
    "            elif label == 'D':\n",
    "                  label = 'WGAN'\n",
    "            elif label == 'E':\n",
    "                  label = 'REAL'    \n",
    "            elif label == 'F':\n",
    "                  label = 'HRMIP'\n",
    "            ax.text(0, .2, label, fontweight=\"bold\", color=color,\n",
    "                        ha=\"left\", va=\"center\", transform=ax.transAxes)\n",
    "\n",
    "      # last_ax = g.axes.flat[-1] #this might put the x axis right\n",
    "      g.map(label, \"x\")\n",
    "\n",
    "      # Set the subplots to overlap\n",
    "      g.figure.subplots_adjust(hspace=-.25)\n",
    "\n",
    "      # Remove axes details that don't play well with overlap\n",
    "      g.set_titles(\"\")\n",
    "      print(peak)\n",
    "      if peak == True:\n",
    "            g.set(yticks=[], ylabel=\"\",xlabel=\"Peak rainfall (mm/h)\")\n",
    "      elif peak == False:\n",
    "            print('mean')\n",
    "            g.set(yticks=[], ylabel=\"\",xlabel=\"Mean rainfall (mm/h)\")\n",
    "      # g.set_xlabels(\"Peak rainfall (mm/h)\",fontweight='bold',color='#425782',size=15)\n",
    "      g.set_xticklabels(size = 12,fontweight='bold',color='#425782')\n",
    "      g.despine(bottom=True, left=True)\n",
    "      print(peak)\n",
    "      if peak == True:\n",
    "            g.savefig('peak_distribution.png')\n",
    "      else:\n",
    "            g.savefig('mean_distribution.png')\n",
    "\n",
    "def distribution(inputs,pred_unet,pred_vaegan,pred_gan,real,pred_mip,peak=True):\n",
    "\tpeak_reals = calc_peak(real)\n",
    "\tpeak_preds = calc_peak(pred_gan)\n",
    "\tpeak_inputs = calc_peak(inputs)\n",
    "\tpeak_vaegan = calc_peak(pred_vaegan)\n",
    "\tpeak_cnn = calc_peak(pred_unet)\n",
    "\tpeak_hrmip = calc_peak(pred_mip)\n",
    "\t# plot_histogram(peak_reals,peak_inputs,peak_cnn,peak_vaegan,peak_preds,5,0.5,type = 'Peak')\n",
    "\n",
    "\tmean_reals = calc_mean(real)\n",
    "\tmean_preds = calc_mean(pred_gan)\n",
    "\tmean_inputs = calc_mean(inputs)\n",
    "\tmean_vaegan = calc_mean(pred_vaegan)\n",
    "\tmean_cnn = calc_mean(pred_unet)\n",
    "\tmean_hrmip = calc_mean(pred_mip)\n",
    "\n",
    "\t# plot_histogram(mean_reals,mean_inputs,mean_cnn,mean_vaegan,mean_preds,5,0.5)\n",
    "\n",
    "\t# print('mean real: ',np.mean(real))\n",
    "\t# print('mean pred: ', np.mean(pred))\n",
    "\t# print('std real: ',np.std(real))\n",
    "\t# print('std pred: ',np.std(pred))\n",
    "\tif peak:\n",
    "\t\treturn peak_reals,peak_preds,peak_inputs,peak_vaegan,peak_cnn,peak_hrmip\n",
    "\telse:\n",
    "\t\treturn mean_reals,mean_preds,mean_inputs,mean_vaegan,mean_cnn,mean_hrmip\n",
    "\n",
    "def radMask(index,radius,array):\n",
    "  a,b = index\n",
    "  nx,ny = array.shape\n",
    "  y,x = np.ogrid[-a:nx-a,-b:ny-b]\n",
    "  mask = x*x + y*y <= radius*radius\n",
    "\n",
    "  return mask\n",
    "\n",
    "def core(data,radius=25):\n",
    "      print('data shape',data.shape)\n",
    "      mask=radMask((50,50),radius,data[0,:,:])\n",
    "      n,_,_ = data.shape\n",
    "      mask = np.expand_dims(mask,axis=0)\n",
    "      mask = np.repeat(mask,n,axis=0)\n",
    "      return np.ma.array(data, mask=mask)"
   ]
  },
  {
   "cell_type": "code",
   "execution_count": 4,
   "metadata": {},
   "outputs": [
    {
     "name": "stdout",
     "output_type": "stream",
     "text": [
      "pred gan shape (100, 100)\n"
     ]
    }
   ],
   "source": [
    "\n",
    "model = ''\n",
    "# set mode\n",
    "mode = 'validation'\n",
    "# print(np.load('/user/home/al18709/work/tc_data_mswep/valid_X.npy').shape)\n",
    "\n",
    "pred_gan = np.load('/user/home/al18709/work/gan_predictions_20/validation_pred-opt_5_normal_problem.npy',allow_pickle=True)[0,:,:,0]\n",
    "print('pred gan shape',pred_gan.shape)\n",
    "# load datasets\n",
    "\n",
    "real,inputs,pred_cnn,pred_vaegan,pred_gan,pred_vaegan_ensemble,pred_gan_ensemble,meta = load_tc_data(set='validation',results='test')\n",
    "real_x,inputs_x,pred_cnn_x,pred_vaegan_x,pred_gan_x,pred_vaegan_ensemble_x,pred_gan_ensemble_x,meta_extreme_valid = load_tc_data(set='extreme_valid',results='test')\n",
    "# inputs = np.load('/user/home/al18709/work/gan_predictions_20/validation_input-opt_improve.npy')[:,:,:,0]\n",
    "hrmip = np.load('/user/home/al18709/work/CMIP6/HighResMIP/EC-Earth3p/historical/storm_rain.npy')[-28000:]\n",
    "\n",
    "# regrid inputs\n",
    "grid_in = {\"lon\": np.linspace(0, 100, 10), \"lat\": np.linspace(0, 100, 10)}\n",
    "grid_out = {\"lon\": np.linspace(0, 100, 100), \"lat\": np.linspace(0, 100, 100)}\n",
    "regridder = xe.Regridder(grid_in, grid_out, \"bilinear\")\n",
    "inputs_hr = regridder(inputs)\n",
    "hrmip_hr = regridder(hrmip)\n"
   ]
  },
  {
   "cell_type": "code",
   "execution_count": 5,
   "metadata": {},
   "outputs": [
    {
     "name": "stdout",
     "output_type": "stream",
     "text": [
      "data shape (16253, 100, 100)\n",
      "data shape (16253, 100, 100)\n",
      "data shape (16252, 100, 100)\n",
      "data shape (16253, 100, 100)\n",
      "data shape (16253, 100, 100)\n",
      "data shape (16253, 100, 100)\n"
     ]
    }
   ],
   "source": [
    "reals = core(real)\n",
    "inputs = core(inputs_hr)\n",
    "pred_cnn = core(pred_cnn)\n",
    "pred_vaegan = core(pred_vaegan)\n",
    "pred_gan = core(pred_gan)\n",
    "real = core(real)\n",
    "\n"
   ]
  },
  {
   "cell_type": "code",
   "execution_count": 6,
   "metadata": {},
   "outputs": [],
   "source": [
    "\n",
    "\n",
    "# pred = inputs_hr\n",
    "peak_reals,peak_gan,peak_inputs,peak_vaegan,peak_unet,peak_hrmip = distribution(inputs,pred_cnn,pred_vaegan,pred_gan,real,hrmip)\n",
    "mean_reals,mean_gan,mean_inputs,mean_vaegan,mean_unet,mean_hrmip = distribution(inputs,pred_cnn,pred_vaegan,pred_gan,real,hrmip,peak=False)"
   ]
  },
  {
   "cell_type": "code",
   "execution_count": 9,
   "metadata": {},
   "outputs": [
    {
     "name": "stdout",
     "output_type": "stream",
     "text": [
      "peak is  True\n",
      "16252\n",
      "True\n",
      "True\n"
     ]
    },
    {
     "data": {
      "image/png": "[encoded data removed]",
      "text/plain": [
       "<Figure size 720x360 with 5 Axes>"
      ]
     },
     "metadata": {},
     "output_type": "display_data"
    }
   ],
   "source": [
    "n, = peak_reals.shape\n",
    "ridgeline_plot(peak_reals,peak_inputs,peak_unet,peak_vaegan,peak_gan,n-1)\n",
    "# ridgeline_plot(mean_reals,mean_inputs,mean_unet,mean_vaegan,mean_gan,n-1,peak=False)\n",
    "\n"
   ]
  },
  {
   "cell_type": "code",
   "execution_count": null,
   "metadata": {},
   "outputs": [
    {
     "name": "stdout",
     "output_type": "stream",
     "text": [
      "(5425, 100, 100)\n"
     ]
    }
   ],
   "source": [
    "# print(x)\n",
    "# https://python.plainenglish.io/ridge-plots-with-pythons-seaborn-4de5725881af\n",
    "print(real_x.shape)\n",
    "peak_reals,peak_dsrnngan,peak_inputs,peak_vaegan,peak_unet,peak_hrmip = distribution(inputs_x,pred_cnn_x,pred_vaegan_x,pred_gan_x,real_x,hrmip)\n",
    "mean_reals,mean_dsrnngan,mean_inputs,mean_vaegan,mean_unet,mean_hrmip = distribution(inputs_x,pred_cnn_x,pred_vaegan_x,pred_gan_x,real_x,hrmip,peak=False)"
   ]
  },
  {
   "cell_type": "code",
   "execution_count": null,
   "metadata": {},
   "outputs": [
    {
     "name": "stdout",
     "output_type": "stream",
     "text": [
      "(5425,) (5425,) (5425,) (5425,) (5425,)\n",
      "data shape (5425, 100, 100)\n",
      "data shape (5425, 10, 10)\n",
      "data shape (5425, 100, 100)\n",
      "data shape (5425, 100, 100)\n",
      "data shape (5425, 100, 100)\n",
      "data shape (5425, 100, 100)\n",
      "peak is  True\n",
      "5425\n",
      "True\n",
      "True\n"
     ]
    },
    {
     "data": {
      "image/png": "[encoded data removed]",
      "text/plain": [
       "<Figure size 720x360 with 5 Axes>"
      ]
     },
     "metadata": {},
     "output_type": "display_data"
    }
   ],
   "source": [
    "print(peak_reals.shape,peak_inputs.shape,peak_unet.shape,peak_vaegan.shape,peak_dsrnngan.shape)\n",
    "reals = core(real_x)\n",
    "inputs = core(inputs_x)\n",
    "pred_cnn = core(pred_cnn_x)\n",
    "pred_vaegan = core(pred_vaegan_x)\n",
    "pred_dsrnngan = core(pred_gan_x)\n",
    "real = core(real_x)\n",
    "n, = peak_reals.shape\n",
    "ridgeline_plot(peak_reals,peak_inputs,peak_unet,peak_vaegan,peak_dsrnngan,n)\n",
    "# ridgeline_plot(mean_reals,mean_inputs,mean_unet,mean_vaegan,mean_dsrnngan,n)"
   ]
  },
  {
   "cell_type": "code",
   "execution_count": null,
   "metadata": {},
   "outputs": [],
   "source": []
  }
 ],
 "metadata": {
  "interpreter": {
   "hash": "8db171c8f47d96480481440150066e8900ebba8c84179e1231657aa1548891ff"
  },
  "kernelspec": {
   "display_name": "Python 3.7.12",
   "language": "python",
   "name": "python3"
  },
  "language_info": {
   "codemirror_mode": {
    "name": "ipython",
    "version": 3
   },
   "file_extension": ".py",
   "mimetype": "text/x-python",
   "name": "python",
   "nbconvert_exporter": "python",
   "pygments_lexer": "ipython3",
   "version": "3.7.12"
  },
  "orig_nbformat": 4
 },
 "nbformat": 4,
 "nbformat_minor": 2
}
