{
 "cells": [
  {
   "cell_type": "markdown",
   "metadata": {},
   "source": [
    "### Figure 5: Power Spectra at each wave number"
   ]
  },
  {
   "cell_type": "code",
   "execution_count": 2,
   "metadata": {},
   "outputs": [
    {
     "name": "stderr",
     "output_type": "stream",
     "text": [
      "/user/work/al18709/.conda/envs/aquatic/lib/python3.7/site-packages/geopandas/_compat.py:115: UserWarning: The Shapely GEOS version (3.10.2-CAPI-1.16.0) is incompatible with the GEOS version PyGEOS was compiled with (3.10.1-CAPI-1.16.0). Conversions between both will be slow.\n",
      "  shapely_geos_version, geos_capi_version_string\n"
     ]
    }
   ],
   "source": [
    "import numpy as np\n",
    "from esda.moran import Moran,Moran_Local\n",
    "from libpysal.weights import lat2W\n",
    "import seaborn as sns\n",
    "import pandas as pd\n",
    "import matplotlib.pyplot as plt\n",
    "import properscoring as ps\n",
    "import warnings\n",
    "from scipy import stats\n",
    "# from utils.evaluation import plot_histogram,calc_peak,calc_mean\n",
    "from sklearn.metrics import mean_squared_error\n",
    "from math import sqrt\n",
    "import xesmf as xe\n",
    "warnings.filterwarnings(\"ignore\")\n",
    "sns.set_style(\"white\")\n",
    "sns.set_palette(sns.color_palette(\"Paired\"))"
   ]
  },
  {
   "cell_type": "code",
   "execution_count": 18,
   "metadata": {},
   "outputs": [],
   "source": [
    "def power_spectrum_dB(img):\n",
    "\tfx = np.fft.fft2(img)\n",
    "\tfx = fx[:img.shape[0]//2, :img.shape[1]//2] # disgard half of it because you can derive one half from the other?\n",
    "\tpx = abs(fx)**2 # get the size of the amplitudes\n",
    "\treturn 10 * np.log10(px) # is this the rainfall normalisation step?\n",
    "\n",
    "def power_spectrum_dB_2(img):\n",
    "\tfx = np.fft.fft2(img)\n",
    "\t# fx = fx[:img.shape[0]//2, :img.shape[1]//2] # disgard half of it because you can derive one half from the other?\n",
    "\tpx = abs(fx)**2 # get the size of the amplitudes\n",
    "\treturn px\n",
    "\n",
    "def log_spectral_batch(batch1):\n",
    "\tlsd_batch = []\n",
    "\tfor i in range(batch1.shape[0]):\n",
    "\t\tlsd = power_spectrum_dB_2(\n",
    "\t\t\t\tbatch1[i, :, :])\n",
    "\t\tlsd_batch.append(lsd)\n",
    "\treturn np.array(lsd_batch)"
   ]
  },
  {
   "cell_type": "code",
   "execution_count": 19,
   "metadata": {},
   "outputs": [
    {
     "name": "stdout",
     "output_type": "stream",
     "text": [
      "(16253, 100, 100)\n"
     ]
    }
   ],
   "source": [
    "model = ''\n",
    "# set mode\n",
    "mode = 'validation'\n",
    "\n",
    "# load datasets\n",
    "real = np.load('/user/home/al18709/work/dsrnngan_predictions%s/%s_real-opt.npy' % (model,mode))[0][:,:,:,0]\n",
    "pred = np.load('/user/home/al18709/work/dsrnngan_predictions%s/%s_pred-opt.npy' % (model,mode))[0][:,:,:,0]\n",
    "\n",
    "pred_cnn = np.load('/user/home/al18709/work/cnn/unet_valid.npy')\n",
    "pred_dsrnngan = np.load('/user/home/al18709/work/dsrnngan_predictions/validation_pred-opt.npy')[0][:,:,:,0]\n",
    "pred_vaegan = np.load('/user/home/al18709/work/vaegan/predictions/validation_pred.npy')[0][:,:,:,0]\n",
    "\n",
    "pred_ensemble_vaegan = np.load('/user/home/al18709/work/vaegan/predictions/validation_pred.npy')[0]\n",
    "pred_ensemble_gan = np.load('/user/home/al18709/work/dsrnngan_predictions%s/%s_pred-opt.npy' % (model,mode))[0]\n",
    "inputs = np.load('/user/home/al18709/work/dsrnngan_predictions%s/%s_input-opt.npy' % (model,mode))[0][:,:,:,0]\n",
    "\n",
    "# regrid inputs\n",
    "grid_in = {\"lon\": np.linspace(0, 100, 10), \"lat\": np.linspace(0, 100, 10)}\n",
    "grid_out = {\"lon\": np.linspace(0, 100, 100), \"lat\": np.linspace(0, 100, 100)}\n",
    "regridder = xe.Regridder(grid_in, grid_out, \"bilinear\")\n",
    "inputs_hr = regridder(inputs)\n",
    "\n",
    "print(inputs_hr.shape)"
   ]
  },
  {
   "cell_type": "code",
   "execution_count": 23,
   "metadata": {},
   "outputs": [
    {
     "name": "stdout",
     "output_type": "stream",
     "text": [
      "[[4.72032655e+08 1.58421974e+08 2.66253097e+07 ... 1.20263204e+06\n",
      "  2.66253097e+07 1.58421974e+08]\n",
      " [2.40175262e+08 6.52289195e+07 9.57818244e+06 ... 1.57526812e+06\n",
      "  3.61432166e+07 1.60362629e+08]\n",
      " [4.41615797e+07 1.29207603e+07 1.68605298e+06 ... 1.82845145e+06\n",
      "  1.86645984e+07 5.15798949e+07]\n",
      " ...\n",
      " [4.32820389e+06 5.79264914e+06 5.64426437e+06 ... 9.89387364e+05\n",
      "  9.01646829e+05 1.55204394e+06]\n",
      " [4.41615797e+07 5.15798949e+07 1.86645984e+07 ... 4.62646142e+05\n",
      "  1.68605298e+06 1.29207603e+07]\n",
      " [2.40175262e+08 1.60362629e+08 3.61432166e+07 ... 8.67204337e+05\n",
      "  9.57818244e+06 6.52289195e+07]]\n"
     ]
    }
   ],
   "source": [
    "lsb_real = log_spectral_batch(real)\n",
    "lsb_pred = log_spectral_batch(pred)\n",
    "print(lsb_real[0])\n"
   ]
  },
  {
   "cell_type": "code",
   "execution_count": 21,
   "metadata": {},
   "outputs": [
    {
     "name": "stdout",
     "output_type": "stream",
     "text": [
      "[ 0.          0.16666667 -0.16666667]\n"
     ]
    }
   ],
   "source": [
    "print(np.fft.fftfreq(3, d = 2))"
   ]
  },
  {
   "cell_type": "code",
   "execution_count": 22,
   "metadata": {},
   "outputs": [
    {
     "name": "stdout",
     "output_type": "stream",
     "text": [
      "[  0.   1.   2.   3.   4.   5.   6.   7.   8.   9.  10.  11.  12.  13.\n",
      "  14.  15.  16.  17.  18.  19.  20.  21.  22.  23.  24.  25.  26.  27.\n",
      "  28.  29.  30.  31.  32.  33.  34.  35.  36.  37.  38.  39.  40.  41.\n",
      "  42.  43.  44.  45.  46.  47.  48.  49. -50. -49. -48. -47. -46. -45.\n",
      " -44. -43. -42. -41. -40. -39. -38. -37. -36. -35. -34. -33. -32. -31.\n",
      " -30. -29. -28. -27. -26. -25. -24. -23. -22. -21. -20. -19. -18. -17.\n",
      " -16. -15. -14. -13. -12. -11. -10.  -9.  -8.  -7.  -6.  -5.  -4.  -3.\n",
      "  -2.  -1.]\n"
     ]
    },
    {
     "data": {
      "text/plain": [
       "<function matplotlib.pyplot.show(close=None, block=None)>"
      ]
     },
     "execution_count": 22,
     "metadata": {},
     "output_type": "execute_result"
    },
    {
     "data": {
      "image/png": "[encoded data removed]",
      "text/plain": [
       "<Figure size 432x288 with 1 Axes>"
      ]
     },
     "metadata": {},
     "output_type": "display_data"
    }
   ],
   "source": [
    "# https://bertvandenbroucke.netlify.app/2019/05/24/computing-a-power-spectrum-in-python/\n",
    "npix=100\n",
    "kfreq = np.fft.fftfreq(npix) * npix\n",
    "# This will automatically return a one dimensional array containing the wave vectors for the numpy.fft.fftn call, in the correct order.\n",
    "print(kfreq)\n",
    "kfreq2D = np.meshgrid(kfreq, kfreq)\n",
    "# To convert this to a two dimensional array matching the layout of the two dimensional Fourier image, we can use numpy.meshgrid\n",
    "\n",
    "# Finally, we are not really interested in the actual wave vectors, but rather in their norm\n",
    "knrm = np.sqrt(kfreq2D[0]**2 + kfreq2D[1]**2)\n",
    "\n",
    "# we no longer need the wave vector norms or Fourier image to be laid out as a two dimensional array, so we will flatten them\n",
    "knrm = knrm.flatten()\n",
    "fourier_amplitudes = lsb_real[0,:,:]\n",
    "fourier_amplitudes = fourier_amplitudes.flatten()\n",
    "\n",
    "# bin the amplitudes in k space, we need to set up wave number bins\n",
    "# Note that the maximum wave number will equal half the pixel size of the image. \n",
    "# This is because half of the Fourier frequencies can be mapped back to negative wave\n",
    "#  numbers that have the same norm as their positive counterpart.\n",
    "kbins = np.arange(0.5, npix//2+1, 1.)\n",
    "\n",
    "# The kbin array will contain the start and end points of all bins; the corresponding k values are the midpoints of these bins\n",
    "kvals = 0.5 * (kbins[1:] + kbins[:-1])\n",
    "\n",
    "\n",
    "# To compute the average Fourier amplitude (squared) in each bin, we can use scipy.stats\n",
    "import scipy.stats as stats\n",
    "Abins, _, _ = stats.binned_statistic(knrm, fourier_amplitudes,\n",
    "                                     statistic = \"mean\",\n",
    "                                     bins = kbins)\n",
    "\n",
    "# Remember that we want the total variance within each bin. Right now, we only have the average power. To get the total power, we need to multiply with the volume in each bin (in 2D, this volume is actually a surface area)\n",
    "Abins *= np.pi * (kbins[1:]**2 - kbins[:-1]**2)\n",
    "\n",
    "\n",
    "plt.loglog(kvals, Abins)\n",
    "plt.show\n"
   ]
  },
  {
   "cell_type": "code",
   "execution_count": 25,
   "metadata": {},
   "outputs": [
    {
     "name": "stdout",
     "output_type": "stream",
     "text": [
      "[  0.   1.   2.   3.   4.   5.   6.   7.   8.   9.  10.  11.  12.  13.\n",
      "  14.  15.  16.  17.  18.  19.  20.  21.  22.  23.  24.  25.  26.  27.\n",
      "  28.  29.  30.  31.  32.  33.  34.  35.  36.  37.  38.  39.  40.  41.\n",
      "  42.  43.  44.  45.  46.  47.  48.  49. -50. -49. -48. -47. -46. -45.\n",
      " -44. -43. -42. -41. -40. -39. -38. -37. -36. -35. -34. -33. -32. -31.\n",
      " -30. -29. -28. -27. -26. -25. -24. -23. -22. -21. -20. -19. -18. -17.\n",
      " -16. -15. -14. -13. -12. -11. -10.  -9.  -8.  -7.  -6.  -5.  -4.  -3.\n",
      "  -2.  -1.]\n"
     ]
    },
    {
     "data": {
      "text/plain": [
       "<function matplotlib.pyplot.show(close=None, block=None)>"
      ]
     },
     "execution_count": 25,
     "metadata": {},
     "output_type": "execute_result"
    },
    {
     "data": {
      "image/png": "[encoded data removed]",
      "text/plain": [
       "<Figure size 432x288 with 1 Axes>"
      ]
     },
     "metadata": {},
     "output_type": "display_data"
    }
   ],
   "source": [
    "# https://bertvandenbroucke.netlify.app/2019/05/24/computing-a-power-spectrum-in-python/\n",
    "npix=100\n",
    "kfreq = np.fft.fftfreq(npix) * npix\n",
    "# This will automatically return a one dimensional array containing the wave vectors for the numpy.fft.fftn call, in the correct order.\n",
    "print(kfreq)\n",
    "kfreq2D = np.meshgrid(kfreq, kfreq)\n",
    "# To convert this to a two dimensional array matching the layout of the two dimensional Fourier image, we can use numpy.meshgrid\n",
    "\n",
    "# Finally, we are not really interested in the actual wave vectors, but rather in their norm\n",
    "knrm = np.sqrt(kfreq2D[0]**2 + kfreq2D[1]**2)\n",
    "\n",
    "# we no longer need the wave vector norms or Fourier image to be laid out as a two dimensional array, so we will flatten them\n",
    "knrm = knrm.flatten()\n",
    "fourier_amplitudes = lsb_pred[0,:,:]\n",
    "fourier_amplitudes = fourier_amplitudes.flatten()\n",
    "\n",
    "# bin the amplitudes in k space, we need to set up wave number bins\n",
    "# Note that the maximum wave number will equal half the pixel size of the image. \n",
    "# This is because half of the Fourier frequencies can be mapped back to negative wave\n",
    "#  numbers that have the same norm as their positive counterpart.\n",
    "kbins = np.arange(0.5, npix//2+1, 1.)\n",
    "\n",
    "# The kbin array will contain the start and end points of all bins; the corresponding k values are the midpoints of these bins\n",
    "kvals = 0.5 * (kbins[1:] + kbins[:-1])\n",
    "\n",
    "\n",
    "# To compute the average Fourier amplitude (squared) in each bin, we can use scipy.stats\n",
    "import scipy.stats as stats\n",
    "Abins, _, _ = stats.binned_statistic(knrm, fourier_amplitudes,\n",
    "                                     statistic = \"mean\",\n",
    "                                     bins = kbins)\n",
    "\n",
    "# Remember that we want the total variance within each bin. Right now, we only have the average power. To get the total power, we need to multiply with the volume in each bin (in 2D, this volume is actually a surface area)\n",
    "Abins *= np.pi * (kbins[1:]**2 - kbins[:-1]**2)\n",
    "\n",
    "\n",
    "plt.loglog(kvals, Abins)\n",
    "plt.xlabel(\"$k$\")\n",
    "plt.ylabel(\"$P(k)$\")\n",
    "plt.show\n"
   ]
  },
  {
   "cell_type": "code",
   "execution_count": null,
   "metadata": {},
   "outputs": [],
   "source": []
  }
 ],
 "metadata": {
  "interpreter": {
   "hash": "8db171c8f47d96480481440150066e8900ebba8c84179e1231657aa1548891ff"
  },
  "kernelspec": {
   "display_name": "Python 3.7.12",
   "language": "python",
   "name": "python3"
  },
  "language_info": {
   "codemirror_mode": {
    "name": "ipython",
    "version": 3
   },
   "file_extension": ".py",
   "mimetype": "text/x-python",
   "name": "python",
   "nbconvert_exporter": "python",
   "pygments_lexer": "ipython3",
   "version": "3.7.12"
  },
  "orig_nbformat": 4
 },
 "nbformat": 4,
 "nbformat_minor": 2
}
