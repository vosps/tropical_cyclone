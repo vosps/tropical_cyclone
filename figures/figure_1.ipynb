{
 "cells": [
  {
   "cell_type": "markdown",
   "metadata": {},
   "source": [
    "### Figure 1: Predicted images"
   ]
  },
  {
   "cell_type": "code",
   "execution_count": 18,
   "metadata": {},
   "outputs": [],
   "source": [
    "import numpy as np\n",
    "import pandas as pd\n",
    "import seaborn as sns\n",
    "import matplotlib.pyplot as plt\n",
    "from matplotlib import colors\n",
    "import matplotlib\n",
    "import matplotlib.pyplot as plt\n",
    "import metpy.plots.ctables\n",
    "\n",
    "\n",
    "\n",
    "sns.set_style(\"white\")\n",
    "sns.set_palette(sns.color_palette(\"Paired\"))\n",
    "sns.set_palette(sns.color_palette(\"Set2\"))"
   ]
  },
  {
   "cell_type": "code",
   "execution_count": 19,
   "metadata": {},
   "outputs": [],
   "source": [
    "# precip_clevs = [0, 1, 2.5, 5, 7.5, 10, 15, 20, 30, 40,\n",
    "#      50, 70, 100, 150, 200, 250, 300, 400, 500, 600, 750, 1000]\n",
    "# precip_norm, precip_cmap = metpy.plots.ctables.registry.get_with_boundaries('precipitation', precip_clevs)\n",
    "precip_clevs = [0, 0.1, 1, 2.5, 5, 7.5, 10, 15, 20, 30, 40, 50, 70, 100, 150, 200]\n",
    "precip_clevs = [0, 1, 2, 3, 5, 7, 10, 15, 20, 25, 30, 40, 50, 70, 100, 150]\n",
    "precip_cmap = matplotlib.colors.ListedColormap(metpy.plots.ctables.colortables[\"precipitation\"][:len(precip_clevs)-1], 'precipitation')\n",
    "precip_norm = matplotlib.colors.BoundaryNorm(precip_clevs, precip_cmap.N)"
   ]
  },
  {
   "cell_type": "code",
   "execution_count": 20,
   "metadata": {},
   "outputs": [],
   "source": [
    "def regrid(array):\n",
    "        hr_array = np.zeros((100,100))\n",
    "        for i in range(10):\n",
    "                for j in range(10):\n",
    "                        i1 = i*10\n",
    "                        i2 = (i+1)*10\n",
    "                        j1 = j*10\n",
    "                        j2 = (j+1)*10\n",
    "                        hr_array[i1:i2,j1:j2] = array[i,j]\n",
    "        return hr_array"
   ]
  },
  {
   "cell_type": "code",
   "execution_count": 21,
   "metadata": {},
   "outputs": [],
   "source": [
    "def plot_predictions(inputs,inputs_x,pred_cnn,pred_cnn_x,pred_vaegan,pred_vaegan_x,pred_gan,pred_gan_x,real,real_x,storms,range_,plot='save'):\n",
    "\tif plot == 'save':\n",
    "\t\t\tfig, axes = plt.subplots(n, m, figsize=(5*m, 5*n), sharey=True)\n",
    "\telse:\n",
    "\t\t\tprint('show')\n",
    "\t\t\tfig, axes = plt.subplots(n, m, figsize=(2*m, 2*n), sharey=True)\n",
    "\n",
    "\tpal = sns.cubehelix_palette(10, rot=-.25, light=.7,as_cmap=True)\n",
    "\n",
    "\tfor i in range(m):\n",
    "\t\tj = 0\n",
    "\t\t\n",
    "\t\tstorm = storms[i]\n",
    "\t\t\n",
    "\t\tprint('storm max: ',real[storm].max())\n",
    "\t\tprint('cnn max: ',pred_cnn[storm].max())\n",
    "\t\tprint('vaegan max: ',pred_vaegan[storm].max())\n",
    "\t\tprint('gan max: ',pred_gan[storm].max())\n",
    "\t\tprint('inputs max: ', np.nanmax(inputs[storm]))\n",
    "\t\t# norm = colors.Normalize(*range_)\n",
    "\t\tnorm = precip_norm\n",
    "\t\tif i in [0,1,2]:\n",
    "\t\t\taxes[j,i].imshow(regrid(inputs[storm]), interpolation='nearest', norm=norm,extent=None,cmap=precip_cmap)\n",
    "\t\t\taxes[j+1,i].imshow(pred_cnn[storm], interpolation='nearest',norm=norm, extent=None,cmap=precip_cmap)\n",
    "\t\t\taxes[j+2,i].imshow(pred_vaegan[storm], interpolation='nearest',norm=norm, extent=None,cmap=precip_cmap)\n",
    "\t\t\taxes[j+3,i].imshow(pred_gan[storm], interpolation='nearest',norm=norm, extent=None,cmap=precip_cmap)\n",
    "\t\t\tim = axes[j+4,i].imshow(real[storm], interpolation='nearest',norm=norm, extent=None,cmap=precip_cmap)\n",
    "\t\telse:\n",
    "\t\t\taxes[j,i].imshow(regrid(inputs_x[storm]), interpolation='nearest', norm=norm,extent=None,cmap=precip_cmap)\n",
    "\t\t\taxes[j+1,i].imshow(pred_cnn_x[storm], interpolation='nearest',norm=norm, extent=None,cmap=precip_cmap)\n",
    "\t\t\taxes[j+2,i].imshow(pred_vaegan_x[storm], interpolation='nearest',norm=norm, extent=None,cmap=precip_cmap)\n",
    "\t\t\taxes[j+3,i].imshow(pred_gan_x[storm], interpolation='nearest',norm=norm, extent=None,cmap=precip_cmap)\n",
    "\t\t\tim = axes[j+4,i].imshow(real_x[storm], interpolation='nearest',norm=norm, extent=None,cmap=precip_cmap)\n",
    "\n",
    "\t\taxes[j,i].set(xticklabels=[])\n",
    "\t\taxes[j,i].set(yticklabels=[])\n",
    "\t\taxes[j+1,i].set(xticklabels=[])\n",
    "\t\taxes[j+1,i].set(yticklabels=[])\n",
    "\t\taxes[j+2,i].set(xticklabels=[])\n",
    "\t\taxes[j+2,i].set(yticklabels=[])\n",
    "\t\taxes[j+3,i].set(xticklabels=[])\n",
    "\t\taxes[j+3,i].set(yticklabels=[])\n",
    "\t\taxes[j+4,i].set(xticklabels=[])\n",
    "\t\taxes[j+4,i].set(yticklabels=[])\n",
    "\n",
    "\n",
    "\t\taxes[j,0].set_ylabel('LR input',rotation=0,horizontalalignment='left',fontsize=48,labelpad=240,fontweight='bold',color='#56a1d7')\n",
    "\t\taxes[j+1,0].set_ylabel('U-NET',rotation=0,horizontalalignment='left',fontsize=48,labelpad=240,fontweight='bold',color='#56a1d7')\n",
    "\t\taxes[j+2,0].set_ylabel('VAEGAN',rotation=0,horizontalalignment='left',fontsize=48,labelpad=240,fontweight='bold',color='#56a1d7')\n",
    "\t\taxes[j+3,0].set_ylabel('GAN',rotation=0,horizontalalignment='left',fontsize=48,labelpad=240,fontweight='bold',color='#56a1d7')\n",
    "\t\taxes[j+4,0].set_ylabel('HR obs',horizontalalignment='left',rotation=0,fontsize=48,labelpad=240,fontweight='bold',color='#56a1d7')\n",
    "\n",
    "\t\taxes[4,j].set_xlabel('Maria (2017; NA)',fontsize=24,labelpad=5)\n",
    "\t\taxes[4,j+1].set_xlabel('Haiyan (2013; WP)',fontsize=24,labelpad=5)\n",
    "\t\taxes[4,j+2].set_xlabel('Barbara (1995; EP)',fontsize=24,labelpad=5)\n",
    "\t\taxes[4,j+3].set_xlabel('Georges (1998; NA)',fontsize=24,labelpad=5)\n",
    "\t\taxes[4,j+4].set_xlabel('Daman (1992; SP)',fontsize=24,labelpad=5)\n",
    "\t\taxes[4,j+5].set_xlabel('Haleh (2019; SI)',fontsize=24,labelpad=5)\n",
    "\n",
    "\tfig.subplots_adjust(right=0.8)\n",
    "\t# cbar_ax = fig.add_axes([1, 0.15, 0.05, 0.7])\n",
    "\tcbar_ax = fig.add_axes([1, 0.031, 0.03, 0.936])\n",
    "\tcb = fig.colorbar(im, cax=cbar_ax,shrink=0.01)\n",
    "\tcb.ax.tick_params(labelsize=36)\n",
    "\tfig.tight_layout()\n",
    "\n",
    "\tif plot == 'save':\n",
    "\t\t\tplt.savefig('figure_1.png',bbox_inches='tight')\n",
    "\t\t\tplt.clf()\n",
    "\telse:\n",
    "\t\t\tplt.show()\n",
    "\t"
   ]
  },
  {
   "cell_type": "code",
   "execution_count": 22,
   "metadata": {},
   "outputs": [],
   "source": [
    "# load data\n",
    "real = np.load('/user/home/al18709/work/gan_predictions_20/validation_real-opt_improve.npy')\n",
    "inputs = np.load('/user/home/al18709/work/gan_predictions_20/validation_input-opt_improve.npy')\n",
    "pred_cnn = np.load('/user/home/al18709/work/cnn/unet_valid_2.npy')\n",
    "pred_gan = np.load('/user/home/al18709/work/gan_predictions_20/validation_pred-opt_improve.npy')[:,:,:,0]\n",
    "pred_vaegan = np.load('/user/home/al18709/work/vaegan_predictions_20/validation_pred-opt_1_better-noise.npy')[:,:,:,0]\n",
    "\n",
    "real_x = np.load('/user/home/al18709/work/gan_predictions_20/extreme_valid_real-opt_improve.npy')\n",
    "inputs_x = np.load('/user/home/al18709/work/gan_predictions_20/extreme_valid_input-opt_improve_7.npy')\n",
    "pred_cnn_x = np.load('/user/home/al18709/work/cnn/unet_valid.npy')\n",
    "pred_gan_x = np.load('/user/home/al18709/work/gan_predictions_20/extreme_valid_pred-opt_improve.npy')[:,:,:,0]\n",
    "pred_vaegan_x = np.load('/user/home/al18709/work/vaegan_predictions_20/extreme_valid_pred-opt_improve.npy')[:,:,:,0]\n",
    "\n",
    "meta = pd.read_csv('/user/work/al18709/tc_data_mswep/valid_meta.csv')\n",
    "meta_extreme = pd.read_csv('/user/work/al18709/tc_data_mswep/extreme_valid_meta.csv')\n",
    "meta_extreme_test = pd.read_csv('/user/work/al18709/tc_data_mswep/extreme_test_meta.csv')\n",
    "meta_test = pd.read_csv('/user/work/al18709/tc_data_mswep/test_meta.csv')\n",
    "meta_train = pd.read_csv('/user/work/al18709/tc_data_mswep/train_meta.csv')"
   ]
  },
  {
   "cell_type": "code",
   "execution_count": 23,
   "metadata": {},
   "outputs": [
    {
     "name": "stdout",
     "output_type": "stream",
     "text": [
      "(array([730, 731, 732, 733, 734, 735, 736, 737, 738, 739, 740, 741, 742,\n",
      "       743, 744, 745, 746, 747, 748, 749, 750, 751, 752, 753, 754, 755,\n",
      "       756, 757, 758, 759, 760, 761, 762, 763, 764, 765, 766, 767, 768,\n",
      "       769, 770, 771, 772, 773, 774, 775]),)\n"
     ]
    }
   ],
   "source": [
    "# print(meta.shape)\n",
    "# print(real.shape) \n",
    "\n",
    "# print(np.sum(meta['sid'] == '1992044S09181'))\n",
    "# print(np.sum(meta_extreme['sid'] == '1992044S09181'))\n",
    "# print(np.sum(meta_test['sid'] == '1992044S09181'))\n",
    "# print(np.sum(meta_extreme_test['sid'] == '1992044S09181'))\n",
    "# print(np.sum(meta_train['sid'] == '1992044S09181'))\n",
    "\n",
    "\n",
    "# print(meta_extreme['sid'].values)\n",
    "# for i,storm in enumerate(meta_extreme['sid'].values):\n",
    "# \tpre_storm = meta_extreme['sid'].values[i-1]\n",
    "# \tif storm != pre_storm:\n",
    "# \t\tprint(storm)\n",
    "\n",
    "# Dorian in the test set\n",
    "# Isaac (2012) '2012234N16315' training set NA\n",
    "# Amphan 2020136N10088 ****** lost NI\n",
    "# Harvey 2017228N14314 train NA\n",
    "# Irma 2017242N16333 train NA\n",
    "# Idai 2019063S18038 train SIO \n",
    "# Winston 2016041S14170 test SP\n",
    "# Matthew 2016273N13300 extreme_test NA\n",
    "# Jalawat 2012263N15141 extreme_test WP\n",
    "\n",
    "\n",
    "# EP NA WP\n",
    "# NIO SIO SP\n",
    "\n",
    "# Maria 2017260N12310 validation NA\n",
    "# Haiyan 2013306N07162 validation WP\n",
    "# Barbara 1995189N11257 validation EP\n",
    "print(np.where(meta_extreme['sid'] == '2019060S10078'))\n",
    "\n",
    "# Georges 1998259N10335 extreme valid NA\n",
    "# Daman 1992044S09181 extreme valid SP\n",
    "# Haleh 2019060S10078 extreme valid SIO\n"
   ]
  },
  {
   "cell_type": "code",
   "execution_count": 24,
   "metadata": {},
   "outputs": [
    {
     "name": "stdout",
     "output_type": "stream",
     "text": [
      "storm max:  45.25\n",
      "cnn max:  29.72098\n",
      "vaegan max:  nan\n",
      "gan max:  34.749969482421875\n",
      "inputs max:  20.504125595092773\n",
      "storm max:  58.875\n",
      "cnn max:  15.141447\n",
      "vaegan max:  nan\n",
      "gan max:  84.76199340820312\n",
      "inputs max:  31.177553176879883\n",
      "storm max:  48.3125\n",
      "cnn max:  37.28275\n",
      "vaegan max:  nan\n",
      "gan max:  60.65913009643555\n",
      "inputs max:  29.4201602935791\n",
      "storm max:  44.375\n",
      "cnn max:  31.241987\n",
      "vaegan max:  nan\n",
      "gan max:  41.07347869873047\n",
      "inputs max:  25.278505325317383\n",
      "storm max:  59.9375\n",
      "cnn max:  41.355465\n",
      "vaegan max:  nan\n",
      "gan max:  46.31121063232422\n",
      "inputs max:  31.395225524902344\n",
      "storm max:  44.8125\n",
      "cnn max:  38.602913\n",
      "vaegan max:  nan\n",
      "gan max:  35.04732894897461\n",
      "inputs max:  20.156835556030273\n"
     ]
    },
    {
     "name": "stderr",
     "output_type": "stream",
     "text": [
      "/user/work/al18709/.conda/envs/aquatic/lib/python3.7/site-packages/ipykernel_launcher.py:65: UserWarning: This figure includes Axes that are not compatible with tight_layout, so results might be incorrect.\n"
     ]
    },
    {
     "data": {
      "text/plain": [
       "<Figure size 2160x1800 with 0 Axes>"
      ]
     },
     "metadata": {},
     "output_type": "display_data"
    }
   ],
   "source": [
    "\n",
    "plot = 'save'\n",
    "n = 5\n",
    "m = 6\n",
    "# make colours\n",
    "range_ = (0, 20)\n",
    "# storms = [16249,15872,3,4,5,6,7,8]\n",
    "storms = [4077, 4078, 4079, 4080, 4081, 4082]\n",
    "\n",
    "# maria\n",
    "# 8453 (8452 for unet)\n",
    "# 8463\n",
    "\n",
    "# haiyan\n",
    "# 9809\n",
    "# 9815, 9816, 9822\n",
    "# 9820, 9828,  9845, 9840\n",
    "\n",
    "# barb 1347 1375 1399\n",
    "\n",
    "# georges 4082\n",
    "storms = [8453,9845,1375,4128,5358,747]\n",
    "# storms_extremes = [4082,5349,763]\n",
    "\n",
    "plot_predictions(inputs,inputs_x,pred_cnn,pred_cnn_x,pred_vaegan,pred_vaegan_x,pred_gan,pred_gan_x,real,real_x,storms,range_)\n"
   ]
  },
  {
   "cell_type": "code",
   "execution_count": 9,
   "metadata": {},
   "outputs": [
    {
     "name": "stdout",
     "output_type": "stream",
     "text": [
      "storm max:  55.97117614746094\n",
      "cnn max:  55.96980667114258\n",
      "vaegan max:  55.976558685302734\n",
      "gan max:  55.965667724609375\n",
      "inputs max:  55.98106384277344\n",
      "storm max:  47.718597412109375\n",
      "cnn max:  47.718788146972656\n",
      "vaegan max:  47.71929931640625\n",
      "gan max:  47.718997955322266\n",
      "inputs max:  47.71890640258789\n",
      "storm max:  45.62017822265625\n",
      "cnn max:  45.621742248535156\n",
      "vaegan max:  45.621700286865234\n",
      "gan max:  45.6219596862793\n",
      "inputs max:  45.620361328125\n",
      "storm max:  56.87824249267578\n",
      "cnn max:  56.88015365600586\n",
      "vaegan max:  56.88947677612305\n",
      "gan max:  56.88133239746094\n",
      "inputs max:  56.87715530395508\n",
      "storm max:  39.093963623046875\n",
      "cnn max:  39.093727111816406\n",
      "vaegan max:  39.09376907348633\n",
      "gan max:  39.093711853027344\n",
      "inputs max:  39.0934944152832\n",
      "storm max:  47.85501480102539\n",
      "cnn max:  47.85398864746094\n",
      "vaegan max:  47.8642692565918\n",
      "gan max:  47.847965240478516\n",
      "inputs max:  47.865516662597656\n"
     ]
    },
    {
     "name": "stderr",
     "output_type": "stream",
     "text": [
      "/user/work/al18709/.conda/envs/aquatic/lib/python3.7/site-packages/ipykernel_launcher.py:65: UserWarning: This figure includes Axes that are not compatible with tight_layout, so results might be incorrect.\n"
     ]
    },
    {
     "data": {
      "text/plain": [
       "<Figure size 2160x1800 with 0 Axes>"
      ]
     },
     "metadata": {},
     "output_type": "display_data"
    }
   ],
   "source": [
    "pred_vaegan = np.load('/user/home/al18709/work/vaegan_predictions_20/validation_pred-opt_improve.npy')\n",
    "pred_vaegan_x = np.load('/user/home/al18709/work/vaegan_predictions_20/extreme_valid_pred-opt_improve.npy')\n",
    "pred_gan_x = np.load('/user/home/al18709/work/gan_predictions_20/extreme_valid_pred-opt_improve.npy')\n",
    "pred_gan = np.load('/user/home/al18709/work/gan_predictions_20/validation_pred-opt_improve.npy')\n",
    "range_ = (0, 20)\n",
    "storms = [8453,9845,1375,4128,5358,747]\n",
    "\n",
    "\n",
    "plot_predictions(pred_vaegan[:,:,:,0],pred_vaegan_x[:,:,:,0],pred_vaegan[:,:,:,1],pred_vaegan_x[:,:,:,2],pred_vaegan[:,:,:,2],pred_vaegan_x[:,:,:,2],pred_vaegan[:,:,:,3],pred_vaegan_x[:,:,:,3],pred_vaegan[:,:,:,4],pred_vaegan_x[:,:,:,4],storms,range_)\n",
    "# plot_predictions(pred_gan[:,:,:,0],pred_gan_x[:,:,:,0],pred_gan[:,:,:,1],pred_gan_x[:,:,:,2],pred_gan[:,:,:,2],pred_gan_x[:,:,:,2],pred_gan[:,:,:,3],pred_gan_x[:,:,:,3],pred_gan[:,:,:,4],pred_gan_x[:,:,:,4],storms,range_)"
   ]
  },
  {
   "cell_type": "code",
   "execution_count": null,
   "metadata": {},
   "outputs": [],
   "source": []
  },
  {
   "cell_type": "code",
   "execution_count": null,
   "metadata": {},
   "outputs": [],
   "source": []
  },
  {
   "cell_type": "code",
   "execution_count": null,
   "metadata": {},
   "outputs": [],
   "source": []
  },
  {
   "cell_type": "code",
   "execution_count": null,
   "metadata": {},
   "outputs": [],
   "source": []
  }
 ],
 "metadata": {
  "kernelspec": {
   "display_name": "Aquatic (work)",
   "language": "python",
   "name": "aquatic"
  },
  "language_info": {
   "codemirror_mode": {
    "name": "ipython",
    "version": 3
   },
   "file_extension": ".py",
   "mimetype": "text/x-python",
   "name": "python",
   "nbconvert_exporter": "python",
   "pygments_lexer": "ipython3",
   "version": "3.7.12"
  },
  "orig_nbformat": 4,
  "vscode": {
   "interpreter": {
    "hash": "43a3789a3b5dd03cc707ddda060cc4de0877d661f9f1863eb4d531c55aa927cb"
   }
  }
 },
 "nbformat": 4,
 "nbformat_minor": 2
}
