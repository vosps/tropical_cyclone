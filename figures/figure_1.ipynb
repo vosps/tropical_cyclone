{
 "cells": [
  {
   "cell_type": "markdown",
   "metadata": {},
   "source": [
    "### Figure 1: Predicted images"
   ]
  },
  {
   "cell_type": "code",
   "execution_count": 1,
   "metadata": {},
   "outputs": [],
   "source": [
    "import numpy as np\n",
    "import seaborn as sns\n",
    "import matplotlib.pyplot as plt\n",
    "from matplotlib import colors\n",
    "\n",
    "sns.set_style(\"white\")\n",
    "sns.set_palette(sns.color_palette(\"Paired\"))\n",
    "sns.set_palette(sns.color_palette(\"Set2\"))"
   ]
  },
  {
   "cell_type": "code",
   "execution_count": 2,
   "metadata": {},
   "outputs": [],
   "source": [
    "def regrid(array):\n",
    "        hr_array = np.zeros((100,100))\n",
    "        for i in range(10):\n",
    "                for j in range(10):\n",
    "                        i1 = i*10\n",
    "                        i2 = (i+1)*10\n",
    "                        j1 = j*10\n",
    "                        j2 = (j+1)*10\n",
    "                        hr_array[i1:i2,j1:j2] = array[i,j]\n",
    "        return hr_array"
   ]
  },
  {
   "cell_type": "code",
   "execution_count": 9,
   "metadata": {},
   "outputs": [],
   "source": [
    "\n",
    "plot = 'show'\n",
    "\n",
    "\n",
    "# define datasets\n",
    "\n",
    "real = np.load('/user/home/al18709/work/dsrnngan_predictions/validation_real-opt.npy')[0][:,:,:,0]\n",
    "inputs = np.load('/user/home/al18709/work/dsrnngan_predictions/validation_input-opt.npy')[0][:,:,:,0]\n",
    "pred_cnn = np.load('/user/home/al18709/work/cnn/unet_valid.npy')\n",
    "pred_dsrnngan = np.load('/user/home/al18709/work/dsrnngan_predictions/validation_pred-opt.npy')[0][:,:,:,0]\n",
    "pred_vaegan = np.load('/user/home/al18709/work/vaegan/predictions/validation_pred.npy')[0][:,:,:,0]\n",
    "\n",
    "n = 5\n",
    "m = 6\n",
    "if plot == 'save':\n",
    "\t\tfig, axes = plt.subplots(n, m, figsize=(5*m, 5*n), sharey=True)\n",
    "else:\n",
    "\t\tprint('show')\n",
    "\t\tfig, axes = plt.subplots(n, m, figsize=(2*m, 2*n), sharey=True)\n",
    "\n",
    "# make colours\n",
    "range_ = (-5, 20)\n",
    "storms = [32,70,20,60,70,80,90,99]\n",
    "# axes[0,0].set_title('Real',size=24)\n",
    "# axes[0,1].set_title('Predicted',size=24)\n",
    "# axes[0,2].set_title('Input',size=24)\n",
    "pal = sns.cubehelix_palette(10, rot=-.25, light=.7,as_cmap=True)\n",
    "\n",
    "for i in range(m):\n",
    "\tj = 0\n",
    "\tstorm = storms[i]\n",
    "\tprint('storm max: ',real[storm].max())\n",
    "\tprint('cnn max: ',pred_cnn[storm].max())\n",
    "\tprint('vaegan max: ',pred_vaegan[storm].max())\n",
    "\tprint('dsrnngan max: ',pred_dsrnngan[storm].max())\n",
    "\tprint('inputs max: ', np.nanmax(inputs[storm]))\n",
    "\taxes[j,i].imshow(regrid(inputs[storm]), interpolation='nearest', extent=None,cmap='Blues')\n",
    "\taxes[j+1,i].imshow(pred_cnn[storm], interpolation='nearest',norm=colors.Normalize(*range_), extent=None,cmap='Blues')\n",
    "\taxes[j+2,i].imshow(pred_vaegan[storm], interpolation='nearest',norm=colors.Normalize(*range_), extent=None,cmap='Blues')\n",
    "\taxes[j+3,i].imshow(pred_dsrnngan[storm], interpolation='nearest',norm=colors.Normalize(*range_), extent=None,cmap='Blues')\n",
    "\taxes[j+4,i].imshow(real[storm], interpolation='nearest',norm=colors.Normalize(*range_), extent=None,cmap='Blues')\n",
    "\taxes[j,i].set(xticklabels=[])\n",
    "\taxes[j,i].set(yticklabels=[])\n",
    "\taxes[j+1,i].set(xticklabels=[])\n",
    "\taxes[j+1,i].set(yticklabels=[])\n",
    "\taxes[j+2,i].set(xticklabels=[])\n",
    "\taxes[j+2,i].set(yticklabels=[])\n",
    "\taxes[j+3,i].set(xticklabels=[])\n",
    "\taxes[j+3,i].set(yticklabels=[])\n",
    "\taxes[j+4,i].set(xticklabels=[])\n",
    "\taxes[j+4,i].set(yticklabels=[])\n",
    "\n",
    "fig.tight_layout()\n",
    "\n",
    "if plot == 'save':\n",
    "\t\tplt.savefig('figure_1.png',bbox_inches='tight')\n",
    "\t\tplt.clf()\n",
    "else:\n",
    "\t\tplt.show()"
   ]
  },
  {
   "cell_type": "code",
   "execution_count": 5,
   "metadata": {},
   "outputs": [
    {
     "ename": "AttributeError",
     "evalue": "module 'seaborn' has no attribute 'ImageGrid'",
     "output_type": "error",
     "traceback": [
      "\u001b[0;31m---------------------------------------------------------------------------\u001b[0m",
      "\u001b[0;31mAttributeError\u001b[0m                            Traceback (most recent call last)",
      "\u001b[0;32m/tmp/ipykernel_91970/4128398988.py\u001b[0m in \u001b[0;36m<module>\u001b[0;34m\u001b[0m\n\u001b[1;32m      2\u001b[0m \u001b[0;34m\u001b[0m\u001b[0m\n\u001b[1;32m      3\u001b[0m \u001b[0;34m\u001b[0m\u001b[0m\n\u001b[0;32m----> 4\u001b[0;31m \u001b[0mg\u001b[0m \u001b[0;34m=\u001b[0m \u001b[0msns\u001b[0m\u001b[0;34m.\u001b[0m\u001b[0mImageGrid\u001b[0m\u001b[0;34m(\u001b[0m\u001b[0mcells\u001b[0m\u001b[0;34m,\u001b[0m \u001b[0mcol_wrap\u001b[0m\u001b[0;34m=\u001b[0m\u001b[0;36m5\u001b[0m\u001b[0;34m,\u001b[0m \u001b[0mcbar\u001b[0m\u001b[0;34m=\u001b[0m\u001b[0;32mFalse\u001b[0m\u001b[0;34m)\u001b[0m\u001b[0;34m\u001b[0m\u001b[0;34m\u001b[0m\u001b[0m\n\u001b[0m",
      "\u001b[0;31mAttributeError\u001b[0m: module 'seaborn' has no attribute 'ImageGrid'"
     ]
    }
   ],
   "source": []
  },
  {
   "cell_type": "code",
   "execution_count": null,
   "metadata": {},
   "outputs": [],
   "source": []
  }
 ],
 "metadata": {
  "interpreter": {
   "hash": "8db171c8f47d96480481440150066e8900ebba8c84179e1231657aa1548891ff"
  },
  "kernelspec": {
   "display_name": "Python 3.7.12",
   "language": "python",
   "name": "python3"
  },
  "language_info": {
   "codemirror_mode": {
    "name": "ipython",
    "version": 3
   },
   "file_extension": ".py",
   "mimetype": "text/x-python",
   "name": "python",
   "nbconvert_exporter": "python",
   "pygments_lexer": "ipython3",
   "version": "3.7.12"
  },
  "orig_nbformat": 4
 },
 "nbformat": 4,
 "nbformat_minor": 2
}
