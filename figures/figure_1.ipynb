{
 "cells": [
  {
   "cell_type": "markdown",
   "metadata": {},
   "source": [
    "### Figure 1: Predicted images"
   ]
  },
  {
   "cell_type": "code",
   "execution_count": 1,
   "metadata": {},
   "outputs": [],
   "source": [
    "import numpy as np\n",
    "import seaborn as sns\n",
    "import matplotlib.pyplot as plt\n",
    "from matplotlib import colors\n",
    "\n",
    "sns.set_style(\"white\")\n",
    "sns.set_palette(sns.color_palette(\"Paired\"))\n",
    "sns.set_palette(sns.color_palette(\"Set2\"))"
   ]
  },
  {
   "cell_type": "code",
   "execution_count": 2,
   "metadata": {},
   "outputs": [],
   "source": [
    "def regrid(array):\n",
    "        hr_array = np.zeros((100,100))\n",
    "        for i in range(10):\n",
    "                for j in range(10):\n",
    "                        i1 = i*10\n",
    "                        i2 = (i+1)*10\n",
    "                        j1 = j*10\n",
    "                        j2 = (j+1)*10\n",
    "                        hr_array[i1:i2,j1:j2] = array[i,j]\n",
    "        return hr_array"
   ]
  },
  {
   "cell_type": "code",
   "execution_count": 3,
   "metadata": {},
   "outputs": [
    {
     "name": "stdout",
     "output_type": "stream",
     "text": [
      "storm max:  33.6875\n",
      "cnn max:  21.993977\n",
      "vaegan max:  24.300207138061523\n",
      "dsrnngan max:  32.2762336730957\n",
      "inputs max:  17.709686\n",
      "storm max:  28.875\n",
      "cnn max:  19.708921\n",
      "vaegan max:  32.625213623046875\n",
      "dsrnngan max:  58.67399597167969\n",
      "inputs max:  16.853546\n",
      "storm max:  54.75\n",
      "cnn max:  30.333626\n",
      "vaegan max:  39.894187927246094\n",
      "dsrnngan max:  44.54277420043945\n",
      "inputs max:  23.184355\n",
      "storm max:  40.75\n",
      "cnn max:  22.252325\n",
      "vaegan max:  32.40760040283203\n",
      "dsrnngan max:  47.15876770019531\n",
      "inputs max:  20.456804\n",
      "storm max:  28.875\n",
      "cnn max:  19.708921\n",
      "vaegan max:  32.625213623046875\n",
      "dsrnngan max:  58.67399597167969\n",
      "inputs max:  16.853546\n",
      "storm max:  40.0\n",
      "cnn max:  19.630817\n",
      "vaegan max:  37.4445686340332\n",
      "dsrnngan max:  24.46809959411621\n",
      "inputs max:  18.579762\n"
     ]
    },
    {
     "data": {
      "text/plain": [
       "<Figure size 2160x1800 with 0 Axes>"
      ]
     },
     "metadata": {},
     "output_type": "display_data"
    }
   ],
   "source": [
    "\n",
    "plot = 'save'\n",
    "\n",
    "\n",
    "# define datasets\n",
    "\n",
    "real = np.load('/user/home/al18709/work/dsrnngan_predictions/validation_real-opt.npy')[0][:,:,:,0]\n",
    "inputs = np.load('/user/home/al18709/work/dsrnngan_predictions/validation_input-opt.npy')[0][:,:,:,0]\n",
    "pred_cnn = np.load('/user/home/al18709/work/cnn/unet_valid.npy')\n",
    "pred_dsrnngan = np.load('/user/home/al18709/work/dsrnngan_predictions/validation_pred-opt.npy')[0][:,:,:,0]\n",
    "pred_vaegan = np.load('/user/home/al18709/work/vaegan/predictions/validation_pred.npy')[0][:,:,:,0]\n",
    "\n",
    "n = 5\n",
    "m = 6\n",
    "if plot == 'save':\n",
    "\t\tfig, axes = plt.subplots(n, m, figsize=(5*m, 5*n), sharey=True)\n",
    "else:\n",
    "\t\tprint('show')\n",
    "\t\tfig, axes = plt.subplots(n, m, figsize=(2*m, 2*n), sharey=True)\n",
    "\n",
    "# make colours\n",
    "range_ = (-5, 20)\n",
    "storms = [32,70,20,60,70,80,90,99]\n",
    "# axes[0,0].set_title('Real',size=24)\n",
    "# axes[0,1].set_title('Predicted',size=24)\n",
    "# axes[0,2].set_title('Input',size=24)\n",
    "for i in range(m):\n",
    "\tj = 0\n",
    "\tstorm = storms[i]\n",
    "\tprint('storm max: ',real[storm].max())\n",
    "\tprint('cnn max: ',pred_cnn[storm].max())\n",
    "\tprint('vaegan max: ',pred_vaegan[storm].max())\n",
    "\tprint('dsrnngan max: ',pred_dsrnngan[storm].max())\n",
    "\tprint('inputs max: ', np.nanmax(inputs[storm]))\n",
    "\taxes[j,i].imshow(regrid(inputs[storm]), interpolation='nearest', norm=colors.Normalize(*range_), extent=None,cmap='Blues')\n",
    "\taxes[j+1,i].imshow(pred_cnn[storm], interpolation='nearest',norm=colors.Normalize(*range_), extent=None,cmap='Blues')\n",
    "\taxes[j+2,i].imshow(pred_vaegan[storm], interpolation='nearest',norm=colors.Normalize(*range_), extent=None,cmap='Blues')\n",
    "\taxes[j+3,i].imshow(pred_dsrnngan[storm], interpolation='nearest',norm=colors.Normalize(*range_), extent=None,cmap='Blues')\n",
    "\taxes[j+4,i].imshow(real[storm], interpolation='nearest',norm=colors.Normalize(*range_), extent=None,cmap='Blues')\n",
    "\taxes[j,i].set(xticklabels=[])\n",
    "\taxes[j,i].set(yticklabels=[])\n",
    "\taxes[j+1,i].set(xticklabels=[])\n",
    "\taxes[j+1,i].set(yticklabels=[])\n",
    "\taxes[j+2,i].set(xticklabels=[])\n",
    "\taxes[j+2,i].set(yticklabels=[])\n",
    "\taxes[j+3,i].set(xticklabels=[])\n",
    "\taxes[j+3,i].set(yticklabels=[])\n",
    "\taxes[j+4,i].set(xticklabels=[])\n",
    "\taxes[j+4,i].set(yticklabels=[])\n",
    "\n",
    "fig.tight_layout()\n",
    "\n",
    "if plot == 'save':\n",
    "\t\tplt.savefig('figure_1.png',bbox_inches='tight')\n",
    "\t\tplt.clf()\n",
    "else:\n",
    "\t\tplt.show()"
   ]
  },
  {
   "cell_type": "code",
   "execution_count": null,
   "metadata": {},
   "outputs": [],
   "source": []
  }
 ],
 "metadata": {
  "interpreter": {
   "hash": "8db171c8f47d96480481440150066e8900ebba8c84179e1231657aa1548891ff"
  },
  "kernelspec": {
   "display_name": "Python 3.7.12",
   "language": "python",
   "name": "python3"
  },
  "language_info": {
   "codemirror_mode": {
    "name": "ipython",
    "version": 3
   },
   "file_extension": ".py",
   "mimetype": "text/x-python",
   "name": "python",
   "nbconvert_exporter": "python",
   "pygments_lexer": "ipython3",
   "version": "3.7.12"
  },
  "orig_nbformat": 4
 },
 "nbformat": 4,
 "nbformat_minor": 2
}
