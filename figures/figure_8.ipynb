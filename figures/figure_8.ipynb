{
 "cells": [
  {
   "cell_type": "markdown",
   "metadata": {},
   "source": [
    "### Figure 8: Accumulated rainfall"
   ]
  },
  {
   "cell_type": "markdown",
   "metadata": {},
   "source": [
    "import numpy as np\n",
    "from esda.moran import Moran,Moran_Local\n",
    "from libpysal.weights import lat2W\n",
    "import seaborn as sns\n",
    "import pandas as pd\n",
    "import matplotlib.pyplot as plt\n",
    "import properscoring as ps\n",
    "import warnings\n",
    "from scipy import stats\n",
    "# from utils.evaluation import plot_histogram,calc_peak,calc_mean\n",
    "from sklearn.metrics import mean_squared_error\n",
    "from math import sqrt\n",
    "import xesmf as xe\n",
    "warnings.filterwarnings(\"ignore\")\n",
    "sns.set_style(\"white\")\n",
    "sns.set_palette(sns.color_palette(\"Paired\"))"
   ]
  }
 ],
 "metadata": {
  "language_info": {
   "name": "python"
  },
  "orig_nbformat": 4
 },
 "nbformat": 4,
 "nbformat_minor": 2
}
