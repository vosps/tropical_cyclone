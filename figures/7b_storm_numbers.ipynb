{
 "cells": [
  {
   "cell_type": "code",
   "execution_count": 1,
   "metadata": {},
   "outputs": [],
   "source": [
    "import numpy as np\n",
    "import seaborn as sns\n",
    "import matplotlib.pyplot as plt\n",
    "from matplotlib import colors\n",
    "from netCDF4 import Dataset\n",
    "import pandas as pd\n",
    "import properscoring as ps\n",
    "import cartopy.feature as cfeature\n",
    "import cartopy.crs as ccrs\n",
    "import warnings\n",
    "import xarray as xr\n",
    "from matplotlib import cm\n",
    "from utils.evaluation import find_landfalling_tcs,tc_region,create_xarray,get_storm_coords\n",
    "from utils.metrics import calculate_crps\n",
    "from global_land_mask import globe\n",
    "from scipy.interpolate import griddata\n",
    "from utils.data import load_tc_data\n",
    "from utils.plot import make_cmap\n",
    "# from utils.metrics import calculate_fid\n",
    "import xesmf as xe\n",
    "import glob\n",
    "warnings.filterwarnings(\"ignore\")\n",
    "\n",
    "sns.set_style(\"white\")\n",
    "sns.set_palette(sns.color_palette(\"Paired\"))\n",
    "sns.set_palette(sns.color_palette(\"Set2\"))"
   ]
  },
  {
   "cell_type": "code",
   "execution_count": 2,
   "metadata": {},
   "outputs": [],
   "source": [
    "def accumulated_rain(storm,meta,real,pred_gan,inputs,flip=True):\n",
    "\t# grab mswep coordinate variables\n",
    "\tfp = '/bp1store/geog-tropical/data/Obs/MSWEP/3hourly_invertlat/2000342.00.nc'\n",
    "\td = Dataset(fp, 'r')\n",
    "\tlat = d.variables['lat'][:] #lat\n",
    "\tlon = d.variables['lon'][:] #lon\n",
    "\tprint('lat shape: ',lat.shape)\n",
    "\tprint('lon shape: ',lon.shape)\n",
    "\t# calculate lats and lons for storm\n",
    "\tlats,lons = tc_region(meta,storm,lat,lon)\n",
    "\t# initialise accumulated xarray\n",
    "\t# grid_x, grid_y = np.meshgrid(lats, lons)\n",
    "\tgrid_x, grid_y = np.meshgrid(lons,lats)\n",
    "\t# a = np.zeros((grid_x.shape))\n",
    "\tprint('grid_x shape: ',grid_x.shape)\n",
    "\tprint('grid_y.shape: ', grid_y.shape)\n",
    "\tprint('lons shape: ',lons.shape)\n",
    "\tprint('lats shape: ',lats.shape)\n",
    "\ta = np.zeros((grid_y.shape))\n",
    "\tprint('a shape',a.shape)\n",
    "\taccumulated_ds = create_xarray(lats,lons,a)\n",
    "\taccumulated_ds_pred = create_xarray(lats,lons,a)\n",
    "\t# accumulated_ds_input = create_xarray(lats,lons,a)\n",
    "\t# loop through storm time steps o generate accumulated rainfall\n",
    "\tfor i in storm:\n",
    "\t\tstorm_lats,storm_lons = get_storm_coords(lat,lon,meta,i)\n",
    "\t\tds = create_xarray(storm_lats,storm_lons,real[i])\n",
    "\t\tds_pred = create_xarray(storm_lats,storm_lons,pred_gan[i])\n",
    "\n",
    "\t\t# regrid so grids match\n",
    "\t\tregridder = xe.Regridder(ds, accumulated_ds, \"bilinear\")\n",
    "\t\tds_out = regridder(ds)\n",
    "\t\tds_pred_out = regridder(ds_pred)\n",
    "\n",
    "\t\t# add up rainfall\n",
    "\t\taccumulated_ds = accumulated_ds + ds_out\n",
    "\t\taccumulated_ds_pred = accumulated_ds_pred + ds_pred_out\n",
    "\t\t# accumulated_ds_input = accumulated_ds_input + ds_input_out\n",
    "\n",
    "\treturn accumulated_ds,accumulated_ds_pred"
   ]
  },
  {
   "cell_type": "code",
   "execution_count": 3,
   "metadata": {},
   "outputs": [],
   "source": [
    "real,inputs,pred_cnn,pred_vaegan,pred_gan,pred_ensemble_vaegan,pred_ensemble_gan,meta = load_tc_data(set='test',results='test')\n",
    "real_x,inputs_x,pred_cnn_x,pred_vaegan_x,pred_gan_x,pred_vaegan_ensemble_x,pred_gan_ensemble_x,meta_extreme_valid = load_tc_data(set='extreme_test',results='test')"
   ]
  },
  {
   "cell_type": "code",
   "execution_count": 4,
   "metadata": {},
   "outputs": [
    {
     "name": "stdout",
     "output_type": "stream",
     "text": [
      "lat shape:  (1800,)\n",
      "lon shape:  (3600,)\n",
      "lat lower:  442\n",
      "lat upper:  1461\n",
      "lon lower:  0\n",
      "lon upper:  3599\n",
      "grid_x shape:  (1019, 3599)\n",
      "grid_y.shape:  (1019, 3599)\n",
      "lons shape:  (3599,)\n",
      "lats shape:  (1019,)\n",
      "a shape (1019, 3599)\n"
     ]
    }
   ],
   "source": [
    "n,_,_ = real.shape\n",
    "accumulated_ds_1,accumulated_ds_pred_1 = accumulated_rain(range(n),meta,real,pred_gan,inputs)"
   ]
  },
  {
   "cell_type": "code",
   "execution_count": null,
   "metadata": {},
   "outputs": [],
   "source": [
    "# Todo: save predictions as netcdf files with lat lon and time for each tropical cyclone"
   ]
  }
 ],
 "metadata": {
  "kernelspec": {
   "display_name": "Aquatic (work)",
   "language": "python",
   "name": "aquatic"
  },
  "language_info": {
   "codemirror_mode": {
    "name": "ipython",
    "version": 3
   },
   "file_extension": ".py",
   "mimetype": "text/x-python",
   "name": "python",
   "nbconvert_exporter": "python",
   "pygments_lexer": "ipython3",
   "version": "3.7.12"
  },
  "orig_nbformat": 4
 },
 "nbformat": 4,
 "nbformat_minor": 2
}
