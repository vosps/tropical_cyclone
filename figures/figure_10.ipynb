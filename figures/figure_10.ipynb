{
 "cells": [
  {
   "cell_type": "code",
   "execution_count": 1,
   "metadata": {},
   "outputs": [],
   "source": [
    "# tracking cmip6data"
   ]
  },
  {
   "cell_type": "code",
   "execution_count": 7,
   "metadata": {},
   "outputs": [],
   "source": [
    "import pandas as pd\n",
    "import xarray as xr\n",
    "import matplotlib.pyplot as plt"
   ]
  },
  {
   "cell_type": "code",
   "execution_count": 8,
   "metadata": {},
   "outputs": [],
   "source": [
    "track_filepath = '/user/home/al18709/tropical_cyclones/figures/CMIP6_tracks/ACCESS-ESM1-5_historical_r1i1p1f1_gn_VOR850_jan-dec2014_T42/tr_trs_pos.2day_addvorT63_addwind.tcident.new.csv'"
   ]
  },
  {
   "cell_type": "code",
   "execution_count": 27,
   "metadata": {},
   "outputs": [],
   "source": [
    "track = pd.read_csv(track_filepath)\n",
    "columns = ['Track_ID',  'Date/Time', 'longitude', 'latitude', 'intensity(vorticity)', 'longitude850', 'latitude850', 'vor850', 'longitude500', 'latitude500', 'vor500', 'longitude250', 'latitude250', 'vor250', 'longitude850w', 'latutude850w', 'windspeed850','blank']\n",
    "track.columns = columns"
   ]
  },
  {
   "cell_type": "code",
   "execution_count": 28,
   "metadata": {},
   "outputs": [
    {
     "name": "stdout",
     "output_type": "stream",
     "text": [
      "Track_ID                                     1\n",
      "Date/Time                \"2014-01-03 12:00:00\"\n",
      "longitude                           111.933151\n",
      "latitude                             29.293312\n",
      "intensity(vorticity)                  1.488117\n",
      "longitude850                          108.9369\n",
      "latitude850                           26.42388\n",
      "vor850                                5.299512\n",
      "longitude500                           107.645\n",
      "latitude500                           32.21984\n",
      "vor500                                7.823341\n",
      "longitude250                          110.7382\n",
      "latitude250                           26.98086\n",
      "vor250                               -3.844838\n",
      "longitude850w                         109.6875\n",
      "latutude850w                            24.375\n",
      "windspeed850                          15.78266\n",
      "blank                                         \n",
      "Name: 0, dtype: object\n"
     ]
    }
   ],
   "source": [
    "print(track.loc[0])\n",
    "# TODO look at lats lons at different levels"
   ]
  },
  {
   "cell_type": "code",
   "execution_count": 29,
   "metadata": {},
   "outputs": [],
   "source": [
    "rain_filepath = '/user/home/al18709/work/CMIP6/ACCESS-ESM1-5/historical/pr_3hr_ACCESS-ESM1-5_historical_r1i1p1f1_gn_201001010130-201412312230.nc'\n",
    "rain = xr.load_dataset(rain_filepath)\n",
    "rain_2014 = rain.where(rain.time.dt.year==2014,drop=True)"
   ]
  },
  {
   "cell_type": "code",
   "execution_count": null,
   "metadata": {},
   "outputs": [],
   "source": []
  },
  {
   "cell_type": "code",
   "execution_count": 33,
   "metadata": {},
   "outputs": [
    {
     "name": "stdout",
     "output_type": "stream",
     "text": [
      "0       26.42388\n",
      "1       26.77912\n",
      "2       29.69147\n",
      "3       30.10032\n",
      "4       30.24952\n",
      "          ...   \n",
      "2517    41.38076\n",
      "2518    41.58232\n",
      "2519    40.73789\n",
      "2520    39.88794\n",
      "2521    38.51667\n",
      "Name: latitude850, Length: 2522, dtype: float64\n",
      "0       108.9369\n",
      "1       109.1949\n",
      "2       115.3406\n",
      "3       115.1386\n",
      "4       115.4013\n",
      "          ...   \n",
      "2517    180.9277\n",
      "2518    184.0753\n",
      "2519    187.7053\n",
      "2520    190.6816\n",
      "2521    192.2119\n",
      "Name: longitude850, Length: 2522, dtype: float64\n"
     ]
    }
   ],
   "source": [
    "storm_lats = track['latitude']\n",
    "storm_lons = track['longitude']\n",
    "storm_lats_850 = track['latitude850']\n",
    "storm_lons_850 = track['longitude850']\n",
    "storm_lats_500 = track['latitude500']\n",
    "storm_lons_500 = track['longitude500']\n",
    "storm_lats_250 = track['latitude250']\n",
    "storm_lons_250 = track['longitude250']\n",
    "print(storm_lats_850)\n",
    "print(storm_lons_850)\n",
    "\n",
    "# print(track['longitude500'])"
   ]
  },
  {
   "cell_type": "code",
   "execution_count": 39,
   "metadata": {},
   "outputs": [
    {
     "data": {
      "image/png": "[encoded data removed]",
      "text/plain": [
       "<Figure size 432x288 with 1 Axes>"
      ]
     },
     "metadata": {
      "needs_background": "light"
     },
     "output_type": "display_data"
    },
    {
     "data": {
      "image/png": "[encoded data removed]",
      "text/plain": [
       "<Figure size 432x288 with 1 Axes>"
      ]
     },
     "metadata": {
      "needs_background": "light"
     },
     "output_type": "display_data"
    },
    {
     "data": {
      "image/png": "[encoded data removed]",
      "text/plain": [
       "<Figure size 432x288 with 1 Axes>"
      ]
     },
     "metadata": {
      "needs_background": "light"
     },
     "output_type": "display_data"
    },
    {
     "data": {
      "image/png": "[encoded data removed]",
      "text/plain": [
       "<Figure size 432x288 with 1 Axes>"
      ]
     },
     "metadata": {
      "needs_background": "light"
     },
     "output_type": "display_data"
    }
   ],
   "source": [
    "import datetime\n",
    "\n",
    "i= 70\n",
    "\n",
    "storm_lat = storm_lats[i]\n",
    "storm_lon = storm_lons[i]\n",
    "storm_lat_850 = storm_lats_850[i]\n",
    "storm_lon_850 = storm_lons_850[i]\n",
    "storm_lat_500 = storm_lats_500[i]\n",
    "storm_lon_500 = storm_lons_500[i]\n",
    "storm_lat_250 = storm_lats_250[i]\n",
    "storm_lon_250 = storm_lons_250[i]\n",
    "storm_time = track['Date/Time'][i]\n",
    "# print(storm_time)\n",
    "# TODO: remove speech marks?\n",
    "storm_time = datetime.datetime.strptime(storm_time, ' \"%Y-%m-%d %H:%M:%S\"')\n",
    "# print(rain_2014.time.dt.month.values)\n",
    "# print(rain_2014.time.dt.day.values)\n",
    "# print(rain_2014.time.dt.hour.values[10:20])\n",
    "# print(storm_time.month)\n",
    "# print(storm_time.day)\n",
    "# print(storm_time.hour)\n",
    "rain_time = rain_2014.where((rain_2014.time.dt.month==storm_time.month) & (rain_2014.time.dt.day == storm_time.day) & (rain_2014.time.dt.hour == storm_time.hour +1),drop=True)\n",
    "\n",
    "ilon = list(rain_time.lon.values).index(rain_time.sel(lon=storm_lon, method='nearest').lon)\n",
    "ilat = list(rain_time.lat.values).index(rain_time.sel(lat=storm_lat, method='nearest').lat)\n",
    "\n",
    "plt.imshow(rain_time.pr.values[0,ilat-5:ilat+5,ilon-5:ilon+5])\n",
    "\n",
    "# plt.show()\n",
    "# plt.imshow(rain_time.pr.values[0,ilat-7:ilat+3,ilon-1:ilon+9])\n",
    "# plt.show()\n",
    "# plt.imshow(rain_time.pr.values[0,ilat-4:ilat+6,ilon-2:ilon+8])\n",
    "plt.show()\n",
    "# TODO: timing seems to be wrong: storm track is at standard time, rain time is an hour ahead.\n",
    "\n",
    "ilon = list(rain_time.lon.values).index(rain_time.sel(lon=storm_lon_850, method='nearest').lon)\n",
    "ilat = list(rain_time.lat.values).index(rain_time.sel(lat=storm_lat_850, method='nearest').lat)\n",
    "plt.imshow(rain_time.pr.values[0,ilat-5:ilat+5,ilon-5:ilon+5])\n",
    "plt.show()\n",
    "\n",
    "ilon = list(rain_time.lon.values).index(rain_time.sel(lon=storm_lon_500, method='nearest').lon)\n",
    "ilat = list(rain_time.lat.values).index(rain_time.sel(lat=storm_lat_500, method='nearest').lat)\n",
    "plt.imshow(rain_time.pr.values[0,ilat-5:ilat+5,ilon-5:ilon+5])\n",
    "plt.show()\n",
    "\n",
    "ilon = list(rain_time.lon.values).index(rain_time.sel(lon=storm_lon_250, method='nearest').lon)\n",
    "ilat = list(rain_time.lat.values).index(rain_time.sel(lat=storm_lat_250, method='nearest').lat)\n",
    "plt.imshow(rain_time.pr.values[0,ilat-5:ilat+5,ilon-5:ilon+5])\n",
    "plt.show()"
   ]
  },
  {
   "cell_type": "code",
   "execution_count": 32,
   "metadata": {},
   "outputs": [],
   "source": [
    "# precip is accumulated over hour hence why 1 hour delay."
   ]
  },
  {
   "cell_type": "code",
   "execution_count": null,
   "metadata": {},
   "outputs": [],
   "source": []
  }
 ],
 "metadata": {
  "kernelspec": {
   "display_name": "Aquatic (work)",
   "language": "python",
   "name": "aquatic"
  },
  "language_info": {
   "codemirror_mode": {
    "name": "ipython",
    "version": 3
   },
   "file_extension": ".py",
   "mimetype": "text/x-python",
   "name": "python",
   "nbconvert_exporter": "python",
   "pygments_lexer": "ipython3",
   "version": "3.7.12"
  },
  "orig_nbformat": 4,
  "vscode": {
   "interpreter": {
    "hash": "8db171c8f47d96480481440150066e8900ebba8c84179e1231657aa1548891ff"
   }
  }
 },
 "nbformat": 4,
 "nbformat_minor": 2
}
