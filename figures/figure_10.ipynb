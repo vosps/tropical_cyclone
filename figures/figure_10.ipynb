{
 "cells": [
  {
   "cell_type": "code",
   "execution_count": 1,
   "metadata": {},
   "outputs": [],
   "source": [
    "# tracking cmip6data"
   ]
  },
  {
   "cell_type": "code",
   "execution_count": 23,
   "metadata": {},
   "outputs": [],
   "source": [
    "import pandas as pd\n",
    "import xarray as xr"
   ]
  },
  {
   "cell_type": "code",
   "execution_count": 20,
   "metadata": {},
   "outputs": [],
   "source": [
    "track_filepath = '/user/home/al18709/tropical_cyclones/figures/CMIP6_tracks/ACCESS-ESM1-5_historical_r1i1p1f1_gn_VOR850_jan-dec2014_T42/tr_trs_pos.2day_addvorT63_addwind.tcident.new.csv'"
   ]
  },
  {
   "cell_type": "code",
   "execution_count": 38,
   "metadata": {},
   "outputs": [],
   "source": [
    "track = pd.read_csv(track_filepath)\n",
    "columns = ['Track_ID',  'Date/Time', 'longitude', 'latitude', 'intensity(vorticity)', 'longitude850', 'latitude850', 'vor850', 'longitude500', 'latitude500', 'vor500', 'longitude250', 'latitude250', 'vor250', 'longitude850', 'latutude850', 'windspeed850','blank']\n",
    "track.columns = columns"
   ]
  },
  {
   "cell_type": "code",
   "execution_count": 39,
   "metadata": {},
   "outputs": [
    {
     "name": "stdout",
     "output_type": "stream",
     "text": [
      "Track_ID                                     1\n",
      "Date/Time                \"2014-01-03 12:00:00\"\n",
      "longitude                           111.933151\n",
      "latitude                             29.293312\n",
      "intensity(vorticity)                  1.488117\n",
      "longitude850                          108.9369\n",
      "latitude850                           26.42388\n",
      "vor850                                5.299512\n",
      "longitude500                           107.645\n",
      "latitude500                           32.21984\n",
      "vor500                                7.823341\n",
      "longitude250                          110.7382\n",
      "latitude250                           26.98086\n",
      "vor250                               -3.844838\n",
      "longitude850                          109.6875\n",
      "latutude850                             24.375\n",
      "windspeed850                          15.78266\n",
      "blank                                         \n",
      "Name: 0, dtype: object\n"
     ]
    }
   ],
   "source": [
    "print(track.loc[0])"
   ]
  },
  {
   "cell_type": "code",
   "execution_count": 40,
   "metadata": {},
   "outputs": [],
   "source": [
    "rain_filepath = '/user/home/al18709/work/CMIP6/ACCESS-ESM1-5/historical/pr_3hr_ACCESS-ESM1-5_historical_r1i1p1f1_gn_201001010130-201412312230.nc'\n",
    "rain = xr.load_dataset(rain_filepath)\n",
    "rain_2014 = rain.where(rain.time.dt.year==2014,drop=True)"
   ]
  },
  {
   "cell_type": "code",
   "execution_count": 41,
   "metadata": {},
   "outputs": [
    {
     "name": "stdout",
     "output_type": "stream",
     "text": [
      "<xarray.Dataset>\n",
      "Dimensions:    (time: 2920, bnds: 2, lat: 145, lon: 192)\n",
      "Coordinates:\n",
      "  * time       (time) datetime64[ns] 2014-01-01T01:30:00 ... 2014-12-31T22:30:00\n",
      "  * lat        (lat) float64 -90.0 -88.75 -87.5 -86.25 ... 86.25 87.5 88.75 90.0\n",
      "  * lon        (lon) float64 0.0 1.875 3.75 5.625 ... 352.5 354.4 356.2 358.1\n",
      "Dimensions without coordinates: bnds\n",
      "Data variables:\n",
      "    time_bnds  (time, bnds) datetime64[ns] 2014-01-01 ... 2015-01-01\n",
      "    lat_bnds   (lat, bnds, time) float64 -90.0 -90.0 -90.0 ... 90.0 90.0 90.0\n",
      "    lon_bnds   (lon, bnds, time) float64 -0.9375 -0.9375 -0.9375 ... 359.1 359.1\n",
      "    pr         (time, lat, lon) float32 1.717e-06 1.717e-06 ... 2.268e-06\n",
      "Attributes: (12/47)\n",
      "    Conventions:            CF-1.7 CMIP-6.2\n",
      "    activity_id:            CMIP\n",
      "    branch_method:          standard\n",
      "    branch_time_in_child:   0.0\n",
      "    branch_time_in_parent:  21915.0\n",
      "    creation_date:          2019-11-15T03:30:05Z\n",
      "    ...                     ...\n",
      "    variable_id:            pr\n",
      "    variant_label:          r1i1p1f1\n",
      "    version:                v20191115\n",
      "    cmor_version:           3.4.0\n",
      "    tracking_id:            hdl:21.14100/3110838a-26ba-4e7b-914b-ef0924f00db3\n",
      "    license:                CMIP6 model data produced by CSIRO is licensed un...\n"
     ]
    }
   ],
   "source": [
    "print(rain_2014)"
   ]
  },
  {
   "cell_type": "code",
   "execution_count": 43,
   "metadata": {},
   "outputs": [
    {
     "name": "stdout",
     "output_type": "stream",
     "text": [
      "0       29.293312\n",
      "1       29.411438\n",
      "2       29.937744\n",
      "3       30.127831\n",
      "4       30.154337\n",
      "          ...    \n",
      "2517    40.249134\n",
      "2518    40.607475\n",
      "2519    40.214230\n",
      "2520    39.580013\n",
      "2521    39.004074\n",
      "Name: latitude, Length: 2522, dtype: float64\n"
     ]
    }
   ],
   "source": [
    "storm_lats = track['latitude']\n",
    "storm_lons = track['longitude']\n",
    "print(storm_lats)"
   ]
  },
  {
   "cell_type": "code",
   "execution_count": 46,
   "metadata": {},
   "outputs": [
    {
     "name": "stdout",
     "output_type": "stream",
     "text": [
      "<xarray.Dataset>\n",
      "Dimensions:    (time: 14608, bnds: 2, lat: 0, lon: 192)\n",
      "Coordinates:\n",
      "  * time       (time) datetime64[ns] 2010-01-01T01:30:00 ... 2014-12-31T22:30:00\n",
      "  * lat        (lat) float64 \n",
      "  * lon        (lon) float64 0.0 1.875 3.75 5.625 ... 352.5 354.4 356.2 358.1\n",
      "Dimensions without coordinates: bnds\n",
      "Data variables:\n",
      "    time_bnds  (time, bnds, lat) datetime64[ns] \n",
      "    lat_bnds   (lat, bnds) float64 \n",
      "    lon_bnds   (lon, bnds, lat) float64 \n",
      "    pr         (time, lat, lon) float32 \n",
      "Attributes: (12/47)\n",
      "    Conventions:            CF-1.7 CMIP-6.2\n",
      "    activity_id:            CMIP\n",
      "    branch_method:          standard\n",
      "    branch_time_in_child:   0.0\n",
      "    branch_time_in_parent:  21915.0\n",
      "    creation_date:          2019-11-15T03:30:05Z\n",
      "    ...                     ...\n",
      "    variable_id:            pr\n",
      "    variant_label:          r1i1p1f1\n",
      "    version:                v20191115\n",
      "    cmor_version:           3.4.0\n",
      "    tracking_id:            hdl:21.14100/3110838a-26ba-4e7b-914b-ef0924f00db3\n",
      "    license:                CMIP6 model data produced by CSIRO is licensed un...\n",
      "<xarray.Dataset>\n",
      "Dimensions:    (time: 14608, bnds: 2, lon: 0, lat: 145)\n",
      "Coordinates:\n",
      "  * time       (time) datetime64[ns] 2010-01-01T01:30:00 ... 2014-12-31T22:30:00\n",
      "  * lat        (lat) float64 -90.0 -88.75 -87.5 -86.25 ... 86.25 87.5 88.75 90.0\n",
      "  * lon        (lon) float64 \n",
      "Dimensions without coordinates: bnds\n",
      "Data variables:\n",
      "    time_bnds  (time, bnds, lon) datetime64[ns] \n",
      "    lat_bnds   (lat, bnds, lon) float64 \n",
      "    lon_bnds   (lon, bnds) float64 \n",
      "    pr         (time, lat, lon) float32 \n",
      "Attributes: (12/47)\n",
      "    Conventions:            CF-1.7 CMIP-6.2\n",
      "    activity_id:            CMIP\n",
      "    branch_method:          standard\n",
      "    branch_time_in_child:   0.0\n",
      "    branch_time_in_parent:  21915.0\n",
      "    creation_date:          2019-11-15T03:30:05Z\n",
      "    ...                     ...\n",
      "    variable_id:            pr\n",
      "    variant_label:          r1i1p1f1\n",
      "    version:                v20191115\n",
      "    cmor_version:           3.4.0\n",
      "    tracking_id:            hdl:21.14100/3110838a-26ba-4e7b-914b-ef0924f00db3\n",
      "    license:                CMIP6 model data produced by CSIRO is licensed un...\n"
     ]
    }
   ],
   "source": [
    "print(rain.where(rain_2014.lat == storm_lats[0],drop=True))\n",
    "print(rain.where(rain_2014.lon == storm_lons[0],drop=True))"
   ]
  },
  {
   "cell_type": "code",
   "execution_count": null,
   "metadata": {},
   "outputs": [],
   "source": []
  }
 ],
 "metadata": {
  "kernelspec": {
   "display_name": "Aquatic (work)",
   "language": "python",
   "name": "aquatic"
  },
  "language_info": {
   "codemirror_mode": {
    "name": "ipython",
    "version": 3
   },
   "file_extension": ".py",
   "mimetype": "text/x-python",
   "name": "python",
   "nbconvert_exporter": "python",
   "pygments_lexer": "ipython3",
   "version": "3.7.12 | packaged by conda-forge | (default, Oct 26 2021, 06:08:21) \n[GCC 9.4.0]"
  },
  "orig_nbformat": 4,
  "vscode": {
   "interpreter": {
    "hash": "8db171c8f47d96480481440150066e8900ebba8c84179e1231657aa1548891ff"
   }
  }
 },
 "nbformat": 4,
 "nbformat_minor": 2
}
