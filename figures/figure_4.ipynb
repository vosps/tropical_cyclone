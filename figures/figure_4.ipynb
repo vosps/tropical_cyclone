{
 "cells": [
  {
   "cell_type": "markdown",
   "metadata": {},
   "source": [
    "### Figure 4: Percentiles"
   ]
  },
  {
   "cell_type": "code",
   "execution_count": 2,
   "metadata": {},
   "outputs": [
    {
     "name": "stderr",
     "output_type": "stream",
     "text": [
      "/user/work/al18709/.conda/envs/aquatic/lib/python3.7/site-packages/geopandas/_compat.py:115: UserWarning: The Shapely GEOS version (3.10.2-CAPI-1.16.0) is incompatible with the GEOS version PyGEOS was compiled with (3.10.1-CAPI-1.16.0). Conversions between both will be slow.\n",
      "  shapely_geos_version, geos_capi_version_string\n"
     ]
    }
   ],
   "source": [
    "import numpy as np\n",
    "from libpysal.weights import lat2W\n",
    "import seaborn as sns\n",
    "import matplotlib.pyplot as plt\n",
    "# import warnings\n",
    "import xesmf as xe\n",
    "# warnings.filterwarnings(\"ignore\")\n",
    "sns.set_style(\"white\")\n",
    "sns.set_palette(sns.color_palette(\"Paired\"))"
   ]
  },
  {
   "cell_type": "code",
   "execution_count": 3,
   "metadata": {},
   "outputs": [
    {
     "name": "stdout",
     "output_type": "stream",
     "text": [
      "(16253, 10, 10)\n"
     ]
    }
   ],
   "source": [
    "model = ''\n",
    "# set mode\n",
    "mode = 'validation'\n",
    "print(np.load('/user/home/al18709/work/tc_data_mswep/valid_X.npy').shape)\n",
    "\n",
    "\n",
    "# load datasets\n",
    "real = np.load('/user/home/al18709/work/dsrnngan_predictions%s/%s_real-opt.npy' % (model,mode))[0][:,:,:,0]\n",
    "pred = np.load('/user/home/al18709/work/dsrnngan_predictions%s/%s_pred-opt.npy' % (model,mode))[0][:,:,:,0]\n",
    "\n",
    "pred_cnn = np.load('/user/home/al18709/work/cnn/unet_valid.npy')\n",
    "pred_dsrnngan = np.load('/user/home/al18709/work/dsrnngan_predictions/validation_pred-opt.npy')[0][:,:,:,0]\n",
    "pred_vaegan = np.load('/user/home/al18709/work/vaegan/predictions/validation_pred.npy')[0][:,:,:,0]\n",
    "\n",
    "# pred_ensemble_vaegan = np.load('/user/home/al18709/work/vaegan/predictions/validation_pred.npy')[0]\n",
    "# pred_ensemble_gan = np.load('/user/home/al18709/work/dsrnngan_predictions%s/%s_pred-opt.npy' % (model,mode))[0]\n",
    "inputs = np.load('/user/home/al18709/work/dsrnngan_predictions%s/%s_input-opt.npy' % (model,mode))[0][:,:,:,0]\n",
    "\n",
    "# regrid inputs\n",
    "grid_in = {\"lon\": np.linspace(0, 100, 10), \"lat\": np.linspace(0, 100, 10)}\n",
    "grid_out = {\"lon\": np.linspace(0, 100, 100), \"lat\": np.linspace(0, 100, 100)}\n",
    "regridder = xe.Regridder(grid_in, grid_out, \"bilinear\")\n",
    "inputs_hr = regridder(inputs)\n"
   ]
  },
  {
   "cell_type": "code",
   "execution_count": 4,
   "metadata": {},
   "outputs": [],
   "source": [
    "percentiles = [10,20,30,40,50,60,70,80,90,95,99,99.5]\n",
    "real_percentiles,inputs_percentils,unet_percentiles,vaegan_percentiles,dsrnngan_percentiles = [],[],[],[],[]\n",
    "for q in percentiles:\n",
    "\treal_p = np.percentile(real.flatten(),q)\n",
    "\tinputs_p = np.percentile(inputs_hr.flatten(),q)\n",
    "\tunet_p = np.percentile(pred_cnn.flatten(),q)\n",
    "\tvaegan_p = np.percentile(pred_vaegan.flatten(),q)\n",
    "\tdsrnngan_p = np.percentile(pred_dsrnngan.flatten(),q)\n",
    "\treal_percentiles.append(real_p)\n",
    "\tinputs_percentils.append(inputs_p)\n",
    "\tunet_percentiles.append(unet_p)\n",
    "\tvaegan_percentiles.append(vaegan_p)\n",
    "\tdsrnngan_percentiles.append(dsrnngan_p)\n",
    "\n"
   ]
  },
  {
   "cell_type": "code",
   "execution_count": 8,
   "metadata": {},
   "outputs": [
    {
     "name": "stdout",
     "output_type": "stream",
     "text": [
      "[0.03394892364740372, 0.11998787224292756, 0.2511761993169783, 0.46925603151321416, 0.8325600624084473, 1.4076412916183472, 2.309642791748047, 3.809779167175293, 6.8736371994018555, 10.435566902160645, 19.37974740982054, 23.209522294998123]\n",
      "[0.18854322880506516, 0.2354418933391571, 0.2373899668455124, 0.2373899668455124, 0.4000813066959381, 1.1887061595916748, 2.21543288230896, 3.6908259868621833, 6.629099369049072, 10.497320175170898, 22.261329689025843, 27.71369555473325]\n",
      "[0.024113371968269348, 0.04907315969467163, 0.09280014783143997, 0.17384183406829834, 0.3439476788043976, 0.6738590598106384, 1.3600107431411743, 2.774372100830078, 5.909603595733643, 9.861737298965437, 22.137107849121094, 28.30386738777156]\n",
      "[0.020954439416527748, 0.049369774758815765, 0.1121031865477562, 0.23053970634937293, 0.4245460033416748, 0.7847920656204224, 1.524398684501648, 2.978648471832276, 6.05083518028259, 9.906638145446777, 22.862001476287787, 29.714342412948326]\n",
      "[0.0, 0.0625, 0.1875, 0.3125, 0.625, 1.125, 2.1875, 3.8125, 7.0, 11.125, 24.8125, 31.75]\n"
     ]
    }
   ],
   "source": [
    "\n",
    "print(inputs_percentils)\n",
    "print(unet_percentiles)\n",
    "print(vaegan_percentiles)\n",
    "print(dsrnngan_percentiles)\n",
    "print(real_percentiles)"
   ]
  },
  {
   "cell_type": "code",
   "execution_count": 9,
   "metadata": {},
   "outputs": [
    {
     "data": {
      "text/plain": [
       "<matplotlib.collections.PathCollection at 0x7f608298fdd0>"
      ]
     },
     "execution_count": 9,
     "metadata": {},
     "output_type": "execute_result"
    },
    {
     "data": {
      "image/png": "[encoded data removed]",
      "text/plain": [
       "<Figure size 432x288 with 1 Axes>"
      ]
     },
     "metadata": {},
     "output_type": "display_data"
    }
   ],
   "source": [
    "\n",
    "plt.scatter(inputs_percentils,[5,5,5,5,5,5,5,5,5,5,5,5])\n",
    "plt.scatter(unet_percentiles,[4,4,4,4,4,4,4,4,4,4,4,4])\n",
    "plt.scatter(vaegan_percentiles,[3,3,3,3,3,3,3,3,3,3,3,3])\n",
    "plt.scatter(dsrnngan_percentiles,[2,2,2,2,2,2,2,2,2,2,2,2])\n",
    "plt.scatter(real_percentiles,[1,1,1,1,1,1,1,1,1,1,1,1])\n",
    "\n",
    "# plt.yticks(['real','input','unet','vaegan','gan'])"
   ]
  },
  {
   "cell_type": "code",
   "execution_count": null,
   "metadata": {},
   "outputs": [],
   "source": [
    "# QQ plot, x axis = obs quantiles, y axis is same and points are model quartiles"
   ]
  }
 ],
 "metadata": {
  "interpreter": {
   "hash": "8db171c8f47d96480481440150066e8900ebba8c84179e1231657aa1548891ff"
  },
  "kernelspec": {
   "display_name": "Python 3.7.12",
   "language": "python",
   "name": "python3"
  },
  "language_info": {
   "codemirror_mode": {
    "name": "ipython",
    "version": 3
   },
   "file_extension": ".py",
   "mimetype": "text/x-python",
   "name": "python",
   "nbconvert_exporter": "python",
   "pygments_lexer": "ipython3",
   "version": "3.7.12"
  },
  "orig_nbformat": 4
 },
 "nbformat": 4,
 "nbformat_minor": 2
}
