{
 "cells": [
  {
   "cell_type": "markdown",
   "metadata": {},
   "source": [
    "### Figure 7: Stochasticity "
   ]
  },
  {
   "cell_type": "code",
   "execution_count": 1,
   "metadata": {},
   "outputs": [
    {
     "name": "stderr",
     "output_type": "stream",
     "text": [
      "/user/work/al18709/.conda/envs/aquatic/lib/python3.7/site-packages/geopandas/_compat.py:115: UserWarning: The Shapely GEOS version (3.10.2-CAPI-1.16.0) is incompatible with the GEOS version PyGEOS was compiled with (3.10.1-CAPI-1.16.0). Conversions between both will be slow.\n",
      "  shapely_geos_version, geos_capi_version_string\n"
     ]
    }
   ],
   "source": [
    "import numpy as np\n",
    "from esda.moran import Moran,Moran_Local\n",
    "from libpysal.weights import lat2W\n",
    "import seaborn as sns\n",
    "import pandas as pd\n",
    "import matplotlib.pyplot as plt\n",
    "import properscoring as ps\n",
    "import warnings\n",
    "from scipy import stats\n",
    "# from utils.evaluation import plot_histogram,calc_peak,calc_mean\n",
    "from sklearn.metrics import mean_squared_error\n",
    "from math import sqrt\n",
    "import xesmf as xe\n",
    "from utils.data import load_tc_data\n",
    "warnings.filterwarnings(\"ignore\")\n",
    "# sns.set_style(\"white\")\n",
    "sns.set_palette(sns.color_palette(\"Paired\"))\n",
    "plt.style.use('seaborn-darkgrid')\n",
    "\n",
    "# https://journals.ametsoc.org/view/journals/atsc/72/6/jas-d-14-0250.1.xml\n",
    "# https://www.sciencedirect.com/science/article/pii/S0021999107000812\n",
    "\n",
    "# vaegan was imporved by adding 3 residual blocks before the 2 upsampling blocks - but still not perfect so more residual blocks would help\n",
    "# for the gan you'd want more noise channels and more low-res residual blocks before the upsampling step"
   ]
  },
  {
   "cell_type": "code",
   "execution_count": 2,
   "metadata": {},
   "outputs": [],
   "source": [
    "model = ''\n",
    "# set mode\n",
    "mode = 'validation'\n",
    "\n",
    "# load datasets\n",
    "real,inputs,pred_cnn,pred_vaegan,pred_gan,pred_ensemble_vaegan,pred_ensemble_gan,meta = load_tc_data(set='test',results='test')\n",
    "real_x,inputs_x,pred_cnn_x,pred_vaegan_x,pred_gan_x,pred_vaegan_ensemble_x,pred_gan_ensemble_x,meta_extreme_valid = load_tc_data(set='extreme_test',results='test')\n",
    "# inputs = np.load('/user/home/al18709/work/gan_predictions_20/validation_input-opt_improve.npy')[:,:,:,0]\n",
    "hrmip = np.load('/user/home/al18709/work/CMIP6/HighResMIP/EC-Earth3p/historical/storm_rain.npy')[-28000:]\n",
    "\n",
    "# regrid inputs\n",
    "grid_in = {\"lon\": np.linspace(0, 100, 10), \"lat\": np.linspace(0, 100, 10)}\n",
    "grid_out = {\"lon\": np.linspace(0, 100, 100), \"lat\": np.linspace(0, 100, 100)}\n",
    "regridder = xe.Regridder(grid_in, grid_out, \"bilinear\")\n",
    "inputs_hr = regridder(inputs)\n",
    "hrmip_hr = regridder(hrmip)"
   ]
  },
  {
   "cell_type": "code",
   "execution_count": 3,
   "metadata": {},
   "outputs": [],
   "source": [
    "def spread_error(pred_ensemble):\n",
    "\t_,_,_,n = pred_ensemble.shape\n",
    "\tvar = np.var(pred_ensemble[:,:,:,:],axis=3)\n",
    "\tcorrection_var = n / (n - 1)\n",
    "\tvar = var * correction_var\n",
    "\n",
    "\tprint(pred_ensemble.shape)\n",
    "\tens_mean = np.mean(pred_ensemble[:,:,:,:],axis=3)\n",
    "\tprint(ens_mean.shape)\n",
    "\tmse = np.square(ens_mean - real[:,:,:])\n",
    "\tcorrection_mse = n / (n + 1)\n",
    "\tmse = mse * correction_mse\n",
    "\n",
    "\tvar_flat = var.flatten()\n",
    "\tmse_flat = mse.flatten()\n",
    "\n",
    "\t# put into 20 bins of 5% percentiles of the spread\n",
    "\tmean_vars = []\n",
    "\tmean_mses = []\n",
    "\tfor i,p in enumerate(range(5,100,5)):\n",
    "\n",
    "\t\t# find the indexes of the element below 25th and 50th percentile\n",
    "\t\tidx_under_p1 = np.argwhere(var_flat <= np.percentile(var_flat, p)).ravel()\n",
    "\t\tidx_under_p2 = np.argwhere(var_flat <= np.percentile(var_flat, range(5,105,5)[i+1])).ravel()\n",
    "\n",
    "\t\t# find the number of the elements in between 25th and 50th percentile\n",
    "\t\tdiff_num = np.abs(len(idx_under_p1) - len(idx_under_p2))\n",
    "\n",
    "\t\t# find the sum difference\n",
    "\t\tdiff_sum_var = np.abs(np.sum(np.take(var_flat, idx_under_p2)) - np.sum(np.take(var_flat, idx_under_p1)))\n",
    "\t\tdiff_sum_mse = np.abs(np.sum(np.take(mse_flat, idx_under_p2)) - np.sum(np.take(mse_flat, idx_under_p1)))\n",
    "\n",
    "\t\t# get the mean\n",
    "\t\tmean_mse = diff_sum_mse / diff_num\n",
    "\t\tmean_var = diff_sum_var / diff_num\n",
    "\n",
    "\t\tmean_vars.append(mean_var)\n",
    "\t\tmean_mses.append(mean_mse)\n",
    "\n",
    "\trmse = np.sqrt(mean_mses)\n",
    "\trmss = np.sqrt(mean_vars)\n",
    "\n",
    "\treturn rmse,rmss\n",
    "\n"
   ]
  },
  {
   "cell_type": "code",
   "execution_count": 4,
   "metadata": {},
   "outputs": [
    {
     "name": "stdout",
     "output_type": "stream",
     "text": [
      "(16007, 100, 100, 20)\n",
      "(16007, 100, 100)\n",
      "(16007, 100, 100, 20)\n",
      "(16007, 100, 100)\n"
     ]
    }
   ],
   "source": [
    "rmse_gan,rmss_gan = spread_error(pred_ensemble_gan)\n",
    "rmse_vaegan,rmss_vaegan = spread_error(pred_ensemble_vaegan)"
   ]
  },
  {
   "cell_type": "code",
   "execution_count": 5,
   "metadata": {},
   "outputs": [],
   "source": [
    "# https://www.jstor.org/stable/24914540?seq=2#metadata_info_tab_contents"
   ]
  },
  {
   "cell_type": "code",
   "execution_count": 9,
   "metadata": {},
   "outputs": [
    {
     "data": {
      "image/png": "[encoded data removed]",
      "text/plain": [
       "<Figure size 720x720 with 1 Axes>"
      ]
     },
     "metadata": {},
     "output_type": "display_data"
    }
   ],
   "source": [
    "\n",
    "plt.rcParams[\"figure.figsize\"] = (10,10)\n",
    "plt.scatter(rmss_gan,rmse_gan,color='#219ebc')\n",
    "plt.xlabel('Spread')\n",
    "plt.ylabel('rmse')\n",
    "# plt.yscale('log')\n",
    "plt.xticks([0,1,2,3,4,6])\n",
    "plt.yticks([0,1,2,3,4,6])\n",
    "x = np.arange(0,6,0.1)\n",
    "y = x\n",
    "\n",
    "\n",
    "# plt.show()\n",
    "\n",
    "plt.scatter(rmss_vaegan,rmse_vaegan,marker='^',color='#57cc99')\n",
    "plt.legend(['VAEGAN','WGAN'],frameon=True)\n",
    "plt.xlabel('RMSS')\n",
    "plt.ylabel('RMSE')\n",
    "plt.plot(x,y,color='black')\n",
    "# plt.xscale('log')\n",
    "# plt.yscale('log')\n",
    "# plt.xticks([0,1,2,3,4,5])\n",
    "# plt.yticks([0,1,2,3,4,5])\n",
    "# plt.plot(x,y)\n",
    "\n",
    "plt.savefig('figure6-spread-error',bbox_inches='tight')\n",
    "plt.show()"
   ]
  },
  {
   "cell_type": "code",
   "execution_count": null,
   "metadata": {},
   "outputs": [],
   "source": []
  },
  {
   "cell_type": "code",
   "execution_count": null,
   "metadata": {},
   "outputs": [],
   "source": []
  }
 ],
 "metadata": {
  "interpreter": {
   "hash": "8db171c8f47d96480481440150066e8900ebba8c84179e1231657aa1548891ff"
  },
  "kernelspec": {
   "display_name": "Python 3.7.12",
   "language": "python",
   "name": "python3"
  },
  "language_info": {
   "codemirror_mode": {
    "name": "ipython",
    "version": 3
   },
   "file_extension": ".py",
   "mimetype": "text/x-python",
   "name": "python",
   "nbconvert_exporter": "python",
   "pygments_lexer": "ipython3",
   "version": "3.7.12"
  },
  "orig_nbformat": 4
 },
 "nbformat": 4,
 "nbformat_minor": 2
}
