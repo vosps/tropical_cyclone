{
 "cells": [
  {
   "cell_type": "markdown",
   "metadata": {},
   "source": [
    "### Figure 7: Stochasticity "
   ]
  },
  {
   "cell_type": "code",
   "execution_count": 2,
   "metadata": {},
   "outputs": [
    {
     "name": "stderr",
     "output_type": "stream",
     "text": [
      "/user/work/al18709/.conda/envs/aquatic/lib/python3.7/site-packages/geopandas/_compat.py:115: UserWarning: The Shapely GEOS version (3.10.2-CAPI-1.16.0) is incompatible with the GEOS version PyGEOS was compiled with (3.10.1-CAPI-1.16.0). Conversions between both will be slow.\n",
      "  shapely_geos_version, geos_capi_version_string\n"
     ]
    }
   ],
   "source": [
    "import numpy as np\n",
    "from esda.moran import Moran,Moran_Local\n",
    "from libpysal.weights import lat2W\n",
    "import seaborn as sns\n",
    "import pandas as pd\n",
    "import matplotlib.pyplot as plt\n",
    "import properscoring as ps\n",
    "import warnings\n",
    "from scipy import stats\n",
    "# from utils.evaluation import plot_histogram,calc_peak,calc_mean\n",
    "from sklearn.metrics import mean_squared_error\n",
    "from math import sqrt\n",
    "import xesmf as xe\n",
    "warnings.filterwarnings(\"ignore\")\n",
    "sns.set_style(\"white\")\n",
    "sns.set_palette(sns.color_palette(\"Paired\"))\n",
    "\n",
    "# https://journals.ametsoc.org/view/journals/atsc/72/6/jas-d-14-0250.1.xml\n",
    "# https://www.sciencedirect.com/science/article/pii/S0021999107000812"
   ]
  },
  {
   "cell_type": "code",
   "execution_count": 3,
   "metadata": {},
   "outputs": [
    {
     "name": "stdout",
     "output_type": "stream",
     "text": [
      "(16253, 100, 100)\n"
     ]
    }
   ],
   "source": [
    "model = ''\n",
    "# set mode\n",
    "mode = 'validation'\n",
    "\n",
    "# load datasets\n",
    "real = np.load('/user/home/al18709/work/dsrnngan_predictions%s/%s_real-opt.npy' % (model,mode))[0][:,:,:,0]\n",
    "pred = np.load('/user/home/al18709/work/dsrnngan_predictions%s/%s_pred-opt.npy' % (model,mode))[0][:,:,:,0]\n",
    "\n",
    "pred_cnn = np.load('/user/home/al18709/work/cnn/unet_valid.npy')\n",
    "pred_dsrnngan = np.load('/user/home/al18709/work/dsrnngan_predictions/validation_pred-opt.npy')[0][:,:,:,0]\n",
    "pred_vaegan = np.load('/user/home/al18709/work/vaegan/predictions/validation_pred.npy')[0][:,:,:,0]\n",
    "\n",
    "pred_ensemble_vaegan = np.load('/user/home/al18709/work/vaegan/predictions/validation_pred.npy')[0]\n",
    "pred_ensemble_gan = np.load('/user/home/al18709/work/dsrnngan_predictions%s/%s_pred-opt.npy' % (model,mode))[0]\n",
    "inputs = np.load('/user/home/al18709/work/dsrnngan_predictions%s/%s_input-opt.npy' % (model,mode))[0][:,:,:,0]\n",
    "\n",
    "# regrid inputs\n",
    "grid_in = {\"lon\": np.linspace(0, 100, 10), \"lat\": np.linspace(0, 100, 10)}\n",
    "grid_out = {\"lon\": np.linspace(0, 100, 100), \"lat\": np.linspace(0, 100, 100)}\n",
    "regridder = xe.Regridder(grid_in, grid_out, \"bilinear\")\n",
    "inputs_hr = regridder(inputs)\n",
    "\n",
    "print(inputs_hr.shape)"
   ]
  },
  {
   "cell_type": "code",
   "execution_count": 22,
   "metadata": {},
   "outputs": [
    {
     "name": "stdout",
     "output_type": "stream",
     "text": [
      "(16253, 100, 100, 10)\n",
      "(100, 100)\n",
      "[-0.00039841829123692346, -0.0008014235922333188, -0.0013594541974466167, -0.00209720761575702, -0.0031315571741011602, -0.004596954782767958, -0.00657422396139674, -0.009354818101574942, -0.013721688466462354, -0.02086052396489457, -0.03296776759814439, -0.05346785583965166, -0.08192016007219166, -0.13008703211456077, -0.22967846346334483, -0.4912664426952207, -1.2207419020836248, -3.3914684409808773, -21.28076322306723]\n",
      "[-0.003623030500817242, -0.007800028635553391, -0.009589646428860604, -0.01793567906471967, -0.021005688616748935, -0.020742483772029266, -0.07214329294704816, -0.1197546070565105, -0.16204324087871402, -0.18993564253935732, -0.3116195574304955, -0.3715108731750189, -0.5677395808112804, -0.8645845669860684, -1.9439355346335883, -3.6982021227730693, -5.299398168723664, -8.141988173912997, -14.809448507380214]\n",
      "[-0.003623030500817242, -0.007800028635553391, -0.009589646428860604, -0.01793567906471967, -0.021005688616748935, -0.020742483772029266, -0.07214329294704816, -0.1197546070565105, -0.16204324087871402, -0.18993564253935732, -0.3116195574304955, -0.3715108731750189, -0.5677395808112804, -0.8645845669860684, -1.9439355346335883, -3.6982021227730693, -5.299398168723664, -8.141988173912997, -14.809448507380214]\n",
      "[-0.00039841829123692346, -0.0008014235922333188, -0.0013594541974466167, -0.00209720761575702, -0.0031315571741011602, -0.004596954782767958, -0.00657422396139674, -0.009354818101574942, -0.013721688466462354, -0.02086052396489457, -0.03296776759814439, -0.05346785583965166, -0.08192016007219166, -0.13008703211456077, -0.22967846346334483, -0.4912664426952207, -1.2207419020836248, -3.3914684409808773, -21.28076322306723]\n"
     ]
    }
   ],
   "source": [
    "i=0\n",
    "j=0\n",
    "_,_,_,n = pred_ensemble_gan.shape\n",
    "var = np.var(pred_ensemble_gan[0,:,:,:],axis=2)\n",
    "correction_var = n / (n - 1)\n",
    "var = var * correction_var\n",
    "\n",
    "print(pred_ensemble_gan.shape)\n",
    "ens_mean = np.mean(pred_ensemble_gan[0,:,:,:],axis=2)\n",
    "print(ens_mean.shape)\n",
    "mse = np.square(ens_mean - real[0,:,:])\n",
    "correction_mse = n / (n + 1)\n",
    "mse = mse * correction_mse\n",
    "\n",
    "var_flat = var.flatten()\n",
    "mse_flat = mse.flatten()\n",
    "\n",
    "# put into 20 bins of 5% percentiles of the spread\n",
    "mean_vars = []\n",
    "mean_mses = []\n",
    "for i,p in enumerate(range(5,100,5)):\n",
    "\n",
    "\t# find the indexes of the element below 25th and 50th percentile\n",
    "\tidx_under_p1 = np.argwhere(var_flat <= np.percentile(var_flat, p)).ravel()\n",
    "\tidx_under_p2 = np.argwhere(var_flat <= np.percentile(var_flat, range(5,105,5)[i+1])).ravel()\n",
    "\n",
    "\t# find the number of the elements in between 25th and 50th percentile\n",
    "\tdiff_num = len(idx_under_p1) - len(idx_under_p2)\n",
    "\n",
    "\t# find the sum difference\n",
    "\tdiff_sum_var = np.sum(np.take(var_flat, idx_under_p2)) - np.sum(np.take(var_flat, idx_under_p1))\n",
    "\tdiff_sum_mse = np.sum(np.take(mse_flat, idx_under_p2)) - np.sum(np.take(mse_flat, idx_under_p1))\n",
    "\n",
    "\t# get the mean\n",
    "\tmean_mse = diff_sum_mse / diff_num\n",
    "\tmean_var = diff_sum_var / diff_num\n",
    "\n",
    "\tmean_vars.append(mean_var)\n",
    "\tmean_mses.append(mean_mse)\n",
    "\n",
    "print(mean_vars)\n",
    "print(mean_mses)\n",
    "\n",
    "rmse = np.sqrt(mean_mses)\n",
    "rmss = np.sqrt(mean_vars)\n",
    "\n",
    "print(rmse)\n",
    "print(rmss)\n",
    "\n",
    "# TODO: why is this negative!?"
   ]
  },
  {
   "cell_type": "code",
   "execution_count": 23,
   "metadata": {},
   "outputs": [
    {
     "data": {
      "image/png": "[encoded data removed]",
      "text/plain": [
       "<Figure size 432x288 with 1 Axes>"
      ]
     },
     "metadata": {},
     "output_type": "display_data"
    }
   ],
   "source": [
    "plt.scatter(rmss,rmse)\n",
    "plt.xlabel('Spread')\n",
    "plt.ylabel('rmse')\n",
    "plt.xticks([0,5,10,15,20])\n",
    "plt.yticks([0,5,10,15,20])\n",
    "plt.plot([0,5,10,15,20],[0,5,10,15,20])\n",
    "plt.show()"
   ]
  },
  {
   "cell_type": "code",
   "execution_count": null,
   "metadata": {},
   "outputs": [],
   "source": []
  }
 ],
 "metadata": {
  "interpreter": {
   "hash": "8db171c8f47d96480481440150066e8900ebba8c84179e1231657aa1548891ff"
  },
  "kernelspec": {
   "display_name": "Python 3.7.12",
   "language": "python",
   "name": "python3"
  },
  "language_info": {
   "codemirror_mode": {
    "name": "ipython",
    "version": 3
   },
   "file_extension": ".py",
   "mimetype": "text/x-python",
   "name": "python",
   "nbconvert_exporter": "python",
   "pygments_lexer": "ipython3",
   "version": "3.7.12"
  },
  "orig_nbformat": 4
 },
 "nbformat": 4,
 "nbformat_minor": 2
}
