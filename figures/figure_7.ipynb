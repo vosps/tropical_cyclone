{
 "cells": [
  {
   "cell_type": "markdown",
   "metadata": {},
   "source": [
    "### Figure 7: Stochasticity "
   ]
  },
  {
   "cell_type": "code",
   "execution_count": 1,
   "metadata": {},
   "outputs": [
    {
     "name": "stderr",
     "output_type": "stream",
     "text": [
      "/user/work/al18709/.conda/envs/aquatic/lib/python3.7/site-packages/geopandas/_compat.py:115: UserWarning: The Shapely GEOS version (3.10.2-CAPI-1.16.0) is incompatible with the GEOS version PyGEOS was compiled with (3.10.1-CAPI-1.16.0). Conversions between both will be slow.\n",
      "  shapely_geos_version, geos_capi_version_string\n"
     ]
    }
   ],
   "source": [
    "import numpy as np\n",
    "from esda.moran import Moran,Moran_Local\n",
    "from libpysal.weights import lat2W\n",
    "import seaborn as sns\n",
    "import pandas as pd\n",
    "import matplotlib.pyplot as plt\n",
    "import properscoring as ps\n",
    "import warnings\n",
    "from scipy import stats\n",
    "# from utils.evaluation import plot_histogram,calc_peak,calc_mean\n",
    "from sklearn.metrics import mean_squared_error\n",
    "from math import sqrt\n",
    "import xesmf as xe\n",
    "warnings.filterwarnings(\"ignore\")\n",
    "sns.set_style(\"white\")\n",
    "sns.set_palette(sns.color_palette(\"Paired\"))\n",
    "\n",
    "# https://journals.ametsoc.org/view/journals/atsc/72/6/jas-d-14-0250.1.xml\n",
    "# https://www.sciencedirect.com/science/article/pii/S0021999107000812"
   ]
  },
  {
   "cell_type": "code",
   "execution_count": 2,
   "metadata": {},
   "outputs": [
    {
     "name": "stdout",
     "output_type": "stream",
     "text": [
      "(16253, 100, 100)\n"
     ]
    }
   ],
   "source": [
    "model = ''\n",
    "# set mode\n",
    "mode = 'validation'\n",
    "\n",
    "# load datasets\n",
    "real = np.load('/user/home/al18709/work/dsrnngan_predictions%s/%s_real-opt.npy' % (model,mode))[0][:,:,:,0]\n",
    "pred = np.load('/user/home/al18709/work/dsrnngan_predictions%s/%s_pred-opt.npy' % (model,mode))[0][:,:,:,0]\n",
    "\n",
    "pred_cnn = np.load('/user/home/al18709/work/cnn/unet_valid.npy')\n",
    "pred_dsrnngan = np.load('/user/home/al18709/work/dsrnngan_predictions/validation_pred-opt.npy')[0][:,:,:,0]\n",
    "pred_vaegan = np.load('/user/home/al18709/work/vaegan/predictions/validation_pred.npy')[0][:,:,:,0]\n",
    "\n",
    "# pred_ensemble_vaegan = np.load('/user/home/al18709/work/vaegan/predictions/validation_pred.npy')[0]\n",
    "# pred_ensemble_gan = np.load('/user/home/al18709/work/dsrnngan_predictions%s/%s_pred-opt.npy' % (model,mode))[0]\n",
    "pred_ensemble_vaegan = np.load('/user/home/al18709/work/vaegan_predictions_20/validation_pred-opt_improve.npy')\n",
    "pred_ensemble_gan = np.load('/user/home/al18709/work/gan_predictions_20/validation_pred-opt_improve.npy')\n",
    "inputs = np.load('/user/home/al18709/work/dsrnngan_predictions%s/%s_input-opt.npy' % (model,mode))[0][:,:,:,0]\n",
    "\n",
    "# regrid inputs\n",
    "grid_in = {\"lon\": np.linspace(0, 100, 10), \"lat\": np.linspace(0, 100, 10)}\n",
    "grid_out = {\"lon\": np.linspace(0, 100, 100), \"lat\": np.linspace(0, 100, 100)}\n",
    "regridder = xe.Regridder(grid_in, grid_out, \"bilinear\")\n",
    "inputs_hr = regridder(inputs)\n",
    "\n",
    "print(inputs_hr.shape)"
   ]
  },
  {
   "cell_type": "code",
   "execution_count": 3,
   "metadata": {},
   "outputs": [
    {
     "name": "stdout",
     "output_type": "stream",
     "text": [
      "(16253, 100, 100, 20)\n",
      "(100, 100)\n",
      "[0.0004778796401941698, 0.000825919878432624, 0.0012948657912576248, 0.00191285180174859, 0.0028100012944706617, 0.00409411109370162, 0.005842537604297805, 0.00923763274018484, 0.014662603416861682, 0.022909495911135287, 0.03626920009638256, 0.05951470927638442, 0.09813373273392824, 0.1654956713973075, 0.3105513402432031, 0.6556471686021933, 1.6640452814827278, 4.6839244432396665, 17.968463390920085]\n",
      "[0.004027960319584239, 0.007661420174087177, 0.014757576156971108, 0.018441718628123268, 0.021235305567255273, 0.0204898487911059, 0.052502570332180684, 0.04050073451836238, 0.1027934137622487, 0.24349191760504557, 0.38919345861788224, 0.4612663231344486, 0.6479781570816509, 1.2289292577903403, 1.9371101773274664, 2.986428614369998, 5.399261346514527, 7.009083320205054, 16.362683401155465]\n",
      "[0.06346621 0.08752954 0.12148076 0.13580029 0.14572339 0.14314276\n",
      " 0.22913439 0.20124794 0.32061412 0.493449   0.62385372 0.6791659\n",
      " 0.8049709  1.10857082 1.39180106 1.72812865 2.32363107 2.64746734\n",
      " 4.04508138]\n",
      "[0.02186046 0.02873882 0.03598424 0.04373616 0.05300945 0.06398524\n",
      " 0.07643649 0.0961126  0.12108924 0.15135883 0.19044474 0.24395637\n",
      " 0.31326304 0.40681159 0.55727133 0.80972043 1.28997879 2.16423761\n",
      " 4.23892243]\n"
     ]
    }
   ],
   "source": [
    "i=0\n",
    "j=0\n",
    "_,_,_,n = pred_ensemble_gan.shape\n",
    "var = np.var(pred_ensemble_gan[0,:,:,:],axis=2)\n",
    "correction_var = n / (n - 1)\n",
    "var = var * correction_var\n",
    "\n",
    "print(pred_ensemble_gan.shape)\n",
    "ens_mean = np.mean(pred_ensemble_gan[0,:,:,:],axis=2)\n",
    "print(ens_mean.shape)\n",
    "mse = np.square(ens_mean - real[0,:,:])\n",
    "correction_mse = n / (n + 1)\n",
    "mse = mse * correction_mse\n",
    "\n",
    "var_flat = var.flatten()\n",
    "mse_flat = mse.flatten()\n",
    "\n",
    "# put into 20 bins of 5% percentiles of the spread\n",
    "mean_vars = []\n",
    "mean_mses = []\n",
    "for i,p in enumerate(range(5,100,5)):\n",
    "\n",
    "\t# find the indexes of the element below 25th and 50th percentile\n",
    "\tidx_under_p1 = np.argwhere(var_flat <= np.percentile(var_flat, p)).ravel()\n",
    "\tidx_under_p2 = np.argwhere(var_flat <= np.percentile(var_flat, range(5,105,5)[i+1])).ravel()\n",
    "\n",
    "\t# find the number of the elements in between 25th and 50th percentile\n",
    "\tdiff_num = np.abs(len(idx_under_p1) - len(idx_under_p2))\n",
    "\n",
    "\t# find the sum difference\n",
    "\tdiff_sum_var = np.abs(np.sum(np.take(var_flat, idx_under_p2)) - np.sum(np.take(var_flat, idx_under_p1)))\n",
    "\tdiff_sum_mse = np.abs(np.sum(np.take(mse_flat, idx_under_p2)) - np.sum(np.take(mse_flat, idx_under_p1)))\n",
    "\n",
    "\t# get the mean\n",
    "\tmean_mse = diff_sum_mse / diff_num\n",
    "\tmean_var = diff_sum_var / diff_num\n",
    "\n",
    "\tmean_vars.append(mean_var)\n",
    "\tmean_mses.append(mean_mse)\n",
    "\n",
    "print(mean_vars)\n",
    "print(mean_mses)\n",
    "\n",
    "rmse = np.sqrt(mean_mses)\n",
    "rmss = np.sqrt(mean_vars)\n",
    "\n",
    "print(rmse)\n",
    "print(rmss)\n",
    "\n",
    "# TODO: why is this negative!?"
   ]
  },
  {
   "cell_type": "code",
   "execution_count": 4,
   "metadata": {},
   "outputs": [
    {
     "data": {
      "image/png": "[encoded data removed]",
      "text/plain": [
       "<Figure size 432x288 with 1 Axes>"
      ]
     },
     "metadata": {},
     "output_type": "display_data"
    }
   ],
   "source": [
    "plt.scatter(rmss,rmse)\n",
    "plt.xlabel('Spread')\n",
    "plt.ylabel('rmse')\n",
    "plt.xticks([0,1,2,3,4,5])\n",
    "plt.yticks([0,1,2,3,4,5])\n",
    "plt.plot([0,1,2,3,4,5],[0,1,2,3,4,5])\n",
    "plt.show()"
   ]
  },
  {
   "cell_type": "code",
   "execution_count": 5,
   "metadata": {},
   "outputs": [],
   "source": [
    "def spread_error(pred_ensemble):\n",
    "\t_,_,_,n = pred_ensemble.shape\n",
    "\tvar = np.var(pred_ensemble[:,:,:,:],axis=3)\n",
    "\tcorrection_var = n / (n - 1)\n",
    "\tvar = var * correction_var\n",
    "\n",
    "\tprint(pred_ensemble.shape)\n",
    "\tens_mean = np.mean(pred_ensemble[:,:,:,:],axis=3)\n",
    "\tprint(ens_mean.shape)\n",
    "\tmse = np.square(ens_mean - real[:,:,:])\n",
    "\tcorrection_mse = n / (n + 1)\n",
    "\tmse = mse * correction_mse\n",
    "\n",
    "\tvar_flat = var.flatten()\n",
    "\tmse_flat = mse.flatten()\n",
    "\n",
    "\t# put into 20 bins of 5% percentiles of the spread\n",
    "\tmean_vars = []\n",
    "\tmean_mses = []\n",
    "\tfor i,p in enumerate(range(5,100,5)):\n",
    "\n",
    "\t\t# find the indexes of the element below 25th and 50th percentile\n",
    "\t\tidx_under_p1 = np.argwhere(var_flat <= np.percentile(var_flat, p)).ravel()\n",
    "\t\tidx_under_p2 = np.argwhere(var_flat <= np.percentile(var_flat, range(5,105,5)[i+1])).ravel()\n",
    "\n",
    "\t\t# find the number of the elements in between 25th and 50th percentile\n",
    "\t\tdiff_num = np.abs(len(idx_under_p1) - len(idx_under_p2))\n",
    "\n",
    "\t\t# find the sum difference\n",
    "\t\tdiff_sum_var = np.abs(np.sum(np.take(var_flat, idx_under_p2)) - np.sum(np.take(var_flat, idx_under_p1)))\n",
    "\t\tdiff_sum_mse = np.abs(np.sum(np.take(mse_flat, idx_under_p2)) - np.sum(np.take(mse_flat, idx_under_p1)))\n",
    "\n",
    "\t\t# get the mean\n",
    "\t\tmean_mse = diff_sum_mse / diff_num\n",
    "\t\tmean_var = diff_sum_var / diff_num\n",
    "\n",
    "\t\tmean_vars.append(mean_var)\n",
    "\t\tmean_mses.append(mean_mse)\n",
    "\n",
    "\trmse = np.sqrt(mean_mses)\n",
    "\trmss = np.sqrt(mean_vars)\n",
    "\n",
    "\treturn rmse,rmss\n",
    "\n"
   ]
  },
  {
   "cell_type": "code",
   "execution_count": 6,
   "metadata": {},
   "outputs": [
    {
     "name": "stdout",
     "output_type": "stream",
     "text": [
      "(16253, 100, 100, 20)\n",
      "(16253, 100, 100)\n"
     ]
    },
    {
     "data": {
      "image/png": "[encoded data removed]",
      "text/plain": [
       "<Figure size 432x288 with 1 Axes>"
      ]
     },
     "metadata": {},
     "output_type": "display_data"
    },
    {
     "name": "stdout",
     "output_type": "stream",
     "text": [
      "(16253, 100, 100, 20)\n",
      "(16253, 100, 100)\n"
     ]
    },
    {
     "data": {
      "image/png": "[encoded data removed]",
      "text/plain": [
       "<Figure size 432x288 with 1 Axes>"
      ]
     },
     "metadata": {},
     "output_type": "display_data"
    }
   ],
   "source": [
    "rmse,rmss = spread_error(pred_ensemble_gan)\n",
    "\n",
    "plt.scatter(rmss,rmse)\n",
    "plt.xlabel('Spread')\n",
    "plt.ylabel('rmse')\n",
    "plt.xticks([0,1,2,3,4,5])\n",
    "plt.yticks([0,1,2,3,4,5])\n",
    "plt.plot([0,1,2,3,4,5],[0,1,2,3,4,5])\n",
    "plt.show()\n",
    "\n",
    "rmse,rmss = spread_error(pred_ensemble_vaegan)\n",
    "\n",
    "plt.scatter(rmss,rmse)\n",
    "plt.xlabel('Spread')\n",
    "plt.ylabel('rmse')\n",
    "plt.xticks([0,1,2,3,4,5])\n",
    "plt.yticks([0,1,2,3,4,5])\n",
    "plt.plot([0,1,2,3,4,5],[0,1,2,3,4,5])\n",
    "plt.show()"
   ]
  },
  {
   "cell_type": "code",
   "execution_count": 8,
   "metadata": {},
   "outputs": [
    {
     "name": "stdout",
     "output_type": "stream",
     "text": [
      "(16253, 100, 100, 20)\n",
      "(16253, 100, 100, 20)\n"
     ]
    }
   ],
   "source": [
    "print(pred_ensemble_vaegan.shape)\n",
    "pred_ensemble_vaegan = np.load('/user/home/al18709/work/vaegan_predictions_20/validation_pred-opt_improve.npy')\n",
    "pred_ensemble_gan = np.load('/user/home/al18709/work/gan_predictions_20/validation_pred-opt_improve.npy')\n",
    "print(pred_ensemble_vaegan.shape)"
   ]
  },
  {
   "cell_type": "code",
   "execution_count": 9,
   "metadata": {},
   "outputs": [],
   "source": [
    "def spread_error2(ensemble,real):\n",
    "\t_,_,_,n = ensemble.shape\n",
    "\tvar = np.var(ensemble,axis=3)\n",
    "\t# correction_var = n / (n - 1)\n",
    "\t# var = var * correction_var\n",
    "\n",
    "\tens_mean = np.mean(ensemble,axis=3)\n",
    "\terror = np.square(ens_mean - real)\n",
    "\tspread = np.std(ensemble,axis=3)\n",
    "\n",
    "\t# correction_mse = n / (n + 1)\n",
    "\t# mse = mse * correction_mse\n",
    "\n",
    "\tspread_flat = spread.flatten()\n",
    "\terror_flat = error.flatten()\n",
    "\t# print(spread_flat.shape)\n",
    "\t# print(error_flat.shape)\n",
    "\n",
    "\t# put into 20 bins of 5% percentiles of the spread\n",
    "\tmean_spreads = []\n",
    "\tmean_errors = []\n",
    "\tfor i,p in enumerate(range(5,100,5)):\n",
    "\n",
    "\t\t# find the indexes of the element below 25th and 50th percentile\n",
    "\t\tidx_under_p1 = np.argwhere(spread_flat <= np.percentile(spread_flat, p)).ravel()\n",
    "\t\tidx_under_p2 = np.argwhere(spread_flat <= np.percentile(spread_flat, range(5,105,5)[i+1])).ravel()\n",
    "\t\tidx_under_p1_ = np.argwhere(error_flat <= np.percentile(error_flat, p)).ravel()\n",
    "\t\tidx_under_p2_ = np.argwhere(error_flat <= np.percentile(error_flat, range(5,105,5)[i+1])).ravel()\n",
    "\n",
    "\t\t# find the number of the elements in between 25th and 50th percentile\n",
    "\t\tdiff_num = np.abs(len(idx_under_p1) - len(idx_under_p2))\n",
    "\n",
    "\t\t# find the sum difference\n",
    "\t\tdiff_sum_spread = np.abs(np.sum(np.take(spread_flat, idx_under_p2)) - np.sum(np.take(spread_flat, idx_under_p1)))\n",
    "\t\tdiff_sum_error = np.abs(np.sum(np.take(error_flat, idx_under_p2_)) - np.sum(np.take(error_flat, idx_under_p1_)))\n",
    "\n",
    "\t\t# get the mean\n",
    "\t\tmean_error = diff_sum_error / diff_num\n",
    "\t\tmean_spread = diff_sum_spread / diff_num\n",
    "\n",
    "\t\tmean_errors.append(mean_error)\n",
    "\t\tmean_spreads.append(mean_spread)\n",
    "\t# print(mean_errors.shape)\n",
    "\t# print(mean_spread.shape)\n",
    "\terror = np.sqrt(mean_errors)\n",
    "\tspread = np.sqrt(mean_spread)\n",
    "\n",
    "\treturn spread,error\n"
   ]
  },
  {
   "cell_type": "code",
   "execution_count": 10,
   "metadata": {},
   "outputs": [
    {
     "ename": "KeyboardInterrupt",
     "evalue": "",
     "output_type": "error",
     "traceback": [
      "\u001b[0;31m---------------------------------------------------------------------------\u001b[0m",
      "\u001b[0;31mKeyboardInterrupt\u001b[0m                         Traceback (most recent call last)",
      "\u001b[0;32m/tmp/ipykernel_278753/527169696.py\u001b[0m in \u001b[0;36m<module>\u001b[0;34m\u001b[0m\n\u001b[0;32m----> 1\u001b[0;31m \u001b[0mspread\u001b[0m\u001b[0;34m,\u001b[0m\u001b[0merror\u001b[0m \u001b[0;34m=\u001b[0m \u001b[0mspread_error2\u001b[0m\u001b[0;34m(\u001b[0m\u001b[0mpred_ensemble_vaegan\u001b[0m\u001b[0;34m,\u001b[0m\u001b[0mreal\u001b[0m\u001b[0;34m)\u001b[0m\u001b[0;34m\u001b[0m\u001b[0;34m\u001b[0m\u001b[0m\n\u001b[0m\u001b[1;32m      2\u001b[0m \u001b[0mprint\u001b[0m\u001b[0;34m(\u001b[0m\u001b[0mspread\u001b[0m\u001b[0;34m.\u001b[0m\u001b[0mshape\u001b[0m\u001b[0;34m)\u001b[0m\u001b[0;34m\u001b[0m\u001b[0;34m\u001b[0m\u001b[0m\n\u001b[1;32m      3\u001b[0m \u001b[0mprint\u001b[0m\u001b[0;34m(\u001b[0m\u001b[0merror\u001b[0m\u001b[0;34m.\u001b[0m\u001b[0mshape\u001b[0m\u001b[0;34m)\u001b[0m\u001b[0;34m\u001b[0m\u001b[0;34m\u001b[0m\u001b[0m\n",
      "\u001b[0;32m/tmp/ipykernel_278753/287367417.py\u001b[0m in \u001b[0;36mspread_error2\u001b[0;34m(ensemble, real)\u001b[0m\n\u001b[1;32m     24\u001b[0m                 \u001b[0;31m# find the indexes of the element below 25th and 50th percentile\u001b[0m\u001b[0;34m\u001b[0m\u001b[0;34m\u001b[0m\u001b[0;34m\u001b[0m\u001b[0m\n\u001b[1;32m     25\u001b[0m                 \u001b[0midx_under_p1\u001b[0m \u001b[0;34m=\u001b[0m \u001b[0mnp\u001b[0m\u001b[0;34m.\u001b[0m\u001b[0margwhere\u001b[0m\u001b[0;34m(\u001b[0m\u001b[0mspread_flat\u001b[0m \u001b[0;34m<=\u001b[0m \u001b[0mnp\u001b[0m\u001b[0;34m.\u001b[0m\u001b[0mpercentile\u001b[0m\u001b[0;34m(\u001b[0m\u001b[0mspread_flat\u001b[0m\u001b[0;34m,\u001b[0m \u001b[0mp\u001b[0m\u001b[0;34m)\u001b[0m\u001b[0;34m)\u001b[0m\u001b[0;34m.\u001b[0m\u001b[0mravel\u001b[0m\u001b[0;34m(\u001b[0m\u001b[0;34m)\u001b[0m\u001b[0;34m\u001b[0m\u001b[0;34m\u001b[0m\u001b[0m\n\u001b[0;32m---> 26\u001b[0;31m                 \u001b[0midx_under_p2\u001b[0m \u001b[0;34m=\u001b[0m \u001b[0mnp\u001b[0m\u001b[0;34m.\u001b[0m\u001b[0margwhere\u001b[0m\u001b[0;34m(\u001b[0m\u001b[0mspread_flat\u001b[0m \u001b[0;34m<=\u001b[0m \u001b[0mnp\u001b[0m\u001b[0;34m.\u001b[0m\u001b[0mpercentile\u001b[0m\u001b[0;34m(\u001b[0m\u001b[0mspread_flat\u001b[0m\u001b[0;34m,\u001b[0m \u001b[0mrange\u001b[0m\u001b[0;34m(\u001b[0m\u001b[0;36m5\u001b[0m\u001b[0;34m,\u001b[0m\u001b[0;36m105\u001b[0m\u001b[0;34m,\u001b[0m\u001b[0;36m5\u001b[0m\u001b[0;34m)\u001b[0m\u001b[0;34m[\u001b[0m\u001b[0mi\u001b[0m\u001b[0;34m+\u001b[0m\u001b[0;36m1\u001b[0m\u001b[0;34m]\u001b[0m\u001b[0;34m)\u001b[0m\u001b[0;34m)\u001b[0m\u001b[0;34m.\u001b[0m\u001b[0mravel\u001b[0m\u001b[0;34m(\u001b[0m\u001b[0;34m)\u001b[0m\u001b[0;34m\u001b[0m\u001b[0;34m\u001b[0m\u001b[0m\n\u001b[0m\u001b[1;32m     27\u001b[0m                 \u001b[0midx_under_p1_\u001b[0m \u001b[0;34m=\u001b[0m \u001b[0mnp\u001b[0m\u001b[0;34m.\u001b[0m\u001b[0margwhere\u001b[0m\u001b[0;34m(\u001b[0m\u001b[0merror_flat\u001b[0m \u001b[0;34m<=\u001b[0m \u001b[0mnp\u001b[0m\u001b[0;34m.\u001b[0m\u001b[0mpercentile\u001b[0m\u001b[0;34m(\u001b[0m\u001b[0merror_flat\u001b[0m\u001b[0;34m,\u001b[0m \u001b[0mp\u001b[0m\u001b[0;34m)\u001b[0m\u001b[0;34m)\u001b[0m\u001b[0;34m.\u001b[0m\u001b[0mravel\u001b[0m\u001b[0;34m(\u001b[0m\u001b[0;34m)\u001b[0m\u001b[0;34m\u001b[0m\u001b[0;34m\u001b[0m\u001b[0m\n\u001b[1;32m     28\u001b[0m                 \u001b[0midx_under_p2_\u001b[0m \u001b[0;34m=\u001b[0m \u001b[0mnp\u001b[0m\u001b[0;34m.\u001b[0m\u001b[0margwhere\u001b[0m\u001b[0;34m(\u001b[0m\u001b[0merror_flat\u001b[0m \u001b[0;34m<=\u001b[0m \u001b[0mnp\u001b[0m\u001b[0;34m.\u001b[0m\u001b[0mpercentile\u001b[0m\u001b[0;34m(\u001b[0m\u001b[0merror_flat\u001b[0m\u001b[0;34m,\u001b[0m \u001b[0mrange\u001b[0m\u001b[0;34m(\u001b[0m\u001b[0;36m5\u001b[0m\u001b[0;34m,\u001b[0m\u001b[0;36m105\u001b[0m\u001b[0;34m,\u001b[0m\u001b[0;36m5\u001b[0m\u001b[0;34m)\u001b[0m\u001b[0;34m[\u001b[0m\u001b[0mi\u001b[0m\u001b[0;34m+\u001b[0m\u001b[0;36m1\u001b[0m\u001b[0;34m]\u001b[0m\u001b[0;34m)\u001b[0m\u001b[0;34m)\u001b[0m\u001b[0;34m.\u001b[0m\u001b[0mravel\u001b[0m\u001b[0;34m(\u001b[0m\u001b[0;34m)\u001b[0m\u001b[0;34m\u001b[0m\u001b[0;34m\u001b[0m\u001b[0m\n",
      "\u001b[0;32m<__array_function__ internals>\u001b[0m in \u001b[0;36margwhere\u001b[0;34m(*args, **kwargs)\u001b[0m\n",
      "\u001b[0;32m/user/work/al18709/.conda/envs/aquatic/lib/python3.7/site-packages/numpy/core/numeric.py\u001b[0m in \u001b[0;36margwhere\u001b[0;34m(a)\u001b[0m\n\u001b[1;32m    582\u001b[0m         \u001b[0;31m# then remove the added dimension\u001b[0m\u001b[0;34m\u001b[0m\u001b[0;34m\u001b[0m\u001b[0;34m\u001b[0m\u001b[0m\n\u001b[1;32m    583\u001b[0m         \u001b[0;32mreturn\u001b[0m \u001b[0margwhere\u001b[0m\u001b[0;34m(\u001b[0m\u001b[0ma\u001b[0m\u001b[0;34m)\u001b[0m\u001b[0;34m[\u001b[0m\u001b[0;34m:\u001b[0m\u001b[0;34m,\u001b[0m\u001b[0;34m:\u001b[0m\u001b[0;36m0\u001b[0m\u001b[0;34m]\u001b[0m\u001b[0;34m\u001b[0m\u001b[0;34m\u001b[0m\u001b[0m\n\u001b[0;32m--> 584\u001b[0;31m     \u001b[0;32mreturn\u001b[0m \u001b[0mtranspose\u001b[0m\u001b[0;34m(\u001b[0m\u001b[0mnonzero\u001b[0m\u001b[0;34m(\u001b[0m\u001b[0ma\u001b[0m\u001b[0;34m)\u001b[0m\u001b[0;34m)\u001b[0m\u001b[0;34m\u001b[0m\u001b[0;34m\u001b[0m\u001b[0m\n\u001b[0m\u001b[1;32m    585\u001b[0m \u001b[0;34m\u001b[0m\u001b[0m\n\u001b[1;32m    586\u001b[0m \u001b[0;34m\u001b[0m\u001b[0m\n",
      "\u001b[0;32m<__array_function__ internals>\u001b[0m in \u001b[0;36mnonzero\u001b[0;34m(*args, **kwargs)\u001b[0m\n",
      "\u001b[0;32m/user/work/al18709/.conda/envs/aquatic/lib/python3.7/site-packages/numpy/core/fromnumeric.py\u001b[0m in \u001b[0;36mnonzero\u001b[0;34m(a)\u001b[0m\n\u001b[1;32m   1906\u001b[0m \u001b[0;34m\u001b[0m\u001b[0m\n\u001b[1;32m   1907\u001b[0m     \"\"\"\n\u001b[0;32m-> 1908\u001b[0;31m     \u001b[0;32mreturn\u001b[0m \u001b[0m_wrapfunc\u001b[0m\u001b[0;34m(\u001b[0m\u001b[0ma\u001b[0m\u001b[0;34m,\u001b[0m \u001b[0;34m'nonzero'\u001b[0m\u001b[0;34m)\u001b[0m\u001b[0;34m\u001b[0m\u001b[0;34m\u001b[0m\u001b[0m\n\u001b[0m\u001b[1;32m   1909\u001b[0m \u001b[0;34m\u001b[0m\u001b[0m\n\u001b[1;32m   1910\u001b[0m \u001b[0;34m\u001b[0m\u001b[0m\n",
      "\u001b[0;32m/user/work/al18709/.conda/envs/aquatic/lib/python3.7/site-packages/numpy/core/fromnumeric.py\u001b[0m in \u001b[0;36m_wrapfunc\u001b[0;34m(obj, method, *args, **kwds)\u001b[0m\n\u001b[1;32m     56\u001b[0m \u001b[0;34m\u001b[0m\u001b[0m\n\u001b[1;32m     57\u001b[0m     \u001b[0;32mtry\u001b[0m\u001b[0;34m:\u001b[0m\u001b[0;34m\u001b[0m\u001b[0;34m\u001b[0m\u001b[0m\n\u001b[0;32m---> 58\u001b[0;31m         \u001b[0;32mreturn\u001b[0m \u001b[0mbound\u001b[0m\u001b[0;34m(\u001b[0m\u001b[0;34m*\u001b[0m\u001b[0margs\u001b[0m\u001b[0;34m,\u001b[0m \u001b[0;34m**\u001b[0m\u001b[0mkwds\u001b[0m\u001b[0;34m)\u001b[0m\u001b[0;34m\u001b[0m\u001b[0;34m\u001b[0m\u001b[0m\n\u001b[0m\u001b[1;32m     59\u001b[0m     \u001b[0;32mexcept\u001b[0m \u001b[0mTypeError\u001b[0m\u001b[0;34m:\u001b[0m\u001b[0;34m\u001b[0m\u001b[0;34m\u001b[0m\u001b[0m\n\u001b[1;32m     60\u001b[0m         \u001b[0;31m# A TypeError occurs if the object does have such a method in its\u001b[0m\u001b[0;34m\u001b[0m\u001b[0;34m\u001b[0m\u001b[0;34m\u001b[0m\u001b[0m\n",
      "\u001b[0;31mKeyboardInterrupt\u001b[0m: "
     ]
    }
   ],
   "source": [
    "spread,error = spread_error2(pred_ensemble_vaegan,real)\n",
    "print(spread.shape)\n",
    "print(error.shape)"
   ]
  },
  {
   "cell_type": "code",
   "execution_count": 20,
   "metadata": {},
   "outputs": [],
   "source": [
    "\n",
    "def spread_error3(ensemble,real):\n",
    "\t_,_,_,n = ensemble.shape\n",
    "\tvar = np.var(ensemble,axis=3)\n",
    "\n",
    "\tens_mean = np.mean(ensemble,axis=3)\n",
    "\terror = np.square(ens_mean - real)\n",
    "\t# var = np.square(var)\n",
    "\t# errors = []\n",
    "\t# for e in range(n):\n",
    "\t# \terror = np.abs(ensemble[:,:,:,e] - real)\n",
    "\t# \tsquared_error = error * error\n",
    "\t# \tmse = np.mean(np.mean(squared_error,axis=1),axis=1)\n",
    "\t# \trmse = np.sqrt(mse)\n",
    "\t# \terrors.append(rmse)\n",
    "\t# spread = np.std(ensemble,axis=3)\n",
    "\treturn var,error\n",
    "\n",
    "spread,error = spread_error3(pred_ensemble_vaegan,real)\n",
    "# print(spread.shape)\n",
    "# print(np.array(error).shape)\n",
    "# error = np.sort(np.mean(error,axis=0))\n",
    "spread = np.sort(np.mean(np.mean(spread,axis=1),axis=1))\n",
    "# spread = np.sqrt(spread)\n",
    "error = np.sort(np.mean(np.mean(error,axis=1),axis=1))\n",
    "error = np.sqrt(error)\n"
   ]
  },
  {
   "cell_type": "code",
   "execution_count": 21,
   "metadata": {},
   "outputs": [
    {
     "name": "stdout",
     "output_type": "stream",
     "text": [
      "(16253,)\n",
      "(16253,)\n"
     ]
    }
   ],
   "source": [
    "print(spread.shape)\n",
    "print(error.shape)"
   ]
  },
  {
   "cell_type": "code",
   "execution_count": 22,
   "metadata": {},
   "outputs": [
    {
     "data": {
      "image/png": "[encoded data removed]",
      "text/plain": [
       "<Figure size 432x288 with 1 Axes>"
      ]
     },
     "metadata": {},
     "output_type": "display_data"
    }
   ],
   "source": [
    "plt.plot(spread,error)\n",
    "plt.show()"
   ]
  },
  {
   "cell_type": "code",
   "execution_count": null,
   "metadata": {},
   "outputs": [],
   "source": [
    "# https://www.jstor.org/stable/24914540?seq=2#metadata_info_tab_contents"
   ]
  },
  {
   "cell_type": "code",
   "execution_count": null,
   "metadata": {},
   "outputs": [],
   "source": []
  },
  {
   "cell_type": "code",
   "execution_count": null,
   "metadata": {},
   "outputs": [],
   "source": []
  },
  {
   "cell_type": "code",
   "execution_count": null,
   "metadata": {},
   "outputs": [],
   "source": []
  }
 ],
 "metadata": {
  "interpreter": {
   "hash": "8db171c8f47d96480481440150066e8900ebba8c84179e1231657aa1548891ff"
  },
  "kernelspec": {
   "display_name": "Python 3.7.12",
   "language": "python",
   "name": "python3"
  },
  "language_info": {
   "codemirror_mode": {
    "name": "ipython",
    "version": 3
   },
   "file_extension": ".py",
   "mimetype": "text/x-python",
   "name": "python",
   "nbconvert_exporter": "python",
   "pygments_lexer": "ipython3",
   "version": "3.7.12"
  },
  "orig_nbformat": 4
 },
 "nbformat": 4,
 "nbformat_minor": 2
}
