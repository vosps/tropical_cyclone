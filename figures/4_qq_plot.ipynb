{
 "cells": [
  {
   "cell_type": "markdown",
   "metadata": {},
   "source": [
    "### Figure 4: QQ plot"
   ]
  },
  {
   "cell_type": "code",
   "execution_count": 1,
   "metadata": {},
   "outputs": [
    {
     "name": "stderr",
     "output_type": "stream",
     "text": [
      "/user/work/al18709/.conda/envs/aquatic/lib/python3.7/site-packages/geopandas/_compat.py:115: UserWarning: The Shapely GEOS version (3.10.2-CAPI-1.16.0) is incompatible with the GEOS version PyGEOS was compiled with (3.10.1-CAPI-1.16.0). Conversions between both will be slow.\n",
      "  shapely_geos_version, geos_capi_version_string\n"
     ]
    }
   ],
   "source": [
    "import numpy as np\n",
    "from libpysal.weights import lat2W\n",
    "import seaborn as sns\n",
    "import matplotlib.pyplot as plt\n",
    "import xesmf as xe\n",
    "from utils.data import load_tc_data\n",
    "# sns.set_style(\"white\")\n",
    "sns.set_palette(sns.color_palette(\"Paired\"))\n",
    "# TODO: check x and y axes obs vs preds"
   ]
  },
  {
   "cell_type": "code",
   "execution_count": 2,
   "metadata": {},
   "outputs": [],
   "source": [
    "def radMask(index,radius,array):\n",
    "  a,b = index\n",
    "  nx,ny = array.shape\n",
    "  y,x = np.ogrid[-a:nx-a,-b:ny-b]\n",
    "  mask = x*x + y*y <= radius*radius\n",
    "\n",
    "  return mask"
   ]
  },
  {
   "cell_type": "code",
   "execution_count": 3,
   "metadata": {},
   "outputs": [
    {
     "name": "stdout",
     "output_type": "stream",
     "text": [
      "(16362, 10, 10)\n"
     ]
    },
    {
     "name": "stderr",
     "output_type": "stream",
     "text": [
      "/user/work/al18709/.conda/envs/aquatic/lib/python3.7/site-packages/xesmf/backend.py:53: UserWarning: Latitude is outside of [-90, 90]\n",
      "  warnings.warn('Latitude is outside of [-90, 90]')\n"
     ]
    }
   ],
   "source": [
    "model = ''\n",
    "# set mode\n",
    "mode = 'validation'\n",
    "print(np.load('/user/home/al18709/work/tc_data_mswep/valid_X.npy').shape)\n",
    "\n",
    "# load datasets\n",
    "real,inputs,pred_cnn,pred_vaegan,pred_gan,pred_vaegan_ensemble,pred_gan_ensemble,meta = load_tc_data(set='test',results='test')\n",
    "real_x,inputs_x,pred_cnn_x,pred_vaegan_x,pred_gan_x,pred_vaegan_ensemble_x,pred_gan_ensemble_x,meta_extreme_valid = load_tc_data(set='extreme_test',results='test')\n",
    "# inputs = np.load('/user/home/al18709/work/gan_predictions_20/validation_input-opt_improve.npy')[:,:,:,0]\n",
    "hrmip = np.load('/user/home/al18709/work/CMIP6/HighResMIP/EC-Earth3p/historical/storm_rain.npy')[-28000:]\n",
    "\n",
    "# regrid inputs\n",
    "grid_in = {\"lon\": np.linspace(0, 100, 10), \"lat\": np.linspace(0, 100, 10)}\n",
    "grid_out = {\"lon\": np.linspace(0, 100, 100), \"lat\": np.linspace(0, 100, 100)}\n",
    "regridder = xe.Regridder(grid_in, grid_out, \"bilinear\")\n",
    "inputs_hr = regridder(inputs)\n",
    "inputs_hr_x = regridder(inputs_x)\n",
    "hrmip_hr = regridder(hrmip)\n"
   ]
  },
  {
   "cell_type": "code",
   "execution_count": 4,
   "metadata": {},
   "outputs": [],
   "source": [
    "precip_clevs = [0, 1, 2, 3, 5, 7, 10, 15, 20, 25, 30, 40, 50, 70, 100, 150]\n",
    "import matplotlib\n",
    "import seaborn as sns\n",
    "import metpy\n",
    "from matplotlib.colors import LinearSegmentedColormap\n",
    "import metpy.plots.ctables\n",
    "precip_cmap = matplotlib.colors.ListedColormap(metpy.plots.ctables.colortables[\"precipitation\"][:len(precip_clevs)-1], 'precipitation')\n",
    "precip_norm = matplotlib.colors.BoundaryNorm(precip_clevs, precip_cmap.N)\n",
    "\n",
    "tc_colours = [(255/255,255/255,255/255), # no rain\n",
    "\t\t\t(169/255, 209/255, 222/255), # drizzle 0-1\n",
    "\t\t\t(137/255, 190/255, 214/255), # drizzle 1-2\n",
    "\t\t\t(105/255, 160/255, 194/255), # drizzle 2-3\n",
    "\t\t\t(93/255, 168/255, 98/255), # drizzle 3-5\n",
    "\t\t\t(128/255, 189/255, 100/255), # very light rain 5-7\n",
    "\t\t\t(165/255, 196/255, 134/255), # light rain 7-10\n",
    "\t\t\t(233/255, 245/255, 105/255), # rain 10-15\n",
    "\t\t\t(245/255, 191/255, 105/255), # heavy rain 15-20\n",
    "\t\t\t(245/255, 112/255, 105/255), # heavier rain 20-25\n",
    "\t\t\t(245/255, 105/255, 149/255), # real heavy rain 25-30\n",
    "\t\t\t(240/255, 93/255, 154/255), # intense rain 30-40\n",
    "\t\t\t(194/255, 89/255, 188/255), # super intense rain 40-50\n",
    "\t\t\t(66/255, 57/255, 230/255), # insane amount of rain 50-70\n",
    "\t\t\t(24/255, 17/255, 153/255), # you do not want to be caught in this rain 70-100\n",
    "\t\t\t(9/255, 5/255, 87/255), # I can't belive the scle goes up this high 100-150\n",
    "]\n",
    "# if high_vals == False:\n",
    "# \tN = 16\n",
    "# else:\n",
    "N=16\n",
    "precip_cmap = LinearSegmentedColormap.from_list('tc_colours',tc_colours,N=N) #increasing N makes it smoother\n",
    "precip_norm = matplotlib.colors.BoundaryNorm(precip_clevs, precip_cmap.N)"
   ]
  },
  {
   "cell_type": "code",
   "execution_count": 5,
   "metadata": {},
   "outputs": [
    {
     "data": {
      "image/png": "[encoded data removed]",
      "text/plain": [
       "<Figure size 432x288 with 2 Axes>"
      ]
     },
     "metadata": {
      "needs_background": "light"
     },
     "output_type": "display_data"
    },
    {
     "data": {
      "image/png": "[encoded data removed]",
      "text/plain": [
       "<Figure size 432x288 with 2 Axes>"
      ]
     },
     "metadata": {
      "needs_background": "light"
     },
     "output_type": "display_data"
    },
    {
     "name": "stdout",
     "output_type": "stream",
     "text": [
      "262.5\n",
      "61.614173889160156\n",
      "[5359 5254 5256 5255 5358 5253 5352 5257 5356 5258]\n",
      "[121.5, 123.9375, 172.625, 182.75, 137.3125, 173.5625, 126.0, 211.625, 133.75, 262.5]\n",
      "[204.8125, 207.5, 218.6875, 219.5625, 224.0625, 280.5, 698.125, 240.875, 243.6875, 650.5]\n",
      "698.125\n",
      "71.50953674316406\n",
      "389.5\n",
      "190.38748168945312\n",
      "88.5625\n",
      "62.26593017578125\n",
      "[ 322 5844 8673 7414 5216 1368 5215 5492 4577 5649]\n",
      "[60.190643310546875, 60.20063018798828, 60.33714294433594, 60.556800842285156, 61.614173889160156, 62.26593017578125, 61.614173889160156, 61.62313461303711, 61.74188232421875, 61.81672286987305]\n",
      "[4434 4798 1624 1628 5269 2724 4805 4213 1153 4866]\n",
      "[109.4073257446289, 116.97652435302734, 190.38748168945312, 119.88677978515625, 132.3206329345703, 138.78427124023438, 141.71022033691406, 131.08848571777344, 117.24530029296875, 169.8155517578125]\n"
     ]
    }
   ],
   "source": [
    "# print(np.max(real))\n",
    "# print(np.max(real_x))\n",
    "# print(np.max(pred_gan))\n",
    "# print(np.max(pred_gan_x))\n",
    "# print(real.shape)\n",
    "# print(np.sort(np.max(np.max(real,axis=1),axis=1))[-10:])\n",
    "# print(np.sort(np.max(np.max(real_x,axis=1),axis=1))[-10:])\n",
    "# print(np.sort(np.max(np.max(pred_gan,axis=1),axis=1))[-10:])\n",
    "# print(np.sort(np.max(np.max(pred_gan_x,axis=1),axis=1))[-10:])\n",
    "\n",
    "# list = np.random.randint(1,100,size=100)\n",
    "# # print(list)\n",
    "# # extreme_test = list[-10:]\n",
    "# # extreme_valid =  list[-20:-10]\n",
    "# # print(extreme_test)\n",
    "# # print(extreme_valid)\n",
    "# print(list)\n",
    "# print(np.argpartition(list,-10)[-10:])\n",
    "# print([list[i] for i in np.argpartition(list,-10)[-10:]])\n",
    "\n",
    "# y = np.load('/user/work/al18709/tc_data_mswep/valid_y.npy')\n",
    "# y_x = np.load('/user/work/al18709/tc_data_mswep/extreme_valid_y.npy')\n",
    "# print(np.max(y))\n",
    "# print(np.max(y_x))\n",
    "\n",
    "i = np.argmax(np.max(np.max(real,axis=1),axis=1))\n",
    "p = np.argmax(np.max(np.max(inputs,axis=1),axis=1))\n",
    "n = np.argmax(np.max(np.max(real_x,axis=1),axis=1))\n",
    "q = np.argmax(np.max(np.max(inputs_x,axis=1),axis=1))\n",
    "\n",
    "im = plt.imshow(real[i,:,:],cmap=precip_cmap,norm=precip_norm)\n",
    "plt.colorbar(im)\n",
    "plt.show()\n",
    "im = plt.imshow(inputs[i,:,:],cmap=precip_cmap,norm=precip_norm)\n",
    "plt.colorbar(im)\n",
    "plt.show()\n",
    "print(np.max(real[i,:,:]))\n",
    "print(np.max(inputs[i,:,:]))\n",
    "\n",
    "print(np.argpartition(real[i,:,:].flatten(),-10)[-10:])\n",
    "print([real[i,:,:].flatten()[j] for j in np.argpartition(real[i,:,:].flatten(),-10)[-10:]])\n",
    "\n",
    "print([real_x[n,:,:].flatten()[j] for j in np.argpartition(real_x[n,:,:].flatten(),-10)[-10:]])\n",
    "\n",
    "print(np.max(real_x[n,:,:]))\n",
    "print(np.max(inputs_x[n,:,:]))\n",
    "\n",
    "print(np.max(real_x[q,:,:]))\n",
    "print(np.max(inputs_x[q,:,:]))\n",
    "\n",
    "print(np.max(real[p,:,:]))\n",
    "print(np.max(inputs[p,:,:]))\n",
    "\n",
    "print(np.argpartition(np.max(np.max(inputs,axis=1),axis=1),-10)[-10:])\n",
    "print([np.max(np.max(inputs,axis=1),axis=1)[j] for j in np.argpartition(np.max(np.max(inputs,axis=1),axis=1),-10)[-10:]])\n",
    "\n",
    "print(np.argpartition(np.max(np.max(inputs_x,axis=1),axis=1),-10)[-10:])\n",
    "print([np.max(np.max(inputs_x,axis=1),axis=1)[j] for j in np.argpartition(np.max(np.max(inputs_x,axis=1),axis=1),-10)[-10:]])"
   ]
  },
  {
   "cell_type": "code",
   "execution_count": 6,
   "metadata": {},
   "outputs": [
    {
     "name": "stdout",
     "output_type": "stream",
     "text": [
      "[109.4073257446289, 116.97652435302734, 190.38748168945312, 119.88677978515625, 132.3206329345703, 138.78427124023438, 141.71022033691406, 131.08848571777344, 117.24530029296875, 169.8155517578125]\n",
      "[389.5, 551.125, 415.875, 599.0625, 432.9375, 484.3125, 420.75, 465.4375, 698.125, 519.1875]\n"
     ]
    }
   ],
   "source": [
    "# y = np.load('/user/work/al18709/tc_data_mswep/valid_y.npy')\n",
    "x = np.load('/user/work/al18709/tc_data_mswep/extreme_test_X.npy')\n",
    "y = np.load('/user/work/al18709/tc_data_mswep/extreme_test_y.npy')\n",
    "\n",
    "# print(np.argpartition(np.max(np.max(x,axis=1),axis=1),-10)[-10:])\n",
    "print([np.max(np.max(x,axis=1),axis=1)[j] for j in np.argpartition(np.max(np.max(x,axis=1),axis=1),-10)[-10:]])\n",
    "\n",
    "# print(np.argpartition(np.max(np.max(y,axis=1),axis=1),-10)[-10:])\n",
    "print([np.max(np.max(y,axis=1),axis=1)[j] for j in np.argpartition(np.max(np.max(y,axis=1),axis=1),-10)[-10:]])"
   ]
  },
  {
   "cell_type": "code",
   "execution_count": 7,
   "metadata": {},
   "outputs": [],
   "source": [
    "def calc_ensemble_percentile(ensemble,analysis,percentiles,inputs_hr):\n",
    "\tensemble_p=np.zeros((20,len(percentiles)))\n",
    "\tprint(ensemble.shape)\n",
    "\tfor i in range(20):\n",
    "\t\tif analysis == 'Mean' or analysis == 'Mean (extremes)':\n",
    "\t\t\tp = np.percentile(np.mean(np.mean(ensemble[:,:,:,i],axis=1),axis=1), percentiles)\n",
    "\t\telif analysis == 'Peak' or analysis == 'Peak (extremes)':\n",
    "\t\t\tp = np.percentile(np.max(np.max(ensemble[:,:,:,i],axis=1),axis=1), percentiles)\n",
    "\t\telif analysis == 'Total' or analysis == 'Total (extremes)':\n",
    "\t\t\tp = np.percentile(np.sum(np.sum(ensemble[:,:,:,i],axis=1),axis=1), percentiles)\n",
    "\t\telif analysis == 'Core' or analysis == 'Core (extremes)':\n",
    "\t\t\tmask=radMask((25,25),25,inputs_hr[0,:,:])\n",
    "\t\t\tn,_,_ = inputs_hr.shape\n",
    "\t\t\tmask = np.expand_dims(mask,axis=0)\n",
    "\t\t\tmask = np.repeat(mask,n,axis=0)\n",
    "\t\t\tp = np.percentile(np.ma.array(ensemble[:,:,:,i], mask=mask), percentiles)\n",
    "\t\tensemble_p[i] = p\n",
    "\tensemble_mean = np.mean(ensemble_p,axis=0)\n",
    "\tensemble_std = np.std(ensemble_p,axis=0)\n",
    "\t# ensemble_min = ensemble_mean-ensemble_std\n",
    "\t# ensemble_max = ensemble_mean+ensemble_std\n",
    "\tensemble_min = np.min(ensemble_p,axis=0)\n",
    "\tensemble_max = np.max(ensemble_p,axis=0)\n",
    "\tprint('ensemble min is: ',ensemble_min.shape)\n",
    "\treturn ensemble_mean,ensemble_min,ensemble_max\n",
    "\n",
    "\t\t"
   ]
  },
  {
   "cell_type": "code",
   "execution_count": 11,
   "metadata": {},
   "outputs": [
    {
     "name": "stdout",
     "output_type": "stream",
     "text": [
      "(16007, 100, 100, 20)\n"
     ]
    }
   ],
   "source": [
    "\n",
    "def plot_qq(ax,analysis,inputs_hr,pred_cnn,pred_vaegan,pred_dsrnngan,real,pred_vaegan_ensemble,pred_gan_ensemble,cnn=False):\n",
    "\tpercentiles = np.arange(0,100,0.01)\n",
    "\n",
    "\tif analysis == 'Mean' or analysis == 'Mean (extremes)':\n",
    "\t\tinputs_p = np.percentile(np.mean(np.mean(inputs_hr,axis=1),axis=1), percentiles)\n",
    "\t\tunet_p = np.percentile(np.mean(np.mean(pred_cnn,axis=1),axis=1), percentiles)\n",
    "\t\t# vaegan_p = np.percentile(np.mean(np.mean(pred_vaegan,axis=1),axis=1), percentiles)\n",
    "\t\t# dsrnngan_p = np.percentile(np.mean(np.mean(pred_dsrnngan,axis=1),axis=1), percentiles)\n",
    "\t\tvaegan_p,vaegan_min,vaegan_max = calc_ensemble_percentile(pred_vaegan_ensemble,analysis,percentiles,inputs_hr)\n",
    "\t\tdsrnngan_p,dsrnngan_min,dsrnngan_max = calc_ensemble_percentile(pred_gan_ensemble,analysis,percentiles,inputs_hr)\n",
    "\t\treal_p = np.percentile(np.mean(np.mean(real,axis=1),axis=1), percentiles)\n",
    "\n",
    "\telif analysis == 'Peak' or analysis == 'Peak (extremes)':\n",
    "\t\tinputs_p = np.percentile(np.max(np.max(inputs_hr,axis=1),axis=1), percentiles)\n",
    "\t\tunet_p = np.percentile(np.max(np.max(pred_cnn,axis=1),axis=1), percentiles)\n",
    "\t\t# vaegan_p = np.percentile(np.max(np.max(pred_vaegan,axis=1),axis=1), percentiles)\n",
    "\t\t# dsrnngan_p = np.percentile(np.max(np.max(pred_dsrnngan,axis=1),axis=1), percentiles)\n",
    "\t\tvaegan_p,vaegan_min,vaegan_max = calc_ensemble_percentile(pred_vaegan_ensemble,analysis,percentiles,inputs_hr)\n",
    "\t\tdsrnngan_p,dsrnngan_min,dsrnngan_max = calc_ensemble_percentile(pred_gan_ensemble,analysis,percentiles,inputs_hr)\n",
    "\t\treal_p = np.percentile(np.max(np.max(real,axis=1),axis=1), percentiles)\n",
    "\n",
    "\telif analysis == 'Total' or analysis == 'Total (extremes)':\n",
    "\t\tinputs_p = np.percentile(np.sum(np.sum(inputs_hr,axis=1),axis=1), percentiles)\n",
    "\t\tunet_p = np.percentile(np.sum(np.sum(pred_cnn,axis=1),axis=1), percentiles)\n",
    "\t\t# vaegan_p = np.percentile(pred_vaegan, percentiles)\n",
    "\t\t# dsrnngan_p = np.percentile(pred_dsrnngan, percentiles)\n",
    "\t\tvaegan_p,vaegan_min,vaegan_max = calc_ensemble_percentile(pred_vaegan_ensemble,analysis,percentiles,inputs_hr)\n",
    "\t\tdsrnngan_p,dsrnngan_min,dsrnngan_max = calc_ensemble_percentile(pred_gan_ensemble,analysis,percentiles,inputs_hr)\n",
    "\t\treal_p = np.percentile(np.sum(np.sum(real,axis=1),axis=1), percentiles)\n",
    "\n",
    "\telif analysis == 'Core' or analysis == 'Core (extremes)':\n",
    "\t\tprint(inputs_hr[0].shape)\n",
    "\t\tmask=radMask((25,25),25,inputs_hr[0,:,:])\n",
    "\t\tn,_,_ = inputs_hr.shape\n",
    "\t\tmask = np.expand_dims(mask,axis=0)\n",
    "\t\tmask = np.repeat(mask,n,axis=0)\n",
    "\t\tinputs_hr = np.ma.array(inputs_hr, mask=mask)\n",
    "\n",
    "\t\tinputs_p = np.percentile(np.ma.array(inputs_hr, mask=mask), percentiles)\n",
    "\t\tif cnn == False:\n",
    "\t\t\tunet_p = np.percentile(np.ma.array(pred_cnn, mask=mask), percentiles)\n",
    "\t\telse:\n",
    "\t\t\tunet_p = np.percentile(np.ma.array(pred_cnn, mask=mask), percentiles)\n",
    "\t\t# vaegan_p = np.percentile(np.ma.array(pred_vaegan, mask=mask), percentiles)\n",
    "\t\t# dsrnngan_p = np.percentile(np.ma.array(pred_dsrnngan, mask=mask), percentiles)\n",
    "\t\tvaegan_p,vaegan_min,vaegan_max = calc_ensemble_percentile(pred_vaegan_ensemble,analysis,percentiles,inputs_hr)\n",
    "\t\tdsrnngan_p,dsrnngan_min,dsrnngan_max = calc_ensemble_percentile(pred_gan_ensemble,analysis,percentiles,inputs_hr)\n",
    "\t\treal_p = np.percentile(np.ma.array(real, mask=mask), percentiles)\n",
    "\t\n",
    "\tax.scatter(real_p,inputs_p,color='#ec9192',marker='s')\n",
    "\tax.scatter(real_p,unet_p,color='#dfbe99',marker='p')\n",
    "\tax.scatter(real_p,vaegan_p,color='#b5bd89',marker='^')\n",
    "\tax.scatter(real_p,dsrnngan_p,color='#729ea1')\n",
    "\tax.plot(real_p,real_p,'--',color='black')\n",
    "\tax.legend(['Bilinear Interpolation','U-Net','VAEGAN','WGAN'],frameon=True)\n",
    "\tax.fill_between(real_p, vaegan_min, vaegan_max,color='#b5bd89',alpha=0.2)\n",
    "\tax.fill_between(real_p, dsrnngan_min, dsrnngan_max,color='#729ea1',alpha=0.2)\n",
    "\tax.set_xlabel('Observed rain (mm / h)')\n",
    "\tax.set_ylabel('Predicted rain (mm / h)')\n",
    "\tax.set_title(analysis,fontsize=14,fontweight='bold')\n",
    "\tif analysis == 'Mean (extremes)':\n",
    "\t\tax.set_ylim([0,17])\n",
    "\telif analysis == 'Peak (extremes)':\n",
    "\t\tax.set_ylim([0,700])\n",
    "\telif analysis == 'Total (extremes)':\n",
    "\t\tax.set_ylim([0,200000])\n",
    "\t\tax.set_yscale('log')\n",
    "\t\tax.set_xscale('log')\n",
    "\telif analysis == 'Total':\n",
    "\t\tax.set_yscale('log')\n",
    "\t\tax.set_xscale('log')\n",
    "\treturn ax\n",
    "\n",
    "plt.style.use('seaborn-darkgrid')\n",
    "# plt.rcParams[\"figure.figsize\"] = (10,10)\n",
    "sns.set_context(\"notebook\")\n",
    "fig, axes = plt.subplots(2, 4, figsize=(20, 10), sharey=False)\n",
    "ax1 = plot_qq(axes[0,0],'Mean',inputs_hr,pred_cnn,pred_vaegan,pred_gan,real,pred_vaegan_ensemble,pred_gan_ensemble)\n",
    "ax2 = plot_qq(axes[0,1],'Peak',inputs_hr,pred_cnn,pred_vaegan,pred_gan,real,pred_vaegan_ensemble,pred_gan_ensemble)\n",
    "ax3 = plot_qq(axes[1,0],'Total',inputs_hr,pred_cnn,pred_vaegan,pred_gan,real,pred_vaegan_ensemble,pred_gan_ensemble)\n",
    "ax4 = plot_qq(axes[1,1],'Core',inputs_hr,pred_cnn,pred_vaegan,pred_gan,real,pred_vaegan_ensemble,pred_gan_ensemble)\n",
    "ax5 = plot_qq(axes[0,2],'Mean (extremes)',inputs_hr_x,pred_cnn_x,pred_vaegan_x,pred_gan_x,real_x,pred_vaegan_ensemble_x,pred_gan_ensemble_x)\n",
    "ax6 = plot_qq(axes[0,3],'Peak (extremes)',inputs_hr_x,pred_cnn_x,pred_vaegan_x,pred_gan_x,real_x,pred_vaegan_ensemble_x,pred_gan_ensemble_x)\n",
    "ax7 = plot_qq(axes[1,2],'Total (extremes)',inputs_hr_x,pred_cnn_x,pred_vaegan_x,pred_gan_x,real_x,pred_vaegan_ensemble_x,pred_gan_ensemble_x)\n",
    "ax8 = plot_qq(axes[1,3],'Core (extremes)',inputs_hr_x,pred_cnn_x,pred_vaegan_x,pred_gan_x,real_x,pred_vaegan_ensemble_x,pred_gan_ensemble_x,cnn=True)\n",
    "plt.subplots_adjust(left=None, bottom=None, right=None, top=None, wspace=None, hspace=0.35)\n",
    "plt.savefig('qq_plot_Total_test_new.png',bbox_inches='tight')\n",
    "plt.show()\n",
    "\n"
   ]
  },
  {
   "cell_type": "code",
   "execution_count": 9,
   "metadata": {},
   "outputs": [
    {
     "name": "stdout",
     "output_type": "stream",
     "text": [
      "(5334, 100, 100)\n",
      "(5334, 100, 100)\n",
      "(5334, 100, 100)\n",
      "(5334, 100, 100)\n"
     ]
    }
   ],
   "source": [
    "print(pred_cnn_x.shape)\n",
    "print(pred_gan_x.shape)\n",
    "print(pred_vaegan_x.shape)\n",
    "print(real_x.shape)"
   ]
  },
  {
   "cell_type": "code",
   "execution_count": 24,
   "metadata": {},
   "outputs": [
    {
     "name": "stdout",
     "output_type": "stream",
     "text": [
      "(16007, 10, 10)\n"
     ]
    }
   ],
   "source": [
    "test = np.load('/user/home/al18709/work/tc_data_flipped/extreme_test_X.npy')\n",
    "print(test.shape)"
   ]
  },
  {
   "cell_type": "code",
   "execution_count": 22,
   "metadata": {},
   "outputs": [
    {
     "name": "stdout",
     "output_type": "stream",
     "text": [
      "(5334, 10, 10)\n"
     ]
    }
   ],
   "source": [
    "test = np.load('/user/home/al18709/work/tc_data_mswep/extreme_test_X.npy')\n",
    "print(test.shape)"
   ]
  },
  {
   "cell_type": "code",
   "execution_count": null,
   "metadata": {},
   "outputs": [],
   "source": []
  }
 ],
 "metadata": {
  "interpreter": {
   "hash": "8db171c8f47d96480481440150066e8900ebba8c84179e1231657aa1548891ff"
  },
  "kernelspec": {
   "display_name": "Python 3.7.12",
   "language": "python",
   "name": "python3"
  },
  "language_info": {
   "codemirror_mode": {
    "name": "ipython",
    "version": 3
   },
   "file_extension": ".py",
   "mimetype": "text/x-python",
   "name": "python",
   "nbconvert_exporter": "python",
   "pygments_lexer": "ipython3",
   "version": "3.7.12"
  },
  "orig_nbformat": 4
 },
 "nbformat": 4,
 "nbformat_minor": 2
}
