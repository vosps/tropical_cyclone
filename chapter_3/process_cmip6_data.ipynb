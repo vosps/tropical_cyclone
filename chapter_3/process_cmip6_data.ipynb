{
 "cells": [
  {
   "cell_type": "code",
   "execution_count": 11,
   "metadata": {},
   "outputs": [],
   "source": [
    "import numpy as np\n",
    "import pandas as pd\n",
    "import seaborn as sns\n",
    "import xarray as xr\n",
    "import matplotlib.pyplot as plt\n",
    "from matplotlib import colors\n",
    "import matplotlib\n",
    "import matplotlib.pyplot as plt\n",
    "from matplotlib.colors import LinearSegmentedColormap\n",
    "from utils.data import load_tc_data\n",
    "from utils.plot import make_cmap\n",
    "import cftime as cf\n",
    "import cartopy.crs as ccrs\n",
    "import cartopy.feature as cfeature\n",
    "from netCDF4 import Dataset\n",
    "from numpy import inf\n",
    "from scipy.stats import gaussian_kde\n",
    "import matplotlib.colors as mcolors\n",
    "from scipy import stats\n",
    "import matplotlib.pyplot as plt\n",
    "import tropycal\n",
    "from tropycal import tracks\n",
    "from shapely.geometry import Polygon, Point\n"
   ]
  },
  {
   "cell_type": "code",
   "execution_count": 12,
   "metadata": {},
   "outputs": [],
   "source": [
    "def calc_nyears(meta):\n",
    "\tnyears = int(meta.year[len(meta.year)-1] - meta.year[0] + 1)\n",
    "\treturn nyears"
   ]
  },
  {
   "cell_type": "code",
   "execution_count": 13,
   "metadata": {},
   "outputs": [],
   "source": [
    "# load dataset\n",
    "# load data\n",
    "def generate_composite_rainfall(meta,rain,ibtracks=False,time_sample_rate=False,rain_rate=False,imerg=False):\n",
    "\t\n",
    "\t\n",
    "\n",
    "\t# get subset of storms\n",
    "\tsids = meta.sid\n",
    "\n",
    "\t# if hist == True:\n",
    "\t# \tbool = [yr in range(2069,2100) for yr in meta.year]\n",
    "\t# \tprint(bool)\n",
    "\t# \tsids = meta.loc[bool, 'sid']\n",
    "\t# \tprint(sids)\n",
    "\tsids_unique=sids.drop_duplicates()\n",
    "\tnstorms = len(sids_unique)\n",
    "\t# avg_timesteps = len(sids)/nstorms\n",
    "\ttracks_grouped = meta.groupby('sid')\n",
    "\tcomposite_storm_rain = np.zeros((nstorms,100,100))\n",
    "\ti=0\n",
    "\tdrop_idx=[]\n",
    "\tsouth_idx=[]\n",
    "\tnorth_idx=[]\n",
    "\t# find time frequency\n",
    "\tfor sid in sids_unique:\n",
    "\t\tstorm = tracks_grouped.get_group(sid)\n",
    "\t\tif ibtracks != False:\n",
    "\t\t\tstorm_full = ibtracks.get_group(sid)\n",
    "\t\telse:\n",
    "\t\t\tstorm_full = storm\n",
    "\n",
    "\t\tif time_sample_rate==False:\n",
    "\t\t\t\n",
    "\t\t\thourly_rate=[]\n",
    "\t\t\tprint(storm_full)\n",
    "\t\t\tfor h in storm_full.hour:\n",
    "\t\t\t\tif h in [3,9,15,21]:\n",
    "\t\t\t\t\thour_rate = 3\n",
    "\t\t\t\telif h in [0,2,4,6,8,10,12,14,16,18,20,22,24]:\n",
    "\t\t\t\t\thour_rate = 2\n",
    "\t\t\t\telif h in [0,6,12,18]:\n",
    "\t\t\t\t\thour_rate = 6\n",
    "\t\t\t\telse:\n",
    "\t\t\t\t\thour_rate = 0\n",
    "\t\t\t\t\n",
    "\t\t\t\thourly_rate.append(hour_rate)\n",
    "\n",
    "\t\t\t# calculate hourly rates\n",
    "\t\t\tif set(hourly_rate) == {3,6}:\n",
    "\t\t\t\t# calculate storm duration as time rate (3 or 6 hourly time points) * number of time points\n",
    "\t\t\t\tstorm_duration = 3 * len(storm) # this gives how many hours storm was alive for as a TC\n",
    "\t\t\t\t# define unit converstion as rain/storm_duration (number of hours) * 24 to get daily rain rate\n",
    "\t\t\t\tunits_converter = 24/storm_duration\n",
    "\t\t\t\n",
    "\t\t\telif set(hourly_rate == {2}):\n",
    "\t\t\t\tstorm_duration = 2 * len(storm)\n",
    "\t\t\t\tunits_converter = 24/storm_duration\n",
    "\n",
    "\t\t\telif 6 in set(hourly_rate): # so this means one datapoint every 6 hours\n",
    "\t\t\t\tstorm_duration = 6 * len(storm) # this gives how many hours storm was alive for as a TC\n",
    "\t\t\t\t# need to multiply the rain by 2 because units are mm/3h, right now only accounting for half the rain, so multiplying by 2 is interpolating for rain between values\n",
    "\t\t\t\tunits_converter = 24 * 2/storm_duration\n",
    "\t\t\t\t\n",
    "\t\t\telse:\n",
    "\t\t\t\tprint('storm set is strange')\n",
    "\t\t\t\tprint(set(hourly_rate))\n",
    "\t\t\t\tunits_converter = 0\n",
    "\t\telse:\n",
    "\t\t\t\n",
    "\t\t\tstorm_duration = time_sample_rate * len(storm)\n",
    "\t\t\t# if rain_rate == False: # if rain is sampled at same time as track\n",
    "\t\t\tunits_converter = 24 / storm_duration\n",
    "\t\t\t# else: # otherwise rain is counted 3 hourly so needs to be doubled as tracks are counted 6 hourly so we're missing out on half the rain\n",
    "\t\t\t# \tunits_converter = 24*rain_rate / storm_duration\n",
    "\t\t\t# TODO: maybe this needs to be average rain per day not total rain added up then divided by number of days.\n",
    "\t\t\t# so instead of 24/storm_duration which would be smaller for longer storms?\n",
    "\t\t\t# it would be or maybe it's correct\n",
    "\t\t\t# \n",
    "\t\t# # rain_rate is applied if storms are 3 hourly not 6 hourly, so rain rate is doubled becuase we are only counting 6 hourly\n",
    "\t\t# but then rain is mm/hr so actually we add up over the 6 hour track time so don't need to worry about this.\n",
    "\t\t# if rain_rate != False:\n",
    "\t\t# \tunites_converter = rain_rate * unites_converter\n",
    "\t\tif imerg == True:\n",
    "\t\t\tunits_converter = 3 * units_converter\n",
    "\t\tstorm_lats = storm.centre_lat\n",
    "\t\tstorm_lons = storm.centre_lon\n",
    "\t\t# print(storm.index)\n",
    "\t\tstorm_rain = rain[storm.index,:,:,0]\n",
    "\t\t# remove negative rain?\n",
    "\t\tstorm_rain[storm_rain < 0] = 0\n",
    "\t\t\n",
    "\t\t# rain_data = rain_data * 86400/4 don't forget original cmip6 data was in precip flux units, so I converted to mm/6hr\n",
    "\t\tmean_storm_rain = np.sum(storm_rain,axis=0)*units_converter\n",
    "\t\t# storm_month = storm.month\n",
    "\t\t# storm_year = storm.year\n",
    "\t\t# storm_v = storm.v\n",
    "\t\tif units_converter == 0:\n",
    "\t\t\tdrop_idx.append(i)\n",
    "\t\telse:\n",
    "\t\t\tif np.sum(storm_lats) < 0:\n",
    "\t\t\t\tsouth_idx.append(i)\n",
    "\t\t\telse:\n",
    "\t\t\t\tnorth_idx.append(i)\n",
    "\t\t\n",
    "\n",
    "\t\tcomposite_storm_rain[i,:,:] = mean_storm_rain\n",
    "\t\ti=i+1\n",
    "\n",
    "\t# save plottable dataset\n",
    "\t# composite_rainfall = calculate_composite_rainfall()\n",
    "\t# delete timestamps we can't use\n",
    "\t# np.delete(composite_storm_rain,drop_idx,axis=0)\n",
    "\t# get nh and sh datasets\n",
    "\tcomposite_storm_rain_nh = composite_storm_rain[north_idx,:,:]\n",
    "\tcomposite_storm_rain_sh = composite_storm_rain[south_idx,:,:]\n",
    "\t# print(composite_storm_rain.shape)\n",
    "\t# print(composite_storm_rain_nh.shape)\n",
    "\t# print(composite_storm_rain_sh.shape)\n",
    "\tcomposite_nh = np.mean(composite_storm_rain_nh,axis=0)\n",
    "\tcomposite_sh = np.mean(composite_storm_rain_sh,axis=0)\n",
    "\treturn composite_nh,composite_sh,len(north_idx),len(south_idx)\n",
    "\n",
    "\n"
   ]
  },
  {
   "cell_type": "code",
   "execution_count": 64,
   "metadata": {},
   "outputs": [],
   "source": [
    "def lookup(row,cal):\n",
    "\tif row.year not in range(2000,2015):\n",
    "\t\treturn 0\n",
    "\tif (row.month == 2) and (row.day == 30):\n",
    "\t\treturn 0\n",
    "\telse:\n",
    "\t\tdate = cf.datetime(calendar=cal,\n",
    "\t\t\t\t\t\tyear=row.year,\n",
    "\t\t\t\t\t\tmonth=row.month,\n",
    "\t\t\t\t\t\tday=row.day,\n",
    "\t\t\t\t\t\t)\n",
    "\n",
    "\t# date = pd.to_datetime('year' : row.year, 'month' : row.month, 'day' = row.day)\n",
    "\treturn date\n",
    "\n",
    "def find_dates(meta,calendar):\n",
    "\tdates = meta.apply(lookup, cal = calendar, axis=1)\n",
    "\treturn dates\n",
    "\n",
    "# def find_dates(sids,model_cal):\n",
    "\n",
    "# \tdates = sids.apply(lambda row : cf.datetime(calendar=model_cal,\n",
    "# \t\t\t\t\t\t\t\t\tyear=row.year,\n",
    "# \t\t\t\t\t\t\t\t\tmonth=row.month,\n",
    "# \t\t\t\t\t\t\t\t\tday=row.day,\n",
    "# \t\t\t\t\t\t\t\t\thour=row.hour\n",
    "# \t\t\t\t\t\t\t\t\t), axis=1)\n",
    "# \treturn dates"
   ]
  },
  {
   "cell_type": "code",
   "execution_count": 38,
   "metadata": {},
   "outputs": [],
   "source": [
    "def generate_annual_frequency(meta,rain,units_converter,dataset=False):\n",
    "\tboolean = meta.date != 0\n",
    "\tmeta = meta.loc[boolean]\n",
    "\train = rain[boolean ,:,:,:]\n",
    "\tnew_boolean = np.mean(rain,axis=(1,2,3)) != 0\n",
    "\tmeta = meta.loc[new_boolean]\n",
    "\train = rain[new_boolean,:,:,:]\n",
    "\tprint('number of timepoints = ', meta.shape)\n",
    "\tsids = meta.sid\n",
    "\tsids_unique = sids.drop_duplicates()\n",
    "\t# tracks_grouped = meta.groupby(meta.sid)\n",
    "\tdaily_rains = []\n",
    "\tprint('sids unique',sids_unique.shape)\n",
    "\n",
    "\tfor sample in rain:\n",
    "\t\ttrack_daily_rain = np.mean(sample)*units_converter # for cmip this is 24, for imerg it should be 8\n",
    "\t\tdaily_rains.append(track_daily_rain)\n",
    "\t\n",
    "\tif dataset == 'chirps':\n",
    "\t\t# subsample chirps to be every 6 hours because at the moment it is every 2 hours so has triple the time points which skews the histogram\n",
    "\t\tdaily_rains = daily_rains[::3]\n",
    "\n",
    "\tx = np.arange(-5, 300, 5)\n",
    "\ty = np.histogram(daily_rains,bins = x)[0]\n",
    "\n",
    "\twindow_size = 5\n",
    "\tsmoothed_frequencies = np.convolve(y, np.ones(window_size) / window_size, mode='same')\n",
    "\ty = smoothed_frequencies\n",
    "\ty[0] = 1\n",
    "\n",
    "\treturn y,x[1:]\n"
   ]
  },
  {
   "cell_type": "code",
   "execution_count": 16,
   "metadata": {},
   "outputs": [],
   "source": [
    "precip_cmap,_ = make_cmap()\n"
   ]
  },
  {
   "cell_type": "code",
   "execution_count": 93,
   "metadata": {},
   "outputs": [],
   "source": [
    "# ['canesm','cnrm6','ecearth6','ipsl6','miroc6','mpi6','mri6','ukmo']\n",
    "model = 'mri6'\n",
    "data = np.load(f'/user/home/al18709/work/ke_track_rain/hr/{model}_hist_pred.npy')\n",
    "meta = pd.read_csv(f'/user/home/al18709/work/ke_track_inputs/{model}_hist_tracks.csv')\n",
    "meta2 = pd.DataFrame({'sid':meta.sid ,'centre_lat':meta.lat, 'centre_lon':meta.lon, 'hour':meta.hour, 'day':meta.day,'month':meta.month, 'year':meta.year})\n",
    "rain = data[meta2.year >= 2000]\n",
    "meta3 = meta2[meta2.year >= 2000].reset_index()\n"
   ]
  },
  {
   "cell_type": "code",
   "execution_count": 94,
   "metadata": {},
   "outputs": [],
   "source": [
    "composite_nh,composite_sh,nstorms_nh,nstorms_sh = generate_composite_rainfall(meta3,rain,ibtracks=False,time_sample_rate=2)\n",
    "np.save(f'/user/home/al18709/work/ke_track_rain/hr/{model}_composite_nh.npy',composite_nh)\n",
    "np.save(f'/user/home/al18709/work/ke_track_rain/hr/{model}_composite_sh.npy',composite_sh)"
   ]
  },
  {
   "cell_type": "code",
   "execution_count": 95,
   "metadata": {},
   "outputs": [
    {
     "name": "stdout",
     "output_type": "stream",
     "text": [
      "(152108, 100, 100, 1)\n"
     ]
    }
   ],
   "source": [
    "print(rain.shape)"
   ]
  },
  {
   "cell_type": "code",
   "execution_count": 96,
   "metadata": {},
   "outputs": [
    {
     "name": "stdout",
     "output_type": "stream",
     "text": [
      "number of timepoints =  (152108, 4)\n",
      "sids unique (950,)\n"
     ]
    }
   ],
   "source": [
    "\n",
    "if model == 'ukmo':\n",
    "    cal = 'Gregorian'\n",
    "elif model == 'miroc6':\n",
    "    cal = '366_day'\n",
    "else:\n",
    "    cal = 'standard'\n",
    "meta4 = pd.DataFrame({'sid':meta3.sid ,'centre_lat':meta3.centre_lat, 'centre_lon':meta3.centre_lon, 'date':find_dates(meta3,cal)})\n",
    "\n",
    "total_rain_chirps,dates_chirps = generate_annual_frequency(meta4,rain,8,dataset='chirps')\n",
    "# total_rain_chirps = total_rain_chirps * 0.67 # account for the fact there are more time samples because tracks are every 2 hours not every 3 or 6\n",
    "\n",
    "np.save(f'/user/home/al18709/work/ke_track_rain/hr/{model}_rain_frequency.npy',total_rain_chirps)\n",
    "np.save(f'/user/home/al18709/work/ke_track_rain/hr/{model}_frequency_dates.npy',dates_chirps)\n"
   ]
  },
  {
   "cell_type": "code",
   "execution_count": 97,
   "metadata": {},
   "outputs": [
    {
     "data": {
      "text/plain": [
       "(0.0, 200.0)"
      ]
     },
     "execution_count": 97,
     "metadata": {},
     "output_type": "execute_result"
    },
    {
     "data": {
      "image/png": "[encoded data removed]",
      "text/plain": [
       "<Figure size 640x480 with 1 Axes>"
      ]
     },
     "metadata": {},
     "output_type": "display_data"
    }
   ],
   "source": [
    "plt.plot(dates_chirps,total_rain_chirps,linestyle='dashed')\n",
    "plt.yscale('log')\n",
    "plt.ylim(1,20000)\n",
    "plt.xlim(0,200)"
   ]
  },
  {
   "cell_type": "code",
   "execution_count": 7,
   "metadata": {},
   "outputs": [
    {
     "name": "stdout",
     "output_type": "stream",
     "text": [
      "643\n",
      "474\n"
     ]
    },
    {
     "data": {
      "image/png": "[encoded data removed]",
      "text/plain": [
       "<Figure size 640x480 with 1 Axes>"
      ]
     },
     "metadata": {},
     "output_type": "display_data"
    }
   ],
   "source": [
    "levels = [0,10,20,30,40,50,60,70,80,90,100,110,120,130,140]\n",
    "plt.contourf(composite_nh,cmap=precip_cmap,levels=levels,extend='max')\n",
    "print(nstorms_nh)\n",
    "print(nstorms_sh)"
   ]
  },
  {
   "cell_type": "code",
   "execution_count": null,
   "metadata": {},
   "outputs": [],
   "source": []
  },
  {
   "cell_type": "code",
   "execution_count": 6,
   "metadata": {},
   "outputs": [
    {
     "data": {
      "text/plain": [
       "[<matplotlib.lines.Line2D at 0x7fc24eb9be10>]"
      ]
     },
     "execution_count": 6,
     "metadata": {},
     "output_type": "execute_result"
    },
    {
     "data": {
      "image/png": "[encoded data removed]",
      "text/plain": [
       "<Figure size 640x480 with 1 Axes>"
      ]
     },
     "metadata": {},
     "output_type": "display_data"
    }
   ],
   "source": [
    "plt.plot(np.sum(data,axis=(1,2,3)))"
   ]
  }
 ],
 "metadata": {
  "kernelspec": {
   "display_name": "jungle",
   "language": "python",
   "name": "python3"
  },
  "language_info": {
   "codemirror_mode": {
    "name": "ipython",
    "version": 3
   },
   "file_extension": ".py",
   "mimetype": "text/x-python",
   "name": "python",
   "nbconvert_exporter": "python",
   "pygments_lexer": "ipython3",
   "version": "3.11.0"
  },
  "orig_nbformat": 4
 },
 "nbformat": 4,
 "nbformat_minor": 2
}
